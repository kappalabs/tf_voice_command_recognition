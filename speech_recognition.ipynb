{
 "cells": [
  {
   "cell_type": "markdown",
   "metadata": {
    "id": "3XX46cTrh6iD"
   },
   "source": [
    "##### Copyright 2022 The TensorFlow Authors."
   ]
  },
  {
   "cell_type": "code",
   "execution_count": 1,
   "metadata": {
    "cellView": "form",
    "execution": {
     "iopub.execute_input": "2022-10-20T11:17:25.605543Z",
     "iopub.status.busy": "2022-10-20T11:17:25.604892Z",
     "iopub.status.idle": "2022-10-20T11:17:25.609098Z",
     "shell.execute_reply": "2022-10-20T11:17:25.608547Z"
    },
    "id": "sKrlWr6Kh-mF"
   },
   "outputs": [],
   "source": [
    "#@title Licensed under the Apache License, Version 2.0 (the \"License\");\n",
    "# you may not use this file except in compliance with the License.\n",
    "# You may obtain a copy of the License at\n",
    "#\n",
    "# https://www.apache.org/licenses/LICENSE-2.0\n",
    "#\n",
    "# Unless required by applicable law or agreed to in writing, software\n",
    "# distributed under the License is distributed on an \"AS IS\" BASIS,\n",
    "# WITHOUT WARRANTIES OR CONDITIONS OF ANY KIND, either express or implied.\n",
    "# See the License for the specific language governing permissions and\n",
    "# limitations under the License."
   ]
  },
  {
   "cell_type": "markdown",
   "metadata": {
    "id": "hST65kOHXpiL"
   },
   "source": [
    "# Retrain a speech recognition model with TensorFlow Lite Model Maker\n"
   ]
  },
  {
   "cell_type": "markdown",
   "metadata": {
    "id": "nShlCXGkbRVA"
   },
   "source": [
    "<table class=\"tfo-notebook-buttons\" align=\"left\">\n",
    "  <td>\n",
    "    <a target=\"_blank\" href=\"https://www.tensorflow.org/lite/models/modify/model_maker/speech_recognition\"><img src=\"https://www.tensorflow.org/images/tf_logo_32px.png\" />View on TensorFlow.org</a>\n",
    "  </td>\n",
    "  <td>\n",
    "    <a target=\"_blank\" href=\"https://colab.research.google.com/github/tensorflow/tensorflow/blob/master/tensorflow/lite/g3doc/models/modify/model_maker/speech_recognition.ipynb\"><img src=\"https://www.tensorflow.org/images/colab_logo_32px.png\" />Run in Google Colab</a>\n",
    "  </td>\n",
    "  <td>\n",
    "    <a target=\"_blank\" href=\"https://github.com/tensorflow/tensorflow/blob/master/tensorflow/lite/g3doc/models/modify/model_maker/speech_recognition.ipynb\"><img src=\"https://www.tensorflow.org/images/GitHub-Mark-32px.png\" />View source on GitHub</a>\n",
    "  </td>\n",
    "  <td>\n",
    "    <a href=\"https://storage.googleapis.com/tensorflow_docs/tensorflow/tensorflow/lite/g3doc/models/modify/model_maker/speech_recognition.ipynb\"><img src=\"https://www.tensorflow.org/images/download_logo_32px.png\" />Download notebook</a>\n",
    "  </td>\n",
    "\n",
    "</table>"
   ]
  },
  {
   "cell_type": "markdown",
   "metadata": {
    "id": "BB5k6xNKJ5Xe"
   },
   "source": [
    "\n",
    "In this colab notebook, you'll learn how to use the [TensorFlow Lite Model Maker](https://www.tensorflow.org/lite/models/modify/model_maker) to train a speech recognition model that can classify spoken words or short phrases using one-second sound samples. The Model Maker library uses transfer learning to retrain an existing TensorFlow model with a new dataset, which reduces the amount of sample data and time required for training. \n",
    "\n",
    "By default, this notebook retrains the model (BrowserFft, from the [TFJS Speech Command Recognizer](https://github.com/tensorflow/tfjs-models/tree/master/speech-commands#speech-command-recognizer)) using a subset of words from the [speech commands dataset](https://www.tensorflow.org/datasets/catalog/speech_commands) (such as \"up,\" \"down,\" \"left,\" and \"right\"). Then it exports a TFLite model that you can run on a mobile device or embedded system (such as a Raspberry Pi). It also exports the trained model as a TensorFlow SavedModel.\n",
    "\n",
    "This notebook is also designed to accept a custom dataset of WAV files, uploaded to Colab in a ZIP file. The more samples you have for each class, the better your accuracy will be, but because the transfer learning process uses feature embeddings from the pre-trained model, you can still get a fairly accurate model with only a few dozen samples in each of your classes.\n",
    "\n",
    "**Note:** The model we'll be training is optimized for speech recognition with one-second samples. If you want to perform more generic audio classification (such as detecting different types of music), we suggest you instead follow [this Colab to retrain an audio classifier](https://colab.sandbox.google.com/github/tensorflow/tensorflow/blob/master/tensorflow/lite/g3doc/models/modify/model_maker/audio_classification.ipynb).\n",
    "\n",
    "If you want to run the notebook with the default speech dataset, you can run the whole thing now by clicking **Runtime > Run all** in the Colab toolbar. However, if you want to use your own dataset, then continue down to [Prepare the dataset](#scrollTo=cBsSAeYLkc1Z) and follow the instructions there.\n"
   ]
  },
  {
   "cell_type": "markdown",
   "metadata": {
    "id": "AeZZ_cSsZfPx"
   },
   "source": [
    "### Import the required packages\n"
   ]
  },
  {
   "cell_type": "markdown",
   "metadata": {
    "id": "MelHQlE7FVue"
   },
   "source": [
    "You'll need TensorFlow, TFLite Model Maker, and some modules for audio manipulation, playback, and visualizations."
   ]
  },
  {
   "cell_type": "code",
   "execution_count": 2,
   "metadata": {
    "execution": {
     "iopub.execute_input": "2022-10-20T11:17:25.613762Z",
     "iopub.status.busy": "2022-10-20T11:17:25.613292Z",
     "iopub.status.idle": "2022-10-20T11:18:12.857591Z",
     "shell.execute_reply": "2022-10-20T11:18:12.856693Z"
    },
    "id": "wbMc4vHjaYdQ"
   },
   "outputs": [
    {
     "name": "stdout",
     "output_type": "stream",
     "text": [
      "\r",
      "Reading package lists... 0%\r",
      "\r",
      "Reading package lists... 100%\r",
      "\r",
      "Reading package lists... Done\r",
      "\r\n",
      "\r",
      "Building dependency tree... 0%\r",
      "\r",
      "Building dependency tree... 0%\r"
     ]
    },
    {
     "name": "stdout",
     "output_type": "stream",
     "text": [
      "\r",
      "Building dependency tree... 50%\r",
      "\r",
      "Building dependency tree... 50%\r"
     ]
    },
    {
     "name": "stdout",
     "output_type": "stream",
     "text": [
      "\r",
      "Building dependency tree       \r",
      "\r\n",
      "\r",
      "Reading state information... 0%\r",
      "\r",
      "Reading state information... 0%\r",
      "\r",
      "Reading state information... Done\r",
      "\r\n"
     ]
    },
    {
     "name": "stdout",
     "output_type": "stream",
     "text": [
      "libportaudio2 is already the newest version (19.6.0-1build1).\r\n"
     ]
    },
    {
     "name": "stdout",
     "output_type": "stream",
     "text": [
      "The following packages were automatically installed and are no longer required:\r\n",
      "  libatasmart4 libblockdev-fs2 libblockdev-loop2 libblockdev-part-err2\r\n",
      "  libblockdev-part2 libblockdev-swap2 libblockdev-utils2 libblockdev2\r\n",
      "  libparted-fs-resize0\r\n",
      "Use 'sudo apt autoremove' to remove them.\r\n"
     ]
    },
    {
     "name": "stdout",
     "output_type": "stream",
     "text": [
      "0 upgraded, 0 newly installed, 0 to remove and 47 not upgraded.\r\n"
     ]
    },
    {
     "name": "stdout",
     "output_type": "stream",
     "text": [
      "Collecting tflite-model-maker\r\n"
     ]
    },
    {
     "name": "stdout",
     "output_type": "stream",
     "text": [
      "  Downloading tflite_model_maker-0.4.2-py3-none-any.whl (577 kB)\r\n"
     ]
    },
    {
     "name": "stdout",
     "output_type": "stream",
     "text": [
      "Collecting numba==0.53\r\n",
      "  Downloading numba-0.53.0-cp39-cp39-manylinux2014_x86_64.whl (3.4 MB)\r\n"
     ]
    },
    {
     "name": "stdout",
     "output_type": "stream",
     "text": [
      "Collecting Cython>=0.29.13\r\n",
      "  Downloading Cython-0.29.32-cp39-cp39-manylinux_2_17_x86_64.manylinux2014_x86_64.manylinux_2_24_x86_64.whl (2.0 MB)\r\n"
     ]
    },
    {
     "name": "stdout",
     "output_type": "stream",
     "text": [
      "Requirement already satisfied: tensorflow>=2.6.0 in /tmpfs/src/tf_docs_env/lib/python3.9/site-packages (from tflite-model-maker) (2.11.0rc1)\r\n"
     ]
    },
    {
     "name": "stdout",
     "output_type": "stream",
     "text": [
      "Collecting tensorflow-model-optimization>=0.5\r\n"
     ]
    },
    {
     "name": "stdout",
     "output_type": "stream",
     "text": [
      "  Downloading tensorflow_model_optimization-0.7.3-py2.py3-none-any.whl (238 kB)\r\n",
      "Requirement already satisfied: six>=1.12.0 in /tmpfs/src/tf_docs_env/lib/python3.9/site-packages (from tflite-model-maker) (1.16.0)\r\n",
      "Collecting tflite-support>=0.4.2\r\n"
     ]
    },
    {
     "name": "stdout",
     "output_type": "stream",
     "text": [
      "  Downloading tflite_support-0.4.2-cp39-cp39-manylinux2014_x86_64.whl (60.1 MB)\r\n"
     ]
    },
    {
     "name": "stdout",
     "output_type": "stream",
     "text": [
      "Requirement already satisfied: tensorflow-datasets>=2.1.0 in /tmpfs/src/tf_docs_env/lib/python3.9/site-packages (from tflite-model-maker) (4.7.0)\r\n",
      "Requirement already satisfied: pillow>=7.0.0 in /tmpfs/src/tf_docs_env/lib/python3.9/site-packages (from tflite-model-maker) (9.2.0)\r\n"
     ]
    },
    {
     "name": "stdout",
     "output_type": "stream",
     "text": [
      "Collecting scann==1.2.6\r\n",
      "  Downloading scann-1.2.6-cp39-cp39-manylinux2014_x86_64.whl (10.9 MB)\r\n"
     ]
    },
    {
     "name": "stdout",
     "output_type": "stream",
     "text": [
      "Collecting urllib3!=1.25.0,!=1.25.1,<1.26,>=1.21.1\r\n",
      "  Downloading urllib3-1.25.11-py2.py3-none-any.whl (127 kB)\r\n"
     ]
    },
    {
     "name": "stdout",
     "output_type": "stream",
     "text": [
      "Collecting matplotlib<3.5.0,>=3.0.3\r\n"
     ]
    },
    {
     "name": "stdout",
     "output_type": "stream",
     "text": [
      "  Downloading matplotlib-3.4.3-cp39-cp39-manylinux1_x86_64.whl (10.3 MB)\r\n"
     ]
    },
    {
     "name": "stdout",
     "output_type": "stream",
     "text": [
      "Collecting sentencepiece>=0.1.91\r\n",
      "  Downloading sentencepiece-0.1.97-cp39-cp39-manylinux_2_17_x86_64.manylinux2014_x86_64.whl (1.3 MB)\r\n"
     ]
    },
    {
     "name": "stdout",
     "output_type": "stream",
     "text": [
      "Collecting tensorflow-addons>=0.11.2\r\n"
     ]
    },
    {
     "name": "stdout",
     "output_type": "stream",
     "text": [
      "  Downloading tensorflow_addons-0.18.0-cp39-cp39-manylinux_2_17_x86_64.manylinux2014_x86_64.whl (1.1 MB)\r\n"
     ]
    },
    {
     "name": "stdout",
     "output_type": "stream",
     "text": [
      "Collecting tensorflowjs<3.19.0,>=2.4.0\r\n",
      "  Downloading tensorflowjs-3.18.0-py3-none-any.whl (77 kB)\r\n"
     ]
    },
    {
     "name": "stdout",
     "output_type": "stream",
     "text": [
      "Collecting librosa==0.8.1\r\n",
      "  Downloading librosa-0.8.1-py3-none-any.whl (203 kB)\r\n"
     ]
    },
    {
     "name": "stdout",
     "output_type": "stream",
     "text": [
      "Collecting neural-structured-learning>=1.3.1\r\n"
     ]
    },
    {
     "name": "stdout",
     "output_type": "stream",
     "text": [
      "  Downloading neural_structured_learning-1.4.0-py2.py3-none-any.whl (128 kB)\r\n"
     ]
    },
    {
     "name": "stdout",
     "output_type": "stream",
     "text": [
      "Collecting lxml>=4.6.1\r\n",
      "  Downloading lxml-4.9.1-cp39-cp39-manylinux_2_17_x86_64.manylinux2014_x86_64.manylinux_2_24_x86_64.whl (7.0 MB)\r\n"
     ]
    },
    {
     "name": "stdout",
     "output_type": "stream",
     "text": [
      "Requirement already satisfied: tensorflow-hub<0.13,>=0.7.0 in /tmpfs/src/tf_docs_env/lib/python3.9/site-packages (from tflite-model-maker) (0.12.0)\r\n",
      "Collecting fire>=0.3.1\r\n",
      "  Downloading fire-0.4.0.tar.gz (87 kB)\r\n"
     ]
    },
    {
     "name": "stdout",
     "output_type": "stream",
     "text": [
      "  Preparing metadata (setup.py) ... \u001b[?25l-"
     ]
    },
    {
     "name": "stdout",
     "output_type": "stream",
     "text": [
      "\b \bdone\r\n",
      "\u001b[?25hRequirement already satisfied: numpy>=1.17.3 in /tmpfs/src/tf_docs_env/lib/python3.9/site-packages (from tflite-model-maker) (1.23.4)\r\n"
     ]
    },
    {
     "name": "stdout",
     "output_type": "stream",
     "text": [
      "Collecting tf-models-official==2.3.0\r\n",
      "  Downloading tf_models_official-2.3.0-py2.py3-none-any.whl (840 kB)\r\n"
     ]
    },
    {
     "name": "stdout",
     "output_type": "stream",
     "text": [
      "Requirement already satisfied: flatbuffers>=2.0 in /tmpfs/src/tf_docs_env/lib/python3.9/site-packages (from tflite-model-maker) (22.9.24)\r\n",
      "Requirement already satisfied: absl-py>=0.10.0 in /tmpfs/src/tf_docs_env/lib/python3.9/site-packages (from tflite-model-maker) (1.3.0)\r\n"
     ]
    },
    {
     "name": "stdout",
     "output_type": "stream",
     "text": [
      "Collecting PyYAML>=5.1\r\n",
      "  Downloading PyYAML-6.0-cp39-cp39-manylinux_2_5_x86_64.manylinux1_x86_64.manylinux_2_12_x86_64.manylinux2010_x86_64.whl (661 kB)\r\n"
     ]
    },
    {
     "name": "stdout",
     "output_type": "stream",
     "text": [
      "Collecting resampy>=0.2.2\r\n",
      "  Downloading resampy-0.4.2-py3-none-any.whl (3.1 MB)\r\n"
     ]
    },
    {
     "name": "stdout",
     "output_type": "stream",
     "text": [
      "Requirement already satisfied: scipy>=1.0.0 in /tmpfs/src/tf_docs_env/lib/python3.9/site-packages (from librosa==0.8.1->tflite-model-maker) (1.9.3)\r\n"
     ]
    },
    {
     "name": "stdout",
     "output_type": "stream",
     "text": [
      "Collecting soundfile>=0.10.2\r\n",
      "  Downloading soundfile-0.11.0-py2.py3-none-any.whl (23 kB)\r\n",
      "Requirement already satisfied: joblib>=0.14 in /tmpfs/src/tf_docs_env/lib/python3.9/site-packages (from librosa==0.8.1->tflite-model-maker) (1.2.0)\r\n",
      "Requirement already satisfied: decorator>=3.0.0 in /tmpfs/src/tf_docs_env/lib/python3.9/site-packages (from librosa==0.8.1->tflite-model-maker) (5.1.1)\r\n",
      "Requirement already satisfied: packaging>=20.0 in /tmpfs/src/tf_docs_env/lib/python3.9/site-packages (from librosa==0.8.1->tflite-model-maker) (21.3)\r\n",
      "Requirement already satisfied: scikit-learn!=0.19.0,>=0.14.0 in /tmpfs/src/tf_docs_env/lib/python3.9/site-packages (from librosa==0.8.1->tflite-model-maker) (1.1.2)\r\n"
     ]
    },
    {
     "name": "stdout",
     "output_type": "stream",
     "text": [
      "Collecting pooch>=1.0\r\n",
      "  Downloading pooch-1.6.0-py3-none-any.whl (56 kB)\r\n"
     ]
    },
    {
     "name": "stdout",
     "output_type": "stream",
     "text": [
      "Collecting audioread>=2.0.0\r\n",
      "  Downloading audioread-3.0.0.tar.gz (377 kB)\r\n"
     ]
    },
    {
     "name": "stdout",
     "output_type": "stream",
     "text": [
      "  Preparing metadata (setup.py) ... \u001b[?25l-"
     ]
    },
    {
     "name": "stdout",
     "output_type": "stream",
     "text": [
      "\b \bdone\r\n"
     ]
    },
    {
     "name": "stdout",
     "output_type": "stream",
     "text": [
      "\u001b[?25hCollecting llvmlite<0.37,>=0.36.0rc1\r\n",
      "  Downloading llvmlite-0.36.0-cp39-cp39-manylinux2010_x86_64.whl (25.3 MB)\r\n"
     ]
    },
    {
     "name": "stdout",
     "output_type": "stream",
     "text": [
      "Requirement already satisfied: setuptools in /tmpfs/src/tf_docs_env/lib/python3.9/site-packages (from numba==0.53->tflite-model-maker) (65.5.0)\r\n"
     ]
    },
    {
     "name": "stdout",
     "output_type": "stream",
     "text": [
      "Collecting tensorflow>=2.6.0\r\n"
     ]
    },
    {
     "name": "stdout",
     "output_type": "stream",
     "text": [
      "  Downloading tensorflow-2.8.3-cp39-cp39-manylinux2010_x86_64.whl (498.5 MB)\r\n"
     ]
    },
    {
     "name": "stdout",
     "output_type": "stream",
     "text": [
      "Collecting google-api-python-client>=1.6.7\r\n",
      "  Downloading google_api_python_client-2.65.0-py2.py3-none-any.whl (10.4 MB)\r\n"
     ]
    },
    {
     "name": "stdout",
     "output_type": "stream",
     "text": [
      "Collecting tf-slim>=1.1.0\r\n",
      "  Downloading tf_slim-1.1.0-py2.py3-none-any.whl (352 kB)\r\n"
     ]
    },
    {
     "name": "stdout",
     "output_type": "stream",
     "text": [
      "Collecting py-cpuinfo>=3.3.0\r\n",
      "  Downloading py-cpuinfo-8.0.0.tar.gz (99 kB)\r\n"
     ]
    },
    {
     "name": "stdout",
     "output_type": "stream",
     "text": [
      "  Preparing metadata (setup.py) ... \u001b[?25l-"
     ]
    },
    {
     "name": "stdout",
     "output_type": "stream",
     "text": [
      "\b \bdone\r\n"
     ]
    },
    {
     "name": "stdout",
     "output_type": "stream",
     "text": [
      "\u001b[?25hCollecting dataclasses\r\n",
      "  Downloading dataclasses-0.6-py3-none-any.whl (14 kB)\r\n",
      "Requirement already satisfied: pandas>=0.22.0 in /tmpfs/src/tf_docs_env/lib/python3.9/site-packages (from tf-models-official==2.3.0->tflite-model-maker) (1.5.1)\r\n"
     ]
    },
    {
     "name": "stdout",
     "output_type": "stream",
     "text": [
      "Collecting opencv-python-headless\r\n"
     ]
    },
    {
     "name": "stdout",
     "output_type": "stream",
     "text": [
      "  Downloading opencv_python_headless-4.6.0.66-cp36-abi3-manylinux_2_17_x86_64.manylinux2014_x86_64.whl (48.3 MB)\r\n"
     ]
    },
    {
     "name": "stdout",
     "output_type": "stream",
     "text": [
      "Collecting kaggle>=1.3.9\r\n",
      "  Downloading kaggle-1.5.12.tar.gz (58 kB)\r\n"
     ]
    },
    {
     "name": "stdout",
     "output_type": "stream",
     "text": [
      "  Preparing metadata (setup.py) ... \u001b[?25l-"
     ]
    },
    {
     "name": "stdout",
     "output_type": "stream",
     "text": [
      "\b \bdone\r\n"
     ]
    },
    {
     "name": "stdout",
     "output_type": "stream",
     "text": [
      "\u001b[?25hCollecting google-cloud-bigquery>=0.31.0\r\n",
      "  Downloading google_cloud_bigquery-3.3.5-py2.py3-none-any.whl (211 kB)\r\n"
     ]
    },
    {
     "name": "stdout",
     "output_type": "stream",
     "text": [
      "Collecting gin-config\r\n",
      "  Downloading gin_config-0.5.0-py3-none-any.whl (61 kB)\r\n",
      "Requirement already satisfied: psutil>=5.4.3 in /tmpfs/src/tf_docs_env/lib/python3.9/site-packages (from tf-models-official==2.3.0->tflite-model-maker) (5.9.3)\r\n",
      "Requirement already satisfied: termcolor in /tmpfs/src/tf_docs_env/lib/python3.9/site-packages (from fire>=0.3.1->tflite-model-maker) (2.0.1)\r\n",
      "Requirement already satisfied: kiwisolver>=1.0.1 in /tmpfs/src/tf_docs_env/lib/python3.9/site-packages (from matplotlib<3.5.0,>=3.0.3->tflite-model-maker) (1.4.4)\r\n",
      "Requirement already satisfied: python-dateutil>=2.7 in /tmpfs/src/tf_docs_env/lib/python3.9/site-packages (from matplotlib<3.5.0,>=3.0.3->tflite-model-maker) (2.8.2)\r\n",
      "Requirement already satisfied: cycler>=0.10 in /tmpfs/src/tf_docs_env/lib/python3.9/site-packages (from matplotlib<3.5.0,>=3.0.3->tflite-model-maker) (0.11.0)\r\n",
      "Requirement already satisfied: pyparsing>=2.2.1 in /tmpfs/src/tf_docs_env/lib/python3.9/site-packages (from matplotlib<3.5.0,>=3.0.3->tflite-model-maker) (3.0.9)\r\n"
     ]
    },
    {
     "name": "stdout",
     "output_type": "stream",
     "text": [
      "Requirement already satisfied: attrs in /tmpfs/src/tf_docs_env/lib/python3.9/site-packages (from neural-structured-learning>=1.3.1->tflite-model-maker) (22.1.0)\r\n",
      "Requirement already satisfied: astunparse>=1.6.0 in /tmpfs/src/tf_docs_env/lib/python3.9/site-packages (from tensorflow>=2.6.0->tflite-model-maker) (1.6.3)\r\n",
      "Requirement already satisfied: tensorflow-io-gcs-filesystem>=0.23.1 in /tmpfs/src/tf_docs_env/lib/python3.9/site-packages (from tensorflow>=2.6.0->tflite-model-maker) (0.27.0)\r\n",
      "Requirement already satisfied: libclang>=9.0.1 in /tmpfs/src/tf_docs_env/lib/python3.9/site-packages (from tensorflow>=2.6.0->tflite-model-maker) (14.0.6)\r\n",
      "Requirement already satisfied: protobuf<3.20,>=3.9.2 in /tmpfs/src/tf_docs_env/lib/python3.9/site-packages (from tensorflow>=2.6.0->tflite-model-maker) (3.19.6)\r\n"
     ]
    },
    {
     "name": "stdout",
     "output_type": "stream",
     "text": [
      "Collecting keras-preprocessing>=1.1.1\r\n",
      "  Downloading Keras_Preprocessing-1.1.2-py2.py3-none-any.whl (42 kB)\r\n",
      "Requirement already satisfied: wrapt>=1.11.0 in /tmpfs/src/tf_docs_env/lib/python3.9/site-packages (from tensorflow>=2.6.0->tflite-model-maker) (1.14.1)\r\n",
      "Requirement already satisfied: gast>=0.2.1 in /tmpfs/src/tf_docs_env/lib/python3.9/site-packages (from tensorflow>=2.6.0->tflite-model-maker) (0.4.0)\r\n",
      "Collecting tensorflow-estimator<2.9,>=2.8\r\n"
     ]
    },
    {
     "name": "stdout",
     "output_type": "stream",
     "text": [
      "  Downloading tensorflow_estimator-2.8.0-py2.py3-none-any.whl (462 kB)\r\n",
      "Requirement already satisfied: typing-extensions>=3.6.6 in /tmpfs/src/tf_docs_env/lib/python3.9/site-packages (from tensorflow>=2.6.0->tflite-model-maker) (4.4.0)\r\n",
      "Requirement already satisfied: google-pasta>=0.1.1 in /tmpfs/src/tf_docs_env/lib/python3.9/site-packages (from tensorflow>=2.6.0->tflite-model-maker) (0.2.0)\r\n",
      "Requirement already satisfied: grpcio<2.0,>=1.24.3 in /tmpfs/src/tf_docs_env/lib/python3.9/site-packages (from tensorflow>=2.6.0->tflite-model-maker) (1.50.0)\r\n"
     ]
    },
    {
     "name": "stdout",
     "output_type": "stream",
     "text": [
      "Collecting tensorboard<2.9,>=2.8\r\n",
      "  Downloading tensorboard-2.8.0-py3-none-any.whl (5.8 MB)\r\n"
     ]
    },
    {
     "name": "stdout",
     "output_type": "stream",
     "text": [
      "Collecting keras<2.9,>=2.8.0rc0\r\n",
      "  Downloading keras-2.8.0-py2.py3-none-any.whl (1.4 MB)\r\n",
      "Requirement already satisfied: opt-einsum>=2.3.2 in /tmpfs/src/tf_docs_env/lib/python3.9/site-packages (from tensorflow>=2.6.0->tflite-model-maker) (3.3.0)\r\n",
      "Requirement already satisfied: h5py>=2.9.0 in /tmpfs/src/tf_docs_env/lib/python3.9/site-packages (from tensorflow>=2.6.0->tflite-model-maker) (3.7.0)\r\n"
     ]
    },
    {
     "name": "stdout",
     "output_type": "stream",
     "text": [
      "Collecting typeguard>=2.7\r\n",
      "  Downloading typeguard-2.13.3-py3-none-any.whl (17 kB)\r\n"
     ]
    },
    {
     "name": "stdout",
     "output_type": "stream",
     "text": [
      "Requirement already satisfied: requests>=2.19.0 in /tmpfs/src/tf_docs_env/lib/python3.9/site-packages (from tensorflow-datasets>=2.1.0->tflite-model-maker) (2.28.1)\r\n",
      "Requirement already satisfied: tqdm in /tmpfs/src/tf_docs_env/lib/python3.9/site-packages (from tensorflow-datasets>=2.1.0->tflite-model-maker) (4.64.1)\r\n",
      "Requirement already satisfied: etils[epath] in /tmpfs/src/tf_docs_env/lib/python3.9/site-packages (from tensorflow-datasets>=2.1.0->tflite-model-maker) (0.8.0)\r\n",
      "Requirement already satisfied: toml in /tmpfs/src/tf_docs_env/lib/python3.9/site-packages (from tensorflow-datasets>=2.1.0->tflite-model-maker) (0.10.2)\r\n",
      "Requirement already satisfied: promise in /tmpfs/src/tf_docs_env/lib/python3.9/site-packages (from tensorflow-datasets>=2.1.0->tflite-model-maker) (2.3)\r\n",
      "Requirement already satisfied: dill in /tmpfs/src/tf_docs_env/lib/python3.9/site-packages (from tensorflow-datasets>=2.1.0->tflite-model-maker) (0.3.5.1)\r\n",
      "Requirement already satisfied: tensorflow-metadata in /tmpfs/src/tf_docs_env/lib/python3.9/site-packages (from tensorflow-datasets>=2.1.0->tflite-model-maker) (1.10.0)\r\n"
     ]
    },
    {
     "name": "stdout",
     "output_type": "stream",
     "text": [
      "Collecting dm-tree~=0.1.1\r\n",
      "  Downloading dm_tree-0.1.7-cp39-cp39-manylinux_2_12_x86_64.manylinux2010_x86_64.whl (142 kB)\r\n"
     ]
    },
    {
     "name": "stdout",
     "output_type": "stream",
     "text": [
      "Collecting packaging>=20.0\r\n"
     ]
    },
    {
     "name": "stdout",
     "output_type": "stream",
     "text": [
      "  Downloading packaging-20.9-py2.py3-none-any.whl (40 kB)\r\n",
      "Collecting sounddevice>=0.4.4\r\n",
      "  Using cached sounddevice-0.4.5-py3-none-any.whl (31 kB)\r\n"
     ]
    },
    {
     "name": "stdout",
     "output_type": "stream",
     "text": [
      "Collecting pybind11>=2.6.0\r\n",
      "  Using cached pybind11-2.10.0-py3-none-any.whl (213 kB)\r\n"
     ]
    },
    {
     "name": "stdout",
     "output_type": "stream",
     "text": [
      "Requirement already satisfied: wheel<1.0,>=0.23.0 in /tmpfs/src/tf_docs_env/lib/python3.9/site-packages (from astunparse>=1.6.0->tensorflow>=2.6.0->tflite-model-maker) (0.37.1)\r\n"
     ]
    },
    {
     "name": "stdout",
     "output_type": "stream",
     "text": [
      "Collecting google-api-core!=2.0.*,!=2.1.*,!=2.2.*,!=2.3.0,<3.0.0dev,>=1.31.5\r\n"
     ]
    },
    {
     "name": "stdout",
     "output_type": "stream",
     "text": [
      "  Downloading google_api_core-2.10.2-py3-none-any.whl (115 kB)\r\n",
      "Requirement already satisfied: google-auth<3.0.0dev,>=1.19.0 in /tmpfs/src/tf_docs_env/lib/python3.9/site-packages (from google-api-python-client>=1.6.7->tf-models-official==2.3.0->tflite-model-maker) (2.13.0)\r\n",
      "Collecting google-auth-httplib2>=0.1.0\r\n",
      "  Downloading google_auth_httplib2-0.1.0-py2.py3-none-any.whl (9.3 kB)\r\n"
     ]
    },
    {
     "name": "stdout",
     "output_type": "stream",
     "text": [
      "Collecting httplib2<1dev,>=0.15.0\r\n",
      "  Downloading httplib2-0.20.4-py3-none-any.whl (96 kB)\r\n",
      "Collecting uritemplate<5,>=3.0.1\r\n"
     ]
    },
    {
     "name": "stdout",
     "output_type": "stream",
     "text": [
      "  Downloading uritemplate-4.1.1-py2.py3-none-any.whl (10 kB)\r\n"
     ]
    },
    {
     "name": "stdout",
     "output_type": "stream",
     "text": [
      "Collecting google-cloud-core<3.0.0dev,>=1.4.1\r\n",
      "  Downloading google_cloud_core-2.3.2-py2.py3-none-any.whl (29 kB)\r\n"
     ]
    },
    {
     "name": "stdout",
     "output_type": "stream",
     "text": [
      "Collecting proto-plus<2.0.0dev,>=1.22.0\r\n",
      "  Downloading proto_plus-1.22.1-py3-none-any.whl (47 kB)\r\n"
     ]
    },
    {
     "name": "stdout",
     "output_type": "stream",
     "text": [
      "Collecting google-cloud-bigquery-storage<3.0.0dev,>=2.0.0\r\n",
      "  Downloading google_cloud_bigquery_storage-2.16.2-py2.py3-none-any.whl (185 kB)\r\n"
     ]
    },
    {
     "name": "stdout",
     "output_type": "stream",
     "text": [
      "Collecting pyarrow<10.0dev,>=3.0.0\r\n",
      "  Downloading pyarrow-9.0.0-cp39-cp39-manylinux_2_17_x86_64.manylinux2014_x86_64.whl (35.3 MB)\r\n"
     ]
    },
    {
     "name": "stdout",
     "output_type": "stream",
     "text": [
      "Collecting google-resumable-media<3.0dev,>=0.6.0\r\n",
      "  Downloading google_resumable_media-2.4.0-py2.py3-none-any.whl (77 kB)\r\n"
     ]
    },
    {
     "name": "stdout",
     "output_type": "stream",
     "text": [
      "Requirement already satisfied: certifi in /tmpfs/src/tf_docs_env/lib/python3.9/site-packages (from kaggle>=1.3.9->tf-models-official==2.3.0->tflite-model-maker) (2022.9.24)\r\n",
      "Collecting python-slugify\r\n"
     ]
    },
    {
     "name": "stdout",
     "output_type": "stream",
     "text": [
      "  Downloading python_slugify-6.1.2-py2.py3-none-any.whl (9.4 kB)\r\n"
     ]
    },
    {
     "name": "stdout",
     "output_type": "stream",
     "text": [
      "Requirement already satisfied: pytz>=2020.1 in /tmpfs/src/tf_docs_env/lib/python3.9/site-packages (from pandas>=0.22.0->tf-models-official==2.3.0->tflite-model-maker) (2022.5)\r\n",
      "Collecting appdirs>=1.3.0\r\n",
      "  Downloading appdirs-1.4.4-py2.py3-none-any.whl (9.6 kB)\r\n"
     ]
    },
    {
     "name": "stdout",
     "output_type": "stream",
     "text": [
      "Requirement already satisfied: charset-normalizer<3,>=2 in /tmpfs/src/tf_docs_env/lib/python3.9/site-packages (from requests>=2.19.0->tensorflow-datasets>=2.1.0->tflite-model-maker) (2.1.1)\r\n"
     ]
    },
    {
     "name": "stdout",
     "output_type": "stream",
     "text": [
      "Requirement already satisfied: idna<4,>=2.5 in /tmpfs/src/tf_docs_env/lib/python3.9/site-packages (from requests>=2.19.0->tensorflow-datasets>=2.1.0->tflite-model-maker) (3.4)\r\n",
      "Requirement already satisfied: threadpoolctl>=2.0.0 in /tmpfs/src/tf_docs_env/lib/python3.9/site-packages (from scikit-learn!=0.19.0,>=0.14.0->librosa==0.8.1->tflite-model-maker) (3.1.0)\r\n"
     ]
    },
    {
     "name": "stdout",
     "output_type": "stream",
     "text": [
      "Requirement already satisfied: CFFI>=1.0 in /tmpfs/src/tf_docs_env/lib/python3.9/site-packages (from sounddevice>=0.4.4->tflite-support>=0.4.2->tflite-model-maker) (1.15.1)\r\n",
      "Requirement already satisfied: werkzeug>=0.11.15 in /tmpfs/src/tf_docs_env/lib/python3.9/site-packages (from tensorboard<2.9,>=2.8->tensorflow>=2.6.0->tflite-model-maker) (2.2.2)\r\n",
      "Requirement already satisfied: google-auth-oauthlib<0.5,>=0.4.1 in /tmpfs/src/tf_docs_env/lib/python3.9/site-packages (from tensorboard<2.9,>=2.8->tensorflow>=2.6.0->tflite-model-maker) (0.4.6)\r\n",
      "Requirement already satisfied: tensorboard-data-server<0.7.0,>=0.6.0 in /tmpfs/src/tf_docs_env/lib/python3.9/site-packages (from tensorboard<2.9,>=2.8->tensorflow>=2.6.0->tflite-model-maker) (0.6.1)\r\n",
      "Requirement already satisfied: markdown>=2.6.8 in /tmpfs/src/tf_docs_env/lib/python3.9/site-packages (from tensorboard<2.9,>=2.8->tensorflow>=2.6.0->tflite-model-maker) (3.4.1)\r\n",
      "Requirement already satisfied: tensorboard-plugin-wit>=1.6.0 in /tmpfs/src/tf_docs_env/lib/python3.9/site-packages (from tensorboard<2.9,>=2.8->tensorflow>=2.6.0->tflite-model-maker) (1.8.1)\r\n"
     ]
    },
    {
     "name": "stdout",
     "output_type": "stream",
     "text": [
      "Requirement already satisfied: zipp in /tmpfs/src/tf_docs_env/lib/python3.9/site-packages (from etils[epath]->tensorflow-datasets>=2.1.0->tflite-model-maker) (3.9.0)\r\n",
      "Requirement already satisfied: importlib_resources in /tmpfs/src/tf_docs_env/lib/python3.9/site-packages (from etils[epath]->tensorflow-datasets>=2.1.0->tflite-model-maker) (5.10.0)\r\n"
     ]
    },
    {
     "name": "stdout",
     "output_type": "stream",
     "text": [
      "Requirement already satisfied: googleapis-common-protos<2,>=1.52.0 in /tmpfs/src/tf_docs_env/lib/python3.9/site-packages (from tensorflow-metadata->tensorflow-datasets>=2.1.0->tflite-model-maker) (1.56.4)\r\n"
     ]
    },
    {
     "name": "stdout",
     "output_type": "stream",
     "text": [
      "Requirement already satisfied: pycparser in /tmpfs/src/tf_docs_env/lib/python3.9/site-packages (from CFFI>=1.0->sounddevice>=0.4.4->tflite-support>=0.4.2->tflite-model-maker) (2.21)\r\n"
     ]
    },
    {
     "name": "stdout",
     "output_type": "stream",
     "text": [
      "Collecting grpcio-status<2.0dev,>=1.33.2\r\n",
      "  Downloading grpcio_status-1.50.0-py3-none-any.whl (14 kB)\r\n"
     ]
    },
    {
     "name": "stdout",
     "output_type": "stream",
     "text": [
      "Requirement already satisfied: cachetools<6.0,>=2.0.0 in /tmpfs/src/tf_docs_env/lib/python3.9/site-packages (from google-auth<3.0.0dev,>=1.19.0->google-api-python-client>=1.6.7->tf-models-official==2.3.0->tflite-model-maker) (5.2.0)\r\n",
      "Requirement already satisfied: rsa<5,>=3.1.4 in /tmpfs/src/tf_docs_env/lib/python3.9/site-packages (from google-auth<3.0.0dev,>=1.19.0->google-api-python-client>=1.6.7->tf-models-official==2.3.0->tflite-model-maker) (4.9)\r\n",
      "Requirement already satisfied: pyasn1-modules>=0.2.1 in /tmpfs/src/tf_docs_env/lib/python3.9/site-packages (from google-auth<3.0.0dev,>=1.19.0->google-api-python-client>=1.6.7->tf-models-official==2.3.0->tflite-model-maker) (0.3.0rc1)\r\n",
      "Requirement already satisfied: requests-oauthlib>=0.7.0 in /tmpfs/src/tf_docs_env/lib/python3.9/site-packages (from google-auth-oauthlib<0.5,>=0.4.1->tensorboard<2.9,>=2.8->tensorflow>=2.6.0->tflite-model-maker) (1.3.1)\r\n"
     ]
    },
    {
     "name": "stdout",
     "output_type": "stream",
     "text": [
      "Collecting google-crc32c<2.0dev,>=1.0\r\n",
      "  Downloading google_crc32c-1.5.0-cp39-cp39-manylinux_2_17_x86_64.manylinux2014_x86_64.whl (32 kB)\r\n"
     ]
    },
    {
     "name": "stdout",
     "output_type": "stream",
     "text": [
      "Requirement already satisfied: importlib-metadata>=4.4 in /tmpfs/src/tf_docs_env/lib/python3.9/site-packages (from markdown>=2.6.8->tensorboard<2.9,>=2.8->tensorflow>=2.6.0->tflite-model-maker) (5.0.0)\r\n"
     ]
    },
    {
     "name": "stdout",
     "output_type": "stream",
     "text": [
      "Requirement already satisfied: MarkupSafe>=2.1.1 in /tmpfs/src/tf_docs_env/lib/python3.9/site-packages (from werkzeug>=0.11.15->tensorboard<2.9,>=2.8->tensorflow>=2.6.0->tflite-model-maker) (2.1.1)\r\n"
     ]
    },
    {
     "name": "stdout",
     "output_type": "stream",
     "text": [
      "Collecting text-unidecode>=1.3\r\n",
      "  Downloading text_unidecode-1.3-py2.py3-none-any.whl (78 kB)\r\n"
     ]
    },
    {
     "name": "stdout",
     "output_type": "stream",
     "text": [
      "Collecting grpcio-status<2.0dev,>=1.33.2\r\n",
      "  Downloading grpcio_status-1.49.1-py3-none-any.whl (14 kB)\r\n"
     ]
    },
    {
     "name": "stdout",
     "output_type": "stream",
     "text": [
      "  Downloading grpcio_status-1.48.2-py3-none-any.whl (14 kB)\r\n"
     ]
    },
    {
     "name": "stdout",
     "output_type": "stream",
     "text": [
      "Requirement already satisfied: pyasn1<0.6.0,>=0.4.6 in /tmpfs/src/tf_docs_env/lib/python3.9/site-packages (from pyasn1-modules>=0.2.1->google-auth<3.0.0dev,>=1.19.0->google-api-python-client>=1.6.7->tf-models-official==2.3.0->tflite-model-maker) (0.5.0rc2)\r\n",
      "Requirement already satisfied: oauthlib>=3.0.0 in /tmpfs/src/tf_docs_env/lib/python3.9/site-packages (from requests-oauthlib>=0.7.0->google-auth-oauthlib<0.5,>=0.4.1->tensorboard<2.9,>=2.8->tensorflow>=2.6.0->tflite-model-maker) (3.2.2)\r\n"
     ]
    },
    {
     "name": "stdout",
     "output_type": "stream",
     "text": [
      "Building wheels for collected packages: fire, audioread, kaggle, py-cpuinfo\r\n"
     ]
    },
    {
     "name": "stdout",
     "output_type": "stream",
     "text": [
      "  Building wheel for fire (setup.py) ... \u001b[?25l-"
     ]
    },
    {
     "name": "stdout",
     "output_type": "stream",
     "text": [
      "\b \b\\"
     ]
    },
    {
     "name": "stdout",
     "output_type": "stream",
     "text": [
      "\b \bdone\r\n",
      "\u001b[?25h  Created wheel for fire: filename=fire-0.4.0-py2.py3-none-any.whl size=115926 sha256=8a7618d17c93b607e1f399e08fdcb6af4bfcec2c1b688710af9f5e6408fd6528\r\n",
      "  Stored in directory: /home/kbuilder/.cache/pip/wheels/3b/66/23/d71e662f0df35e56a86dfc6b2e9020fc3fb47e1cbaf5695f84\r\n"
     ]
    },
    {
     "name": "stdout",
     "output_type": "stream",
     "text": [
      "  Building wheel for audioread (setup.py) ... \u001b[?25l-"
     ]
    },
    {
     "name": "stdout",
     "output_type": "stream",
     "text": [
      "\b \b\\"
     ]
    },
    {
     "name": "stdout",
     "output_type": "stream",
     "text": [
      "\b \bdone\r\n",
      "\u001b[?25h  Created wheel for audioread: filename=audioread-3.0.0-py3-none-any.whl size=23703 sha256=6e44add1a9c9f1ef6c8b8f9072a7a674065aed0f7a9231777175dbe1f3e8115e\r\n",
      "  Stored in directory: /home/kbuilder/.cache/pip/wheels/7a/6a/b0/92760a6d6bc2bff5464970af910c0b0b921390993f3199cdf7\r\n"
     ]
    },
    {
     "name": "stdout",
     "output_type": "stream",
     "text": [
      "  Building wheel for kaggle (setup.py) ... \u001b[?25l-"
     ]
    },
    {
     "name": "stdout",
     "output_type": "stream",
     "text": [
      "\b \b\\"
     ]
    },
    {
     "name": "stdout",
     "output_type": "stream",
     "text": [
      "\b \bdone\r\n",
      "\u001b[?25h  Created wheel for kaggle: filename=kaggle-1.5.12-py3-none-any.whl size=73031 sha256=b817887cad740415d4fbf9eb28ac202246d5aae56879614a965c0a7a36a9bd10\r\n",
      "  Stored in directory: /home/kbuilder/.cache/pip/wheels/50/0a/6a/77a4f3a534f0e5fd0909a376bbdfc88238a43eb2ac35947dc7\r\n"
     ]
    },
    {
     "name": "stdout",
     "output_type": "stream",
     "text": [
      "  Building wheel for py-cpuinfo (setup.py) ... \u001b[?25l-"
     ]
    },
    {
     "name": "stdout",
     "output_type": "stream",
     "text": [
      "\b \bdone\r\n",
      "\u001b[?25h  Created wheel for py-cpuinfo: filename=py_cpuinfo-8.0.0-py3-none-any.whl size=22243 sha256=697f937e6a1296a5e5e92908b5815b6ba171f9ea6b0ba4f86d492c5de1c84d18\r\n",
      "  Stored in directory: /home/kbuilder/.cache/pip/wheels/f1/0d/f5/602a4729f6a9194be19ff548726c8aa936f58da64641bee673\r\n",
      "Successfully built fire audioread kaggle py-cpuinfo\r\n"
     ]
    },
    {
     "name": "stdout",
     "output_type": "stream",
     "text": [
      "Installing collected packages: text-unidecode, tensorflow-estimator, sentencepiece, py-cpuinfo, keras, gin-config, dm-tree, dataclasses, appdirs, urllib3, uritemplate, typeguard, tf-slim, tensorflow-model-optimization, PyYAML, python-slugify, pybind11, pyarrow, proto-plus, packaging, opencv-python-headless, lxml, llvmlite, keras-preprocessing, httplib2, google-crc32c, fire, Cython, audioread, tensorflow-addons, soundfile, sounddevice, numba, neural-structured-learning, matplotlib, grpcio-status, google-resumable-media, tflite-support, resampy, pooch, kaggle, google-auth-httplib2, google-api-core, librosa, google-cloud-core, google-api-python-client, tensorboard, google-cloud-bigquery-storage, tensorflow, google-cloud-bigquery, tf-models-official, tensorflowjs, scann, tflite-model-maker\r\n"
     ]
    },
    {
     "name": "stdout",
     "output_type": "stream",
     "text": [
      "  Attempting uninstall: tensorflow-estimator\r\n",
      "    Found existing installation: tensorflow-estimator 2.11.0rc0\r\n"
     ]
    },
    {
     "name": "stdout",
     "output_type": "stream",
     "text": [
      "    Uninstalling tensorflow-estimator-2.11.0rc0:\r\n",
      "      Successfully uninstalled tensorflow-estimator-2.11.0rc0\r\n"
     ]
    },
    {
     "name": "stdout",
     "output_type": "stream",
     "text": [
      "  Attempting uninstall: keras\r\n",
      "    Found existing installation: keras 2.11.0rc1\r\n"
     ]
    },
    {
     "name": "stdout",
     "output_type": "stream",
     "text": [
      "    Uninstalling keras-2.11.0rc1:\r\n"
     ]
    },
    {
     "name": "stdout",
     "output_type": "stream",
     "text": [
      "      Successfully uninstalled keras-2.11.0rc1\r\n"
     ]
    },
    {
     "name": "stdout",
     "output_type": "stream",
     "text": [
      "  Attempting uninstall: urllib3\r\n",
      "    Found existing installation: urllib3 1.26.12\r\n"
     ]
    },
    {
     "name": "stdout",
     "output_type": "stream",
     "text": [
      "    Uninstalling urllib3-1.26.12:\r\n",
      "      Successfully uninstalled urllib3-1.26.12\r\n"
     ]
    },
    {
     "name": "stdout",
     "output_type": "stream",
     "text": [
      "  Attempting uninstall: packaging\r\n",
      "    Found existing installation: packaging 21.3\r\n",
      "    Uninstalling packaging-21.3:\r\n",
      "      Successfully uninstalled packaging-21.3\r\n"
     ]
    },
    {
     "name": "stdout",
     "output_type": "stream",
     "text": [
      "  Attempting uninstall: matplotlib\r\n",
      "    Found existing installation: matplotlib 3.6.0\r\n"
     ]
    },
    {
     "name": "stdout",
     "output_type": "stream",
     "text": [
      "    Uninstalling matplotlib-3.6.0:\r\n"
     ]
    },
    {
     "name": "stdout",
     "output_type": "stream",
     "text": [
      "      Successfully uninstalled matplotlib-3.6.0\r\n"
     ]
    },
    {
     "name": "stdout",
     "output_type": "stream",
     "text": [
      "  Attempting uninstall: tensorboard\r\n",
      "    Found existing installation: tensorboard 2.10.1\r\n"
     ]
    },
    {
     "name": "stdout",
     "output_type": "stream",
     "text": [
      "    Uninstalling tensorboard-2.10.1:\r\n"
     ]
    },
    {
     "name": "stdout",
     "output_type": "stream",
     "text": [
      "      Successfully uninstalled tensorboard-2.10.1\r\n"
     ]
    },
    {
     "name": "stdout",
     "output_type": "stream",
     "text": [
      "  Attempting uninstall: tensorflow\r\n",
      "    Found existing installation: tensorflow 2.11.0rc1\r\n"
     ]
    },
    {
     "name": "stdout",
     "output_type": "stream",
     "text": [
      "    Uninstalling tensorflow-2.11.0rc1:\r\n"
     ]
    },
    {
     "name": "stdout",
     "output_type": "stream",
     "text": [
      "      Successfully uninstalled tensorflow-2.11.0rc1\r\n"
     ]
    },
    {
     "name": "stdout",
     "output_type": "stream",
     "text": [
      "Successfully installed Cython-0.29.32 PyYAML-6.0 appdirs-1.4.4 audioread-3.0.0 dataclasses-0.6 dm-tree-0.1.7 fire-0.4.0 gin-config-0.5.0 google-api-core-2.10.2 google-api-python-client-2.65.0 google-auth-httplib2-0.1.0 google-cloud-bigquery-3.3.5 google-cloud-bigquery-storage-2.16.2 google-cloud-core-2.3.2 google-crc32c-1.5.0 google-resumable-media-2.4.0 grpcio-status-1.48.2 httplib2-0.20.4 kaggle-1.5.12 keras-2.8.0 keras-preprocessing-1.1.2 librosa-0.8.1 llvmlite-0.36.0 lxml-4.9.1 matplotlib-3.4.3 neural-structured-learning-1.4.0 numba-0.53.0 opencv-python-headless-4.6.0.66 packaging-20.9 pooch-1.6.0 proto-plus-1.22.1 py-cpuinfo-8.0.0 pyarrow-9.0.0 pybind11-2.10.0 python-slugify-6.1.2 resampy-0.4.2 scann-1.2.6 sentencepiece-0.1.97 sounddevice-0.4.5 soundfile-0.11.0 tensorboard-2.8.0 tensorflow-2.8.3 tensorflow-addons-0.18.0 tensorflow-estimator-2.8.0 tensorflow-model-optimization-0.7.3 tensorflowjs-3.18.0 text-unidecode-1.3 tf-models-official-2.3.0 tf-slim-1.1.0 tflite-model-maker-0.4.2 tflite-support-0.4.2 typeguard-2.13.3 uritemplate-4.1.1 urllib3-1.25.11\r\n"
     ]
    }
   ],
   "source": [
    "!sudo apt -y install libportaudio2\n",
    "!pip install tflite-model-maker"
   ]
  },
  {
   "cell_type": "code",
   "execution_count": 3,
   "metadata": {
    "execution": {
     "iopub.execute_input": "2022-10-20T11:18:12.862454Z",
     "iopub.status.busy": "2022-10-20T11:18:12.861903Z",
     "iopub.status.idle": "2022-10-20T11:18:16.721266Z",
     "shell.execute_reply": "2022-10-20T11:18:16.720458Z"
    },
    "id": "rwUA9u4oWoCR"
   },
   "outputs": [
    {
     "name": "stdout",
     "output_type": "stream",
     "text": [
      "TensorFlow Version: 2.8.3\n",
      "Model Maker Version: 0.4.2\n"
     ]
    }
   ],
   "source": [
    "import os\n",
    "import glob\n",
    "import random\n",
    "import shutil\n",
    "\n",
    "import librosa\n",
    "import soundfile as sf\n",
    "from IPython.display import Audio\n",
    "import numpy as np\n",
    "import matplotlib.pyplot as plt\n",
    "import seaborn as sns\n",
    "\n",
    "import tensorflow as tf\n",
    "import tflite_model_maker as mm\n",
    "from tflite_model_maker import audio_classifier\n",
    "from tflite_model_maker.config import ExportFormat\n",
    "\n",
    "print(f\"TensorFlow Version: {tf.__version__}\")\n",
    "print(f\"Model Maker Version: {mm.__version__}\")"
   ]
  },
  {
   "cell_type": "markdown",
   "metadata": {
    "id": "cBsSAeYLkc1Z"
   },
   "source": [
    "## Prepare the dataset"
   ]
  },
  {
   "cell_type": "markdown",
   "metadata": {
    "id": "NTTSXJxJq2Bz"
   },
   "source": [
    "To train with the default speech dataset, just run all the code below as-is.\n",
    "\n",
    "But if you want to train with your own speech dataset, follow these steps:\n",
    "\n",
    "**Note:** \n",
    "The model you'll retrain expects input data to be roughly one second of audio at 44.1 kHz. Model Maker perfoms automatic resampling for the training dataset, so there's no need to resample your dataset if it has a sample rate other than 44.1 kHz. But beware that audio samples longer than one second will be split into multiple one-second chunks, and the final chunk will be discarded if it's shorter than one second.\n",
    "\n",
    "1. Be sure each sample in your dataset is in **WAV file format, about one second long**. Then create a ZIP file with all your WAV files, organized into separate subfolders for each classification. For example, each sample for a speech command \"yes\" should be in a subfolder named \"yes\". Even if you have only one class, the samples must be saved in a subdirectory with the class name as the directory name. (This script assumes your dataset **is not split** into train/validation/test sets and performs that split for you.)\n",
    "2. Click the **Files** tab in the left panel and just drag-drop your ZIP file there to upload it.\n",
    "3. Use the following drop-down option to set **`use_custom_dataset`** to True.\n",
    "4. Then skip to [Prepare a custom audio dataset](#scrollTo=EobYerLQkiF1) to specify your ZIP filename and dataset directory name.\n",
    "\n",
    "\n"
   ]
  },
  {
   "cell_type": "code",
   "execution_count": 4,
   "metadata": {
    "cellView": "form",
    "execution": {
     "iopub.execute_input": "2022-10-20T11:18:16.726182Z",
     "iopub.status.busy": "2022-10-20T11:18:16.725134Z",
     "iopub.status.idle": "2022-10-20T11:18:16.729021Z",
     "shell.execute_reply": "2022-10-20T11:18:16.728450Z"
    },
    "id": "AK9o98X7qyhU"
   },
   "outputs": [],
   "source": [
    "use_custom_dataset = False #@param [\"False\", \"True\"] {type:\"raw\"}"
   ]
  },
  {
   "cell_type": "markdown",
   "metadata": {
    "id": "D2sNXbYVHjjy"
   },
   "source": [
    "### Generate a background noise dataset"
   ]
  },
  {
   "cell_type": "markdown",
   "metadata": {
    "id": "gBVClNMwHtMD"
   },
   "source": [
    "Whether you're using the default speech dataset or a custom dataset, you should have a good set of background noises so your model can distinguish speech from other noises (including silence). \n",
    "\n",
    "Because the following background samples are provided in WAV files that are a minute long or longer, we need to split them up into smaller one-second samples so we can reserve some for our test dataset. We'll also combine a couple different sample sources to build a comprehensive set of background noises and silence:"
   ]
  },
  {
   "cell_type": "code",
   "execution_count": 5,
   "metadata": {
    "execution": {
     "iopub.execute_input": "2022-10-20T11:18:16.733150Z",
     "iopub.status.busy": "2022-10-20T11:18:16.732573Z",
     "iopub.status.idle": "2022-10-20T11:18:52.888709Z",
     "shell.execute_reply": "2022-10-20T11:18:52.888104Z"
    },
    "id": "qvJd9VfmHu29"
   },
   "outputs": [
    {
     "name": "stdout",
     "output_type": "stream",
     "text": [
      "Downloading data from http://download.tensorflow.org/data/speech_commands_v0.01.tar.gz\n"
     ]
    },
    {
     "name": "stdout",
     "output_type": "stream",
     "text": [
      "\r",
      "     16384/1489096277 [..............................] - ETA: 3s"
     ]
    },
    {
     "name": "stdout",
     "output_type": "stream",
     "text": [
      "\b\b\b\b\b\b\b\b\b\b\b\b\b\b\b\b\b\b\b\b\b\b\b\b\b\b\b\b\b\b\b\b\b\b\b\b\b\b\b\b\b\b\b\b\b\b\b\b\b\b\b\b\b\b\b\b\b\b\b\b\b\b\b\b\r",
      "   4202496/1489096277 [..............................] - ETA: 57s"
     ]
    },
    {
     "name": "stdout",
     "output_type": "stream",
     "text": [
      "\b\b\b\b\b\b\b\b\b\b\b\b\b\b\b\b\b\b\b\b\b\b\b\b\b\b\b\b\b\b\b\b\b\b\b\b\b\b\b\b\b\b\b\b\b\b\b\b\b\b\b\b\b\b\b\b\b\b\b\b\b\b\b\b\b\r",
      "   8396800/1489096277 [..............................] - ETA: 1:00"
     ]
    },
    {
     "name": "stdout",
     "output_type": "stream",
     "text": [
      "\b\b\b\b\b\b\b\b\b\b\b\b\b\b\b\b\b\b\b\b\b\b\b\b\b\b\b\b\b\b\b\b\b\b\b\b\b\b\b\b\b\b\b\b\b\b\b\b\b\b\b\b\b\b\b\b\b\b\b\b\b\b\b\b\b\b\r",
      "  28590080/1489096277 [..............................] - ETA: 20s "
     ]
    },
    {
     "name": "stdout",
     "output_type": "stream",
     "text": [
      "\b\b\b\b\b\b\b\b\b\b\b\b\b\b\b\b\b\b\b\b\b\b\b\b\b\b\b\b\b\b\b\b\b\b\b\b\b\b\b\b\b\b\b\b\b\b\b\b\b\b\b\b\b\b\b\b\b\b\b\b\b\b\b\b\b\r",
      "  33562624/1489096277 [..............................] - ETA: 19s"
     ]
    },
    {
     "name": "stdout",
     "output_type": "stream",
     "text": [
      "\b\b\b\b\b\b\b\b\b\b\b\b\b\b\b\b\b\b\b\b\b\b\b\b\b\b\b\b\b\b\b\b\b\b\b\b\b\b\b\b\b\b\b\b\b\b\b\b\b\b\b\b\b\b\b\b\b\b\b\b\b\b\b\b\b\r",
      "  41951232/1489096277 [..............................] - ETA: 17s"
     ]
    },
    {
     "name": "stdout",
     "output_type": "stream",
     "text": [
      "\b\b\b\b\b\b\b\b\b\b\b\b\b\b\b\b\b\b\b\b\b\b\b\b\b\b\b\b\b\b\b\b\b\b\b\b\b\b\b\b\b\b\b\b\b\b\b\b\b\b\b\b\b\b\b\b\b\b\b\b\b\b\b\b\b\r",
      "  58728448/1489096277 [>.............................] - ETA: 15s"
     ]
    },
    {
     "name": "stdout",
     "output_type": "stream",
     "text": [
      "\b\b\b\b\b\b\b\b\b\b\b\b\b\b\b\b\b\b\b\b\b\b\b\b\b\b\b\b\b\b\b\b\b\b\b\b\b\b\b\b\b\b\b\b\b\b\b\b\b\b\b\b\b\b\b\b\b\b\b\b\b\b\b\b\b\r",
      "  68435968/1489096277 [>.............................] - ETA: 14s"
     ]
    },
    {
     "name": "stdout",
     "output_type": "stream",
     "text": [
      "\b\b\b\b\b\b\b\b\b\b\b\b\b\b\b\b\b\b\b\b\b\b\b\b\b\b\b\b\b\b\b\b\b\b\b\b\b\b\b\b\b\b\b\b\b\b\b\b\b\b\b\b\b\b\b\b\b\b\b\b\b\b\b\b\b\r",
      "  83894272/1489096277 [>.............................] - ETA: 14s"
     ]
    },
    {
     "name": "stdout",
     "output_type": "stream",
     "text": [
      "\b\b\b\b\b\b\b\b\b\b\b\b\b\b\b\b\b\b\b\b\b\b\b\b\b\b\b\b\b\b\b\b\b\b\b\b\b\b\b\b\b\b\b\b\b\b\b\b\b\b\b\b\b\b\b\b\b\b\b\b\b\b\b\b\b\r",
      " 103038976/1489096277 [=>............................] - ETA: 12s"
     ]
    },
    {
     "name": "stdout",
     "output_type": "stream",
     "text": [
      "\b\b\b\b\b\b\b\b\b\b\b\b\b\b\b\b\b\b\b\b\b\b\b\b\b\b\b\b\b\b\b\b\b\b\b\b\b\b\b\b\b\b\b\b\b\b\b\b\b\b\b\b\b\b\b\b\b\b\b\b\b\b\b\b\b\r",
      " 117448704/1489096277 [=>............................] - ETA: 12s"
     ]
    },
    {
     "name": "stdout",
     "output_type": "stream",
     "text": [
      "\b\b\b\b\b\b\b\b\b\b\b\b\b\b\b\b\b\b\b\b\b\b\b\b\b\b\b\b\b\b\b\b\b\b\b\b\b\b\b\b\b\b\b\b\b\b\b\b\b\b\b\b\b\b\b\b\b\b\b\b\b\b\b\b\b\r",
      " 134225920/1489096277 [=>............................] - ETA: 12s"
     ]
    },
    {
     "name": "stdout",
     "output_type": "stream",
     "text": [
      "\b\b\b\b\b\b\b\b\b\b\b\b\b\b\b\b\b\b\b\b\b\b\b\b\b\b\b\b\b\b\b\b\b\b\b\b\b\b\b\b\b\b\b\b\b\b\b\b\b\b\b\b\b\b\b\b\b\b\b\b\b\b\b\b\b\r",
      " 153329664/1489096277 [==>...........................] - ETA: 11s"
     ]
    },
    {
     "name": "stdout",
     "output_type": "stream",
     "text": [
      "\b\b\b\b\b\b\b\b\b\b\b\b\b\b\b\b\b\b\b\b\b\b\b\b\b\b\b\b\b\b\b\b\b\b\b\b\b\b\b\b\b\b\b\b\b\b\b\b\b\b\b\b\b\b\b\b\b\b\b\b\b\b\b\b\b\r",
      " 167780352/1489096277 [==>...........................] - ETA: 11s"
     ]
    },
    {
     "name": "stdout",
     "output_type": "stream",
     "text": [
      "\b\b\b\b\b\b\b\b\b\b\b\b\b\b\b\b\b\b\b\b\b\b\b\b\b\b\b\b\b\b\b\b\b\b\b\b\b\b\b\b\b\b\b\b\b\b\b\b\b\b\b\b\b\b\b\b\b\b\b\b\b\b\b\b\b\r",
      " 176168960/1489096277 [==>...........................] - ETA: 11s"
     ]
    },
    {
     "name": "stdout",
     "output_type": "stream",
     "text": [
      "\b\b\b\b\b\b\b\b\b\b\b\b\b\b\b\b\b\b\b\b\b\b\b\b\b\b\b\b\b\b\b\b\b\b\b\b\b\b\b\b\b\b\b\b\b\b\b\b\b\b\b\b\b\b\b\b\b\b\b\b\b\b\b\b\b\r",
      " 184557568/1489096277 [==>...........................] - ETA: 11s"
     ]
    },
    {
     "name": "stdout",
     "output_type": "stream",
     "text": [
      "\b\b\b\b\b\b\b\b\b\b\b\b\b\b\b\b\b\b\b\b\b\b\b\b\b\b\b\b\b\b\b\b\b\b\b\b\b\b\b\b\b\b\b\b\b\b\b\b\b\b\b\b\b\b\b\b\b\b\b\b\b\b\b\b\b\r",
      " 201334784/1489096277 [===>..........................] - ETA: 10s"
     ]
    },
    {
     "name": "stdout",
     "output_type": "stream",
     "text": [
      "\b\b\b\b\b\b\b\b\b\b\b\b\b\b\b\b\b\b\b\b\b\b\b\b\b\b\b\b\b\b\b\b\b\b\b\b\b\b\b\b\b\b\b\b\b\b\b\b\b\b\b\b\b\b\b\b\b\b\b\b\b\b\b\b\b\r",
      " 218112000/1489096277 [===>..........................] - ETA: 10s"
     ]
    },
    {
     "name": "stdout",
     "output_type": "stream",
     "text": [
      "\b\b\b\b\b\b\b\b\b\b\b\b\b\b\b\b\b\b\b\b\b\b\b\b\b\b\b\b\b\b\b\b\b\b\b\b\b\b\b\b\b\b\b\b\b\b\b\b\b\b\b\b\b\b\b\b\b\b\b\b\b\b\b\b\b\r",
      " 228532224/1489096277 [===>..........................] - ETA: 10s"
     ]
    },
    {
     "name": "stdout",
     "output_type": "stream",
     "text": [
      "\b\b\b\b\b\b\b\b\b\b\b\b\b\b\b\b\b\b\b\b\b\b\b\b\b\b\b\b\b\b\b\b\b\b\b\b\b\b\b\b\b\b\b\b\b\b\b\b\b\b\b\b\b\b\b\b\b\b\b\b\b\b\b\b\b\r",
      " 250183680/1489096277 [====>.........................] - ETA: 9s "
     ]
    },
    {
     "name": "stdout",
     "output_type": "stream",
     "text": [
      "\b\b\b\b\b\b\b\b\b\b\b\b\b\b\b\b\b\b\b\b\b\b\b\b\b\b\b\b\b\b\b\b\b\b\b\b\b\b\b\b\b\b\b\b\b\b\b\b\b\b\b\b\b\b\b\b\b\b\b\b\b\b\b\b\r",
      " 258768896/1489096277 [====>.........................] - ETA: 9s"
     ]
    },
    {
     "name": "stdout",
     "output_type": "stream",
     "text": [
      "\b\b\b\b\b\b\b\b\b\b\b\b\b\b\b\b\b\b\b\b\b\b\b\b\b\b\b\b\b\b\b\b\b\b\b\b\b\b\b\b\b\b\b\b\b\b\b\b\b\b\b\b\b\b\b\b\b\b\b\b\b\b\b\b\r",
      " 268443648/1489096277 [====>.........................] - ETA: 9s"
     ]
    },
    {
     "name": "stdout",
     "output_type": "stream",
     "text": [
      "\b\b\b\b\b\b\b\b\b\b\b\b\b\b\b\b\b\b\b\b\b\b\b\b\b\b\b\b\b\b\b\b\b\b\b\b\b\b\b\b\b\b\b\b\b\b\b\b\b\b\b\b\b\b\b\b\b\b\b\b\b\b\b\b\r",
      " 285220864/1489096277 [====>.........................] - ETA: 9s"
     ]
    },
    {
     "name": "stdout",
     "output_type": "stream",
     "text": [
      "\b\b\b\b\b\b\b\b\b\b\b\b\b\b\b\b\b\b\b\b\b\b\b\b\b\b\b\b\b\b\b\b\b\b\b\b\b\b\b\b\b\b\b\b\b\b\b\b\b\b\b\b\b\b\b\b\b\b\b\b\b\b\b\b\r",
      " 308625408/1489096277 [=====>........................] - ETA: 9s"
     ]
    },
    {
     "name": "stdout",
     "output_type": "stream",
     "text": [
      "\b\b\b\b\b\b\b\b\b\b\b\b\b\b\b\b\b\b\b\b\b\b\b\b\b\b\b\b\b\b\b\b\b\b\b\b\b\b\b\b\b\b\b\b\b\b\b\b\b\b\b\b\b\b\b\b\b\b\b\b\b\b\b\b\r",
      " 318775296/1489096277 [=====>........................] - ETA: 9s"
     ]
    },
    {
     "name": "stdout",
     "output_type": "stream",
     "text": [
      "\b\b\b\b\b\b\b\b\b\b\b\b\b\b\b\b\b\b\b\b\b\b\b\b\b\b\b\b\b\b\b\b\b\b\b\b\b\b\b\b\b\b\b\b\b\b\b\b\b\b\b\b\b\b\b\b\b\b\b\b\b\b\b\b\r",
      " 335552512/1489096277 [=====>........................] - ETA: 9s"
     ]
    },
    {
     "name": "stdout",
     "output_type": "stream",
     "text": [
      "\b\b\b\b\b\b\b\b\b\b\b\b\b\b\b\b\b\b\b\b\b\b\b\b\b\b\b\b\b\b\b\b\b\b\b\b\b\b\b\b\b\b\b\b\b\b\b\b\b\b\b\b\b\b\b\b\b\b\b\b\b\b\b\b\r",
      " 355278848/1489096277 [======>.......................] - ETA: 8s"
     ]
    },
    {
     "name": "stdout",
     "output_type": "stream",
     "text": [
      "\b\b\b\b\b\b\b\b\b\b\b\b\b\b\b\b\b\b\b\b\b\b\b\b\b\b\b\b\b\b\b\b\b\b\b\b\b\b\b\b\b\b\b\b\b\b\b\b\b\b\b\b\b\b\b\b\b\b\b\b\b\b\b\b\r",
      " 369106944/1489096277 [======>.......................] - ETA: 8s"
     ]
    },
    {
     "name": "stdout",
     "output_type": "stream",
     "text": [
      "\b\b\b\b\b\b\b\b\b\b\b\b\b\b\b\b\b\b\b\b\b\b\b\b\b\b\b\b\b\b\b\b\b\b\b\b\b\b\b\b\b\b\b\b\b\b\b\b\b\b\b\b\b\b\b\b\b\b\b\b\b\b\b\b\r",
      " 377495552/1489096277 [======>.......................] - ETA: 8s"
     ]
    },
    {
     "name": "stdout",
     "output_type": "stream",
     "text": [
      "\b\b\b\b\b\b\b\b\b\b\b\b\b\b\b\b\b\b\b\b\b\b\b\b\b\b\b\b\b\b\b\b\b\b\b\b\b\b\b\b\b\b\b\b\b\b\b\b\b\b\b\b\b\b\b\b\b\b\b\b\b\b\b\b\r",
      " 401088512/1489096277 [=======>......................] - ETA: 7s"
     ]
    },
    {
     "name": "stdout",
     "output_type": "stream",
     "text": [
      "\b\b\b\b\b\b\b\b\b\b\b\b\b\b\b\b\b\b\b\b\b\b\b\b\b\b\b\b\b\b\b\b\b\b\b\b\b\b\b\b\b\b\b\b\b\b\b\b\b\b\b\b\b\b\b\b\b\b\b\b\b\b\b\b\r",
      " 411049984/1489096277 [=======>......................] - ETA: 7s"
     ]
    },
    {
     "name": "stdout",
     "output_type": "stream",
     "text": [
      "\b\b\b\b\b\b\b\b\b\b\b\b\b\b\b\b\b\b\b\b\b\b\b\b\b\b\b\b\b\b\b\b\b\b\b\b\b\b\b\b\b\b\b\b\b\b\b\b\b\b\b\b\b\b\b\b\b\b\b\b\b\b\b\b\r",
      " 419438592/1489096277 [=======>......................] - ETA: 7s"
     ]
    },
    {
     "name": "stdout",
     "output_type": "stream",
     "text": [
      "\b\b\b\b\b\b\b\b\b\b\b\b\b\b\b\b\b\b\b\b\b\b\b\b\b\b\b\b\b\b\b\b\b\b\b\b\b\b\b\b\b\b\b\b\b\b\b\b\b\b\b\b\b\b\b\b\b\b\b\b\b\b\b\b\r",
      " 441311232/1489096277 [=======>......................] - ETA: 7s"
     ]
    },
    {
     "name": "stdout",
     "output_type": "stream",
     "text": [
      "\b\b\b\b\b\b\b\b\b\b\b\b\b\b\b\b\b\b\b\b\b\b\b\b\b\b\b\b\b\b\b\b\b\b\b\b\b\b\b\b\b\b\b\b\b\b\b\b\b\b\b\b\b\b\b\b\b\b\b\b\b\b\b\b\r",
      " 444604416/1489096277 [=======>......................] - ETA: 7s"
     ]
    },
    {
     "name": "stdout",
     "output_type": "stream",
     "text": [
      "\b\b\b\b\b\b\b\b\b\b\b\b\b\b\b\b\b\b\b\b\b\b\b\b\b\b\b\b\b\b\b\b\b\b\b\b\b\b\b\b\b\b\b\b\b\b\b\b\b\b\b\b\b\b\b\b\b\b\b\b\b\b\b\b\r",
      " 462422016/1489096277 [========>.....................] - ETA: 7s"
     ]
    },
    {
     "name": "stdout",
     "output_type": "stream",
     "text": [
      "\b\b\b\b\b\b\b\b\b\b\b\b\b\b\b\b\b\b\b\b\b\b\b\b\b\b\b\b\b\b\b\b\b\b\b\b\b\b\b\b\b\b\b\b\b\b\b\b\b\b\b\b\b\b\b\b\b\b\b\b\b\b\b\b\r",
      " 478158848/1489096277 [========>.....................] - ETA: 7s"
     ]
    },
    {
     "name": "stdout",
     "output_type": "stream",
     "text": [
      "\b\b\b\b\b\b\b\b\b\b\b\b\b\b\b\b\b\b\b\b\b\b\b\b\b\b\b\b\b\b\b\b\b\b\b\b\b\b\b\b\b\b\b\b\b\b\b\b\b\b\b\b\b\b\b\b\b\b\b\b\b\b\b\b\r",
      " 498753536/1489096277 [=========>....................] - ETA: 7s"
     ]
    },
    {
     "name": "stdout",
     "output_type": "stream",
     "text": [
      "\b\b\b\b\b\b\b\b\b\b\b\b\b\b\b\b\b\b\b\b\b\b\b\b\b\b\b\b\b\b\b\b\b\b\b\b\b\b\b\b\b\b\b\b\b\b\b\b\b\b\b\b\b\b\b\b\b\b\b\b\b\b\b\b\r",
      " 511713280/1489096277 [=========>....................] - ETA: 7s"
     ]
    },
    {
     "name": "stdout",
     "output_type": "stream",
     "text": [
      "\b\b\b\b\b\b\b\b\b\b\b\b\b\b\b\b\b\b\b\b\b\b\b\b\b\b\b\b\b\b\b\b\b\b\b\b\b\b\b\b\b\b\b\b\b\b\b\b\b\b\b\b\b\b\b\b\b\b\b\b\b\b\b\b\r",
      " 520101888/1489096277 [=========>....................] - ETA: 7s"
     ]
    },
    {
     "name": "stdout",
     "output_type": "stream",
     "text": [
      "\b\b\b\b\b\b\b\b\b\b\b\b\b\b\b\b\b\b\b\b\b\b\b\b\b\b\b\b\b\b\b\b\b\b\b\b\b\b\b\b\b\b\b\b\b\b\b\b\b\b\b\b\b\b\b\b\b\b\b\b\b\b\b\b\r",
      " 540368896/1489096277 [=========>....................] - ETA: 6s"
     ]
    },
    {
     "name": "stdout",
     "output_type": "stream",
     "text": [
      "\b\b\b\b\b\b\b\b\b\b\b\b\b\b\b\b\b\b\b\b\b\b\b\b\b\b\b\b\b\b\b\b\b\b\b\b\b\b\b\b\b\b\b\b\b\b\b\b\b\b\b\b\b\b\b\b\b\b\b\b\b\b\b\b\r",
      " 553656320/1489096277 [==========>...................] - ETA: 6s"
     ]
    },
    {
     "name": "stdout",
     "output_type": "stream",
     "text": [
      "\b\b\b\b\b\b\b\b\b\b\b\b\b\b\b\b\b\b\b\b\b\b\b\b\b\b\b\b\b\b\b\b\b\b\b\b\b\b\b\b\b\b\b\b\b\b\b\b\b\b\b\b\b\b\b\b\b\b\b\b\b\b\b\b\r",
      " 566329344/1489096277 [==========>...................] - ETA: 6s"
     ]
    },
    {
     "name": "stdout",
     "output_type": "stream",
     "text": [
      "\b\b\b\b\b\b\b\b\b\b\b\b\b\b\b\b\b\b\b\b\b\b\b\b\b\b\b\b\b\b\b\b\b\b\b\b\b\b\b\b\b\b\b\b\b\b\b\b\b\b\b\b\b\b\b\b\b\b\b\b\b\b\b\b\r",
      " 587210752/1489096277 [==========>...................] - ETA: 6s"
     ]
    },
    {
     "name": "stdout",
     "output_type": "stream",
     "text": [
      "\b\b\b\b\b\b\b\b\b\b\b\b\b\b\b\b\b\b\b\b\b\b\b\b\b\b\b\b\b\b\b\b\b\b\b\b\b\b\b\b\b\b\b\b\b\b\b\b\b\b\b\b\b\b\b\b\b\b\b\b\b\b\b\b\r",
      " 595599360/1489096277 [==========>...................] - ETA: 6s"
     ]
    },
    {
     "name": "stdout",
     "output_type": "stream",
     "text": [
      "\b\b\b\b\b\b\b\b\b\b\b\b\b\b\b\b\b\b\b\b\b\b\b\b\b\b\b\b\b\b\b\b\b\b\b\b\b\b\b\b\b\b\b\b\b\b\b\b\b\b\b\b\b\b\b\b\b\b\b\b\b\b\b\b\r",
      " 603987968/1489096277 [===========>..................] - ETA: 6s"
     ]
    },
    {
     "name": "stdout",
     "output_type": "stream",
     "text": [
      "\b\b\b\b\b\b\b\b\b\b\b\b\b\b\b\b\b\b\b\b\b\b\b\b\b\b\b\b\b\b\b\b\b\b\b\b\b\b\b\b\b\b\b\b\b\b\b\b\b\b\b\b\b\b\b\b\b\b\b\b\b\b\b\b\r",
      " 618799104/1489096277 [===========>..................] - ETA: 6s"
     ]
    },
    {
     "name": "stdout",
     "output_type": "stream",
     "text": [
      "\b\b\b\b\b\b\b\b\b\b\b\b\b\b\b\b\b\b\b\b\b\b\b\b\b\b\b\b\b\b\b\b\b\b\b\b\b\b\b\b\b\b\b\b\b\b\b\b\b\b\b\b\b\b\b\b\b\b\b\b\b\b\b\b\r",
      " 637542400/1489096277 [===========>..................] - ETA: 6s"
     ]
    },
    {
     "name": "stdout",
     "output_type": "stream",
     "text": [
      "\b\b\b\b\b\b\b\b\b\b\b\b\b\b\b\b\b\b\b\b\b\b\b\b\b\b\b\b\b\b\b\b\b\b\b\b\b\b\b\b\b\b\b\b\b\b\b\b\b\b\b\b\b\b\b\b\b\b\b\b\b\b\b\b\r",
      " 645931008/1489096277 [============>.................] - ETA: 6s"
     ]
    },
    {
     "name": "stdout",
     "output_type": "stream",
     "text": [
      "\b\b\b\b\b\b\b\b\b\b\b\b\b\b\b\b\b\b\b\b\b\b\b\b\b\b\b\b\b\b\b\b\b\b\b\b\b\b\b\b\b\b\b\b\b\b\b\b\b\b\b\b\b\b\b\b\b\b\b\b\b\b\b\b\r",
      " 654319616/1489096277 [============>.................] - ETA: 6s"
     ]
    },
    {
     "name": "stdout",
     "output_type": "stream",
     "text": [
      "\b\b\b\b\b\b\b\b\b\b\b\b\b\b\b\b\b\b\b\b\b\b\b\b\b\b\b\b\b\b\b\b\b\b\b\b\b\b\b\b\b\b\b\b\b\b\b\b\b\b\b\b\b\b\b\b\b\b\b\b\b\b\b\b\r",
      " 669122560/1489096277 [============>.................] - ETA: 5s"
     ]
    },
    {
     "name": "stdout",
     "output_type": "stream",
     "text": [
      "\b\b\b\b\b\b\b\b\b\b\b\b\b\b\b\b\b\b\b\b\b\b\b\b\b\b\b\b\b\b\b\b\b\b\b\b\b\b\b\b\b\b\b\b\b\b\b\b\b\b\b\b\b\b\b\b\b\b\b\b\b\b\b\b\r",
      " 687874048/1489096277 [============>.................] - ETA: 5s"
     ]
    },
    {
     "name": "stdout",
     "output_type": "stream",
     "text": [
      "\b\b\b\b\b\b\b\b\b\b\b\b\b\b\b\b\b\b\b\b\b\b\b\b\b\b\b\b\b\b\b\b\b\b\b\b\b\b\b\b\b\b\b\b\b\b\b\b\b\b\b\b\b\b\b\b\b\b\b\b\b\b\b\b\r",
      " 701063168/1489096277 [=============>................] - ETA: 5s"
     ]
    },
    {
     "name": "stdout",
     "output_type": "stream",
     "text": [
      "\b\b\b\b\b\b\b\b\b\b\b\b\b\b\b\b\b\b\b\b\b\b\b\b\b\b\b\b\b\b\b\b\b\b\b\b\b\b\b\b\b\b\b\b\b\b\b\b\b\b\b\b\b\b\b\b\b\b\b\b\b\b\b\b\r",
      " 721428480/1489096277 [=============>................] - ETA: 5s"
     ]
    },
    {
     "name": "stdout",
     "output_type": "stream",
     "text": [
      "\b\b\b\b\b\b\b\b\b\b\b\b\b\b\b\b\b\b\b\b\b\b\b\b\b\b\b\b\b\b\b\b\b\b\b\b\b\b\b\b\b\b\b\b\b\b\b\b\b\b\b\b\b\b\b\b\b\b\b\b\b\b\b\b\r",
      " 729817088/1489096277 [=============>................] - ETA: 5s"
     ]
    },
    {
     "name": "stdout",
     "output_type": "stream",
     "text": [
      "\b\b\b\b\b\b\b\b\b\b\b\b\b\b\b\b\b\b\b\b\b\b\b\b\b\b\b\b\b\b\b\b\b\b\b\b\b\b\b\b\b\b\b\b\b\b\b\b\b\b\b\b\b\b\b\b\b\b\b\b\b\b\b\b\r",
      " 738205696/1489096277 [=============>................] - ETA: 5s"
     ]
    },
    {
     "name": "stdout",
     "output_type": "stream",
     "text": [
      "\b\b\b\b\b\b\b\b\b\b\b\b\b\b\b\b\b\b\b\b\b\b\b\b\b\b\b\b\b\b\b\b\b\b\b\b\b\b\b\b\b\b\b\b\b\b\b\b\b\b\b\b\b\b\b\b\b\b\b\b\b\b\b\b\r",
      " 757653504/1489096277 [==============>...............] - ETA: 5s"
     ]
    },
    {
     "name": "stdout",
     "output_type": "stream",
     "text": [
      "\b\b\b\b\b\b\b\b\b\b\b\b\b\b\b\b\b\b\b\b\b\b\b\b\b\b\b\b\b\b\b\b\b\b\b\b\b\b\b\b\b\b\b\b\b\b\b\b\b\b\b\b\b\b\b\b\b\b\b\b\b\b\b\b\r",
      " 771760128/1489096277 [==============>...............] - ETA: 5s"
     ]
    },
    {
     "name": "stdout",
     "output_type": "stream",
     "text": [
      "\b\b\b\b\b\b\b\b\b\b\b\b\b\b\b\b\b\b\b\b\b\b\b\b\b\b\b\b\b\b\b\b\b\b\b\b\b\b\b\b\b\b\b\b\b\b\b\b\b\b\b\b\b\b\b\b\b\b\b\b\b\b\b\b\r",
      " 794525696/1489096277 [===============>..............] - ETA: 5s"
     ]
    },
    {
     "name": "stdout",
     "output_type": "stream",
     "text": [
      "\b\b\b\b\b\b\b\b\b\b\b\b\b\b\b\b\b\b\b\b\b\b\b\b\b\b\b\b\b\b\b\b\b\b\b\b\b\b\b\b\b\b\b\b\b\b\b\b\b\b\b\b\b\b\b\b\b\b\b\b\b\b\b\b\r",
      " 805314560/1489096277 [===============>..............] - ETA: 5s"
     ]
    },
    {
     "name": "stdout",
     "output_type": "stream",
     "text": [
      "\b\b\b\b\b\b\b\b\b\b\b\b\b\b\b\b\b\b\b\b\b\b\b\b\b\b\b\b\b\b\b\b\b\b\b\b\b\b\b\b\b\b\b\b\b\b\b\b\b\b\b\b\b\b\b\b\b\b\b\b\b\b\b\b\r",
      " 822091776/1489096277 [===============>..............] - ETA: 5s"
     ]
    },
    {
     "name": "stdout",
     "output_type": "stream",
     "text": [
      "\b\b\b\b\b\b\b\b\b\b\b\b\b\b\b\b\b\b\b\b\b\b\b\b\b\b\b\b\b\b\b\b\b\b\b\b\b\b\b\b\b\b\b\b\b\b\b\b\b\b\b\b\b\b\b\b\b\b\b\b\b\b\b\b\r",
      " 837222400/1489096277 [===============>..............] - ETA: 5s"
     ]
    },
    {
     "name": "stdout",
     "output_type": "stream",
     "text": [
      "\b\b\b\b\b\b\b\b\b\b\b\b\b\b\b\b\b\b\b\b\b\b\b\b\b\b\b\b\b\b\b\b\b\b\b\b\b\b\b\b\b\b\b\b\b\b\b\b\b\b\b\b\b\b\b\b\b\b\b\b\b\b\b\b\r",
      " 845086720/1489096277 [================>.............] - ETA: 5s"
     ]
    },
    {
     "name": "stdout",
     "output_type": "stream",
     "text": [
      "\b\b\b\b\b\b\b\b\b\b\b\b\b\b\b\b\b\b\b\b\b\b\b\b\b\b\b\b\b\b\b\b\b\b\b\b\b\b\b\b\b\b\b\b\b\b\b\b\b\b\b\b\b\b\b\b\b\b\b\b\b\b\b\b\r",
      " 855646208/1489096277 [================>.............] - ETA: 5s"
     ]
    },
    {
     "name": "stdout",
     "output_type": "stream",
     "text": [
      "\b\b\b\b\b\b\b\b\b\b\b\b\b\b\b\b\b\b\b\b\b\b\b\b\b\b\b\b\b\b\b\b\b\b\b\b\b\b\b\b\b\b\b\b\b\b\b\b\b\b\b\b\b\b\b\b\b\b\b\b\b\b\b\b\r",
      " 861806592/1489096277 [================>.............] - ETA: 5s"
     ]
    },
    {
     "name": "stdout",
     "output_type": "stream",
     "text": [
      "\b\b\b\b\b\b\b\b\b\b\b\b\b\b\b\b\b\b\b\b\b\b\b\b\b\b\b\b\b\b\b\b\b\b\b\b\b\b\b\b\b\b\b\b\b\b\b\b\b\b\b\b\b\b\b\b\b\b\b\b\b\b\b\b\r",
      " 868999168/1489096277 [================>.............] - ETA: 5s"
     ]
    },
    {
     "name": "stdout",
     "output_type": "stream",
     "text": [
      "\b\b\b\b\b\b\b\b\b\b\b\b\b\b\b\b\b\b\b\b\b\b\b\b\b\b\b\b\b\b\b\b\b\b\b\b\b\b\b\b\b\b\b\b\b\b\b\b\b\b\b\b\b\b\b\b\b\b\b\b\b\b\b\b\r",
      " 889200640/1489096277 [================>.............] - ETA: 4s"
     ]
    },
    {
     "name": "stdout",
     "output_type": "stream",
     "text": [
      "\b\b\b\b\b\b\b\b\b\b\b\b\b\b\b\b\b\b\b\b\b\b\b\b\b\b\b\b\b\b\b\b\b\b\b\b\b\b\b\b\b\b\b\b\b\b\b\b\b\b\b\b\b\b\b\b\b\b\b\b\b\b\b\b\r",
      " 910688256/1489096277 [=================>............] - ETA: 4s"
     ]
    },
    {
     "name": "stdout",
     "output_type": "stream",
     "text": [
      "\b\b\b\b\b\b\b\b\b\b\b\b\b\b\b\b\b\b\b\b\b\b\b\b\b\b\b\b\b\b\b\b\b\b\b\b\b\b\b\b\b\b\b\b\b\b\b\b\b\b\b\b\b\b\b\b\b\b\b\b\b\b\b\b\r",
      " 914366464/1489096277 [=================>............] - ETA: 4s"
     ]
    },
    {
     "name": "stdout",
     "output_type": "stream",
     "text": [
      "\b\b\b\b\b\b\b\b\b\b\b\b\b\b\b\b\b\b\b\b\b\b\b\b\b\b\b\b\b\b\b\b\b\b\b\b\b\b\b\b\b\b\b\b\b\b\b\b\b\b\b\b\b\b\b\b\b\b\b\b\b\b\b\b\r",
      " 922755072/1489096277 [=================>............] - ETA: 4s"
     ]
    },
    {
     "name": "stdout",
     "output_type": "stream",
     "text": [
      "\b\b\b\b\b\b\b\b\b\b\b\b\b\b\b\b\b\b\b\b\b\b\b\b\b\b\b\b\b\b\b\b\b\b\b\b\b\b\b\b\b\b\b\b\b\b\b\b\b\b\b\b\b\b\b\b\b\b\b\b\b\b\b\b\r",
      " 939352064/1489096277 [=================>............] - ETA: 4s"
     ]
    },
    {
     "name": "stdout",
     "output_type": "stream",
     "text": [
      "\b\b\b\b\b\b\b\b\b\b\b\b\b\b\b\b\b\b\b\b\b\b\b\b\b\b\b\b\b\b\b\b\b\b\b\b\b\b\b\b\b\b\b\b\b\b\b\b\b\b\b\b\b\b\b\b\b\b\b\b\b\b\b\b\r",
      " 954269696/1489096277 [==================>...........] - ETA: 4s"
     ]
    },
    {
     "name": "stdout",
     "output_type": "stream",
     "text": [
      "\b\b\b\b\b\b\b\b\b\b\b\b\b\b\b\b\b\b\b\b\b\b\b\b\b\b\b\b\b\b\b\b\b\b\b\b\b\b\b\b\b\b\b\b\b\b\b\b\b\b\b\b\b\b\b\b\b\b\b\b\b\b\b\b\r",
      " 957415424/1489096277 [==================>...........] - ETA: 4s"
     ]
    },
    {
     "name": "stdout",
     "output_type": "stream",
     "text": [
      "\b\b\b\b\b\b\b\b\b\b\b\b\b\b\b\b\b\b\b\b\b\b\b\b\b\b\b\b\b\b\b\b\b\b\b\b\b\b\b\b\b\b\b\b\b\b\b\b\b\b\b\b\b\b\b\b\b\b\b\b\b\b\b\b\r",
      " 964542464/1489096277 [==================>...........] - ETA: 4s"
     ]
    },
    {
     "name": "stdout",
     "output_type": "stream",
     "text": [
      "\b\b\b\b\b\b\b\b\b\b\b\b\b\b\b\b\b\b\b\b\b\b\b\b\b\b\b\b\b\b\b\b\b\b\b\b\b\b\b\b\b\b\b\b\b\b\b\b\b\b\b\b\b\b\b\b\b\b\b\b\b\b\b\b\r",
      " 977887232/1489096277 [==================>...........] - ETA: 4s"
     ]
    },
    {
     "name": "stdout",
     "output_type": "stream",
     "text": [
      "\b\b\b\b\b\b\b\b\b\b\b\b\b\b\b\b\b\b\b\b\b\b\b\b\b\b\b\b\b\b\b\b\b\b\b\b\b\b\b\b\b\b\b\b\b\b\b\b\b\b\b\b\b\b\b\b\b\b\b\b\b\b\b\b\r",
      " 989863936/1489096277 [==================>...........] - ETA: 3s"
     ]
    },
    {
     "name": "stdout",
     "output_type": "stream",
     "text": [
      "\b\b\b\b\b\b\b\b\b\b\b\b\b\b\b\b\b\b\b\b\b\b\b\b\b\b\b\b\b\b\b\b\b\b\b\b\b\b\b\b\b\b\b\b\b\b\b\b\b\b\b\b\b\b\b\b\b\b\b\b\b\b\b\b\r",
      "1000226816/1489096277 [===================>..........] - ETA: 3s"
     ]
    },
    {
     "name": "stdout",
     "output_type": "stream",
     "text": [
      "\b\b\b\b\b\b\b\b\b\b\b\b\b\b\b\b\b\b\b\b\b\b\b\b\b\b\b\b\b\b\b\b\b\b\b\b\b\b\b\b\b\b\b\b\b\b\b\b\b\b\b\b\b\b\b\b\b\b\b\b\b\b\b\b\r",
      "1015078912/1489096277 [===================>..........] - ETA: 3s"
     ]
    },
    {
     "name": "stdout",
     "output_type": "stream",
     "text": [
      "\b\b\b\b\b\b\b\b\b\b\b\b\b\b\b\b\b\b\b\b\b\b\b\b\b\b\b\b\b\b\b\b\b\b\b\b\b\b\b\b\b\b\b\b\b\b\b\b\b\b\b\b\b\b\b\b\b\b\b\b\b\b\b\b\r",
      "1024729088/1489096277 [===================>..........] - ETA: 3s"
     ]
    },
    {
     "name": "stdout",
     "output_type": "stream",
     "text": [
      "\b\b\b\b\b\b\b\b\b\b\b\b\b\b\b\b\b\b\b\b\b\b\b\b\b\b\b\b\b\b\b\b\b\b\b\b\b\b\b\b\b\b\b\b\b\b\b\b\b\b\b\b\b\b\b\b\b\b\b\b\b\b\b\b\r",
      "1031806976/1489096277 [===================>..........] - ETA: 3s"
     ]
    },
    {
     "name": "stdout",
     "output_type": "stream",
     "text": [
      "\b\b\b\b\b\b\b\b\b\b\b\b\b\b\b\b\b\b\b\b\b\b\b\b\b\b\b\b\b\b\b\b\b\b\b\b\b\b\b\b\b\b\b\b\b\b\b\b\b\b\b\b\b\b\b\b\b\b\b\b\b\b\b\b\r",
      "1055522816/1489096277 [====================>.........] - ETA: 3s"
     ]
    },
    {
     "name": "stdout",
     "output_type": "stream",
     "text": [
      "\b\b\b\b\b\b\b\b\b\b\b\b\b\b\b\b\b\b\b\b\b\b\b\b\b\b\b\b\b\b\b\b\b\b\b\b\b\b\b\b\b\b\b\b\b\b\b\b\b\b\b\b\b\b\b\b\b\b\b\b\b\b\b\b\r",
      "1065361408/1489096277 [====================>.........] - ETA: 3s"
     ]
    },
    {
     "name": "stdout",
     "output_type": "stream",
     "text": [
      "\b\b\b\b\b\b\b\b\b\b\b\b\b\b\b\b\b\b\b\b\b\b\b\b\b\b\b\b\b\b\b\b\b\b\b\b\b\b\b\b\b\b\b\b\b\b\b\b\b\b\b\b\b\b\b\b\b\b\b\b\b\b\b\b\r",
      "1077149696/1489096277 [====================>.........] - ETA: 3s"
     ]
    },
    {
     "name": "stdout",
     "output_type": "stream",
     "text": [
      "\b\b\b\b\b\b\b\b\b\b\b\b\b\b\b\b\b\b\b\b\b\b\b\b\b\b\b\b\b\b\b\b\b\b\b\b\b\b\b\b\b\b\b\b\b\b\b\b\b\b\b\b\b\b\b\b\b\b\b\b\b\b\b\b\r",
      "1082138624/1489096277 [====================>.........] - ETA: 3s"
     ]
    },
    {
     "name": "stdout",
     "output_type": "stream",
     "text": [
      "\b\b\b\b\b\b\b\b\b\b\b\b\b\b\b\b\b\b\b\b\b\b\b\b\b\b\b\b\b\b\b\b\b\b\b\b\b\b\b\b\b\b\b\b\b\b\b\b\b\b\b\b\b\b\b\b\b\b\b\b\b\b\b\b\r",
      "1098915840/1489096277 [=====================>........] - ETA: 2s"
     ]
    },
    {
     "name": "stdout",
     "output_type": "stream",
     "text": [
      "\b\b\b\b\b\b\b\b\b\b\b\b\b\b\b\b\b\b\b\b\b\b\b\b\b\b\b\b\b\b\b\b\b\b\b\b\b\b\b\b\b\b\b\b\b\b\b\b\b\b\b\b\b\b\b\b\b\b\b\b\b\b\b\b\r",
      "1107304448/1489096277 [=====================>........] - ETA: 2s"
     ]
    },
    {
     "name": "stdout",
     "output_type": "stream",
     "text": [
      "\b\b\b\b\b\b\b\b\b\b\b\b\b\b\b\b\b\b\b\b\b\b\b\b\b\b\b\b\b\b\b\b\b\b\b\b\b\b\b\b\b\b\b\b\b\b\b\b\b\b\b\b\b\b\b\b\b\b\b\b\b\b\b\b\r",
      "1120092160/1489096277 [=====================>........] - ETA: 2s"
     ]
    },
    {
     "name": "stdout",
     "output_type": "stream",
     "text": [
      "\b\b\b\b\b\b\b\b\b\b\b\b\b\b\b\b\b\b\b\b\b\b\b\b\b\b\b\b\b\b\b\b\b\b\b\b\b\b\b\b\b\b\b\b\b\b\b\b\b\b\b\b\b\b\b\b\b\b\b\b\b\b\b\b\r",
      "1127104512/1489096277 [=====================>........] - ETA: 2s"
     ]
    },
    {
     "name": "stdout",
     "output_type": "stream",
     "text": [
      "\b\b\b\b\b\b\b\b\b\b\b\b\b\b\b\b\b\b\b\b\b\b\b\b\b\b\b\b\b\b\b\b\b\b\b\b\b\b\b\b\b\b\b\b\b\b\b\b\b\b\b\b\b\b\b\b\b\b\b\b\b\b\b\b\r",
      "1140858880/1489096277 [=====================>........] - ETA: 2s"
     ]
    },
    {
     "name": "stdout",
     "output_type": "stream",
     "text": [
      "\b\b\b\b\b\b\b\b\b\b\b\b\b\b\b\b\b\b\b\b\b\b\b\b\b\b\b\b\b\b\b\b\b\b\b\b\b\b\b\b\b\b\b\b\b\b\b\b\b\b\b\b\b\b\b\b\b\b\b\b\b\b\b\b\r",
      "1158438912/1489096277 [======================>.......] - ETA: 2s"
     ]
    },
    {
     "name": "stdout",
     "output_type": "stream",
     "text": [
      "\b\b\b\b\b\b\b\b\b\b\b\b\b\b\b\b\b\b\b\b\b\b\b\b\b\b\b\b\b\b\b\b\b\b\b\b\b\b\b\b\b\b\b\b\b\b\b\b\b\b\b\b\b\b\b\b\b\b\b\b\b\b\b\b\r",
      "1174413312/1489096277 [======================>.......] - ETA: 2s"
     ]
    },
    {
     "name": "stdout",
     "output_type": "stream",
     "text": [
      "\b\b\b\b\b\b\b\b\b\b\b\b\b\b\b\b\b\b\b\b\b\b\b\b\b\b\b\b\b\b\b\b\b\b\b\b\b\b\b\b\b\b\b\b\b\b\b\b\b\b\b\b\b\b\b\b\b\b\b\b\b\b\b\b\r",
      "1192026112/1489096277 [=======================>......] - ETA: 2s"
     ]
    },
    {
     "name": "stdout",
     "output_type": "stream",
     "text": [
      "\b\b\b\b\b\b\b\b\b\b\b\b\b\b\b\b\b\b\b\b\b\b\b\b\b\b\b\b\b\b\b\b\b\b\b\b\b\b\b\b\b\b\b\b\b\b\b\b\b\b\b\b\b\b\b\b\b\b\b\b\b\b\b\b\r",
      "1199579136/1489096277 [=======================>......] - ETA: 2s"
     ]
    },
    {
     "name": "stdout",
     "output_type": "stream",
     "text": [
      "\b\b\b\b\b\b\b\b\b\b\b\b\b\b\b\b\b\b\b\b\b\b\b\b\b\b\b\b\b\b\b\b\b\b\b\b\b\b\b\b\b\b\b\b\b\b\b\b\b\b\b\b\b\b\b\b\b\b\b\b\b\b\b\b\r",
      "1223516160/1489096277 [=======================>......] - ETA: 1s"
     ]
    },
    {
     "name": "stdout",
     "output_type": "stream",
     "text": [
      "\b\b\b\b\b\b\b\b\b\b\b\b\b\b\b\b\b\b\b\b\b\b\b\b\b\b\b\b\b\b\b\b\b\b\b\b\b\b\b\b\b\b\b\b\b\b\b\b\b\b\b\b\b\b\b\b\b\b\b\b\b\b\b\b\r",
      "1233133568/1489096277 [=======================>......] - ETA: 1s"
     ]
    },
    {
     "name": "stdout",
     "output_type": "stream",
     "text": [
      "\b\b\b\b\b\b\b\b\b\b\b\b\b\b\b\b\b\b\b\b\b\b\b\b\b\b\b\b\b\b\b\b\b\b\b\b\b\b\b\b\b\b\b\b\b\b\b\b\b\b\b\b\b\b\b\b\b\b\b\b\b\b\b\b\r",
      "1241522176/1489096277 [========================>.....] - ETA: 1s"
     ]
    },
    {
     "name": "stdout",
     "output_type": "stream",
     "text": [
      "\b\b\b\b\b\b\b\b\b\b\b\b\b\b\b\b\b\b\b\b\b\b\b\b\b\b\b\b\b\b\b\b\b\b\b\b\b\b\b\b\b\b\b\b\b\b\b\b\b\b\b\b\b\b\b\b\b\b\b\b\b\b\b\b\r",
      "1249910784/1489096277 [========================>.....] - ETA: 1s"
     ]
    },
    {
     "name": "stdout",
     "output_type": "stream",
     "text": [
      "\b\b\b\b\b\b\b\b\b\b\b\b\b\b\b\b\b\b\b\b\b\b\b\b\b\b\b\b\b\b\b\b\b\b\b\b\b\b\b\b\b\b\b\b\b\b\b\b\b\b\b\b\b\b\b\b\b\b\b\b\b\b\b\b\r",
      "1264377856/1489096277 [========================>.....] - ETA: 1s"
     ]
    },
    {
     "name": "stdout",
     "output_type": "stream",
     "text": [
      "\b\b\b\b\b\b\b\b\b\b\b\b\b\b\b\b\b\b\b\b\b\b\b\b\b\b\b\b\b\b\b\b\b\b\b\b\b\b\b\b\b\b\b\b\b\b\b\b\b\b\b\b\b\b\b\b\b\b\b\b\b\b\b\b\r",
      "1282441216/1489096277 [========================>.....] - ETA: 1s"
     ]
    },
    {
     "name": "stdout",
     "output_type": "stream",
     "text": [
      "\b\b\b\b\b\b\b\b\b\b\b\b\b\b\b\b\b\b\b\b\b\b\b\b\b\b\b\b\b\b\b\b\b\b\b\b\b\b\b\b\b\b\b\b\b\b\b\b\b\b\b\b\b\b\b\b\b\b\b\b\b\b\b\b\r",
      "1283465216/1489096277 [========================>.....] - ETA: 1s"
     ]
    },
    {
     "name": "stdout",
     "output_type": "stream",
     "text": [
      "\b\b\b\b\b\b\b\b\b\b\b\b\b\b\b\b\b\b\b\b\b\b\b\b\b\b\b\b\b\b\b\b\b\b\b\b\b\b\b\b\b\b\b\b\b\b\b\b\b\b\b\b\b\b\b\b\b\b\b\b\b\b\b\b\r",
      "1288486912/1489096277 [========================>.....] - ETA: 1s"
     ]
    },
    {
     "name": "stdout",
     "output_type": "stream",
     "text": [
      "\b\b\b\b\b\b\b\b\b\b\b\b\b\b\b\b\b\b\b\b\b\b\b\b\b\b\b\b\b\b\b\b\b\b\b\b\b\b\b\b\b\b\b\b\b\b\b\b\b\b\b\b\b\b\b\b\b\b\b\b\b\b\b\b\r",
      "1291534336/1489096277 [=========================>....] - ETA: 1s"
     ]
    },
    {
     "name": "stdout",
     "output_type": "stream",
     "text": [
      "\b\b\b\b\b\b\b\b\b\b\b\b\b\b\b\b\b\b\b\b\b\b\b\b\b\b\b\b\b\b\b\b\b\b\b\b\b\b\b\b\b\b\b\b\b\b\b\b\b\b\b\b\b\b\b\b\b\b\b\b\b\b\b\b\r",
      "1305264128/1489096277 [=========================>....] - ETA: 1s"
     ]
    },
    {
     "name": "stdout",
     "output_type": "stream",
     "text": [
      "\b\b\b\b\b\b\b\b\b\b\b\b\b\b\b\b\b\b\b\b\b\b\b\b\b\b\b\b\b\b\b\b\b\b\b\b\b\b\b\b\b\b\b\b\b\b\b\b\b\b\b\b\b\b\b\b\b\b\b\b\b\b\b\b\r",
      "1317019648/1489096277 [=========================>....] - ETA: 1s"
     ]
    },
    {
     "name": "stdout",
     "output_type": "stream",
     "text": [
      "\b\b\b\b\b\b\b\b\b\b\b\b\b\b\b\b\b\b\b\b\b\b\b\b\b\b\b\b\b\b\b\b\b\b\b\b\b\b\b\b\b\b\b\b\b\b\b\b\b\b\b\b\b\b\b\b\b\b\b\b\b\b\b\b\r",
      "1329717248/1489096277 [=========================>....] - ETA: 1s"
     ]
    },
    {
     "name": "stdout",
     "output_type": "stream",
     "text": [
      "\b\b\b\b\b\b\b\b\b\b\b\b\b\b\b\b\b\b\b\b\b\b\b\b\b\b\b\b\b\b\b\b\b\b\b\b\b\b\b\b\b\b\b\b\b\b\b\b\b\b\b\b\b\b\b\b\b\b\b\b\b\b\b\b\r",
      "1346560000/1489096277 [==========================>...] - ETA: 1s"
     ]
    },
    {
     "name": "stdout",
     "output_type": "stream",
     "text": [
      "\b\b\b\b\b\b\b\b\b\b\b\b\b\b\b\b\b\b\b\b\b\b\b\b\b\b\b\b\b\b\b\b\b\b\b\b\b\b\b\b\b\b\b\b\b\b\b\b\b\b\b\b\b\b\b\b\b\b\b\b\b\b\b\b\r",
      "1358962688/1489096277 [==========================>...] - ETA: 0s"
     ]
    },
    {
     "name": "stdout",
     "output_type": "stream",
     "text": [
      "\b\b\b\b\b\b\b\b\b\b\b\b\b\b\b\b\b\b\b\b\b\b\b\b\b\b\b\b\b\b\b\b\b\b\b\b\b\b\b\b\b\b\b\b\b\b\b\b\b\b\b\b\b\b\b\b\b\b\b\b\b\b\b\b\r",
      "1369161728/1489096277 [==========================>...] - ETA: 0s"
     ]
    },
    {
     "name": "stdout",
     "output_type": "stream",
     "text": [
      "\b\b\b\b\b\b\b\b\b\b\b\b\b\b\b\b\b\b\b\b\b\b\b\b\b\b\b\b\b\b\b\b\b\b\b\b\b\b\b\b\b\b\b\b\b\b\b\b\b\b\b\b\b\b\b\b\b\b\b\b\b\b\b\b\r",
      "1386676224/1489096277 [==========================>...] - ETA: 0s"
     ]
    },
    {
     "name": "stdout",
     "output_type": "stream",
     "text": [
      "\b\b\b\b\b\b\b\b\b\b\b\b\b\b\b\b\b\b\b\b\b\b\b\b\b\b\b\b\b\b\b\b\b\b\b\b\b\b\b\b\b\b\b\b\b\b\b\b\b\b\b\b\b\b\b\b\b\b\b\b\b\b\b\b\r",
      "1392517120/1489096277 [===========================>..] - ETA: 0s"
     ]
    },
    {
     "name": "stdout",
     "output_type": "stream",
     "text": [
      "\b\b\b\b\b\b\b\b\b\b\b\b\b\b\b\b\b\b\b\b\b\b\b\b\b\b\b\b\b\b\b\b\b\b\b\b\b\b\b\b\b\b\b\b\b\b\b\b\b\b\b\b\b\b\b\b\b\b\b\b\b\b\b\b\r",
      "1411186688/1489096277 [===========================>..] - ETA: 0s"
     ]
    },
    {
     "name": "stdout",
     "output_type": "stream",
     "text": [
      "\b\b\b\b\b\b\b\b\b\b\b\b\b\b\b\b\b\b\b\b\b\b\b\b\b\b\b\b\b\b\b\b\b\b\b\b\b\b\b\b\b\b\b\b\b\b\b\b\b\b\b\b\b\b\b\b\b\b\b\b\b\b\b\b\r",
      "1419132928/1489096277 [===========================>..] - ETA: 0s"
     ]
    },
    {
     "name": "stdout",
     "output_type": "stream",
     "text": [
      "\b\b\b\b\b\b\b\b\b\b\b\b\b\b\b\b\b\b\b\b\b\b\b\b\b\b\b\b\b\b\b\b\b\b\b\b\b\b\b\b\b\b\b\b\b\b\b\b\b\b\b\b\b\b\b\b\b\b\b\b\b\b\b\b\r",
      "1434460160/1489096277 [===========================>..] - ETA: 0s"
     ]
    },
    {
     "name": "stdout",
     "output_type": "stream",
     "text": [
      "\b\b\b\b\b\b\b\b\b\b\b\b\b\b\b\b\b\b\b\b\b\b\b\b\b\b\b\b\b\b\b\b\b\b\b\b\b\b\b\b\b\b\b\b\b\b\b\b\b\b\b\b\b\b\b\b\b\b\b\b\b\b\b\b\r",
      "1454047232/1489096277 [============================>.] - ETA: 0s"
     ]
    },
    {
     "name": "stdout",
     "output_type": "stream",
     "text": [
      "\b\b\b\b\b\b\b\b\b\b\b\b\b\b\b\b\b\b\b\b\b\b\b\b\b\b\b\b\b\b\b\b\b\b\b\b\b\b\b\b\b\b\b\b\b\b\b\b\b\b\b\b\b\b\b\b\b\b\b\b\b\b\b\b\r",
      "1468014592/1489096277 [============================>.] - ETA: 0s"
     ]
    },
    {
     "name": "stdout",
     "output_type": "stream",
     "text": [
      "\b\b\b\b\b\b\b\b\b\b\b\b\b\b\b\b\b\b\b\b\b\b\b\b\b\b\b\b\b\b\b\b\b\b\b\b\b\b\b\b\b\b\b\b\b\b\b\b\b\b\b\b\b\b\b\b\b\b\b\b\b\b\b\b\r",
      "1489100800/1489096277 [==============================] - 11s 0us/step\n"
     ]
    },
    {
     "name": "stdout",
     "output_type": "stream",
     "text": [
      "\b\b\b\b\b\b\b\b\b\b\b\b\b\b\b\b\b\b\b\b\b\b\b\b\b\b\b\b\b\b\b\b\b\b\b\b\b\b\b\b\b\b\b\b\b\b\b\b\b\b\b\b\b\b\b\b\b\b\b\b\b\b\b\b\b\b\b\b\b\r",
      "1489108992/1489096277 [==============================] - 11s 0us/step\n"
     ]
    },
    {
     "name": "stdout",
     "output_type": "stream",
     "text": [
      "Downloading data from https://storage.googleapis.com/download.tensorflow.org/models/tflite/sound_classification/background_audio.zip\n"
     ]
    },
    {
     "name": "stdout",
     "output_type": "stream",
     "text": [
      "\r",
      "  16384/1072437 [..............................] - ETA: 0s"
     ]
    },
    {
     "name": "stdout",
     "output_type": "stream",
     "text": [
      "\b\b\b\b\b\b\b\b\b\b\b\b\b\b\b\b\b\b\b\b\b\b\b\b\b\b\b\b\b\b\b\b\b\b\b\b\b\b\b\b\b\b\b\b\b\b\b\b\b\b\b\b\b\b\b\b\b\b\r",
      "1073152/1072437 [==============================] - 0s 0us/step\n"
     ]
    },
    {
     "name": "stdout",
     "output_type": "stream",
     "text": [
      "\b\b\b\b\b\b\b\b\b\b\b\b\b\b\b\b\b\b\b\b\b\b\b\b\b\b\b\b\b\b\b\b\b\b\b\b\b\b\b\b\b\b\b\b\b\b\b\b\b\b\b\b\b\b\b\b\b\b\b\b\b\b\r",
      "1081344/1072437 [==============================] - 0s 0us/step\n"
     ]
    },
    {
     "data": {
      "text/plain": [
       "'./dataset-background/background_audio.zip'"
      ]
     },
     "execution_count": 5,
     "metadata": {},
     "output_type": "execute_result"
    }
   ],
   "source": [
    "tf.keras.utils.get_file('speech_commands_v0.01.tar.gz',\n",
    "                        'http://download.tensorflow.org/data/speech_commands_v0.01.tar.gz',\n",
    "                        cache_dir='./',\n",
    "                        cache_subdir='dataset-speech',\n",
    "                        extract=True)\n",
    "tf.keras.utils.get_file('background_audio.zip',\n",
    "                        'https://storage.googleapis.com/download.tensorflow.org/models/tflite/sound_classification/background_audio.zip',\n",
    "                        cache_dir='./',\n",
    "                        cache_subdir='dataset-background',\n",
    "                        extract=True)\n"
   ]
  },
  {
   "cell_type": "markdown",
   "metadata": {
    "id": "7CAVFc3woB3_"
   },
   "source": [
    "**Note:** Although there is a newer version available, we're using v0.01 of the speech commands dataset because it's a smaller download. v0.01 includes 30 commands, while v0.02 adds five more (\"backward\", \"forward\", \"follow\", \"learn\", and \"visual\")."
   ]
  },
  {
   "cell_type": "code",
   "execution_count": 6,
   "metadata": {
    "execution": {
     "iopub.execute_input": "2022-10-20T11:18:52.892839Z",
     "iopub.status.busy": "2022-10-20T11:18:52.892210Z",
     "iopub.status.idle": "2022-10-20T11:18:57.755773Z",
     "shell.execute_reply": "2022-10-20T11:18:57.755074Z"
    },
    "id": "xgwWNifGL-3b"
   },
   "outputs": [
    {
     "name": "stdout",
     "output_type": "stream",
     "text": [
      "Splitting doing_the_dishes.wav\n"
     ]
    },
    {
     "name": "stdout",
     "output_type": "stream",
     "text": [
      "Splitting exercise_bike.wav\n"
     ]
    },
    {
     "name": "stdout",
     "output_type": "stream",
     "text": [
      "Splitting dude_miaowing.wav\n"
     ]
    },
    {
     "name": "stdout",
     "output_type": "stream",
     "text": [
      "Splitting white_noise.wav\n"
     ]
    },
    {
     "name": "stdout",
     "output_type": "stream",
     "text": [
      "Splitting running_tap.wav\n"
     ]
    },
    {
     "name": "stdout",
     "output_type": "stream",
     "text": [
      "Splitting pink_noise.wav\n"
     ]
    },
    {
     "name": "stdout",
     "output_type": "stream",
     "text": [
      "Splitting silence.wav\n",
      "Splitting throat_clearing.wav\n"
     ]
    }
   ],
   "source": [
    "# Create a list of all the background wav files\n",
    "files = glob.glob(os.path.join('./dataset-speech/_background_noise_', '*.wav'))\n",
    "files = files + glob.glob(os.path.join('./dataset-background', '*.wav'))\n",
    "\n",
    "background_dir = './background'\n",
    "os.makedirs(background_dir, exist_ok=True)\n",
    "\n",
    "# Loop through all files and split each into several one-second wav files\n",
    "for file in files:\n",
    "  filename = os.path.basename(os.path.normpath(file))\n",
    "  print('Splitting', filename)\n",
    "  name = os.path.splitext(filename)[0]\n",
    "  rate = librosa.get_samplerate(file)\n",
    "  length = round(librosa.get_duration(filename=file))\n",
    "  for i in range(length - 1):\n",
    "    start = i * rate\n",
    "    stop = (i * rate) + rate\n",
    "    data, _ = sf.read(file, start=start, stop=stop)\n",
    "    sf.write(os.path.join(background_dir, name + str(i) + '.wav'), data, rate)"
   ]
  },
  {
   "cell_type": "markdown",
   "metadata": {
    "id": "bVlvVq-SkeeO"
   },
   "source": [
    "### Prepare the speech commands dataset"
   ]
  },
  {
   "cell_type": "markdown",
   "metadata": {
    "id": "q_q22T5UHbJG"
   },
   "source": [
    "We already downloaded the speech commands dataset, so now we just need to prune the number of classes for our model.\n",
    "\n",
    "This dataset includes over 30 speech command classifications, and most of them have over 2,000 samples. But because we're using transfer learning, we don't need that many samples. So the following code does a few things:\n",
    "\n",
    "+ Specify which classifications we want to use, and delete the rest.\n",
    "+ Keep only 150 samples of each class for training (to prove that transfer learning works well with smaller datasets and simply to reduce the training time).\n",
    "+ Create a separate directory for a test dataset so we can easily run inference with them later."
   ]
  },
  {
   "cell_type": "code",
   "execution_count": 7,
   "metadata": {
    "execution": {
     "iopub.execute_input": "2022-10-20T11:18:57.760180Z",
     "iopub.status.busy": "2022-10-20T11:18:57.759690Z",
     "iopub.status.idle": "2022-10-20T11:18:59.170255Z",
     "shell.execute_reply": "2022-10-20T11:18:59.169580Z"
    },
    "id": "zUSRpw2nOp8p"
   },
   "outputs": [],
   "source": [
    "if not use_custom_dataset:\n",
    "  commands = [ \"up\", \"down\", \"left\", \"right\", \"go\", \"stop\", \"on\", \"off\", \"background\"]\n",
    "  dataset_dir = './dataset-speech'\n",
    "  test_dir = './dataset-test'\n",
    "\n",
    "  # Move the processed background samples\n",
    "  shutil.move(background_dir, os.path.join(dataset_dir, 'background'))   \n",
    "\n",
    "  # Delete all directories that are not in our commands list\n",
    "  dirs = glob.glob(os.path.join(dataset_dir, '*/'))\n",
    "  for dir in dirs:\n",
    "    name = os.path.basename(os.path.normpath(dir))\n",
    "    if name not in commands:\n",
    "      shutil.rmtree(dir)\n",
    "\n",
    "  # Count is per class\n",
    "  sample_count = 150\n",
    "  test_data_ratio = 0.2\n",
    "  test_count = round(sample_count * test_data_ratio)\n",
    "\n",
    "  # Loop through child directories (each class of wav files)\n",
    "  dirs = glob.glob(os.path.join(dataset_dir, '*/'))\n",
    "  for dir in dirs:\n",
    "    files = glob.glob(os.path.join(dir, '*.wav'))\n",
    "    random.seed(42)\n",
    "    random.shuffle(files)\n",
    "    # Move test samples:\n",
    "    for file in files[sample_count:sample_count + test_count]:\n",
    "      class_dir = os.path.basename(os.path.normpath(dir))\n",
    "      os.makedirs(os.path.join(test_dir, class_dir), exist_ok=True)\n",
    "      os.rename(file, os.path.join(test_dir, class_dir, os.path.basename(file)))\n",
    "    # Delete remaining samples\n",
    "    for file in files[sample_count + test_count:]:\n",
    "      os.remove(file)"
   ]
  },
  {
   "cell_type": "markdown",
   "metadata": {
    "id": "EobYerLQkiF1"
   },
   "source": [
    "### Prepare a custom dataset"
   ]
  },
  {
   "cell_type": "markdown",
   "metadata": {
    "id": "f3xTvDP3knMd"
   },
   "source": [
    "If you want to train the model with our own speech dataset, you need to upload your samples as WAV files in a ZIP ([as described above](#scrollTo=cBsSAeYLkc1Z)) and modify the following variables to specify your dataset:"
   ]
  },
  {
   "cell_type": "code",
   "execution_count": 8,
   "metadata": {
    "execution": {
     "iopub.execute_input": "2022-10-20T11:18:59.174987Z",
     "iopub.status.busy": "2022-10-20T11:18:59.174711Z",
     "iopub.status.idle": "2022-10-20T11:18:59.178563Z",
     "shell.execute_reply": "2022-10-20T11:18:59.177958Z"
    },
    "id": "77PsQAKA4Arx"
   },
   "outputs": [],
   "source": [
    "if use_custom_dataset:\n",
    "  # Specify the ZIP file you uploaded:\n",
    "  !unzip YOUR-FILENAME.zip\n",
    "  # Specify the unzipped path to your custom dataset\n",
    "  # (this path contains all the subfolders with classification names):\n",
    "  dataset_dir = './YOUR-DIRNAME'"
   ]
  },
  {
   "cell_type": "markdown",
   "metadata": {
    "id": "hwp6EQqvttgf"
   },
   "source": [
    "After changing the filename and path name above, you're ready to train the model with your custom dataset. In the Colab toolbar, select **Runtime > Run all** to run the whole notebook.\n",
    "\n",
    "The following code integrates our new background noise samples into your dataset and then separates a portion of all samples to create a test set."
   ]
  },
  {
   "cell_type": "code",
   "execution_count": 9,
   "metadata": {
    "execution": {
     "iopub.execute_input": "2022-10-20T11:18:59.183047Z",
     "iopub.status.busy": "2022-10-20T11:18:59.182825Z",
     "iopub.status.idle": "2022-10-20T11:18:59.186943Z",
     "shell.execute_reply": "2022-10-20T11:18:59.186323Z"
    },
    "id": "tMQ6cpw_B9e_"
   },
   "outputs": [],
   "source": [
    "def move_background_dataset(dataset_dir):\n",
    "  dest_dir = os.path.join(dataset_dir, 'background')\n",
    "  if os.path.exists(dest_dir):\n",
    "    files = glob.glob(os.path.join(background_dir, '*.wav'))\n",
    "    for file in files:\n",
    "      shutil.move(file, dest_dir)\n",
    "  else:\n",
    "    shutil.move(background_dir, dest_dir)"
   ]
  },
  {
   "cell_type": "code",
   "execution_count": 10,
   "metadata": {
    "execution": {
     "iopub.execute_input": "2022-10-20T11:18:59.189979Z",
     "iopub.status.busy": "2022-10-20T11:18:59.189558Z",
     "iopub.status.idle": "2022-10-20T11:18:59.194392Z",
     "shell.execute_reply": "2022-10-20T11:18:59.193839Z"
    },
    "id": "45iru8OdliG3"
   },
   "outputs": [],
   "source": [
    "if use_custom_dataset:\n",
    "  # Move background samples into custom dataset\n",
    "  move_background_dataset(dataset_dir)\n",
    "\n",
    "  # Now we separate some of the files that we'll use for testing:\n",
    "  test_dir = './dataset-test'\n",
    "  test_data_ratio = 0.2\n",
    "  dirs = glob.glob(os.path.join(dataset_dir, '*/'))\n",
    "  for dir in dirs:\n",
    "    files = glob.glob(os.path.join(dir, '*.wav'))\n",
    "    test_count = round(len(files) * test_data_ratio)\n",
    "    random.seed(42)\n",
    "    random.shuffle(files)\n",
    "    # Move test samples:\n",
    "    for file in files[:test_count]:\n",
    "      class_dir = os.path.basename(os.path.normpath(dir))\n",
    "      os.makedirs(os.path.join(test_dir, class_dir), exist_ok=True)\n",
    "      os.rename(file, os.path.join(test_dir, class_dir, os.path.basename(file)))\n",
    "    print('Moved', test_count, 'images from', class_dir)"
   ]
  },
  {
   "cell_type": "markdown",
   "metadata": {
    "id": "myPa1dfEoagz"
   },
   "source": [
    "### Play a sample"
   ]
  },
  {
   "cell_type": "markdown",
   "metadata": {
    "id": "1jecBYREgMk6"
   },
   "source": [
    "To be sure the dataset looks correct, let's play at a random sample from the test set:"
   ]
  },
  {
   "cell_type": "code",
   "execution_count": 11,
   "metadata": {
    "execution": {
     "iopub.execute_input": "2022-10-20T11:18:59.198079Z",
     "iopub.status.busy": "2022-10-20T11:18:59.197606Z",
     "iopub.status.idle": "2022-10-20T11:18:59.202181Z",
     "shell.execute_reply": "2022-10-20T11:18:59.201619Z"
    },
    "id": "gLC3ayJsoeNw"
   },
   "outputs": [],
   "source": [
    "def get_random_audio_file(samples_dir):\n",
    "  files = os.path.abspath(os.path.join(samples_dir, '*/*.wav'))\n",
    "  files_list = glob.glob(files)\n",
    "  random_audio_path = random.choice(files_list)\n",
    "  return random_audio_path\n",
    "\n",
    "def show_sample(audio_path):\n",
    "  audio_data, sample_rate = sf.read(audio_path)\n",
    "  class_name = os.path.basename(os.path.dirname(audio_path))\n",
    "  print(f'Class: {class_name}')\n",
    "  print(f'File: {audio_path}')\n",
    "  print(f'Sample rate: {sample_rate}')\n",
    "  print(f'Sample length: {len(audio_data)}')\n",
    "\n",
    "  plt.title(class_name)\n",
    "  plt.plot(audio_data)\n",
    "  display(Audio(audio_data, rate=sample_rate))"
   ]
  },
  {
   "cell_type": "code",
   "execution_count": 12,
   "metadata": {
    "execution": {
     "iopub.execute_input": "2022-10-20T11:18:59.205295Z",
     "iopub.status.busy": "2022-10-20T11:18:59.204759Z",
     "iopub.status.idle": "2022-10-20T11:18:59.402759Z",
     "shell.execute_reply": "2022-10-20T11:18:59.402149Z"
    },
    "id": "todbtEWFy0mj"
   },
   "outputs": [
    {
     "name": "stdout",
     "output_type": "stream",
     "text": [
      "Class: on\n",
      "File: /tmpfs/src/temp/tensorflow/lite/g3doc/models/modify/model_maker/dataset-test/on/b9f46737_nohash_1.wav\n",
      "Sample rate: 16000\n",
      "Sample length: 16000\n"
     ]
    },
    {
     "data": {
      "text/html": [
       "\n",
       "                <audio  controls=\"controls\" >\n",
       "                    <source src=\"data:audio/wav;base64,UklGRiR9AABXQVZFZm10IBAAAAABAAEAgD4AAAB9AAACABAAZGF0YQB9AAABAPn/6//n/+v/AQD7/wAAAADb/9v/4//b/+X/0//b/wMADwApAEYAUgBeAFoASgApAAkA//8ZACMAKQAJAAUA7//d/9n/zf/P/7L/qv+m/5P/XP9W/2D/hf+k/8L/zP/T/93/7f8NACkAUABgAGsAZgBeAHsAcwCJAJcAnACLAIUAhQB9AI0AiQCRAHcATAAxAAkA4f/P/6b/if+a/7D/yv/M/8r/zP/V/93/1/+6/5z/d/9r/33/mv/h//3/IQA+ABcAAwDh/9v/yP/V/+f/7/8DAAEAJwBIAEYANAADAOP/zP/G/9H/0f/P/8z/3f///xsAOgA4ADYANgApABcAMQAlACsANAA6ADQAPABxAIsAdwBzAGcAaQBSAC0AJQAJACkAVAB/AHkAbQBaAC8AMwAbABsADQAHAPf/5//l/9n/1//X/7T/tv+w/7T/uP+y/6b/pP+o/67/wv/A/8L/vv/N//3/DQAhABcABQAHABEACwDr/8//z//P/+v/8//v/+3/+//x/9v/1f/V/8z/yv/X/9X/xv/T/8z/sP+J/2D/b//A//P/HQAhAA8ABwD5//3/7//9/wUAAAAvAFQAaQB5AGQATABWAGYAjQCsAKwApgCVAH0AjwB3AHMAbQBaAFYAXgBgAGIAVAAtAC0AFwDv/7r/ef9z/1j/RP9Y/1j/d/91/4P/Z/84/0D/Zv91/3X/Z/9i/1r/VP9W/2f/df+P/8r/0f/P/6z/nv+a/6j/1//1/yEAQABiAEoALQAVAAkA9//3/ysAQABWAHMAkwCeAIcAgwBnAEgALwAbABkAJwAtABsAIQBAAGQAXgA4AC0AGwD5/+v/0f/d/+H/CQAnAA8A/f/Z/+f/5//r/+//6//M/7b/mv9//3n/l/+k/7z/5f8XACsAHQARAP//GwAlAC8ALwA8ADgAXgB3AIEApAC2ANcA0QDAALwAgwA6ACUA+////x0APgBmAHkAaQBSACcAAADz/+v/6f/K/8T/sv/A/7r/uv/A/7L/vP+y/6r/mv+X/3//d/+B/6j/1//j/+//+f8DAA8AMwArACUAGQANABcAGQAdAB0AOgBGAFAAcwBmAGkAXgBQAGAAVgBaADYAGwAPABMAEwAPABsAKQBaAHsAfQBnAFQAXgApABsADwAFACsAQgBWAEYAWABiAGIARgAVAOP/z/+6/7D/uP+w/7L/uv+0/8b/tv+V/5H/YP9a/2L/Yv9z/4P/qv+0/9H/4f/b/93/xP/M/8T/yv/I/8z/3f/C/93/yv/X/9f/6f/3//P/8//v//X/9//l//P/3//T/9H/1f/h/+H/+/8DAAUAAAD1/+v/2//K/9P/xP/f/w0ABQD7/+X/9f/l/9X/0//j//P/8f/z/9//wP/R////GQAZABUAGQAlAAUA8//3/9n/2f/E/9H/8/8TADoAZwBxAGAAZwBUAEgANgAJAP/////Z/9n/9/8AABMAKwAvAD4ASgBeAG0ASAAjAA0ACQD//wEA6//h//H/DwAvAEoAVABAADQAGwAJAPn/3//I/8//vv+0/7z/wv/N/wUAJwBAAEYANAApAA0AEQAZADEAOgAnACsAFwBCAG8AkQCsAJUAewBaAE4AUAA8AEwASgA6ACUAIwA0ADwALQAJAPX/5//R/8r/vP/T/+//8f/9//H/3//T/9f/7//1/+3/3//p/9P/tP+a/6r/zP/X/wcALwAjAP3/yP+i/5H/ff+B/6D/sP+y/8z/4/8JABUA+/8RAP//GwAXABsAGwALACMAFwAdAA0ADQAPACUAPgA6ACkAHQAlACMABQD1//H/9f/9/wsAGQARAPf/0//R/8//0//p///////l/9f/7f/r/+v/4f/d/8z/qv+6/9X/2f/K/+3/AwDx//3/AQDx//X/+//h/83/4f/1/wUADwAbACUANgAxAEQAPAAvADQAJQAlABUADQATACMAKwAvACUAGQAxACsAKwAXAPv/BwAfACkAJwAjABcA+f/r/+H/3//h/7j/qP+4/8b/2//x////BQD9/9f/xP+a/5r/vP/Z/+n/7//5//X/9//7/wsADwAXACcAKwAvACMAHQAdAB0AFQAAAAkAAwALAB0ADwD9/+X/2//E/8b/mv+F/23/a/97/5H/rP+N/33/lf+q/7z/yv/A/9P/1//b//v/FwAbAAsAAAD9//3/EQAJAAkAEwAtADEAMQBOAEoAWABnAIEAgQBtAEgAOAATAAMA+/8FACcAMwAzADEAGwAXABkABwANAO//8//T/67/pP+2/9P/3f/X/93/1//b/9f/zf/b/wMACwAPACEAJwA6AEAATABMAGsAjQCuAMIAqgCLAIUAjwCJAH0AgQB1AHcAcwB/AHcAZwBCACsAFQDr/+H/1f/X/9P/0f/X/8z/uv+m/6D/l/9m/1L/Rv9I/1T/bf+Z/5r/rv+2/67/sv/N//H/JwBCAEoAZwBcAEQAQAA0ADQANABWAGIAdwCFAI8AlwBxAEQADwDt/8z/rv+T/4f/pP+4/8b/yP/E/8D/uP+s/6D/sP+k/6T/j/+k/7D/sP+8/6D/mf+y/8//yP+6/8L/wv/M/83/4f/d/9n/5//R/+3/4//r//X/6//f/9f/0//R/8//7f/1/wAACQAVAC0AUABpAHUAbQBOADwAOgA6ADoAQgBMAEIAQABSAEwAPAArAAsA+f/b/+v/3f/M/7j/tP+o/67/pv+6/+P/6//d/9H//f8pACkAOgAhABUABwD3/+P/BwBUAG8AdQB/AIEAiQB3AGkAWABYAEgAPgAzADQAOgBOAEYAIwA4ADEAJQA4ABsA+f/l/9v/5//I/6T/kf9//3//j/+V/6z/wP+0/5r/hf93/2n/Zv9p/4H/tP/C/+v/IwBMAEwAUABEAEAAOgBAAFwAYABpAJUAmQCTAHkAfwB5AG0AcwB7AIcAeQCHAHEASAAbAP3/2//X/7b/pP+s/8j/xv/E/8b/zf/Z/+P/4//V/7z/wv+6/83/2f/N//f/AAAfAEAARgBOAEAAKQApAAUAHQAvAEIAOgBKADYAJwAPAP3/7f/h/+f/9//n/9H/wP+c/5n/i/+B/5X/lf+e/7b/rv/V/6D/kf+R/4v/nP+Z/77/2f8PADQAIQD1//H/4/+8//n///8dACkAAwAdAAUA//8AAP//AADz/wAAAwAFAC0AHwDx/+P/zf/K/9//CwArADoAUABmAE4AQABEAD4APABCAEwAdQB7AKAAqACHAFAAOAAxAAcA9f/N/8r/qv+c/5f/nP+c/5X/hf+B/23/UP9M/3f/gf93/3f/mf+k/83/9/8bADwAVgBUAFgAVgBkAI0AsAC8AN0A8wDbAMwA1wC+ALQAnACXAJEAgwBtAGcAVAA+ADEAAQDz/9P/wv/C/7T/pv9z/0r/OP8z/yv/Ef8R/x//Gf8V/zH/ZP+R/7b/4//l/+v/BQD7/x0ANABSAHsAngC0ALYAwgCkAH8AbwBiAHsAfwB/AGIAQgAhAB8AIQAlACsAHwABAN//yP+e/4X/mv+o/7b/0//p/w0AAQDp/93/4f/l//P/8//x/xMAKwAtAEAATABCACMAMQAvADwASgBgAFoAPAAVAAsAKwAHAAMAAwATACUAGwAdAAAA7//f/83/uP+P/4X/if+g/9////8TAAUA6f/t/9v/vP+P/4n/i/+H/6j/nP+H/4v/mf+X/6T/zf/t/9//yP+4/8r/wv+8/8//0//b/+X//f8xAFgAawBYADgAGwAjABsAGwA6ADoASAAvAEoAdQB5AGcAZgBvAFYASgAnAB8ADQDX/9P/uP+T/43/lf+a/5z/qv+k/4P/cf9t/1L/UP9k/4P/g/95/57/nv/E/9//AAAdAC0AIwA4AGAAZgBUAFQAgQCuANUA6QDbAN0A8wDbAN8A5QDRAMYAiQBiAFwAdQB/AHcAZABWAC8AAQDX/6r/nv9t/1D/QP9m/6D/f/9t/3H/f/91/23/ef99/3f/ef+F/4//sP+2/9n/9/8VADwARABMAFgAYABUADEANABEAEIAawCHAJoAjQCDAKAAkQBxAGcAOgARAAsACQAdACMANgBOAEoAWABIAEIARgBAACEAGwDZ/7b/qP+e/6b/k/+c/5f/ov+s/8b/zf+4/6L/h/9v/3H/c/9e/1T/Xv91/4//kf/K//f/LQAxAEIARAAbACkAKQAXADMASgBQAG8AmQDIAMoAoACJAKYAkwCJAGYAZgBcAEoAVAAtACsABQABAP3/8//t/8T/yv+8/6D/if9Q/zz/Mf88/0j/YP99/57/rP+q/77/tP+4/9P/2f8BAAcAIwA2ADoATgA2AEQAXgCRALAApACiAMQAwgC4AMoAtgCsAIEAbQBmAFwAOgAbAO3/tP99/1D/ZP9p/3n/jf9x/3X/Yv84/zP/Gf8l/zH/Uv9S/2//b/+L/4f/if+6/8r/7/8JAC0AUgBEAEoARgAfACMABQALACsAOAAtACsAJQAnACEAJQAnAAcA9//r/9P/1//V/8b/tv+6/77/3//V/9n/4f/t/wcA9f/x//n/DQARABEA+f8JAAMAGwBOAF4AaQBiAFoAUgA2ACUANAA6ACEA/f/p/+X/8/8VAEQATAA+ADQAGQD3/+v/+//j/93/9/8nADMALQA6ADEAPgBMAFwAjwCgAJMAXgAzADEANAA8ACkAKwAtAEYAOAAxABcABQD5//f/4f/N/8D/tv+6/7b/wP+y/4v/gf+P/6T/nv+T/6D/mv++/8r/sP+u/6z/uP++/8//zP/C/7z/uv/P/+3/+f///xkANABgAFwAbQCFAG0AVgAtAB8ACQDn/+f/+f8JAA8ABwAFAAUA/f/z/+P/3////+X/wv/j//X/AAALAB8AGQANABkAZgCZALIA0wDPAM0A0wC+ALQAogCBAHcAXgBzAH0AhwBkADoAMQAdAAMADQDx/8//sv+i/6z/j/9t/yf/Hf8X/w//Lf8z/1L/WP9c/23/e/9//5z/uv/A/6T/uv/K//n/JQA8AEYATgBtAGsAZABgAFgAUABIADQAJwArACkAMwA+AC0AGQANAP///f/1//H/zf/A/83/0/8AAAsAEwD1//3/4f/d//3/BwDt/+v/+/8RABkA+f/3/+//7//j/9X/wv+m/4P/j/+i/8T/0f/P/8L/zP/E/7z/vP++/8//uv+w/8D/sv/f//X/EQApADgAMQAlAFYAZABcAGIAYABYAEgAUABGADQAJwADAAMA8//l/9f/7f/9/wsAFQAZAPX/yv/M/8z/tP+a/4H/lf+6/8//3//r/+P/5//5/yEAUgB1AI8AgwB9AHsArgDEAOkA2wDVANkA2wDRAMoAxgCqAJEAeQBGAFIAXgBGABkA3/+y/4X/f/9a/1b/WP9O/0b/Ov9Q/2T/cf+Z/7b/xv/K/8L/xP/N//H/CwD7/xMAKwA2AEYAXABSAFoAZABEAD4AKwA4ACsAIQD3//3/7//r/7T/rv+q/6L/rv+e/7T/rv+6/7b/oP+s/6D/qP+o/7L/2f/b//P//f/x//f/3//3//n//f8VAC8AUgBOAEIARABQAE4AMQAvADMAPgBWAH8AiQB3AGcAVgA0AEAAXABkAFgAMwAtAC0ARgBmAGkAdQBkAEgANgA2ACkAIwAtAA8AGwAlAEwAKQAXABMA9//l/8//4//r/9f/uP+V/3//h/+B/3f/hf+F/4//mv+R/5X/nv+m/77/uv+6/6r/rP+y/6z/vP+q/8r/1//x/xEAJQA2ACkACQDd/6j/sv/P/+P/DwAdAEYAPgAnABEACwDv//P/7f/h/+3/5//t/+P/9f/5/xkAJwAXABUAKQApAB8AJQAXAAcA9f8LABMAOgBaAFoAQABIAD4AFwAJAPn/5//n//X/HQAbAAcAAwD3//P/FQATAAkA9f/l/+P/0//Z/+3/6/8XADMAUgBQADQAEwDp/93/yP/C/7r/yv+8/8r/3//v/w8AAADb/5P/mf+y/8T/1//p//H/9f8LAPn/z//N/+X/4//l//n///8DABMAFwALACMAJQAPAPn/AwAAAA8ADwAjAB8AEwAAANv/5f/R/9P/3//f/+H/AwATACEAKwAfABMADwARAP3/8//z/wcAFQALAAEA///1//P/EQD7/x0APgBgAFYAXABWAGkAdwB5AIkAcQBkAGcAbwB7AJkAngCsALAAlQCDAHUAfQCHAHkAVABCADYANAA8ACsAGwD1/93/xP/E/7L/z/++/6b/uv+6/67/nv95/2T/VP9M/0T/QP9U/2D/bf+V/5X/pv+q/67/tP+4/7T/h/93/3v/kf+w/8r/2f/N/9H/xP/C/9n/+f/7//H/5f/b/9P/zf/M/7L/pv+4/7L/1f8XACsAVABkAFQATgA0ABcAIQAzADQAQABMAFAAQAAnADQAJwAbACMAKwAxADgARgBIAEQACwDh/8D/sv/N/9X/1//l/wcAAwD9/wkA6//Z/9f/xP++/8j/2//x/wUACQABAOH/vP/C/8L/3//v//n/AwAVAB0AAwDp/+H/8f/p/+3/FQAnAD4ATABQAF4AZABKAEIAOAAtAEwAVgBYAEwAUAA+AD4APgAzAEAASgAtAEIASAA+AD4ALwAnABMAFwAVAPv/CwAHAAEA+f8LAAsAAwD///X/2f+s/6r/oP+y/7z/2//f/wUACwAFAAkA9//5//f/8f/V/93/4//v//H/EQAdAPv/+//3//H/4f/E/8D/0//h//P/+f8DABcAHwAjAA0AAADZ/9//4f/t//n///8FAO//7f/f/8L/yv+8/7T/uv/N/9H/2//f/9H/2//p/9f/xv/I/8L/zf/n/+v/5f/b/9H/0//j//P/6/++/5r/qP+2/8//6f8AAPv/7f/f/+v/6//5//v/6f/d//v/FwBAAGIAYgBMADYANgBCAFIAaQBUAEoAVABQAE4ASgBSAG0AeQCZAK4AlwCPAIsAhwBvAE4AKwAXAAcACwApAEgAWABeAE4AJwABAOf/6//n/+f/zf/V/+H///8NAA0A//8ZADEAOgA4AB8AFwD3//X/6//j//v/EwAfABEAAwDf//n/3//N/8z/rv+q/6r/rv+g/5X/sv+w/7j/0f/Z/93/xP/I/9f/zf/j/+n/0f/Z/9v/8f/x/wMAEQAZABUAJQALAA8AFQD9//X/8//x//3/EQAhADMAKwAHANn/tP+i/5H/hf99/3//Z/9p/3P/ef9x/2T/e/+F/7j/yP/X/9n/yP/K/8z/2f/p//P/HQA+AEwAVAB1AIMAeQB/AHkAbQBpAGYAbwB/AIcAfwB5AG8AYgBUAE4AOgAPACMAJQAlAB0ADwAdABMAOgBpAHsAYgBSAEQAKQAVAP//BQAVACsAIQAbADEAIQALAP//9f/x/+f/3//t/wMAAwDx//f/9f/f/+n/3//M/9X/0//p/+//2//N/8L/5//5/wUAJQAvACEAIQApACsAHQAFAAMAAQAAAA0AJQAdAAsAGQADAAMAEwDt/+3/6f/h/9n/8f/p/8z/0//N/8z/uv+w/6T/nP+g/7r/uP+w/4v/Xv9C/0D/Pv9e/4f/l/+a/6b/sP++/77/xv/d/+X/7//v//f/AwARABEAGwAtAF4AhQCgAJcAjQCDAH0AbQBkAH0AeQBtAFQAOAA6AB8AGwARAA8AAQADAPP/9f8BAO3/2//X/9P/0//x/wUAAwALABkAIQA6AGIAZABcAFAASgBSAFQAbQBeAFwASABCADwAPgA8ADgAPgAzAC0AHQALAAcA9//f/+H/4//P/8L/xv/V/8j/zP/f/9X/2f/v/xEAPgA+AC0AIwAbAB0AFQDn/9//8f8DACcARgBWAFAAOgATABcABQDx/9n/vP+u/8D/wv++/9H/5f/l//P/9f/j/8L/rv+q/7j/zP/R//X/CQAXAA8ADQATACUARAA0ABsA+f/r/+3/AwAdADYAMwAjAPX/6f/V/8r/tv+c/4P/f/+V/6j/tP++/6z/pv+4/7z/vv+q/4//if+m/+H/CwA0AEIAHwAjADoAVgA8AEAASgA+AEQAUgBQADwASABGAEoAXgBIADEAHwAAAPP/1//d/9n/4f/9//H/DQAJAP3/5//x//P/DwAnABkAGQALAPn/BQA0AEAAXgB3AG0ATgAxACMAHwATABEA///b/8z/yP/M/+n/5f/X/8j/qv+g/6D/j/99/4P/gf+c/6r/5f/7/+//+//v//n/EQAzAEQASABeAI0AmQCLAI0AnACZAJ4ApgCJAFIASABcAFoAbQCBAGAARABUAE4AMwAJAOP/1//P/83/1//A/57/g/+c/57/qP+6/67/rv+6/7r/sP+s/5f/b/9e/2D/e/+P/5z/wv/C/8z/5f/h//P/+//z/+H/+//7/wAAIQA0AGQAdwBtADgAFwADAAUAHQAbABUAJwAtACUAOAAhABEA///b/+f/HQA6AB0AGwApADQAQgBGAC8ABwDz//H/7f8BAP//8//X/9P/7//l/93/vv+2/5z/oP+w/7L/zP/b//P/9//j/+n/5f/h/+3/+f/v/+n////3/wEA9f8FAAAAEwArADEAZwCFAKQAogB9AF4AQgA+ADoAOgBMADoAQgBkAGYAcQCiAJwAiQBmADwAIQAhAC0AJwA+ADQACQD1/83/tP/K/7z/wP+8/8T/wv/T/7z/rP+a/4//mv/K/+v/BwAHAPX/4//f//f/AwAHAPn/BwANABsABQDv/9X/vv/A/83/vv/A/6z/sP+2/7b/wP/V/9f/xP/N/9H/wP+4/7j/wP/p/+3/GQAlAAUA9f/5/+n/sP+q/6j/nv+m/6L/hf95/5H/tP/C/8T/vP/G/8r/wv/G/7L/nP+a/57/3f/x/wEA+/8hAC0AJwAvADMAJwAfAAsA///t/+n/BQADABkAKQAnACEAEQANAAkAGwAjADYAVABcAFAATABGADMAWgBcAGIAYgB3AI0AbQBSADoAKwANADMASABnAIcAewBkACsABQDM/6D/qP+i/8r/9/8dAEwAOgAlACsAMwA+AEwAZwBSAEwAOAAxADQAUABiAG8AdwB3AIkAlQCPAGQANgANAOv/9f8DABMADwD//+3/7//f/+X/1f+k/5f/jf+m/7j/zP/K/8D/tP+y/7T/oP+i/5H/kf+R/6j/1//j/+P/3f+2/57/jf9//4X/lf+q/7D/lf+D/6L/uv/P/8j/wv+4/6r/pv9x/4P/g/+F/23/bf+i/8r/AAAJAAMA8f+8/6L/hf+B/4v/qv/P/wAAQABcAH0AfwBtAFoARAA+ACUALQApAEQAWABYAFAAMQApABEA/f///wMAGQAlADoAOAAVAP3/z//T/9H/6//1/wUAKQBEAEYAOAAxACUAMQAvADEASgBSAGkAewB1AHMAZwBxAG0AaQBkAEYAMwA2AEIAPgA2ABkACQARAAkAEwD7/+//8f/r/+n/9f/v//P/+//t/+H/2//Z/+P/6//p/+3/z//N/8z/tv/C/+n/EQAjADMAKwABAOH/yv++/8D/z/8FABUADQAhAPv/zf+8/7j/sP+4/+X/GQBUAG8AUgAxABkAFwAXABUADQAZABcAFwAXABkADwAJABkADwAHAAcA6//N/7r/sv+g/43/k/+V/6L/sP/A/8b/0//X/8//uv+a/4X/kf+g/8L/AQAPABkAJwAbAAkABQALAP//AQARAO3/6f/K/8L/zf/E/9P/+/8XADMAKwAdAPX/6//V/8j/zf/V/+f/CQAlAD4ARABSAFwAfwCNAHEAVgA2ADoANgA2ADMAMQAvACkAUABiAFoARAArACEACQDn/9P/zf/I/9f/4/8dAC8AOgBKAEIAUAA2ACEAIQARABkACwAbADEAQABmAHkAZwBUAFoAVgBKADYALQAjAPf/zP+8/6L/h/+F/4P/e/+B/3//gf+c/6L/j/+X/5H/df9i/2v/ef+N/7L/xv///xsAFwAxACMAMwAvAB8ABwD1//X/8/8FAAsADwAXACMABwAJABUADQDz/+3/9f/p/+H/xv+y/67/uP/T/+n/6f/f/9f/1//N/9X/3f/G/9H/2f/d/wcAJQArADEAJwApAB0AEwAvADwAWABvAIMAgQCDAJMAnACLAG0AUgAtACsAKwAjABcADQD///n/BQABAPX/9//h/9X/2//X/9n/4//t/+X/4//x//v/HQAzAEwAbQBcAEIAPgA4AD4ARAAjACsAQABYAEYAQAApACMAGQARAAUA7f/r/9f/xv+y/6r/vP/K/9f/2//l/9//4//x//f/+//x/9//2//h//n/AQAfADYASABQADoARAAvADEANAAjAAsA9//t/9n/6f/l/+X/6f/l/+f/7f/P/7z/pv+c/6D/pv+s/7r/xv/E/83/1//x////9f/j/+P/4//j/wcACQAbAAcAEQAHAP//AADl//H/9/8DABcABwDn/9H/zP/P/9n/1f/v//H////5//n////5/+//4//b/+X/8f8BABkA+f/r/9v/3/8HACsAWAB3AIsAkQCJAG8AZABGAEIAPgApAAkACwATACMAIQAdACMAIwAhABEABQABAAkA6f/j/9n/vP+u/7D/tP+8/83/3f/v/xEAJwA2ACcADwD7//f/AQD//wEABQD1/wMAEQALAAUA//8RABsAJwAvADEAJwAnAC8AKQAjAB0AIwAfACEADwD9/+//+//1//n/BQAFAA8AAQDx/83/rP+0/6D/mv+w/77/yP/M/9X/yv/X/8//z//X/9n/vv+u/67/tP/G/9X/4//h/8T/sP+6/77/6f/p/+f/BQARADEAPAA+AEoASgBgAFIAPgA8ADQATgBaAHMAfQB3AG8AYgBiAGQAZABxAG0AXgBMACcACwAJAO//6f/1////CwAJAPX/2f/G/7z/uv+u/6D/l/+Z/57/wv/V/+v/5//h/9v/zP/b/9v/7/8DAAkADwARAOv/4//5/xkAHQArADQAIwAfAA8ABwAHAA8A+f/v/wUA8/8BAB8ALwA6ADgAFQD9/+X/z//M/8j/zf/E/9X/7f8LACcAJQArABkAEwD1/9v/2f/Z/+v///8FAAcALQBIADwAPAAhAAsAEQAHAPv/5//d/93/5//x//n/BwARABMACQD9/wUACQAZABkAHQAXABMABQApAEAALwAvACsAIQAhADEALQALAAAA+/8NABcAEwAnAEAAPgAZAAEA///7/+/////t/+/////9/wkADQANAPv/AAAZACUAIQANAO3/yv+u/6L/uP/V/+3//f/p/wEA8f/R/83/yv/G/83/4f/j/+H/1f/j/9n/0f/P/7j/tv+0/8L/2//j/+H/3//G/57/j/+H/3P/g/+a/7b/z//f/8//zP/V/8z/0//Z/9X/8f8AAA8AGwAZADMAMQArAEIASABaAGsAZwBkAEoAPAAvAB0ALQA2AEYATABAAEAAOgAfABEAFQAbABMAAQD//+P/0//X/9f/8/8PAA8AFwAnACUACQDz/+n/6f/3//v/BQA0AEYAWABeAEoARAApABkAHQARADQASgBQAGQAZABMADwAPgBSAFYATgBGAB8ABwDh/+X/6f/x/wAA7f8HAPv/4//b/7L/ov+k/5P/j/+Z/6L/pv/M/+n/CQATACEADQAbABEADwAJAA0AIwA2AD4AOgA8AE4AXgBKADwAHQATAAsA9f/r/9//5f/j/+n/3//G/7r/uP/M/83/xP/P/7z/uv+s/6D/nP+4/7b/0//v/+n/1//b/+3/AQAVABkADwD//8z/uP+u/6z/zP/T/+X/9//n//X/8f/t//3/DwADAP//AQD3/+3/7f8DADEARgBKADgANgBCAEQAMwAVABcAEwARACMAKwAdABMABQALAA8AGQABAPv/+//t/+H/1f/I/8j/yv/P/9H/0//b//f/GwADAPH/9//f/83/yv+8/8T/2f/z/xcAJwAjACUAFwD7//v/EQApADwANgAbABcABQAbACMAJQAjACkAKQAlACUACwDx/wEA6f/n/+n/5/8FABMAQgBaAGAAaQA0ACEAHQADAA0A9//r/+n/8//p/9H/vv++/7j/yv+u/5X/g/+P/5r/tv/P/9f/AQAHAAEACwDz/zEARgBrAHsAgwB3AHkAZABOADwAQABWAGIAOAAvADYAWAB7AHEAXABYAHEAfQB9AGYAWgA4AAUA5f/I/8L/wv+4/8D/1//d/9f/vv+c/5f/c/9c/1z/k//I/9P/tP+Z/2v/Z/9e/1L/c/+c/9n/EwA4AEQAOgAbACsAKwBAADwARABaAFYARgBIAE4ATABSAFAASgBUAGIAaQCFAHsAVgBAAA8ACQADAOf/7f/5//n/7f/l/93/4f/P/+3/+/8HAPn/2//N/67/lf+N/8T/EQA8AFIAVAA8ABkA1//d/+v/yP/M/9X/8f/T/8T/uv+Z/6L/mf+X/8//8/8nADYASABIAAEA9f/R/+v//f8RADwAMQA0ACkAOABAADoANAAtAEQAQAA6AEIANgAtAPn/3//v/+v/8/8JABMAEwAAAMT/3//b/9X/4f/A/5r/k//C/83/yv/X//3////3/8z/pv+H/2D/Vv9S/2L/Tv9x/4f/a/9Y/yv/Sv+L/17/R/7y/HP/sAJzAsACkgGk/2n/zf4H/0b/4f/CAMUBIwKzAc8AAwBk/y///P5v/zwAugBuAXwB1wBIAMr/Yv9z/5P/qv/b//f/3/88ACcAEQAFALr/tP/f//X/IQAFAPf/z//G/5f/tv/n/0AAUABmAEAAKQARABkALQBiAHEAsgDGALoAhwCPAHMAZwB3AJEAngCeAG8AbQAjADEAIQADAPX/GwAFAPv/5/8zADMAIwDK/4n/Nv8b/zj/cf+2/9P/qP/h/9P/sv++/+n/tv+q/5z/qP+a/83/NABcAAAAyP/M/wMAMwBeAFQALwAjAAsAsv/T/+v/qv+B/6z/6f8fAFgAVAAAANn/+f/X/7r/xP/h/zQASABpAF4AQABOACEANgAhABkALwAbACcA7f/t/wEA/f/h/9//6//p/+f/zf/Z/+P/5/+w/5H/rP9r/1b/qP8hAA0ALQAfAMb/lf9z/57/5/8HAOX/kwBfAQAAg//3AP//If/MALIApP+6AFwA4v4pAP8B1f/O/lsBtAD2/lMBlgGI/kr/LAH5/6z/7QADACP/VACPAK/+qf4jAH3/sv83AUAAVv/X/ykAZP/d/xUAOv9W/yEAEwA0AJkAUAABACMADwAzAPX/cwAjAEIAWgBCAOX/XABSAAEA3f/d/4H/bf+e/8//nv+w/4H/vP+V/5z/i/++/67/pv/G/+3/4f/5/+X/EQAJABkABQABAAkANgCJAHUAQgAnANv/8f80ACcARACBAJ4AqgB7ACsAGwA2ABkAGQApACEADQBSADMAzP/7/y0A4f8FAE4ADQDj/wsAvv9k/33/lf95/67/yv+w/5z/l/+N/6j/sv/E/6z/wv/Z/wcAQABeAEoALwApADMAYABGAEAAMwALAC0AVgBSAGQAcQBcAB0A8f/n/zEAUgCLAHUAMwA4ABkA5/8FACEAzP+4//3/GQDh/+X/9////w8AFQDK/5H/l/+g/6D/4f///8L/kf+q/5z/c/+g/+H/6f/5/wkA2f+8/8j/ov+g/wkAPAAFAP3/DwDv/83/2f/C/7j/6f8dABsAHQA6AAMA//8HAP//5f/x/ycACQAHAPH/9f/f/9X/HwAVAOv/z//x/wsARgApAA0AOAAzAFoANAAVAO//9f8PADwAcwBtAFIAQAAtAF4AewA8ACkAYABOAB8AbQCLAEQAQACNAB8Axv84APn/Qv+iAKEBdf+G/uv/DQB5/77/UgBi/4L+Zv8BAHP/6P5K/67/Yv88/3n/AQDd/2//vP8DAOn/nP8ZAHEAJwADAFQAcQAvADwAnACJAFYAIwAfAC0AWgBAAFIAKwARAPn/AAAVANX/uP8fABMAz/8VAGIA+//b/y0AOADh/8r/BQAXAAEABwA0AEgAzP/G/0AAkQANAN3/BQAZALz/h//j/wkAsP+a/8j/zP+0/67/sv+2/4f/jf+s/6T/tv///zQAOgAHAPX/IwA2ACsAOgBMADQAJwA2AE4AWABIAE4AaQBSACsAXABaAA8A+/8jAA0A7f/p/ysANADp/8z/KQALAL7/qv/X/8b/pP+g/9//7/+R/4H/qv+c/5f/rP+a/3H/oP/X/wMAIQAbABEACQANAP//FwAXAPv/DwBGAGcAWABtAIcAqACgAIcAewCRAIcAVABEAFIASABOAGAAawBGADMAJwA0AD4AAQCw/4f/rP+2/57/qP+y/67/7f/9/+H/wP+m/4P/b/+a/2L/bf+g/5r/g//V/x8A+f/n/6z/yP8TAAAAzf/h/wMABwABAP//FQD//+X/CwAjAA0A3f/R/6z/mf+R/4n/4f/l/9n/2/+8/9v/1f/v/wMA7f/Z/8z/9/8RACcAKwAxAEYANABAAD4ANAA4ABkAIwAnAEAAZgBkAGYAOgArAP//7//3//3/HwBIAF4AbQCLAHsAdwBzAHkAbQB7AIcAdwBmAGcATAAtAEYAOAAvAFQAQAAhAB0AAQDj/93/0//T/+//CwAPAAEAFwAFAO3/xv+8/5f/l/+4/5X/sP/f/9P/2f/x/wsADwAVAAEAyP/G/8z/qP+m/67/nv+J/4n/rP+6/93/5/+4/83/vv+c/5H/mf+L/5H/mv/E//H/EwARAAsAJwApACMAEwAdAAUAEwA8AEwAZABYADoAQABnAHEAVgBYAFQASgBEADEADQATAA0AGQAfACMA///b/8j/rv/E/7T/tv/N//f/4f/C/8L/wP++/+f/6//K/8//7//R/+H/+f/z/xEAHQADACkAQAAjAP//AQDj/wcADQDZ/8j/7f8lACEAHwAfAAkACQATAAEA6f/l/wUAQABeAHUAZwBeAGQAVABEAC0AHwAVADQAUgBQAEYAJwAjAA0A+/8JAAAA9//1//f/+//f/77/xP+m/5z/rv/P/+//6//p/9X/pv9x/0z/Pv88/23/l/+s/6r/zf/R/83/sv/A/9P/rP+o/8b/7/8NABEALwA2ACMALwBWAGcAXABeAGcAXABMAGkAtACeAJ4AhwCHAI0AZgBmAI0AgwBgAEoAUAArAAcAFQD1/9X/2f/j/8L/rP+o/7r/yv/E/6z/nv+X/6L/uv+o/4P/jf+6/+H/BQAJAAUAEQAHANP/6/8bACUAOgBvAH8AgwCLAH8AiQB5AEgAKwBAAE4ATgBgAF4AZABOAHEAZwAjAOX/ff9k/7z/bf/a/kL/uv9m/3n/wv+J/1z/b/+F/2f/PP/u/mL/CQBW//r+IQC2ALT/sv9kAEgAvv/Z/1oATAAdAEQArgDXAKYAcQCqAL4AUgAtAJcApgCDAHkAZwBmAEwAHwADAEoALwDZ////YgBAALj/2f8VAMT/af+4//P/wP/N/wsAFwDV/7z/xP/t/xkA3//R/w8A2f/A//H/9f+4/8T/4//Z//P/HQDt/8//7//j/8T/3/8FABMAEwB1AKoAaQA0ACkAVgBcACcA//8fAC8AKwBvAHcAMQABAAUAAQDM/77/yv+2/7T/uv+H/zb/Yv+R/5n/uP+s/5z/j/+J/5P/nv+L/3n/mf/G/9X/ov/N/wAAEQABAPX/IQABAOf/8//1/+H/+/8rAD4AQAAFAO//FwAbABkA3//X//3///8FADYATgAVAB0ABwDl/9X/BQALACEALwAPAAkA0//K/83/xP/T/9H/6/8VAC8AQgArABcALQAzADoAVABiAGYAXABtAGcAVABaAFYAaQCNAJUAqgCLAIEAVAAXAOf/9f82ACkAIQA6AEYANABAADMAFwD3/wMAHQApABcACwARADQAMwAVABcANgANABUAUAAbAOf/1f/d/83/2f/v/7D/yP/N/8z/4f/E/5P/qv/M/8z/pP+u/+n/6//V/9n/2/+8/6z/yP/E/8D/z//l/+P/7f8BABMAFQAZAPn/+f8AAOP/wv+s/8j/wv+y/6j/rP/f/8//xv/C/7L/ef9e/67/rv+a/7L/1//X/7r/rP+P/7T/yv/d//H/LQAVAN3/CQD5/9P/3f8lABsAUACsAIMAZABrAGYANgA+AFIAQgBaAGkAcQBgAFAAWgA2ACUAKwBAAFIASAAvABMA2//T/wAA9//t/xkAYABpAHEApgBkAP3/DwALAPH//f8rABsACQA2AEIALQA6AFQAZwB1AHkAVAA2ABkAAQDN/9X/6f/d/+X/AwAZAOH/6f/d/5r/h/+0/67/lf+P/5z/i/9k/2f/Z/9z/6D/nv+m/6r/uv+q/57/wv+6/9f/8//p/wsAIQAtADQARABaAG8AjwBxAEwAYAA+AEQAawBQAFIAWABiAGAASABEADQAIQAHAB0AEQDp/9P/rv+Z/5X/ov+y/9H/5f/l//f/5//M/5r/l/+c/57/uP+8/8j//f8RACcANAD1//n/BQATAAcADQAbADgAVAB1AHUAhQCZAH0AaQBnAGQATgBYAFAAQgAdAAsA/f/v/x8APABIADwAEQANAAUAAwAFAOv/AAAAAN//xP/K/8//ov+H/5X/oP+V/7D/1f/h/9P/6f8NAA8AAQDh/8//5f/b/+f/BwD9/+//EQA8AAEAyv/T/zMAEwC2/8b/AwBEAAEACwAlADwAFQDz//f/KwBGAEIAZgB5AHsAGwAjABsAAQAAABMAHwAnAF4AZAA+ADMALwAZAO3/6//n/9n/zP/n/+f/+f8dACsABQD//+n/z/+4/67/qP+4/7j/xv+0/7r/xP/N/9n/1//j/9H/6f/r/8D/qv+o/8j/vv/E/9X/5f/p//X/3//E/+P/8//X/8z/2//h/9n/3//I/6z/wP/f/9v/8f8dABEAFwApAEIAEwAfAFQAVABGAGsAgQCJAHcAeQBxAEYANgAtACUAJQAAAAMABQDt/8//7//3//H//f///xkA+/8HABEADwABAL7/rv/I/7b/xP/3/xkAKwBIAD4AKwARABsAAQAAAP////8jADwAQgArAEIASAA2AFAAcQCLAIUAaQBWAFIAOABAADgAMQAhAB8AHQABAA8A///z/+P/6//3//v/5//A/8L/1f/l/9//5//t/+H/8//x/+f/3f/X/+X/5f/n/+//0//C/+H/2//M/9X/2f/R/+v/AwD3//P/7//X/8L/vv/P/+f/+f/7/xEACwATAA8A8f/p/9//AQAdAA0AKQAxADYAFwAbABUA+f8LABEABwAZACkADwD7/wEA///x/+X/6//T/9v/yP/X/9n/4//v/8j/zP+0/6b/qP+0/7r/sv/R/+P/4//5/w0AFwALABkAIQAjAC8AMwAvAC0AIwAdAEIAWgBcAHcAdQBWADYA9f/l//f/8f/p/83/3//T/9f/3f/G/9P/0//b/8D/0f/Z/9//xP/N//f/AQAHABEAFwA0AGYAbQBkAG0AMwAFAA0AOgBgAHsAiwB5AFoAYABQAEAAKwD9/+X/0f/K/+v/8//z/8r/xP/E/8D/z/+8/7r/ov+a/6r/rP+4/8z/xv++/8T/yP/M/7b/pv+y/8D/2/8JAB0AIwA2ADgANgAtADMAQgBCAEoAUgBIAEAAMQArADEAIQAnAC8AKwArABkADQD3/8//xP/V//P/FwAzAC0ALQAVAAEAAQDn/8j/wP/V/wUADQAHABcABQAVADYAMwARAAMA/f/R/8r/zf/V/9f/5f8DACcAMQAbAAsA8f+8/6D/h/97/3f/kf+o/5r/pP/A/8T/xP++/77/wv/G/9f/5f/r//3/BQA0AFYATABWAF4ATgBpAGcAXgA6AEYAZgBSAGcAcQCVAIsAfQBxAFgAVAArABUAAAD5/xEA+f/5/wUA0f+2/5n/kf+a/5z/sP+2/7j/zP/K/9H/z/+4/9P/8/8RACUAIwAVABMAJQAtACUAKQBYAHkAtgC2AIcAZgBGACsALwAnADMAIwAxADYALwAjAPv/9f/f/93/xP+s/6j/vv/K/+//4//l/+H/3//N/7b/tv+0/7T/nv+m/7D/2f/z/9f/8f/5//P/AwAfADYAKQAjAA0ABwAXACEAOAApAAsA+f/z/+P/rP+g/5P/l/+i/7j/3f/7/wMA+//5/8//tv+y/5P/nv+s/7z/0//G/9X/6//x//H/CwABAP//AwAjAEAAMwAnACEAIQA2AEoAbwBzAD4ANgA2AEoARAAlABcAIwBGAGkAZgBtAFQATgBOACcAEQDl/8b/wv/G/83/AwAzADgAFwD3/93/yv/N/8r/7f/n/9//7f/R/9//6//7//H/CwAhAB0AFQD7/+f/3f/V/+v/7f///wMAEQAtAAMAFwAXAPf/+f/b/9X/5f/3/w0AIQAzAC8ANAATAA8A/f/t/7j/tP/A/8T/7//x/yEAEQDx/+n/z/++/6z/wv/V/+3/9f/b/8r/qP+0/8T/0/8FACkAMwApADQAJwArACsAMwA8AFAAXgBmAHsAbQBYAB0A8//v/+P/+f8VADEAKQAVAP/////p/9P/tv/M/9v/+f8VABUAAwDj/9//6f/Z/+P/8f/9/xMABQAAANH/0f/t//f/BwAtACsAFQAVAAkAEQAJAPf/AwAXAA8AEwAxAEQAQgBIAEoAMQAZABcANAArACUAEwAhADEAJQArABEA/f8DAAAA4f/P/8b/3f/l/9f/0//M/7z/vv/A/8b/0//G/9n/z/+2/6b/pP+L/6z/vv/R//P/7//v/8//4f/I/8//9f/5/w0A8/8TACUAHQAdADgAMQBIAEQAQgBOABsA///7/ycAKwA2ADoAKwA0AD4APAApAAAA9f8AAPn/AQADAO//7/8PACUAKQAFAPv/2f/R/67/j/+L/4//k/9//3f/gf9z/5X/xv/1/wkADwADANX/uv+m/6D/pv/R//v/FwBSAHMAogCJAH8AcQBAADwANgBAAGAAQgBCAEoAXABOAEQALwAbAAsA2//t/8//xv/N/9H/3f/V////9f/n/9n/yP/N/8L/xv/b/w0ABQATAEAARgBkAGsAWABIAEIANAAnADMAHQAbAC0AMwBCAEoASABWAEAAMQATAPn/+f/5/wAA3//I/8j/uP/I/8j/3f/j//X/6f/t/9n/2f/n/8D/0//P/+f//f/3//P/4f8FAAEABQADAA8AIwBGAEYAcQBrADwANgALAPv/5f/M/8z/4//P//X/7//x/ysADQAVAAEA2//E/5r/mf+a/6r/xP/p/xkAQABUADEACQAFAPv/z//M/8D/nP/K/8D/4/8VAN/////b/8r/2f/G/7r/zP+i/7j/xv/b/x0A7/8hAAsAEQAfAPX/DwAVADwAQgBMAFIAYABMAFAARgApACsA+f8TAP3/+/8RAOv/8f////P/1f/d/+H/zP/X/+f/4f++/77/wP/I/8z/zP/R/7r/vv/K/9v/BwADAAAA/f8LAA8AIwATACkAOABWAFYAOAAhAA0A+/8BACUASgBMAEgARABEADgAHQAvAE4ANgA8AEIAIwAdABUA+f/j/5z/rP/1/wkAAwDx/77/nv+H/4v/mv+c/7j/wv/f/93/BQADAAEA9//j/+n/4//f/9//8//r/x0AXgBYAGkAOAAdAAAA8//l/8//1//r/x0AKQA0AEYARAA6AEwAXgA2ADQAFQALAAcAAAARABEALQArACcAMQAfAPH/1//P/7j/uP+i/8//xv/V/+P/zP+0/4P/g/+H/5H/mv+4/8L///8DABcAFwADAAMA7f8BAAUA//8PACUALwAnACEALQAlAC8ARgA0ADMAOgA8AEYANAA6ABUAGQAdAB0ALwAhAP//3//N/+H/FQAjAAMAHwAfACcABQDz/8b/vP+4/7z/wP+s/8T/2//7/xkAGwA2AB0AFwAVACUAKwArABUAEwARACsARgBEAGQAewB7AG0AUgAzABUA7//7//f/8//7//f/zf+0/7b/wP+y/7T/qv+k/5H/nv+a/5X/k/+s/8D/2f/x/+n/9//3/8b/3f/G/8L/yP/A/+X/5//t/wkAAQALABcAKwBCAEgAQgBIACsACQAbAAkAEQAHACEAGQDj/zgAAADK/+f/f//A/9v/tP8LAMr/2f/P/6L/5f+4/8//kf+P/8//sv/z/8j/rv/j/7j/AAANACEAAwAnAAsAvv8FAJP/0f+q/3v/3f9e/8z/nP/A/xMAFwA2AP//CwDr/9n/9f/N/xUAEQAXAHEAVgB9AFAAHwBGADwAcQB7AHsAhQAjADQALwAhADYAOgAxABkAGQAVAM//yv/G/9H/zP/j/+n/AAAAAPP/6f/I/8b/qv+D/6L/vv/1//3/AwD7/+3/9f8pACEAOAAlACkALQAXADYAKQAvACsAMQBYAGIAfwCBAHEAewBkAG0AbwBxAG0AXgBEAC8AJQBWAFYANAA6AB0AIwAJADEALwAdAB0A9/8fABEA8/8BABUAOAA4ABsAJwD5/xsA6f/R/wcApv8fAKj/8f8TAJn/DwBc/+v/qP+H/9X/J/+6/0z/Tv/P/0r/AACe/9n/HwCe/3EAzf8VAO3/nP8xAKb//f8HALL/TgCq/zYAGQAvAHMA//9KAAsA4//t/4P/yP+k/9v/CwDr/xUA4f/h/8b/tv+4/7z/nv/d/8D/7//X//n/IwAzAEQADwDZ/6r/hf+V/3H/gf93/7D/8f8XACUAPAAjAC0AFwAdADMAAQAnAPX/3f/t/83/AwDV//f/AwAAABkADQD3/8j/h/9i/3//j//z/xMALQBaAGcAiQBmAFoAJQAAABEAEwBKAF4AaQBnAG8AWgB9AH8AcQBnAGQAWAA2AC0AIQADAOP/0f8LABMAEQAjAA8A+f/x/8T/vv+a/67/vv/M//H/z//V/8//qv+g/43/qP/I//P/OABEADwAIQAbAAMAAQARAAMABQAbADYAXABeAG0ASgBIAGQAUABWADYAJwAnAA8ACQD9/9v/7//1/wEA+f/h/93/tv+e/6T/hf+2/8D/3/8FABcAMQD1/9//yP/n//3///8pAAsAAwDp//n/MQAtAGAAWgBUAEQAKwAVAO//2//V/9n/2//x//X/3//h/8r/yv/G/7j/1f/T/wAAIQARACUACwAPABkAKQA+ACkAHwARAAAA5//V/8r/3//M//X/8f8NACMA+f8LAN3/AwALAB0AfwBKAIEANAAfAPv/vv/h/7r/vP/T/9n/yv+8/93/4//b/83/z//N/x8ACwADAOn/0//G/77/0f/h//H/4f/l/83/wP/C/8b/8//3/wsAHwAhACMALwA0ADEAZABWAHUAQgA6AAUA8f+y/5r/lf+u/6r/+/84AHMAZwB7AIsAmQCqAMIAsgDAALwAxgDEAMIAmQBeAFoAAwD1/8D/uP9r/1j/f/9K/17/df9p/4P/d/+i/8D/6f86AJMAsADzANUAwAB5ACEAov8l/7H+X/79/c/9GP4//pT+3v5U/5z/IQCRALoAAgHTAO0A4QCPACMA3f+Z/2D/OP+j/oT+P/4a/gT+zv0Q/hT+lP4T/8T/cwAaAdIBMgJlApECfwI6AskBKAE+ABv/R/76/Bj8Xvsb+xP7Vvs0/N78Gv5t/8oADQJRA0IE3QQWBd0ETATbAhwBE/+U/Lf6Ffn996j3GvgH+cf61Pxa/0QCjAWMCVQM3Q6bD5YOjQyRCPMCJPwX9VvuAulc5eXjpOR55w/tZPMf+wADBQriDw8UAxaZFd8SCw7DB8QAt/o89dTwve4q7u/vnfNT+Iv97wLHB60LlA6/D7MP4A2lC1oIGAWJAn8AtP9//3kA5AH8A+wFZgcBCPYHXQc9BRID1/8C/V36fvig97L3J/kD+6r9fwBlA10F2wZLB3EGoAQrAhX/0/vB+B72MPQd8wbzn/P29Nb2x/iA+oj8MP5i/wEA2f8Z/3L+Yv1N/JT6lfmQ+A747/fl9+X3JPit+OT4ovnb+UP6pfra+hn7BftA+2L73/u5/P/9Wv+HAF4C4AOUBYgHFAnVCloMWw2NDtcO6Q6HDpUNJwzNCiIJyQcGBwsGFwbIBgsI7AkBDCcOaxBIEmQTxhO6ErwQMg6mCqwGNQO3/m37nfhy9q71efV59dj2NvgE+sL7kvz+/Nj8zvva+jb50vZC9Urz0PEP8WHw3e9F8DLwX/D88E7xf/Gq8W3xdfGk8brxIvKz8u7y5fN09B31S/bq9p33hPih+OD4Yvk++WL51/nE+Wf67vqm+/r8JP6a//cASAJdA5cESQU8BroGKgdECBgJjgknCsULtgwYD/kQABOQFacXbBkaG3YbVRtTG3gZoBgaF7YUIxRFE6ASwxOUFP8VOBjtGBUakhoaGQcYMBSnD/EK5wRK/z/6tfQN8TbuR+xH7L/sJu4F8NnxGPSJ9ZL2Zvfq9lf2C/Xe8tHwVe6B6xPphuan5NPiRuGO4CjgGOAv4ffhXuOh5XHnBeqn7BXvoPG085n1PPex+GL5pPkh+cn4ZfjC98D3vPfx9yL4a/nF+gH8Cv5n/y4BHgNeBEkFFwZ/BvUGzAe2CAkKaAs5DdoPiRI5FTwYYRoLHHUeUB5dHrIeyxw2HJUbExqwGv8bvhy5H48hSSMqJgcmkSWAI1IeNxn4El4KVAKL+eLw4uo95bThmuBC4d/jeOhK7Zjynveb+5r+RgATAEP+qvu99n/xCezM5bXgPNx/12DVNtSb04PVf9fp2U/el+E15abpnuym757yvvN39UH2l/VQ9WP0o/Ie8q3w7e9T8AfwJ/GL81D1ZfiP+1n+hgFeBAcGBQgQCU8JgAm0CDgIzAfwB0QIPAjSCU8Lqw16EcsUlhhLHZUfXCOhJaElBSjnJgEmfidDJSMm0Si0KAsski7hLjkzeTKYMKYuXCcrISAZFg1+A5j4ge215vHfHtxP3FrdZOH55+7ukPaP/UUDMAcvCdMIHwYCAX/5cPCj57nes9afz3LJmsZLxg7HR8uE0F/WlN7Y5YDsePQT+Xj8n/4G/sn8PfoU9sbxYO3D6GvmCeQN4ybkQOWr6CPt/fHH9qL7xP8QA44FHAelB0EHHgddBZUEugRpAl0DKgO9A6gGvQfeCV4OtBAYFUAaRBpMIKwiECMHKGgnXieIKqgoiSjPLB8quS9hMqExUjfmNxY3czihMfUpHCV4FwUO9AHX8+TqneHx2aXXZdYS2AHeC+Rz7WH20v5+BToKOgyNCmoHVwF794Pt5eFh1gvOkMTcvTG76bi1u6LAFMWazifXwd646dbwVPc1/qb/VwGvAeX9SvuK9t3vsOsq5lXiveCg3gHg7uJE5w7uWfQ8+1wCewjwDd8QzxIuFJESMRHLDukKYAoSB54EZQbrBMIGgwpECv0PgRTpFB0chR6PH+YlsyNvJFUozCOSJLEluyGoJm8o8CjCMcE0azi+P+s/kUFHQSk50DPwKvwcKBGkAuvzHel93UTU9NCiztvOa9Rx2kvimuy882/7owNNBQUGeAXb/xX5oPC55P3bCNPRyE/C1r0Iu/q8lb/5w9vMx9Qb3WznQu9r9oz8W/44APsAj/3/+UH2V/BV7LjnxuOg4tDhGOLR5GjpDu639PT6qwFdCU4O1RLwFecWsBZuFaURqA77C9IH5gVNA6cBbgPLBBIHcAngDY8SxRj9HfAhtSd7KictWS66L58t9y/yLLYsiDA8MI42DTriPRxEaklKSa9MGEYMP8s4BSjBHHsKjfcA6fjaX86KyMPCm8P/yYDOKtp65LHwwPtAAssGpwk5B20C/PgA7SvjbdbYyzjCZbpSt7u2WLn+vvjEHM4Z1/Te7+ca7hnzmfd0+Kv4vfiv9uX1F/Mk8Jzuteym6xPr6OrZ65vt9e9q85L2APtMAAIDZgeNCgsM8w4RDmANTQ1SDGwLOwu/Cf8JfQoqCy4MiA1lDt8O3BHLEpAVcBkBHMEeqiICJS4qSCwyLi8v6zArMxMyoDQENUg4wTwePnlAckdRRrlIIEb+PLc6CC9IIMQTVQEL8djm79WOzCLINcFxxgnMi9Ef38jpUPX5AngJ0A0IEWANugbV+xntut8L0pPDQbf9r8eseq3AsQO4vcKRz9DZw+Qm7nz0T/po+/H5OPmD9X7whesl5WPg1N2422faD9wf3/vjvOt98fP3bQBnBj4MNhDXENARRxE4DgMMzge0BJMC8QA3AYoBcQQiB4MKYg8uEgAVwRkQGVodGyD2HpkjLSHcISQjwyAjILUdzRwvHXEeXSBYIxwpOTMdPRpGVlHuVm5fn2M/Xkla4U/0Pl8uNhZ5+57ooc8Su7aufaDTntWkIKmZuTXLuNuP84EEaRD1HdMgeyCsHA8QQAB28MTbEskdubqq3aAqngecraG/rG24vsdc127jQ/IS/LUBtQWPBIwBsP1c9RDux+bz3yvbQNjJ1nfYO93P4mDpiPLh+U4C0AlJDcsQWhK0EFkP6QoGB6EDIQBN/mT9MP6OAa8DJwi/C5EQMhSPF/YXuBicGqgYaBtkGwwZbx65GSgb+h4pGeceCx7NHLcjKCYXKEY0djnfQr5Rp1UqYL1ml2XnYblcTE2mPmQrTA42+JPhPMqcup6sH6Dzom6n266mwNHO8OCR9ygFKBFbGysbaRrZFD8F+vZ65ijSdsG6sWCj4J0zm32ap6EorGa5SsqK2ErldvJH/KUBawTiA20AtPs39RDstOVZ4PnZTdh/18TXqd6R47zpZfTG+zwE1QwhEIEUJBdYFs4VwxOvD0kNjwpECDIIpQf2B1MJrwuEDScQKRJ4E6MV8xZaGFwZqhw4Hn4f9iLuH5wiOCLvHhoh7R4mHXwhhSC5Ic8qRiz2OLxDn0enVaRcAGEiaHxgU1pBUyE/bywgFRX5r+Y3z8K5a6y5oX2geKXsqwK7WM3Z4BP1gQQ4EqMbrR+7HbcTNAa49b/geM1ruHmm3JvrkvCPNpQAm2Gq07qIyqzdk+1A+woHNAopDNYJAQL/+evtL+Hy2DXPD8p3yPHHFs7b1trf3Oz2+DoEsg6tFQ8avx30HHcajhUXEHcK1gV3AtP/qAAhAlcFEwpbD0oUohqoHogfzSI1ISch8x5mHfwaZRjEF5oQ4BGsEJQOGxLpEhoVURvcI5YivjOOOspDJlbJWAJh2mxXbKFpGGpyVZtLwTrVGt4FqOnQzYm7QKgxldmU5JHJmF2q37iBzy/pI/31Dv8fQSUuKnwn0BmTCIn1vdxrxi2x/ZuSj96J+IXei7mXd6bTukHRe+HN9j0FhA3SFbgUhg8GC+39rPGM5gXaAdKazvzIcMs10UvYD+OG7tT4vARAEIEWOxvWH2Idsx0PGMAQdQzTBtIB2f/2/Bv9eAEbBBkIeA1tEA8WcRi8GKUXKxf0FeATIRRfEWAPUxEDDsMP0BNKEA0YFhueHF4n+ighMxtB3kfWU/5cT2IgbJdrIGbtYcBRy0KnKzkNT/TJ2prA6a5bnZeRT5WAl2OkSrj3y8jlHP4zEcwh8ixfMPIuYSTBE9b+6OY5z8W2KqIgk1qIyoTRhm+Ogp11sJPFUNsw8FgC1RB1GisdMRseFTcJJPrD6p7aGM5zxjW/h7+pxVPM+Nqx6Ov1KQjWE0AemSf2KLYqWyiyIFsaJRJdCfkCdf0b+dv5ZvtQ/d8CQAYBDNkQ5RKGFRgTaxQFFKcReBPsDyIPtxH6DC4SQhKMETsbJRjJIFUp/ylaOaFDb0rtXQtiLmiNdThwlW+KagRZ/kjRMngRpfg+3oDB9q5tnHqRC5IGlweilrZazXnlOf54E3EiEi/aM/YuoyfCFMX+Sul+zpy49aU1lW2OaYqAi/CV96OItmbLwN+Q9EkHwRVaHoki9iCcGn0OtP/i7p7eXdJyx9zBssLJxLXQ5txZ6gP9IAvaGY8lKSnCLUEtKChEIkoYqw1bBY37p/RJ8hfvsvFr9Zf5OQGtB8UNmhSLFqoYmxdfFjAU/w9dDYkG+gNZAUL9xQHpAqEHHBV2G/sp9jpTRNlagWcRcXx+D38Zf956bGliW3dGRirFEQ/xatd8w7uuwKPjnNKb/aXVsK2/NtYt6VgAhhNOHqknMCqIJcwduQ0t+e3l9c8JvJWrgp2aloKVupZYniSq+LiWzCXf+PBQAv0PbxooIJIgKR0FFukKLvx77azfdNOPy4nF78NuyRbQf9tR6nj4jwgQFSAdOyVpKE8ntSO3G7wSkwo6ALT3bPMb72nwl/MT94j+6gVwDRUWTR0jIB0kOyP9H0Ed4BU4ENkKegHE/RT8B/nzABcGLw0VINYpJjjGTS9Xomc+dd50knp5eUtox14JTLMxRyFCBHDn1tcAw3W0pLKxqQ6vc7yfwyDWw+hs9nwLkxmBHowmBySZG5oUEAM872vgFsytuYit+5/9mWybyZrtoEau9Lq/zNTfau1G/WQL6BFPF08XjhFPC34B7fM96fjegdXv0RTPz9AP2KfgVOti+bsF9xBMHBciuyVLJ1ckyx7YGZYQRAhOAjv6ifcF91b3gfvKAP0F3A3iFQ0cPCAyJBcieyA/HcgTaxDzCFwAoP9R+vz6wQMTBiMUlCIBLvBCElJXYHxwhXfqfPV/V3g9bHVZNkSGLnQVuPud4SzO1cDktdixM7PKtx/FctGV34rydf97DNsWThifGeYVMgqZAK7vmd0l0SjAmLLQqX2gC6Dko+ilAq+QunLH5Nh955L0hAPWDZIUWRlKGJwUyw6dAzT4Ze4B5ODceddw0/HVjdvW4QzsjfW8AO8MExbFHH0iTSWQJIkkCh8dGvUUywyABxYDyP2a/rf+Zf7uA2EFwwvYE1kVCRqPG80a9xukGCsVRxHNDnEMpgpqDQUQYRQbIJUnNDRnSCNRhWPNcEd0/3/LfpVzhmr4VDM9iCySCynx0dx5xLO77LRWrfmz9b2Vx8bbHupJ+AEK5RD7FesYrBJZC3MA7+3a3enPh7/+sr6nPp54neyfF6IoqE6yLb0IzUHb8uaV9fv/xQdGEOAR7BGxDxEGqf769CfpMuKt2EfRNdE00vrWDt/x5Sjwy/y5BTYOBxbOGWQdNh4uHEEbWRevEdANIgmzBd4FcgOxA2AGpwcJDt0S0xYLGPoYxBu0Gi4a2hdDE2US1xK9DTYSXBIXFPkdnx8MLdE6JkSiVA9fSGXHclNyOW8pZ25Rz0I9LaQUnfy038vO/cM1ucu45rfcvQTN39cl50T37wBaDOwPRQ+cDs0GtPtK79Td29A8xsa5QrCxp5WjVqbOqbSu+rSnvcDJAtXk4N3rc/VY/4AFMAqcDgoNAQofBF77QfZR8F/oKOTb3sne+uIp5fDqwPFd9lYAxgbmC90S2RRDF3Ea8hkYG9gZjxZrFDAQpQ1sCx4JLgc5BeIFBQglCswNKA2IDXoPQw3QDcQMqQekCKIGiAXECg4Llg7LFiUahygqNCs/BVCKWG5j+GyCbl9u/GTtUQlEZi0uGpoCBumw2TjOYMfhxnPGvcyk2Bbin+8f+7MDbQxWEMUQQREuDHIDv/hE6X7c79F/xOq4Ta3FpBCj4qMkpeSpJbHeu7zJd9dn5G7ye/0tBi0OnhKtE4wRvQlIAv/7tPMp7T/mHOAO4JLgfOKx6GXsdPJm+8wAwQkoE0kXwh2KIVkisSVlJN4fNhzkFSYR3Q6EC4AJlQgzCWcMtg79EXQRiA3pDCQH5gNxAov7mPzk/IP9JQraDaEZJyk+LlpBcVC2V01owGnsaIZuxGXrXUVR8DhUKmgZjgXP+Afm+NrU17XSLtL81HfXut8d56ztfvZ9/bcDBgXEBN0ETABK+0HwOOJ22QbNR8M5uf6sgKkVqNGmIaxsr7C4RMZj0BfdgOqJ9ekAbAcKCzEPmQ/ADLoGSv8z+TPzy+z25gLjMOJ147fmMes58Yj4kv7CBPgLiBEwFv8Z4RoNHO4dzhuxGT4Y3BMgEdIPiA1FDXwNjA06DnwP0BG9D5gO+A2hCcUJwQntBsQIlAlSDA4T3RayHvclBSz3N4k/fUcqUl9WDll8WkRXVVIVSJE5DCk/F7sLQvv36wXi9NhH1ojYBda+2QrfWuMP6wfvLvSZ+/j8e/8QAZv+xP+v+mTv/ubm3PnRGMghu62xi61QrLKszbCSuA7D5c2H2XLkxu9v+TYATAQdCIYLOgwtCtAHMwN3/9/7avVt7sHqJefN5vfnVeqK8I/3nf4LBogL+BEtF78XuhjYF0QWfRQnEvEOWw0BDFQMfgs6DBcOJQwyDsENdwzEDJkLjQiKC/AJ/ApZEacP4he+GrIchCNoJ48rUTJiNRo35z+sRJRMU1ASUFdOh02XR9g9/y/2Hh0SHgWV9+vr6+O43XzcadzU2dvcOOCg4KXkg+WX5TDsduxc7/3vQu8V74Prq+Tc3J3T38j+vgm2ArGNr8Ow2LPmuSLEjM4C2cDjTuvE86D7NABCBmkK8At6DeALHgluBWH+7/fH8LDpDObt46HlROlf7tH1cf3sBTMNLBJjFvIZiRyKHWAdThy9G+4ZVBgzFbETIhMhEvIRXxANEEMRow83D1IOUQkrCv8FIQZPCdsIqQ9nEqgWeR5IIGIniCxXLn41qzX2PEdFtUquUTpStFEZUetLDEE0NrsjwxaOCZL6o/Lb5w/j/OAD3mrdY94A3eTg9OA05Jfn1+nI7bXwxPO09Tnyl+3U5VDdhtSoyPO/IbcitGOyq7XAuXrBtsmt0KbaFuLv6YXxo/Qe+jP/agPMB2gJ8QhbB38C4vwQ9izwkOp155Lmveji7vP1Av3fBO0Ihw7eEXYTdxYmF1YYAxoBGjUbmxsuGmQV2BEBDJ0H1QZpApUC6gNtAuQHOgqoCl8N4gusDEoOewxTDa4SKxNvFngXUxc1G2kggCG2JN8qFis2Nq4+SkVhTGNO30iHSUtEKzcYMQEgZxLVDE79v/Qj7+fjp+Kf337WDtU81CbSj9c92XTbjeVm67LtKvLe8kbxU/BK5xje/tgn0zDOJMyoyGXIWsuozCPPmtIO0//XP93m4MznPe778+37agFBBXkIrAbRAg3/HPqF9Zbyme9977Hws/CY8jb2AvlD/Hr+JAE0BnYL6A9UFM4XCRqjG2YbLBg2FMgPQgwpCqII4AeZCYQLaQzRDK0LYgu3CyEK+AcTBlsFpwfoC5gQMBTNGOgbqxuFIIMcUiAoJlUltDAvMSg41UKoRtpJyEkJQKw6djMdJv4cwREmCSgHIgGM9hXxheV64jDe6dXu0JDOo88x1W/aR95Z5Kfq4ux17fbqAOd15QPka+BG3xrcZtky2DfVW9JS0RvNhcuJyy7Mh9Ej14bc2eUP7TD0nvlg+6n+uAJuA90CzADv/c/9VPsj+ef1L/Nh8jHxcPJS8xL0lviN+zkBzgUtCMoNKxBJE8MVtxV9GGEY+BijGZAY4hlKGGwZUBgwGBQXHRRNE0AQBxBHDwcOcQ7YDSMQERKsFk8XmRuKHcof7CVjJvosBzAWM9k4JzmKPL8+Az5pPjU5rzMBMKwolCTHHCEUSg59BgUARfg/8GXqG+dC4xjiqt/k3jnht+LC4/vjMeOI5F3mguia6mXoJOwh6wLrkesI5ULlDuKu3wvgJNpB21PYQNjN2MTXAdrY22Ldt+Ax4Vjlkedr6iHtNu4J8WTzlfUt97/4ovlI+wH8ufyT/UH+C/9kALwABQIKAx8EuQUgB/EIWws3DcwP/BBjEpYSMxN8EwEUfxQ3FSoW+BatF20YwxgIGQYZPRnIGVoaEBudG/0bXhvRGngZThhGFqkT3BGpD+wNUAywCmwJUAjwB2cItghdCY4JsQkDCgsKIAt7DHYNjQ4KD0UPIxBjEKsPxg4tDakLCgucCjIKiAlUCAoHUQW4Am//SfxA+bz1UPNT8C3tI+uI6J7mxeQK40niuOEO4kPiiuIT4wjjpOL34QDhOOBE39feQd7b3czdm90Z3XbcDdyh233bctuF29bbI93N3oLgjuIj5fvnH+ua7uvxKvb7+ez83v7IAKwCUwV8BzUJ9QppDCAPSxEgEyAVKRerGS4cwR5LIVcjhiUIJ+wnGSgWJ0wmWSSqIgwh7x7ZHF8aQRckFawSFxAwDpoMvgzbDLwMywxgDX8O9xD8ElgUEBVPFTQW8RazFwgXDxbCFJATixIGES0PfQzmCRkGiwKc/UT5JfUv8U/u2uq65/bkt+LJ4BjgPt4I3TzcpNzp3dPef98K32jffd9730TfTd7O3fbewt+v4EXgXt/v35Xf/d+X38neN99L4Dji9eOb5XXn9ekp7SDwpfJ19b34uPvW/tEAawITBB0GiwhzCjYM+A08EPUSdhUBGPAZfxxHHwcivSTTJrEnrigWKSkpxyijJw8mfyRzIhMg7xxXGXgV+xFhDs8KZAcjBNwB0QBCAJcA4gHKArAEbQYnCKIKRQ2lD/YRjRLIExQVMBZVF3IXrhbIFVIUIRIdEN8MEQrtBkUD1/8e/An5p/ZR9L7xKe907F3qAOn75ynngubl5arlleUP5ejkEORY42nisOEC4SDgO98V3z3faN9Y31veSd4u3nbemt4a3kDev94J4IHhDeNf5IDmceix6t7skO4l8dPzFfdJ+mD9HQAzAyUGJgnQC8oNShC8Eu8UVRejGXQbuR0YH4UgjSH5IUAiRiIPIqEhhSAtHzUd8xoZGPwUMhLbDtwLNQnPBhoFMgSUA6sDGQQaBSgHZAloC58NSw+/EbgU+BZHGQMarhoaGwIbzRqZGZMXuRW3E4QRZA/GDFwKYggfBmMDAAAe/Eb5xfb58yfx/+1M63fp3ed65hflQuMY4kDh0eB+4Ovfnd//3xjgKuAO4KPfIuDu4EzhcOHg4HzgpuDT4PbgmuAO4Dzgs+B54SDiweLW46Xl0Oc96j/sZ+418TD0/PZx+Z77Xf6dAQ4FGwjCCo4NxBDqE3MWSBj0GdAbrR0mH7Mfjx/hHlQech2RG3IZGhffFPoS+RDzDt8MKgtACoAJoggPCIAHCwi0CIgJWgomC4MMCA8kEc0SSBSSFJAWMhj2GM8YgBdcFtcWjRYFFlMVkBPEErcRxg/cDUULgwjdBgUE6QDZ/UX6FPjO9RnzcPCN7QbrLuoE6T/oROfS5VzlQOWU5O/jr+Lf4e/hn+ET4VPgN99C38LfYN+t3rjdat0u3rve3t4A327fSOFz4wblDuZ15/Xpp+wd7/Tww/I69TD4Eft3/Wf/swG4BMMHawqLDJMOKhHBE6EVDhf5F9EY4hn0GZMZ6xjMF3wXWxcZFhAVlxOeEssSYxKdEe8Qeg9oD10Pjw7KDaAMqwuOC6oK1AkqCXMI9wiGCeoJTgrtCqEL+gwyDtQPGBHFEUgSdRLLEiATPRPCEiMS7xDKDzIOGQzyCa0HOwXGAvv/E/0v+2T5N/jF9vb0MfMK8uTwMvAN75vtNOzi6uHp0eg357DlnOSB49zixOEl4ejgBuEz4WLhKeFQ4cDhgOKB48Dj9+NB5BXlReZc50vopOkp63/ttO+f8dfz3/V8+Kv6p/ww/sz/fAFXA88EKwYmBxUINQl/CtILqAx6DScOkg+cEJcRRBICEwcUNxURFtUWiBcNGIkYkBhpGOAXUReDFk0V2BMhEpIQiA+wDjYOGw6tDQ0OXg41D3EQVxHuEWsSPBLhEg8U+BTQFWQVnhRtFBEUgBPHEsAQUQ8bDjQMXgrJBwYFCgNzAHH9P/rU9tz0OvN58WDvAO1O6zTqOek26P7m1uVc5cHkDORA44LiaeK/4ubi7uKE4nHi8OIK4wjjueKE4ivjFuTH5InltOUJ5hfn3een6J/piupy7IDuLPDl8TfzAvUn97/4Evpc+8H88P5hAVUDHAWNBkQIfwqBDDAOKRDMEbUTwxXzFlgYfBmSGiEc+hwWHS0dzRzPHJ4cURtAGvoY1hdNF4gVihO1EZ8PUA4GDRgLPAp+CWIJwgpTC1IM1A2oDm0QgBGIEf4S2BPXFEAWmRVuFW4VgxRQFNcSWhAoD80M6QpFCQsG6AN4AYj+Zfwz+UP2tfTq8t/xgvBb7v7s/esr6xvrBeoT6bXoyuc150/mxeQM5CfjU+L54cXgaeCa4BjgvN+W3ondmd2d3Qnewd783sTf8ODt4XfjzeQ+5kvoV+q77BfvM/Gu8xr2HPhF+gT8EP6VAO0CMQUcB8sI6Qr3DCAPfBFZE5cVWxfLGFIaIhsbHOscRx2zHcAdqR33HbcdSR1jHH8aahk0GG4XvhYYFXgT5BH7D64OOw1iC7YK0gmKCf0JKQr7CiUMxAyMDasNGg0VDrgOow+PEO4PnQ+9DzcPUQ+iDgINqgxqCwcKoAgTBicEZQL5/wL+h/s6+ZL4nvfW9nP1SvP38THxP/CV723uC+2a7JPrUeqp6GHm4uRk4+vhiuBh3ivdgtz/29rba9pE2frY4til2SraXdqF25TcON5r4OfhAeSC5hHp++tn7lvwJfO+9Yr4I/vy/H3/XAIwBQUICwqxC/YNyA+hETcTERSXFboWxhfHGDkZwhmaGtkabhulG/Ab0xxNHeQdnx2mHO4bQRtfGk0ZGBcWFQ4T6xC1D5sNlQs2ChwJywgSCeMI2gnlCnwLJg0cDYwNHA/2D5UR2RL4EZgSmBJeEhwTyBHFEDQQyQ6jDS0MvAjzBkoEZgFS//n7c/nv99f1AfTS8cXuVO1q6/fpzei/5l7lWeQP49LhNuBR3p/dt9wD3Hvbu9qW2q3afNog2ovZStnt2aDa7dvT3JndMd/m4BfjYOVm5wzq+Ozf7yHzzvU9+Or6TP2a/+wBgAOQBYwHjAmVC9sMCw6nDywRBBOHFMEV5xYfGGIZfxomG2Ab6BtQHPYcxh0ZHlIeOh6KHdUcgBsHGtUYZheCFVsT3xBSDlAMHwqeCFcH6AWpBeAFaQYNCHAJugrJDLcNRw9kEaAStBTsFdQVnhYVFjsVaBWtE8cS5BHSD1IO5AvJCKIGbgP7/1b9yPmg9xT27fNX8jDwEu4X7abr1eoY6oDoA+je5lzlEuQo4qDgpd863j/dLNwt22jbL9vL2knadNnG2Vnax9rh22HcH93H3tTfrOEd4+Dkkee86enrXe4s8KHyFfX+9kj5F/vW/HP/mAG/A+wFZgeGCb0Lyg0nEOAR5hMuFvsXsRndGqkbjhw/HZUd9R0PHk4egR77HS8drxsTGqQY1xY7FSITthAiD/4MFAt2CXYHywZaBpoGfAdECLMJuQvzDHcOkg86EGESjhPTFMwVYhVVFTkV0BMGE0ERcg/6DkkNwwvsCU0HRQUgA2//Df1F+gH4Pvcx9ZnzpvFK7wHudOzH6ufppejt51Tn4+Wc5KniHeE44Pjemd3H3APcV9xt3P/bvNs/29zb3tyX3dXe498X4fbiT+SD5eTmdOi76kTtRu+R8arz0fVb+O35ZPvN/Cr+QAAlAt4DlgUgBwAJEAu+DHkOERCxEaUTFBURFucWURcwGO0Y9RgMGeMY/BheGRgZsBgPGA4XjxbGFW8UMRN4ES4Q3w7lDE0LsQlCCMEH8QaBBtMGMwe4CB8KqArHC1YMlQ18Dw8Q9xCCETMR7BFmEScQcA8JDlkNvAyiCiQJQwc7BScEYwF2/o78Afq/+HX3VPUO9JryUPG/8Nruke3V7OPri+ty6pDoSufA5avkn+PU4abg0t8v39PeFN5q3VzdZN263dLdxN123ljf6uAw4j3jt+S/5vDoM+sj7R/vl/FF9O72SPk1+179nP+lAZsD9wSeBqgIUgr6Cz0NZw7ID4ARvhLkE+cU6hUzFwMYgRjdGKQYCBl8GU0Zbhk3GbAYZRhLFyMW+hSCE3cSEhFTD/oNZwwiCxkKyAjWBwwHzwZVBwUIFgkTCi4LSAwQDR8OHA+tD6AQ5RASERwRQBDKD/MOyA0GDWYLmQlWCFwG0wT9Ak4AFv5z+x35UvcV9Vbz/fFX8ETv0O1f7HnrcOrn6RPp6ecI5zDmQOV65Bfj/eE54ZjgVeDW31jfL99y3+HfOuBz4C3hPuKd4yPlaebj57Tp9+sH7tvvvPHz81P2zfjY+pT8X/5MAEICyQMABUoGIwgLCsMLJA1UDuwPoRF4E4UUSRWkFqsXgxgOGeEY1xjFGLIYfxibFxwXBBe2FloWsxWwFAkUZBNWEoYR9g+UDrcNcww/C+4Jmgg0CLMHNQc1B88G1geKCVYKggsuDMcMhw5kD94PAxDvDgwPwA5JDR0M+gk+CGoHhAXFAwUC5/9A/9X9SPsC+WX26vQg9E3ytfAv7/Ht4+0N7dfr0eqy6YnpVOky6AvnEOaD5VTlZ+Qt43HiW+IP44vjl+O+4wHkweS+5RTmjOaJ5wrp2upB7Ezthu4c8P3x4/N39W/3uPka/LX+bQDUAYwDMwW8Bv8H5QgyCpQL+QxvDk0PeRAHEjMTZRQ1FaMVcxYKF1kXhhceFwoXHBfTFqgWMBanFU8V9RRYFJcTixJoEZYQIA+pDTIMxAr9CRQJTAjBBxoHywYWB1cHmAh+Cf0JEgsWC6sLgwwRDDIMxQvpCvEKswliCLUHDQYkBb8DcgGVABH/GP6y/ZH7+/mS+L/2DPat9C3zsfKD8U7xw/BU7wfvO+6d7TXt9+sE6wfqAOki6L/mK+VH5JHjXuMt48PiF+Ng4ybkBuWX5bHmJOhW6QbrVezQ7fvvDvJN9EP2yvee+X37PP0B/3kABwKSAxAFXgazB/wIxAopDJUN3Q7aDyARHxL+EtITgRQtFfsVSBayFgwXEBcrF88WDRajFQYVjxQnFF0TqBK5Ef4Q/Q+wDl0NQgwoC04KRwn6Bw4HTgYrBvAFtQXKBV4GgAfTCLUJPAqcCkcLZguuCksJuwfNBiEGBAVfA5YB4f8B/6b9Pfzc+tv5pvlz+fT45/fk9ob2U/Yj9f3zq/JT8qHycvLA8Zrw1+8I8KjvLe+z7mPuku6l7hzuYO2Q7HDsFe347C/tZu047tLv+PAc8vzy6/ON9fL22fe1+Jv5Cftl/DP9Av7D/icAkAGVAigDggNSBE8F1AUtBpwGAAfgB9kIXwniCYMKUQtEDKQMxgwWDTMNPQ1JDY0MBQxdC3UKAQrRCPgHhgfNBpUGPAZ2BWMF8QSmBLYEMQSJBNcEcwTTBLoEyARsBV0FigXgBcwF/gaXB+oH9QgACcMJaQotCpMKhwp9ClELxAprCjQKJgk3CbQIqQdXB04GhgUIBbUD0QLiAb4A9/+O/lT9Yfxz+4r6qvlH+Fj3IPYZ9fXzyfK08aDwoe+W7onts+xH7NfrsOu266LrAexv7PTsje0q7gbvKPAR8SbyOfMq9IH1wfay98P4nvni+jD8b/3H/g0AaAG+Ar0DkQRRBQ8G2wZ2B+wHbQi2CDEJggmKCewJJQp5CvcKIgsqCy8L1QqkClwK3AmUCS8JEgn7CNMIzwjJCOsIDAlBCXYJdAmCCYIJDgnPCJYIUghOCDQINghGCCsIhwiPCIUIngh7CIsIbwgJCJQHIgdnBi0GXwXABFIEigMQA28CoQH7ADYAZv/F/p79vfz3+0b7nfrX+RP5S/iP9+j2NPZ19f70bPQM9H/zL/PD8oLyDvLl8brxg/Gb8WLxnfGs8czxHPJ08tPyefP38830yvVN9jX3//cP+Rz63vrG+6v8Yv0c/uz+f/8nANcAcgEHApEC+QJ0A8kDWAS+BOsEHAVDBXYFeAWnBdAF5AUjBm8GLwZGBmkGbQacBm0GbQZCBvIF2AXOBaUFpQW3BdwFRgZWBpEG3QbbBgoHCgfpBvMG5wbzBhgH4QYSBxwHAAcoBxwHAgcOB9cG7wbIBq4GkQZKBhEG0gVLBd8EWAS7A5ADDgONAjICiAHlADgAQP+z/hj+ZP0D/Vn8ovsR+x76ifnu+Cr44fdA98H2T/bZ9VT1I/W99H70R/Qq9Cb0GPRH9HT0cvSr9NL0IfV39bz1HPaz9gv3m/cs+OD4kfn5+YT6Ifug+1v80vyF/TX+u/5A/7z/+/9GAIcAugDjAPkAMAF8AccBDQIhAjwCRgJnAoECoAK0AucCIANDA2YDoQPwAxUEVASBBMsEBgUaBT0FPwUzBT0FWwWCBZQFrQXYBfwFLwZlBn8GoAbKBrgGqgZ7BmIGawZxBjgGHwYXBvIF4gXJBaMFiAVVBRAFsARcBPADxQNdA+cCWgK/AVsBIgGoACcAxP9C/+7+av6q/Ur9p/xX/AL8ifsh+636X/oo+sT5SPkP+dL4kvg9+Cr4IvgG+DL4LvgM+AH4DvhD+Gn4r/js+FT5svlN+rv6Lfv3+3z8Jf13/c/9Of7N/iX/cf+X/6T/tv/A/9//6f/z//f/BwANAOn/5f/j/wsAGwAXAPf/5f+8/4v/VP80/0D/QP9x/1z/df+q/9f/CwAZAEAAdwCZAOkASQF4AfgBbwL5AooD/wOVBCwFmwX/BWcG0wZbB70H7AcXCB0IRghaCGUIUAhnCIcIPAgHCMUHWwflBj4GjgXvBFYE1gNPA4kC8AFfAQwBhQAAAI//Bf+r/j3+2f15/Qv9lvwy/Pv7m/tk+0D7QPsd+/769PoH+zj7RPtk+1T7e/uV+7D7tPug+8z7Dvxh/Jb8u/wC/VD9ff2R/ZH9oP3T/fP9CP4K/hb+NP4U/u39uP2u/aL9ov2e/VT9Lf3c/NL8yfyz/Kn8o/zN/Ob87PwN/R/9SP1o/Vr9lf28/fP9Tf5H/oD+3P5S/8D/DQBMAIEA4QAsAUsBnQETAkgC5wJPA84DXASwBAwFWQV2BdIFFwZCBrAGxAbCBsIGyAbCBp4GewZ3BnUGJQbQBVkF6QSYBDIEwQM3A8sCeQJCAtQBUQHhAIcARADz/6r/Sv+9/mr+DP6F/Sv9E/3W/P78wfy7/Kn8kvzD/Nr8+Pwf/SH9I/04/TH9gf3A/dX9Lv5d/p3+zf7U/tj+1P6v/tD+7P7i/tL+0v65/rP+kP5J/hD+0f3A/bT9pP2J/W39Lf3Q/HL8Mvzz++P7uvuy++P7/fsg/Aj8Fvw7/GX8lPzw/CP9b/2m/aj92f39/XD+4P4+/4//4/88AKYABAFqAdQBKwKTAggDUwO3AwkEOgSPBKAEtgT9BO8EIAUuBSIFTQUgBQAF0QSaBIMEZwQ4BCEE5gOzA4ADPQMMA+kC8QLVAp4CZQL0AdoBnQFVASQBwgCZAI8AdQBCABkA4//T/8b/zP+T/5P/bf9m/1L/K/9Y/2//e/+w/8r/2/8HAA0ACwAfABkAJwARAPf/3f+V/3n/PP8t/w//Lf8J//z+9v7k/rX+Vf4c/uf9tv2c/Xn9df13/Vj9Qv0h/ej8zfzD/Mn81vzW/Mn81Pzi/PD8H/0n/Sv9a/1r/ar92f39/UP+lP6O/s7+4P4F/y3/SP9i/z7/Ov9I/1r/jf+V/+H/BQAjAFgAawBcAHkAgwCwAMgA4QAeAfkACgEaASYBRQFfAV8BmAGnAZgBmQGMAZ0B1gELAgkCQgJxAoECmgK0AuECAAMQAzcDMwNPA0MDIgMcA/MCogJ/AjQCDQIRAuoB7AGnAXIBbAFZATUB8wCiAIEARgD3/6j/Vv80/wD/zv63/pr+U/79/cL9if11/VL9Lf0P/Qn9z/yE/Gf8MPws/Bz8Avwc/Dv8Ofx6/MP8/Pw2/Uj9c/3A/e39R/58/sf+Hf8Z/0r/d/+H/57/2f8FAFAAbwCXALIAwgDMAMYAwADfAPEAMwGjAdgBDQIxAh8CIwIrAiECPgJGAkoCQgIyAkQCGwIhAhcCBQL6Ad4B3gHLAdIBuQHBAaUBuwGnAaEBagE7ASwBFAESAfUA6QDlAM0A1QDrANkAyACwAIUAXABMACkABwADAAAA7/8AAAUADwAJANX/4//K/7r/xP+g/2v/QP8R/z7/L/8v/0D/K/8f/xv/A//S/tT+v/69/qf+p/6t/rn+zf6h/nz+bv5f/lP+P/4U/gH+9/0G/gz+Ev4a/g7+9/0k/h7+Iv43/kH+KP5J/jL+Rf5V/mX+jP6a/rH+u/4H/wf/Lf8t/07/Zv9i/5n/uv/5/z4AewCZAN8A9QAmATsBMAF8AZIBqQH8AQUCIwI0AisCXAJlAokCjwJ7AlYCSgIPAvoB4AHWAeYBwQHmAfgBBwIFAtwB0gGvAXIBTwFhAVEBaAFfAV0BXwEzAQ4B3QCsAJcAawBUAC0ALQAPAAsA8/+s/4//UP80/yH/B/8B/wn/9v7u/tD+rf5h/kf+U/5d/m7+jP6t/q3+mv5w/l3+MP4u/iz+Dv4Q/gL+Av4K/gT++/0I/hb+Iv5P/lX+Uf5Z/lP+X/5f/mX+s/6z/sf+/v7y/in/Lf9c/4f/oP/M//n/LQA8AF4AYAB7AIEAqADAANsA8wD/ADUBOQFbAV0BbAGfAY4BmwHFAZkBhAFbAWMBbAFqAXQBfAF2AV0BOwE9ATkBNQFLAXIBfAGQAZsBkgGdAZ0BmAGtAakBsQGZAZgBbAFbAXYBaAFbAVMBTQFPAU8BNQEzAQ4B3QDrAM8AzACsAKQAfwBaAFAAKQAZABcAAQDv/8//1/+V/3P/VP8b//r+7v7s/sv+xf6h/nb+U/4o/uH92f2y/b79jf2F/X39WP1Q/Rf9Pv02/V79l/3j/cL93f3M/dn92/3M/e/98f0U/i7+T/5b/oD+Wf5Z/oL+kv6x/s7+AP82/3v/k/+u/8T/5f/z/wMABQATAA0AIwAtAFoAeQCXALIAygDEAM0AyADMAPMA+wAwAVkBhAGhAcsBwwHsAQsCAQL/AQsCLwJOAnECcQJtAloCYgJSAkACPAItAh8CBQLSAbEBggFdAVMBUwE9ASwBEAHjANEAnACgAGIAXgBAADgALQAhANn/uP+s/8D/nv9g/x//0v61/pj+Y/5V/lP+Sf5L/l3+Of47/j3+R/5w/m7+bv5n/nT+aP5f/pD+iv63/rf+t/6h/or+jP6W/qv+mv6p/pL+pf6t/iH/3v4f/z7/I/82/zj/c/9n/5X/Wv9//2b/wP+i/+X/7//d/83/4//h/8L/2f8BAD4AEwAVABcAQgApADoADQD1/+H/7f/t/wsACwBMAF4AcQBiAHEAXABeADwAUABiAIsAzQDVAPEA7QDpAOkAyADfAOUAFAEsAVcBSQE/ASQBFAEQASAB/QDjANUAugC2AKwAkQB5AFAAPgAxADMAPgBSAD4AQAA8AC0A/f/b/9v/zf/V//P/5//5/8b/zf+B/1r/I/8d/w3/Jf80/2L/Yv80/zP/Kf8j/yX/Ff8H/wP/+v72/uD+8v76/gf/Pv88/z7/YP9r/3n/f/+H/4f/bf9r/1b/Sv8z/zP/SP9c/2L/kf+V/7D/sv+g/6j/h/+c/43/l/+k/6T/oP/P/7r/yP/I/8//BQAXAA8AFwA2AB0ASAAnADEAHwBMAGYAhQCPAGcAVAAxACkANgAdAA0ACQAVADYANAAHAPv/CwABAAcADQAJAPP/8//E/77/tP+y/9X/1/8DABMAKQAjABcAIwAbADEANgBiADwALQATAA0A9f8RAAcA4//z/9//9//l//f/5//V/8//sP+H/3P/ff9x/4v/qP+6/8//4//r/8b/9f8RADYAPgA2AEIAPgBrAGYAewCNAIUAgwCDAGcAPgAxADEAVgBSAFgARABWAHMAXABcADYATAA6ACcAFwAhACEACwAfAPv/5f/C/8j/zf/l//3/IwA0AB8AIwARAC8ANAAxAEYAPABtAIUArACuAJ4AlQBnAF4ASABMAFoAZABgAEYASgAdAAMA7//d/+n/3//T/9v/wP+o/5X/e/9p/1T/PP9k/2//h/+a/8D/0f/A/7T/sv+u/6D/h/+T/4X/h/+e/6T/tP/E/+P/9/////n/+//r/+H/3f/P/8z/+f8XACMAGQARAB0AQABCAC8AKwALAAUA+f///wUA//8FAPH/EQAXAAsAIQApACEABwAPACMAMQA+AF4AbQBGACUAHQArAAcACwAbAP//8//f/9X/xP/M/8z/uP/M/7r/4//b/+//9//7//v/1/+6/6T/nP+8/+v/EQBUAHMAZwB/AH8AjQCXAJkAqACoALYAoACeAJEAmQCZAHUAUgBEADYAMwAtABcAEQAPAB8ADQAhACEAHQAjABcAEQABAOH/zf/X/9f/1//Z/+H/vv+4/9f/yP+4/6j/jf+T/3n/f/8+/zb/Mf8x/1b/Zv+X/4//pv+Z/5f/qP/R//H/9f8XAA0AFwAAABcACwD9////6//v/+P/5//l/+v/z/+q/7T/wv+i/6T/qv/N/8z/tv+s/7j/zP/l//H/+/8DAAUAKwBKADwAMQA+AG0AeQB1AFAALwA6ACUAGQAxAE4AVABMAE4ATgA6ADMAFQAhACEAHwAhACsAQgBWAGAAkwCFAGYAXABiAGsAUgA2ABUAFQAHAPn/FwALABMADwABAPX/6f/N/9P/oP+w/6D/qP+8/7r/zP///x0AQAAvABsA+f/z/9//yv/N/8D/xv+4/8L/1//n//v/7f/r/+n/CwABABkAJwAZABkALwA0AEIAQgBIAFIASAA0AC0AIQAfABMAAwABABcAFQAfACsALwAvAPn/uv+Z/23/Xv9W/1j/WP9t/4v/rv/G/7T/vv+4/8L/2//b/+f/5//l//P////5/wEACQAPAB8AOABEAEQATABQAEAAVABIADMANgBEAFIASABMAFIAVABpAFYAWgBIADMAOgArACkAPAA2AC0ALQArAEAAYgBcAFwAXABAAC8AGQABACEAHwAPAAMACQAJAAkA+//5/93/0f/C/7b/if91/2D/VP9A/zr/SP9I/zH/PP9Y/2b/cf9n/3P/j/+c/57/rv/Z//n/AwAAABUADQANABMALQBAADoAWgBtAHMAhQCFAI8AjwCPAHUAYgBMABkAEwAVACUAHwAnADEAOAApABUABwAAAAUAEQApAC0AKwAvAAkA3/+g/5r/jf+i/7L/tP++/8T/9/8XAEwAUABIAFwATgBKAEAAMwBYAHEAeQCFAJEAiQCPAHUAbQB9AG0AdQB3AFAALQA2ADEATgBiAFYAPAAvAPn/4f/b/8L/sP+m/6b/tv/E/8L/0f/A/7L/z//r//n/7f/z/+v/1f+o/5r/hf+V/6b/uP/A/+X/BwD3/8z/rP+m/6r/0f8JACkATABiAEIAKwApADEAKQAXAP//9f/x/+H/2f/f/+X/3//h/+n/+//d/7T/vv/M/6z/mf9//33/nP+i/6j/zf/P/+P/8//5/+//4//X/9P/xv+q/57/ov+Z/6T/qv+o/7D/ov+g/5P/mf+c/57/wP/T/9//4//n////DwAxACEAGwAtADYAPABKAGcAZgBWAIMAhQCcALQAtADRAMYAwADMANkAxAC0AJ4AoACwAMAA4wDfAMYAmQBzAGIAYgBSAFQAZwCLAIsAlwCVAH0AXgBGAC8AEwARABsAHQAdABUAFwApADEANgA+AEAALQD5/wEABQAZACEAGwD3/+f/+//j/8T/sP+V/4f/Z/+B/5H/h/+T/4f/af9m/1r/Sv8N/wP/+v74/g3/F/8l/0r/Vv9r/2//i/+N/5P/pP+X/5n/oP+u/6r/pP/b/8T/0//V/9P/uP+i/3n/YP9p/2b/Zv9t/2D/Sv9g/33/g/+a/7D/vv/j/+H/6//b/+X//f/9/x8ATAB9AHUAeQB7AGYAawBKADYAIQAfAEIAZgBxAH8AgwBtAFIASABGADMACQARABcAAwAVAB8AHQBEAFQAPgA6ADoAPgBCAEoAWgBYAFYAZAB7AKYAxgDtAP0ABAH5AMgAsACoAJkAiQCNALQAwgDGANkAzwDCALYApACcAHEAQABAADoAMwArADMATABIAD4AKwAbAAMA7f/V/7j/qP+e/4H/g/99/4P/if+V/3P/WP9W/0j/I/8R//b+5v7m/ub+7P4X/zH/QP9O/0D/Tv9m/23/mv++/9X/BQAxADoAPgA8AEIAQABrAI8AoACoAJkAngCRAGsAXABnAEQAIQAlAC8AGwAhAD4AJQATAAcA4/+6/7b/1f/j//X/8f/7/wMACQAJAPn/6//d/8r/yv/p/wMA7//3/+3/+////+n/3//X/7r/zP/n//f/8//v/+H/xP+6/7T/sv/b//P////9//X/7f/n/+v/DQAFAA8AKQBEAEoAYgB9AHMAYgBgAE4AOAAxAEYALQBKAEQAUgA8ACkAGwD3/+H/0//n/9//1//C/8L/wv/d/8z/0f/T/8r/2//X/+H/7//7//n/HQAbADYAVgBgAIMAmQCuAJUAfQBnADMAJQArAD4ATgBUAEAAFwAVACMAJwAjAPn/0//E/8z/2f/j/+3/DwAhACkALwATABMAHwApABMABwAfAA0AIwA0ADMARgBEADoAEQD1/+P/0f/Z/9v/wv+0/9X/1f/Z//H////j/8D/oP+D/4P/df9k/43/rP+a/6T/qP+m/7D/qv+g/6L/pv+k/6L/sP+Z/6j/sv/C/9H/1//K/8L/rv+0/83/z//C/7z/tP+u/7L/wv/G/8b/tP/Z/9n/2f/X/9v/8f/5//X/+////wUA8f/5/+v/3//h/93/4f/h/+X/3f/v/w0AAAATAAsA//8tAEwAZACJAJwAogCqALAAtACsAKgAmgCaAJoAuADXAOEA6QD3ANcAvACqAKIAhwCHAHsAiQBzAFoARgAnAA==\" type=\"audio/wav\" />\n",
       "                    Your browser does not support the audio element.\n",
       "                </audio>\n",
       "              "
      ],
      "text/plain": [
       "<IPython.lib.display.Audio object>"
      ]
     },
     "metadata": {},
     "output_type": "display_data"
    },
    {
     "data": {
      "image/png": "[encoded data removed]",
      "text/plain": [
       "<Figure size 640x480 with 1 Axes>"
      ]
     },
     "metadata": {},
     "output_type": "display_data"
    }
   ],
   "source": [
    "random_audio = get_random_audio_file(test_dir)\n",
    "show_sample(random_audio)"
   ]
  },
  {
   "cell_type": "markdown",
   "metadata": {
    "id": "f-jRIWcQv7xt"
   },
   "source": [
    "## Define the model"
   ]
  },
  {
   "cell_type": "markdown",
   "metadata": {
    "id": "pQj1Mf7YZELS"
   },
   "source": [
    "\n",
    "When using Model Maker to retrain any model, you have to start by defining a model spec. The spec defines the base model from which your new model will extract feature embeddings to begin learning new classes. The spec for this speech recognizer is based on the pre-trained [BrowserFft model from TFJS](https://github.com/tensorflow/tfjs-models/tree/master/speech-commands#speech-command-recognizer).\n",
    "\n",
    "The model expects input as an audio sample that's 44.1 kHz, and just under a second long: the exact sample length must be 44034 frames.\n",
    "\n",
    "You don't need to do any resampling with your training dataset. Model Maker takes care of that for you. But when you later run inference, you must be sure that your input matches that expected format.\n",
    "\n",
    "All you need to do here is instantiate the [`BrowserFftSpec`](https://www.tensorflow.org/lite/api_docs/python/tflite_model_maker/audio_classifier/BrowserFftSpec):\n"
   ]
  },
  {
   "cell_type": "code",
   "execution_count": 13,
   "metadata": {
    "execution": {
     "iopub.execute_input": "2022-10-20T11:18:59.406688Z",
     "iopub.status.busy": "2022-10-20T11:18:59.406448Z",
     "iopub.status.idle": "2022-10-20T11:19:03.166441Z",
     "shell.execute_reply": "2022-10-20T11:19:03.165547Z"
    },
    "id": "tUcxtfHXY7XS"
   },
   "outputs": [
    {
     "name": "stdout",
     "output_type": "stream",
     "text": [
      "INFO:tensorflow:Checkpoints are stored in /tmpfs/tmp/tmp61i17piu\n"
     ]
    },
    {
     "name": "stdout",
     "output_type": "stream",
     "text": [
      "Downloading data from https://storage.googleapis.com/tfjs-models/tfjs/speech-commands/conversion/sc_preproc_model.tar.gz\n"
     ]
    },
    {
     "name": "stdout",
     "output_type": "stream",
     "text": [
      "\r",
      "16384/18467 [=========================>....] - ETA: 0s"
     ]
    },
    {
     "name": "stdout",
     "output_type": "stream",
     "text": [
      "\b\b\b\b\b\b\b\b\b\b\b\b\b\b\b\b\b\b\b\b\b\b\b\b\b\b\b\b\b\b\b\b\b\b\b\b\b\b\b\b\b\b\b\b\b\b\b\b\b\b\b\b\b\b\r",
      "24576/18467 [=======================================] - 0s 0us/step\n"
     ]
    },
    {
     "name": "stdout",
     "output_type": "stream",
     "text": [
      "\b\b\b\b\b\b\b\b\b\b\b\b\b\b\b\b\b\b\b\b\b\b\b\b\b\b\b\b\b\b\b\b\b\b\b\b\b\b\b\b\b\b\b\b\b\b\b\b\b\b\b\b\b\b\b\b\b\b\b\b\b\b\b\b\b\b\b\r",
      "32768/18467 [=====================================================] - 0s 0us/step\n"
     ]
    },
    {
     "name": "stdout",
     "output_type": "stream",
     "text": [
      "WARNING:tensorflow:SavedModel saved prior to TF 2.5 detected when loading Keras model. Please ensure that you are saving the model with model.save() or tf.keras.models.save_model(), *NOT* tf.saved_model.save(). To confirm, there should be a file named \"keras_metadata.pb\" in the SavedModel directory.\n"
     ]
    },
    {
     "name": "stdout",
     "output_type": "stream",
     "text": [
      "WARNING:tensorflow:No training configuration found in save file, so the model was *not* compiled. Compile it manually.\n"
     ]
    },
    {
     "name": "stdout",
     "output_type": "stream",
     "text": [
      "Downloading data from https://storage.googleapis.com/tfjs-models/tfjs/speech-commands/v0.3/browser_fft/18w/metadata.json\n"
     ]
    },
    {
     "name": "stdout",
     "output_type": "stream",
     "text": [
      "\r",
      "16384/203 [=====================================================================================================================================================================================================================================================================================================================================================================================================================================================================================================================================================================================================================================================================================================================================================================================================================================================================================================================================================================================================================================================================================================================================================================================================================================================================================================================================================================================================================================================================================================================================================================================================================================================================================================================================================================================================================================================================================================================================================================================================================================================================================================================================================================================================================================================================================================================================================================================================================================================================================================================] - 0s 0us/step\n"
     ]
    },
    {
     "name": "stdout",
     "output_type": "stream",
     "text": [
      "Downloading data from https://storage.googleapis.com/tfjs-models/tfjs/speech-commands/v0.3/browser_fft/18w/model.json\n"
     ]
    },
    {
     "name": "stdout",
     "output_type": "stream",
     "text": [
      "\r",
      "16384/5466 [=========================================================================================] - 0s 0us/step\n"
     ]
    },
    {
     "name": "stdout",
     "output_type": "stream",
     "text": [
      "Downloading data from https://storage.googleapis.com/tfjs-models/tfjs/speech-commands/v0.3/browser_fft/18w/group1-shard1of2\n"
     ]
    },
    {
     "name": "stdout",
     "output_type": "stream",
     "text": [
      "\r",
      "  16384/4194304 [..............................] - ETA: 0s"
     ]
    },
    {
     "name": "stdout",
     "output_type": "stream",
     "text": [
      "\b\b\b\b\b\b\b\b\b\b\b\b\b\b\b\b\b\b\b\b\b\b\b\b\b\b\b\b\b\b\b\b\b\b\b\b\b\b\b\b\b\b\b\b\b\b\b\b\b\b\b\b\b\b\b\b\b\b\r",
      "4194304/4194304 [==============================] - 0s 0us/step\n"
     ]
    },
    {
     "name": "stdout",
     "output_type": "stream",
     "text": [
      "\b\b\b\b\b\b\b\b\b\b\b\b\b\b\b\b\b\b\b\b\b\b\b\b\b\b\b\b\b\b\b\b\b\b\b\b\b\b\b\b\b\b\b\b\b\b\b\b\b\b\b\b\b\b\b\b\b\b\b\b\b\b\r",
      "4202496/4194304 [==============================] - 0s 0us/step\n"
     ]
    },
    {
     "name": "stdout",
     "output_type": "stream",
     "text": [
      "Downloading data from https://storage.googleapis.com/tfjs-models/tfjs/speech-commands/v0.3/browser_fft/18w/group1-shard2of2\n"
     ]
    },
    {
     "name": "stdout",
     "output_type": "stream",
     "text": [
      "\r",
      "  16384/1680432 [..............................] - ETA: 0s"
     ]
    },
    {
     "name": "stdout",
     "output_type": "stream",
     "text": [
      "\b\b\b\b\b\b\b\b\b\b\b\b\b\b\b\b\b\b\b\b\b\b\b\b\b\b\b\b\b\b\b\b\b\b\b\b\b\b\b\b\b\b\b\b\b\b\b\b\b\b\b\b\b\b\b\b\b\b\r",
      "1687552/1680432 [==============================] - 0s 0us/step\n"
     ]
    },
    {
     "name": "stdout",
     "output_type": "stream",
     "text": [
      "\b\b\b\b\b\b\b\b\b\b\b\b\b\b\b\b\b\b\b\b\b\b\b\b\b\b\b\b\b\b\b\b\b\b\b\b\b\b\b\b\b\b\b\b\b\b\b\b\b\b\b\b\b\b\b\b\b\b\b\b\b\b\r",
      "1695744/1680432 [==============================] - 0s 0us/step\n"
     ]
    }
   ],
   "source": [
    "spec = audio_classifier.BrowserFftSpec()"
   ]
  },
  {
   "cell_type": "markdown",
   "metadata": {
    "id": "maTOoRvAwI9l"
   },
   "source": [
    "## Load your dataset "
   ]
  },
  {
   "cell_type": "markdown",
   "metadata": {
    "id": "UASCEHoVwQ1q"
   },
   "source": [
    "Now you need to load your dataset according to the model specifications. Model Maker includes the [`DataLoader`](https://www.tensorflow.org/lite/api_docs/python/tflite_model_maker/audio_classifier/DataLoader) API, which will load your dataset from a folder and ensure it's in the expected format for the model spec.\n",
    "\n",
    "We already reserved some test files by moving them to a separate directory, which makes it easier to run inference with them later. Now we'll create a `DataLoader` for each split: the training set, the validation set, and the test set."
   ]
  },
  {
   "cell_type": "markdown",
   "metadata": {
    "id": "bAhAfHwiw2_F"
   },
   "source": [
    "#### Load the speech commands dataset\n"
   ]
  },
  {
   "cell_type": "code",
   "execution_count": 14,
   "metadata": {
    "execution": {
     "iopub.execute_input": "2022-10-20T11:19:03.171427Z",
     "iopub.status.busy": "2022-10-20T11:19:03.171154Z",
     "iopub.status.idle": "2022-10-20T11:19:03.250189Z",
     "shell.execute_reply": "2022-10-20T11:19:03.249336Z"
    },
    "id": "cX0RqETqZgzo"
   },
   "outputs": [],
   "source": [
    "if not use_custom_dataset:\n",
    "  train_data_ratio = 0.8\n",
    "  train_data = audio_classifier.DataLoader.from_folder(\n",
    "      spec, dataset_dir, cache=True)\n",
    "  train_data, validation_data = train_data.split(train_data_ratio)\n",
    "  test_data = audio_classifier.DataLoader.from_folder(\n",
    "      spec, test_dir, cache=True)"
   ]
  },
  {
   "cell_type": "markdown",
   "metadata": {
    "id": "2OWQ_O9_t-C-"
   },
   "source": [
    "#### Load a custom dataset"
   ]
  },
  {
   "cell_type": "markdown",
   "metadata": {
    "id": "IPiwaJwMt7yo"
   },
   "source": [
    "**Note:** Setting `cache=True` is important to make training faster (especially when the dataset must be re-sampled) but it will also require more RAM to hold the data. If you use a very large custom dataset, caching might exceed your RAM capacity."
   ]
  },
  {
   "cell_type": "code",
   "execution_count": 15,
   "metadata": {
    "cellView": "code",
    "execution": {
     "iopub.execute_input": "2022-10-20T11:19:03.255090Z",
     "iopub.status.busy": "2022-10-20T11:19:03.254540Z",
     "iopub.status.idle": "2022-10-20T11:19:03.258630Z",
     "shell.execute_reply": "2022-10-20T11:19:03.257965Z"
    },
    "id": "e86Ej-ZmuCzy"
   },
   "outputs": [],
   "source": [
    "if use_custom_dataset:\n",
    "  train_data_ratio = 0.8\n",
    "  train_data = audio_classifier.DataLoader.from_folder(\n",
    "      spec, dataset_dir, cache=True)\n",
    "  train_data, validation_data = train_data.split(train_data_ratio)\n",
    "  test_data = audio_classifier.DataLoader.from_folder(\n",
    "      spec, test_dir, cache=True)\n"
   ]
  },
  {
   "cell_type": "markdown",
   "metadata": {
    "id": "hh1P_zfzwbfE"
   },
   "source": [
    "## Train the model\n"
   ]
  },
  {
   "cell_type": "markdown",
   "metadata": {
    "id": "ziMghju-Rts2"
   },
   "source": [
    "Now we'll use the Model Maker [`create()`](https://www.tensorflow.org/lite/api_docs/python/tflite_model_maker/audio_classifier/create) function to create a model based on our model spec and training dataset, and begin training.\n",
    "\n",
    "If you're using a custom dataset, you might want to change the batch size as appropriate for the number of samples in your train set.\n",
    "\n",
    "**Note:** The first epoch takes longer because it must create the cache. "
   ]
  },
  {
   "cell_type": "code",
   "execution_count": 16,
   "metadata": {
    "execution": {
     "iopub.execute_input": "2022-10-20T11:19:03.262569Z",
     "iopub.status.busy": "2022-10-20T11:19:03.261939Z",
     "iopub.status.idle": "2022-10-20T11:20:16.445620Z",
     "shell.execute_reply": "2022-10-20T11:20:16.444812Z"
    },
    "id": "GYaZvaOPgLUC"
   },
   "outputs": [
    {
     "name": "stdout",
     "output_type": "stream",
     "text": [
      "Model: \"sequential_1\"\n"
     ]
    },
    {
     "name": "stdout",
     "output_type": "stream",
     "text": [
      "_________________________________________________________________\n"
     ]
    },
    {
     "name": "stdout",
     "output_type": "stream",
     "text": [
      " Layer (type)                Output Shape              Param #   \n"
     ]
    },
    {
     "name": "stdout",
     "output_type": "stream",
     "text": [
      "=================================================================\n"
     ]
    },
    {
     "name": "stdout",
     "output_type": "stream",
     "text": [
      " conv2d_1 (Conv2D)           (None, 42, 225, 8)        136       \n"
     ]
    },
    {
     "name": "stdout",
     "output_type": "stream",
     "text": [
      "                                                                 \n"
     ]
    },
    {
     "name": "stdout",
     "output_type": "stream",
     "text": [
      " max_pooling2d_1 (MaxPooling  (None, 21, 112, 8)       0         \n"
     ]
    },
    {
     "name": "stdout",
     "output_type": "stream",
     "text": [
      " 2D)                                                             \n"
     ]
    },
    {
     "name": "stdout",
     "output_type": "stream",
     "text": [
      "                                                                 \n"
     ]
    },
    {
     "name": "stdout",
     "output_type": "stream",
     "text": [
      " conv2d_2 (Conv2D)           (None, 20, 109, 32)       2080      \n"
     ]
    },
    {
     "name": "stdout",
     "output_type": "stream",
     "text": [
      "                                                                 \n"
     ]
    },
    {
     "name": "stdout",
     "output_type": "stream",
     "text": [
      " max_pooling2d_2 (MaxPooling  (None, 10, 54, 32)       0         \n"
     ]
    },
    {
     "name": "stdout",
     "output_type": "stream",
     "text": [
      " 2D)                                                             \n"
     ]
    },
    {
     "name": "stdout",
     "output_type": "stream",
     "text": [
      "                                                                 \n"
     ]
    },
    {
     "name": "stdout",
     "output_type": "stream",
     "text": [
      " conv2d_3 (Conv2D)           (None, 9, 51, 32)         8224      \n"
     ]
    },
    {
     "name": "stdout",
     "output_type": "stream",
     "text": [
      "                                                                 \n"
     ]
    },
    {
     "name": "stdout",
     "output_type": "stream",
     "text": [
      " max_pooling2d_3 (MaxPooling  (None, 4, 25, 32)        0         \n"
     ]
    },
    {
     "name": "stdout",
     "output_type": "stream",
     "text": [
      " 2D)                                                             \n"
     ]
    },
    {
     "name": "stdout",
     "output_type": "stream",
     "text": [
      "                                                                 \n"
     ]
    },
    {
     "name": "stdout",
     "output_type": "stream",
     "text": [
      " conv2d_4 (Conv2D)           (None, 3, 22, 32)         8224      \n"
     ]
    },
    {
     "name": "stdout",
     "output_type": "stream",
     "text": [
      "                                                                 \n"
     ]
    },
    {
     "name": "stdout",
     "output_type": "stream",
     "text": [
      " max_pooling2d_4 (MaxPooling  (None, 2, 11, 32)        0         \n"
     ]
    },
    {
     "name": "stdout",
     "output_type": "stream",
     "text": [
      " 2D)                                                             \n"
     ]
    },
    {
     "name": "stdout",
     "output_type": "stream",
     "text": [
      "                                                                 \n"
     ]
    },
    {
     "name": "stdout",
     "output_type": "stream",
     "text": [
      " flatten_1 (Flatten)         (None, 704)               0         \n"
     ]
    },
    {
     "name": "stdout",
     "output_type": "stream",
     "text": [
      "                                                                 \n"
     ]
    },
    {
     "name": "stdout",
     "output_type": "stream",
     "text": [
      " dropout_1 (Dropout)         (None, 704)               0         \n"
     ]
    },
    {
     "name": "stdout",
     "output_type": "stream",
     "text": [
      "                                                                 \n"
     ]
    },
    {
     "name": "stdout",
     "output_type": "stream",
     "text": [
      " dense_1 (Dense)             (None, 2000)              1410000   \n"
     ]
    },
    {
     "name": "stdout",
     "output_type": "stream",
     "text": [
      "                                                                 \n"
     ]
    },
    {
     "name": "stdout",
     "output_type": "stream",
     "text": [
      " dropout_2 (Dropout)         (None, 2000)              0         \n"
     ]
    },
    {
     "name": "stdout",
     "output_type": "stream",
     "text": [
      "                                                                 \n"
     ]
    },
    {
     "name": "stdout",
     "output_type": "stream",
     "text": [
      " classification_head (Dense)  (None, 9)                18009     \n"
     ]
    },
    {
     "name": "stdout",
     "output_type": "stream",
     "text": [
      "                                                                 \n"
     ]
    },
    {
     "name": "stdout",
     "output_type": "stream",
     "text": [
      "=================================================================\n"
     ]
    },
    {
     "name": "stdout",
     "output_type": "stream",
     "text": [
      "Total params: 1,446,673\n"
     ]
    },
    {
     "name": "stdout",
     "output_type": "stream",
     "text": [
      "Trainable params: 18,009\n"
     ]
    },
    {
     "name": "stdout",
     "output_type": "stream",
     "text": [
      "Non-trainable params: 1,428,664\n"
     ]
    },
    {
     "name": "stdout",
     "output_type": "stream",
     "text": [
      "_________________________________________________________________\n"
     ]
    },
    {
     "name": "stdout",
     "output_type": "stream",
     "text": [
      "Epoch 1/25\n"
     ]
    },
    {
     "name": "stdout",
     "output_type": "stream",
     "text": [
      "\r",
      "      1/Unknown - 49s 49s/step - loss: 4.5810 - acc: 0.0800"
     ]
    },
    {
     "name": "stdout",
     "output_type": "stream",
     "text": [
      "\b\b\b\b\b\b\b\b\b\b\b\b\b\b\b\b\b\b\b\b\b\b\b\b\b\b\b\b\b\b\b\b\b\b\b\b\b\b\b\b\b\b\b\b\b\b\b\b\b\b\b\b\b\b\b\b\b\b\b\r",
      "      3/Unknown - 49s 142ms/step - loss: 4.1542 - acc: 0.1333"
     ]
    },
    {
     "name": "stdout",
     "output_type": "stream",
     "text": [
      "\b\b\b\b\b\b\b\b\b\b\b\b\b\b\b\b\b\b\b\b\b\b\b\b\b\b\b\b\b\b\b\b\b\b\b\b\b\b\b\b\b\b\b\b\b\b\b\b\b\b\b\b\b\b\b\b\b\b\b\b\b\r",
      "      4/Unknown - 50s 197ms/step - loss: 4.1120 - acc: 0.1500"
     ]
    },
    {
     "name": "stdout",
     "output_type": "stream",
     "text": [
      "\b\b\b\b\b\b\b\b\b\b\b\b\b\b\b\b\b\b\b\b\b\b\b\b\b\b\b\b\b\b\b\b\b\b\b\b\b\b\b\b\b\b\b\b\b\b\b\b\b\b\b\b\b\b\b\b\b\b\b\b\b\r",
      "      5/Unknown - 50s 225ms/step - loss: 4.2615 - acc: 0.1760"
     ]
    },
    {
     "name": "stdout",
     "output_type": "stream",
     "text": [
      "\b\b\b\b\b\b\b\b\b\b\b\b\b\b\b\b\b\b\b\b\b\b\b\b\b\b\b\b\b\b\b\b\b\b\b\b\b\b\b\b\b\b\b\b\b\b\b\b\b\b\b\b\b\b\b\b\b\b\b\b\b\r",
      "      6/Unknown - 50s 240ms/step - loss: 4.0187 - acc: 0.1867"
     ]
    },
    {
     "name": "stdout",
     "output_type": "stream",
     "text": [
      "\b\b\b\b\b\b\b\b\b\b\b\b\b\b\b\b\b\b\b\b\b\b\b\b\b\b\b\b\b\b\b\b\b\b\b\b\b\b\b\b\b\b\b\b\b\b\b\b\b\b\b\b\b\b\b\b\b\b\b\b\b\r",
      "      7/Unknown - 51s 252ms/step - loss: 4.0389 - acc: 0.1886"
     ]
    },
    {
     "name": "stdout",
     "output_type": "stream",
     "text": [
      "\b\b\b\b\b\b\b\b\b\b\b\b\b\b\b\b\b\b\b\b\b\b\b\b\b\b\b\b\b\b\b\b\b\b\b\b\b\b\b\b\b\b\b\b\b\b\b\b\b\b\b\b\b\b\b\b\b\b\b\b\b\r",
      "      8/Unknown - 51s 259ms/step - loss: 3.9593 - acc: 0.1900"
     ]
    },
    {
     "name": "stdout",
     "output_type": "stream",
     "text": [
      "\b\b\b\b\b\b\b\b\b\b\b\b\b\b\b\b\b\b\b\b\b\b\b\b\b\b\b\b\b\b\b\b\b\b\b\b\b\b\b\b\b\b\b\b\b\b\b\b\b\b\b\b\b\b\b\b\b\b\b\b\b\r",
      "      9/Unknown - 51s 265ms/step - loss: 3.7644 - acc: 0.2267"
     ]
    },
    {
     "name": "stdout",
     "output_type": "stream",
     "text": [
      "\b\b\b\b\b\b\b\b\b\b\b\b\b\b\b\b\b\b\b\b\b\b\b\b\b\b\b\b\b\b\b\b\b\b\b\b\b\b\b\b\b\b\b\b\b\b\b\b\b\b\b\b\b\b\b\b\b\b\b\b\b\r",
      "     10/Unknown - 52s 271ms/step - loss: 3.6832 - acc: 0.2280"
     ]
    },
    {
     "name": "stdout",
     "output_type": "stream",
     "text": [
      "\b\b\b\b\b\b\b\b\b\b\b\b\b\b\b\b\b\b\b\b\b\b\b\b\b\b\b\b\b\b\b\b\b\b\b\b\b\b\b\b\b\b\b\b\b\b\b\b\b\b\b\b\b\b\b\b\b\b\b\b\b\r",
      "     11/Unknown - 52s 275ms/step - loss: 3.7381 - acc: 0.2364"
     ]
    },
    {
     "name": "stdout",
     "output_type": "stream",
     "text": [
      "\b\b\b\b\b\b\b\b\b\b\b\b\b\b\b\b\b\b\b\b\b\b\b\b\b\b\b\b\b\b\b\b\b\b\b\b\b\b\b\b\b\b\b\b\b\b\b\b\b\b\b\b\b\b\b\b\b\b\b\b\b\r",
      "     12/Unknown - 52s 279ms/step - loss: 3.6731 - acc: 0.2467"
     ]
    },
    {
     "name": "stdout",
     "output_type": "stream",
     "text": [
      "\b\b\b\b\b\b\b\b\b\b\b\b\b\b\b\b\b\b\b\b\b\b\b\b\b\b\b\b\b\b\b\b\b\b\b\b\b\b\b\b\b\b\b\b\b\b\b\b\b\b\b\b\b\b\b\b\b\b\b\b\b\r",
      "     13/Unknown - 53s 282ms/step - loss: 3.5578 - acc: 0.2492"
     ]
    },
    {
     "name": "stdout",
     "output_type": "stream",
     "text": [
      "\b\b\b\b\b\b\b\b\b\b\b\b\b\b\b\b\b\b\b\b\b\b\b\b\b\b\b\b\b\b\b\b\b\b\b\b\b\b\b\b\b\b\b\b\b\b\b\b\b\b\b\b\b\b\b\b\b\b\b\b\b\r",
      "     14/Unknown - 53s 284ms/step - loss: 3.4438 - acc: 0.2571"
     ]
    },
    {
     "name": "stdout",
     "output_type": "stream",
     "text": [
      "\b\b\b\b\b\b\b\b\b\b\b\b\b\b\b\b\b\b\b\b\b\b\b\b\b\b\b\b\b\b\b\b\b\b\b\b\b\b\b\b\b\b\b\b\b\b\b\b\b\b\b\b\b\b\b\b\b\b\b\b\b\r",
      "     15/Unknown - 53s 285ms/step - loss: 3.3256 - acc: 0.2880"
     ]
    },
    {
     "name": "stdout",
     "output_type": "stream",
     "text": [
      "\b\b\b\b\b\b\b\b\b\b\b\b\b\b\b\b\b\b\b\b\b\b\b\b\b\b\b\b\b\b\b\b\b\b\b\b\b\b\b\b\b\b\b\b\b\b\b\b\b\b\b\b\b\b\b\b\b\b\b\b\b\r",
      "     16/Unknown - 53s 286ms/step - loss: 3.2508 - acc: 0.2950"
     ]
    },
    {
     "name": "stdout",
     "output_type": "stream",
     "text": [
      "\b\b\b\b\b\b\b\b\b\b\b\b\b\b\b\b\b\b\b\b\b\b\b\b\b\b\b\b\b\b\b\b\b\b\b\b\b\b\b\b\b\b\b\b\b\b\b\b\b\b\b\b\b\b\b\b\b\b\b\b\b\r",
      "     17/Unknown - 54s 288ms/step - loss: 3.1653 - acc: 0.3082"
     ]
    },
    {
     "name": "stdout",
     "output_type": "stream",
     "text": [
      "\b\b\b\b\b\b\b\b\b\b\b\b\b\b\b\b\b\b\b\b\b\b\b\b\b\b\b\b\b\b\b\b\b\b\b\b\b\b\b\b\b\b\b\b\b\b\b\b\b\b\b\b\b\b\b\b\b\b\b\b\b\r",
      "     18/Unknown - 54s 289ms/step - loss: 3.0676 - acc: 0.3244"
     ]
    },
    {
     "name": "stdout",
     "output_type": "stream",
     "text": [
      "\b\b\b\b\b\b\b\b\b\b\b\b\b\b\b\b\b\b\b\b\b\b\b\b\b\b\b\b\b\b\b\b\b\b\b\b\b\b\b\b\b\b\b\b\b\b\b\b\b\b\b\b\b\b\b\b\b\b\b\b\b\r",
      "     19/Unknown - 54s 290ms/step - loss: 3.0226 - acc: 0.3263"
     ]
    },
    {
     "name": "stdout",
     "output_type": "stream",
     "text": [
      "\b\b\b\b\b\b\b\b\b\b\b\b\b\b\b\b\b\b\b\b\b\b\b\b\b\b\b\b\b\b\b\b\b\b\b\b\b\b\b\b\b\b\b\b\b\b\b\b\b\b\b\b\b\b\b\b\b\b\b\b\b\r",
      "     20/Unknown - 55s 291ms/step - loss: 2.9764 - acc: 0.3280"
     ]
    },
    {
     "name": "stdout",
     "output_type": "stream",
     "text": [
      "\b\b\b\b\b\b\b\b\b\b\b\b\b\b\b\b\b\b\b\b\b\b\b\b\b\b\b\b\b\b\b\b\b\b\b\b\b\b\b\b\b\b\b\b\b\b\b\b\b\b\b\b\b\b\b\b\b\b\b\b\b\r",
      "     21/Unknown - 55s 292ms/step - loss: 2.9073 - acc: 0.3390"
     ]
    },
    {
     "name": "stdout",
     "output_type": "stream",
     "text": [
      "\b\b\b\b\b\b\b\b\b\b\b\b\b\b\b\b\b\b\b\b\b\b\b\b\b\b\b\b\b\b\b\b\b\b\b\b\b\b\b\b\b\b\b\b\b\b\b\b\b\b\b\b\b\b\b\b\b\b\b\b\b\r",
      "     22/Unknown - 55s 292ms/step - loss: 2.8253 - acc: 0.3564"
     ]
    },
    {
     "name": "stdout",
     "output_type": "stream",
     "text": [
      "\b\b\b\b\b\b\b\b\b\b\b\b\b\b\b\b\b\b\b\b\b\b\b\b\b\b\b\b\b\b\b\b\b\b\b\b\b\b\b\b\b\b\b\b\b\b\b\b\b\b\b\b\b\b\b\b\b\b\b\b\b\r",
      "     23/Unknown - 56s 293ms/step - loss: 2.7546 - acc: 0.3722"
     ]
    },
    {
     "name": "stdout",
     "output_type": "stream",
     "text": [
      "\b\b\b\b\b\b\b\b\b\b\b\b\b\b\b\b\b\b\b\b\b\b\b\b\b\b\b\b\b\b\b\b\b\b\b\b\b\b\b\b\b\b\b\b\b\b\b\b\b\b\b\b\b\b\b\b\b\b\b\b\b\r",
      "     24/Unknown - 56s 293ms/step - loss: 2.6995 - acc: 0.3750"
     ]
    },
    {
     "name": "stdout",
     "output_type": "stream",
     "text": [
      "\b\b\b\b\b\b\b\b\b\b\b\b\b\b\b\b\b\b\b\b\b\b\b\b\b\b\b\b\b\b\b\b\b\b\b\b\b\b\b\b\b\b\b\b\b\b\b\b\b\b\b\b\b\b\b\b\b\b\b\b\b\r",
      "     25/Unknown - 56s 294ms/step - loss: 2.6367 - acc: 0.3824"
     ]
    },
    {
     "name": "stdout",
     "output_type": "stream",
     "text": [
      "\b\b\b\b\b\b\b\b\b\b\b\b\b\b\b\b\b\b\b\b\b\b\b\b\b\b\b\b\b\b\b\b\b\b\b\b\b\b\b\b\b\b\b\b\b\b\b\b\b\b\b\b\b\b\b\b\b\b\b\b\b\r",
      "     26/Unknown - 56s 294ms/step - loss: 2.5969 - acc: 0.3877"
     ]
    },
    {
     "name": "stdout",
     "output_type": "stream",
     "text": [
      "\b\b\b\b\b\b\b\b\b\b\b\b\b\b\b\b\b\b\b\b\b\b\b\b\b\b\b\b\b\b\b\b\b\b\b\b\b\b\b\b\b\b\b\b\b\b\b\b\b\b\b\b\b\b\b\b\b\b\b\b\b\r",
      "     27/Unknown - 57s 295ms/step - loss: 2.5615 - acc: 0.3970"
     ]
    },
    {
     "name": "stdout",
     "output_type": "stream",
     "text": [
      "\b\b\b\b\b\b\b\b\b\b\b\b\b\b\b\b\b\b\b\b\b\b\b\b\b\b\b\b\b\b\b\b\b\b\b\b\b\b\b\b\b\b\b\b\b\b\b\b\b\b\b\b\b\b\b\b\b\b\b\b\b\r",
      "     28/Unknown - 57s 295ms/step - loss: 2.5212 - acc: 0.4057"
     ]
    },
    {
     "name": "stdout",
     "output_type": "stream",
     "text": [
      "\b\b\b\b\b\b\b\b\b\b\b\b\b\b\b\b\b\b\b\b\b\b\b\b\b\b\b\b\b\b\b\b\b\b\b\b\b\b\b\b\b\b\b\b\b\b\b\b\b\b\b\b\b\b\b\b\b\b\b\b\b\r",
      "     29/Unknown - 57s 296ms/step - loss: 2.4936 - acc: 0.4110"
     ]
    },
    {
     "name": "stdout",
     "output_type": "stream",
     "text": [
      "\b\b\b\b\b\b\b\b\b\b\b\b\b\b\b\b\b\b\b\b\b\b\b\b\b\b\b\b\b\b\b\b\b\b\b\b\b\b\b\b\b\b\b\b\b\b\b\b\b\b\b\b\b\b\b\b\b\b\b\b\b\r",
      "     30/Unknown - 58s 296ms/step - loss: 2.4357 - acc: 0.4213"
     ]
    },
    {
     "name": "stdout",
     "output_type": "stream",
     "text": [
      "\b\b\b\b\b\b\b\b\b\b\b\b\b\b\b\b\b\b\b\b\b\b\b\b\b\b\b\b\b\b\b\b\b\b\b\b\b\b\b\b\b\b\b\b\b\b\b\b\b\b\b\b\b\b\b\b\b\b\b\b\b\r",
      "     31/Unknown - 58s 296ms/step - loss: 2.3972 - acc: 0.4310"
     ]
    },
    {
     "name": "stdout",
     "output_type": "stream",
     "text": [
      "\b\b\b\b\b\b\b\b\b\b\b\b\b\b\b\b\b\b\b\b\b\b\b\b\b\b\b\b\b\b\b\b\b\b\b\b\b\b\b\b\b\b\b\b\b\b\b\b\b\b\b\b\b\b\b\b\b\b\b\b\b\r",
      "     32/Unknown - 58s 297ms/step - loss: 2.3510 - acc: 0.4425"
     ]
    },
    {
     "name": "stdout",
     "output_type": "stream",
     "text": [
      "\b\b\b\b\b\b\b\b\b\b\b\b\b\b\b\b\b\b\b\b\b\b\b\b\b\b\b\b\b\b\b\b\b\b\b\b\b\b\b\b\b\b\b\b\b\b\b\b\b\b\b\b\b\b\b\b\b\b\b\b\b\r",
      "     33/Unknown - 59s 297ms/step - loss: 2.3085 - acc: 0.4497"
     ]
    },
    {
     "name": "stdout",
     "output_type": "stream",
     "text": [
      "\b\b\b\b\b\b\b\b\b\b\b\b\b\b\b\b\b\b\b\b\b\b\b\b\b\b\b\b\b\b\b\b\b\b\b\b\b\b\b\b\b\b\b\b\b\b\b\b\b\b\b\b\b\b\b\b\b\b\b\b\b\r",
      "     34/Unknown - 59s 298ms/step - loss: 2.2612 - acc: 0.4576"
     ]
    },
    {
     "name": "stdout",
     "output_type": "stream",
     "text": [
      "\b\b\b\b\b\b\b\b\b\b\b\b\b\b\b\b\b\b\b\b\b\b\b\b\b\b\b\b\b\b\b\b\b\b\b\b\b\b\b\b\b\b\b\b\b\b\b\b\b\b\b\b\b\b\b\b\b\b\b\b\b\r",
      "     35/Unknown - 59s 298ms/step - loss: 2.2352 - acc: 0.4617"
     ]
    },
    {
     "name": "stdout",
     "output_type": "stream",
     "text": [
      "\b\b\b\b\b\b\b\b\b\b\b\b\b\b\b\b\b\b\b\b\b\b\b\b\b\b\b\b\b\b\b\b\b\b\b\b\b\b\b\b\b\b\b\b\b\b\b\b\b\b\b\b\b\b\b\b\b\b\b\b\b\r",
      "     36/Unknown - 60s 298ms/step - loss: 2.2003 - acc: 0.4689"
     ]
    },
    {
     "name": "stdout",
     "output_type": "stream",
     "text": [
      "\b\b\b\b\b\b\b\b\b\b\b\b\b\b\b\b\b\b\b\b\b\b\b\b\b\b\b\b\b\b\b\b\b\b\b\b\b\b\b\b\b\b\b\b\b\b\b\b\b\b\b\b\b\b\b\b\b\b\b\b\b\r",
      "     37/Unknown - 60s 292ms/step - loss: 2.1550 - acc: 0.4768"
     ]
    },
    {
     "name": "stdout",
     "output_type": "stream",
     "text": [
      "\b\b\b\b\b\b\b\b\b\b\b\b\b\b\b\b\b\b\b\b\b\b\b\b\b\b\b\b\b\b\b\b\b\b\b\b\b\b\b\b\b\b\b\b\b\b\b\b\b\b\b\b\b\b\b\b\b\b\b\b\b\r",
      "40/40 [==============================] - 62s 331ms/step - loss: 2.0855 - acc: 0.4893 - val_loss: 0.4560 - val_acc: 0.8606\n"
     ]
    },
    {
     "name": "stdout",
     "output_type": "stream",
     "text": [
      "Epoch 2/25\n"
     ]
    },
    {
     "name": "stdout",
     "output_type": "stream",
     "text": [
      "\r",
      " 1/40 [..............................] - ETA: 1s - loss: 1.3336 - acc: 0.7200"
     ]
    },
    {
     "name": "stdout",
     "output_type": "stream",
     "text": [
      "\b\b\b\b\b\b\b\b\b\b\b\b\b\b\b\b\b\b\b\b\b\b\b\b\b\b\b\b\b\b\b\b\b\b\b\b\b\b\b\b\b\b\b\b\b\b\b\b\b\b\b\b\b\b\b\b\b\b\b\b\b\b\b\b\b\b\b\b\b\b\b\b\b\b\b\b\b\r",
      "17/40 [===========>..................] - ETA: 0s - loss: 0.7177 - acc: 0.8141"
     ]
    },
    {
     "name": "stdout",
     "output_type": "stream",
     "text": [
      "\b\b\b\b\b\b\b\b\b\b\b\b\b\b\b\b\b\b\b\b\b\b\b\b\b\b\b\b\b\b\b\b\b\b\b\b\b\b\b\b\b\b\b\b\b\b\b\b\b\b\b\b\b\b\b\b\b\b\b\b\b\b\b\b\b\b\b\b\b\b\b\b\b\b\b\b\b\r",
      "33/40 [=======================>......] - ETA: 0s - loss: 0.7030 - acc: 0.7964"
     ]
    },
    {
     "name": "stdout",
     "output_type": "stream",
     "text": [
      "\b\b\b\b\b\b\b\b\b\b\b\b\b\b\b\b\b\b\b\b\b\b\b\b\b\b\b\b\b\b\b\b\b\b\b\b\b\b\b\b\b\b\b\b\b\b\b\b\b\b\b\b\b\b\b\b\b\b\b\b\b\b\b\b\b\b\b\b\b\b\b\b\b\b\b\b\b\r",
      "40/40 [==============================] - 0s 9ms/step - loss: 0.6802 - acc: 0.7961 - val_loss: 0.3246 - val_acc: 0.9124\n"
     ]
    },
    {
     "name": "stdout",
     "output_type": "stream",
     "text": [
      "Epoch 3/25\n"
     ]
    },
    {
     "name": "stdout",
     "output_type": "stream",
     "text": [
      "\r",
      " 1/40 [..............................] - ETA: 1s - loss: 0.8162 - acc: 0.8000"
     ]
    },
    {
     "name": "stdout",
     "output_type": "stream",
     "text": [
      "\b\b\b\b\b\b\b\b\b\b\b\b\b\b\b\b\b\b\b\b\b\b\b\b\b\b\b\b\b\b\b\b\b\b\b\b\b\b\b\b\b\b\b\b\b\b\b\b\b\b\b\b\b\b\b\b\b\b\b\b\b\b\b\b\b\b\b\b\b\b\b\b\b\b\b\b\b\r",
      "17/40 [===========>..................] - ETA: 0s - loss: 0.5051 - acc: 0.8400"
     ]
    },
    {
     "name": "stdout",
     "output_type": "stream",
     "text": [
      "\b\b\b\b\b\b\b\b\b\b\b\b\b\b\b\b\b\b\b\b\b\b\b\b\b\b\b\b\b\b\b\b\b\b\b\b\b\b\b\b\b\b\b\b\b\b\b\b\b\b\b\b\b\b\b\b\b\b\b\b\b\b\b\b\b\b\b\b\b\b\b\b\b\b\b\b\b\r",
      "33/40 [=======================>......] - ETA: 0s - loss: 0.4633 - acc: 0.8497"
     ]
    },
    {
     "name": "stdout",
     "output_type": "stream",
     "text": [
      "\b\b\b\b\b\b\b\b\b\b\b\b\b\b\b\b\b\b\b\b\b\b\b\b\b\b\b\b\b\b\b\b\b\b\b\b\b\b\b\b\b\b\b\b\b\b\b\b\b\b\b\b\b\b\b\b\b\b\b\b\b\b\b\b\b\b\b\b\b\b\b\b\b\b\b\b\b\r",
      "40/40 [==============================] - 0s 9ms/step - loss: 0.4643 - acc: 0.8481 - val_loss: 0.2713 - val_acc: 0.9363\n"
     ]
    },
    {
     "name": "stdout",
     "output_type": "stream",
     "text": [
      "Epoch 4/25\n"
     ]
    },
    {
     "name": "stdout",
     "output_type": "stream",
     "text": [
      "\r",
      " 1/40 [..............................] - ETA: 1s - loss: 0.4554 - acc: 0.8400"
     ]
    },
    {
     "name": "stdout",
     "output_type": "stream",
     "text": [
      "\b\b\b\b\b\b\b\b\b\b\b\b\b\b\b\b\b\b\b\b\b\b\b\b\b\b\b\b\b\b\b\b\b\b\b\b\b\b\b\b\b\b\b\b\b\b\b\b\b\b\b\b\b\b\b\b\b\b\b\b\b\b\b\b\b\b\b\b\b\b\b\b\b\b\b\b\b\r",
      "17/40 [===========>..................] - ETA: 0s - loss: 0.3835 - acc: 0.8894"
     ]
    },
    {
     "name": "stdout",
     "output_type": "stream",
     "text": [
      "\b\b\b\b\b\b\b\b\b\b\b\b\b\b\b\b\b\b\b\b\b\b\b\b\b\b\b\b\b\b\b\b\b\b\b\b\b\b\b\b\b\b\b\b\b\b\b\b\b\b\b\b\b\b\b\b\b\b\b\b\b\b\b\b\b\b\b\b\b\b\b\b\b\b\b\b\b\r",
      "33/40 [=======================>......] - ETA: 0s - loss: 0.4241 - acc: 0.8812"
     ]
    },
    {
     "name": "stdout",
     "output_type": "stream",
     "text": [
      "\b\b\b\b\b\b\b\b\b\b\b\b\b\b\b\b\b\b\b\b\b\b\b\b\b\b\b\b\b\b\b\b\b\b\b\b\b\b\b\b\b\b\b\b\b\b\b\b\b\b\b\b\b\b\b\b\b\b\b\b\b\b\b\b\b\b\b\b\b\b\b\b\b\b\b\b\b\r",
      "40/40 [==============================] - 0s 9ms/step - loss: 0.4172 - acc: 0.8828 - val_loss: 0.2559 - val_acc: 0.9402\n"
     ]
    },
    {
     "name": "stdout",
     "output_type": "stream",
     "text": [
      "Epoch 5/25\n"
     ]
    },
    {
     "name": "stdout",
     "output_type": "stream",
     "text": [
      "\r",
      " 1/40 [..............................] - ETA: 1s - loss: 0.2811 - acc: 0.8800"
     ]
    },
    {
     "name": "stdout",
     "output_type": "stream",
     "text": [
      "\b\b\b\b\b\b\b\b\b\b\b\b\b\b\b\b\b\b\b\b\b\b\b\b\b\b\b\b\b\b\b\b\b\b\b\b\b\b\b\b\b\b\b\b\b\b\b\b\b\b\b\b\b\b\b\b\b\b\b\b\b\b\b\b\b\b\b\b\b\b\b\b\b\b\b\b\b\r",
      "17/40 [===========>..................] - ETA: 0s - loss: 0.3466 - acc: 0.8800"
     ]
    },
    {
     "name": "stdout",
     "output_type": "stream",
     "text": [
      "\b\b\b\b\b\b\b\b\b\b\b\b\b\b\b\b\b\b\b\b\b\b\b\b\b\b\b\b\b\b\b\b\b\b\b\b\b\b\b\b\b\b\b\b\b\b\b\b\b\b\b\b\b\b\b\b\b\b\b\b\b\b\b\b\b\b\b\b\b\b\b\b\b\b\b\b\b\r",
      "33/40 [=======================>......] - ETA: 0s - loss: 0.3233 - acc: 0.8921"
     ]
    },
    {
     "name": "stdout",
     "output_type": "stream",
     "text": [
      "\b\b\b\b\b\b\b\b\b\b\b\b\b\b\b\b\b\b\b\b\b\b\b\b\b\b\b\b\b\b\b\b\b\b\b\b\b\b\b\b\b\b\b\b\b\b\b\b\b\b\b\b\b\b\b\b\b\b\b\b\b\b\b\b\b\b\b\b\b\b\b\b\b\b\b\b\b\r",
      "40/40 [==============================] - 0s 9ms/step - loss: 0.3187 - acc: 0.8919 - val_loss: 0.2312 - val_acc: 0.9442\n"
     ]
    },
    {
     "name": "stdout",
     "output_type": "stream",
     "text": [
      "Epoch 6/25\n"
     ]
    },
    {
     "name": "stdout",
     "output_type": "stream",
     "text": [
      "\r",
      " 1/40 [..............................] - ETA: 1s - loss: 0.0342 - acc: 1.0000"
     ]
    },
    {
     "name": "stdout",
     "output_type": "stream",
     "text": [
      "\b\b\b\b\b\b\b\b\b\b\b\b\b\b\b\b\b\b\b\b\b\b\b\b\b\b\b\b\b\b\b\b\b\b\b\b\b\b\b\b\b\b\b\b\b\b\b\b\b\b\b\b\b\b\b\b\b\b\b\b\b\b\b\b\b\b\b\b\b\b\b\b\b\b\b\b\b\r",
      "17/40 [===========>..................] - ETA: 0s - loss: 0.2438 - acc: 0.9271"
     ]
    },
    {
     "name": "stdout",
     "output_type": "stream",
     "text": [
      "\b\b\b\b\b\b\b\b\b\b\b\b\b\b\b\b\b\b\b\b\b\b\b\b\b\b\b\b\b\b\b\b\b\b\b\b\b\b\b\b\b\b\b\b\b\b\b\b\b\b\b\b\b\b\b\b\b\b\b\b\b\b\b\b\b\b\b\b\b\b\b\b\b\b\b\b\b\r",
      "33/40 [=======================>......] - ETA: 0s - loss: 0.2462 - acc: 0.9224"
     ]
    },
    {
     "name": "stdout",
     "output_type": "stream",
     "text": [
      "\b\b\b\b\b\b\b\b\b\b\b\b\b\b\b\b\b\b\b\b\b\b\b\b\b\b\b\b\b\b\b\b\b\b\b\b\b\b\b\b\b\b\b\b\b\b\b\b\b\b\b\b\b\b\b\b\b\b\b\b\b\b\b\b\b\b\b\b\b\b\b\b\b\b\b\b\b\r",
      "40/40 [==============================] - 0s 9ms/step - loss: 0.2508 - acc: 0.9246 - val_loss: 0.2253 - val_acc: 0.9482\n"
     ]
    },
    {
     "name": "stdout",
     "output_type": "stream",
     "text": [
      "Epoch 7/25\n"
     ]
    },
    {
     "name": "stdout",
     "output_type": "stream",
     "text": [
      "\r",
      " 1/40 [..............................] - ETA: 1s - loss: 0.0735 - acc: 1.0000"
     ]
    },
    {
     "name": "stdout",
     "output_type": "stream",
     "text": [
      "\b\b\b\b\b\b\b\b\b\b\b\b\b\b\b\b\b\b\b\b\b\b\b\b\b\b\b\b\b\b\b\b\b\b\b\b\b\b\b\b\b\b\b\b\b\b\b\b\b\b\b\b\b\b\b\b\b\b\b\b\b\b\b\b\b\b\b\b\b\b\b\b\b\b\b\b\b\r",
      "17/40 [===========>..................] - ETA: 0s - loss: 0.2240 - acc: 0.9388"
     ]
    },
    {
     "name": "stdout",
     "output_type": "stream",
     "text": [
      "\b\b\b\b\b\b\b\b\b\b\b\b\b\b\b\b\b\b\b\b\b\b\b\b\b\b\b\b\b\b\b\b\b\b\b\b\b\b\b\b\b\b\b\b\b\b\b\b\b\b\b\b\b\b\b\b\b\b\b\b\b\b\b\b\b\b\b\b\b\b\b\b\b\b\b\b\b\r",
      "33/40 [=======================>......] - ETA: 0s - loss: 0.2481 - acc: 0.9285"
     ]
    },
    {
     "name": "stdout",
     "output_type": "stream",
     "text": [
      "\b\b\b\b\b\b\b\b\b\b\b\b\b\b\b\b\b\b\b\b\b\b\b\b\b\b\b\b\b\b\b\b\b\b\b\b\b\b\b\b\b\b\b\b\b\b\b\b\b\b\b\b\b\b\b\b\b\b\b\b\b\b\b\b\b\b\b\b\b\b\b\b\b\b\b\b\b\r",
      "40/40 [==============================] - 0s 8ms/step - loss: 0.2466 - acc: 0.9297 - val_loss: 0.2411 - val_acc: 0.9482\n"
     ]
    },
    {
     "name": "stdout",
     "output_type": "stream",
     "text": [
      "Epoch 8/25\n"
     ]
    },
    {
     "name": "stdout",
     "output_type": "stream",
     "text": [
      "\r",
      " 1/40 [..............................] - ETA: 1s - loss: 0.1038 - acc: 0.9200"
     ]
    },
    {
     "name": "stdout",
     "output_type": "stream",
     "text": [
      "\b\b\b\b\b\b\b\b\b\b\b\b\b\b\b\b\b\b\b\b\b\b\b\b\b\b\b\b\b\b\b\b\b\b\b\b\b\b\b\b\b\b\b\b\b\b\b\b\b\b\b\b\b\b\b\b\b\b\b\b\b\b\b\b\b\b\b\b\b\b\b\b\b\b\b\b\b\r",
      "17/40 [===========>..................] - ETA: 0s - loss: 0.2355 - acc: 0.9271"
     ]
    },
    {
     "name": "stdout",
     "output_type": "stream",
     "text": [
      "\b\b\b\b\b\b\b\b\b\b\b\b\b\b\b\b\b\b\b\b\b\b\b\b\b\b\b\b\b\b\b\b\b\b\b\b\b\b\b\b\b\b\b\b\b\b\b\b\b\b\b\b\b\b\b\b\b\b\b\b\b\b\b\b\b\b\b\b\b\b\b\b\b\b\b\b\b\r",
      "34/40 [========================>.....] - ETA: 0s - loss: 0.2177 - acc: 0.9318"
     ]
    },
    {
     "name": "stdout",
     "output_type": "stream",
     "text": [
      "\b\b\b\b\b\b\b\b\b\b\b\b\b\b\b\b\b\b\b\b\b\b\b\b\b\b\b\b\b\b\b\b\b\b\b\b\b\b\b\b\b\b\b\b\b\b\b\b\b\b\b\b\b\b\b\b\b\b\b\b\b\b\b\b\b\b\b\b\b\b\b\b\b\b\b\b\b\r",
      "40/40 [==============================] - 0s 9ms/step - loss: 0.2265 - acc: 0.9307 - val_loss: 0.2299 - val_acc: 0.9323\n"
     ]
    },
    {
     "name": "stdout",
     "output_type": "stream",
     "text": [
      "Epoch 9/25\n"
     ]
    },
    {
     "name": "stdout",
     "output_type": "stream",
     "text": [
      "\r",
      " 1/40 [..............................] - ETA: 1s - loss: 0.2054 - acc: 0.8800"
     ]
    },
    {
     "name": "stdout",
     "output_type": "stream",
     "text": [
      "\b\b\b\b\b\b\b\b\b\b\b\b\b\b\b\b\b\b\b\b\b\b\b\b\b\b\b\b\b\b\b\b\b\b\b\b\b\b\b\b\b\b\b\b\b\b\b\b\b\b\b\b\b\b\b\b\b\b\b\b\b\b\b\b\b\b\b\b\b\b\b\b\b\b\b\b\b\r",
      "17/40 [===========>..................] - ETA: 0s - loss: 0.1647 - acc: 0.9459"
     ]
    },
    {
     "name": "stdout",
     "output_type": "stream",
     "text": [
      "\b\b\b\b\b\b\b\b\b\b\b\b\b\b\b\b\b\b\b\b\b\b\b\b\b\b\b\b\b\b\b\b\b\b\b\b\b\b\b\b\b\b\b\b\b\b\b\b\b\b\b\b\b\b\b\b\b\b\b\b\b\b\b\b\b\b\b\b\b\b\b\b\b\b\b\b\b\r",
      "33/40 [=======================>......] - ETA: 0s - loss: 0.2004 - acc: 0.9321"
     ]
    },
    {
     "name": "stdout",
     "output_type": "stream",
     "text": [
      "\b\b\b\b\b\b\b\b\b\b\b\b\b\b\b\b\b\b\b\b\b\b\b\b\b\b\b\b\b\b\b\b\b\b\b\b\b\b\b\b\b\b\b\b\b\b\b\b\b\b\b\b\b\b\b\b\b\b\b\b\b\b\b\b\b\b\b\b\b\b\b\b\b\b\b\b\b\r",
      "40/40 [==============================] - 0s 8ms/step - loss: 0.2007 - acc: 0.9276 - val_loss: 0.2202 - val_acc: 0.9402\n"
     ]
    },
    {
     "name": "stdout",
     "output_type": "stream",
     "text": [
      "Epoch 10/25\n"
     ]
    },
    {
     "name": "stdout",
     "output_type": "stream",
     "text": [
      "\r",
      " 1/40 [..............................] - ETA: 1s - loss: 0.3196 - acc: 0.9600"
     ]
    },
    {
     "name": "stdout",
     "output_type": "stream",
     "text": [
      "\b\b\b\b\b\b\b\b\b\b\b\b\b\b\b\b\b\b\b\b\b\b\b\b\b\b\b\b\b\b\b\b\b\b\b\b\b\b\b\b\b\b\b\b\b\b\b\b\b\b\b\b\b\b\b\b\b\b\b\b\b\b\b\b\b\b\b\b\b\b\b\b\b\b\b\b\b\r",
      "17/40 [===========>..................] - ETA: 0s - loss: 0.1770 - acc: 0.9506"
     ]
    },
    {
     "name": "stdout",
     "output_type": "stream",
     "text": [
      "\b\b\b\b\b\b\b\b\b\b\b\b\b\b\b\b\b\b\b\b\b\b\b\b\b\b\b\b\b\b\b\b\b\b\b\b\b\b\b\b\b\b\b\b\b\b\b\b\b\b\b\b\b\b\b\b\b\b\b\b\b\b\b\b\b\b\b\b\b\b\b\b\b\b\b\b\b\r",
      "34/40 [========================>.....] - ETA: 0s - loss: 0.1838 - acc: 0.9482"
     ]
    },
    {
     "name": "stdout",
     "output_type": "stream",
     "text": [
      "\b\b\b\b\b\b\b\b\b\b\b\b\b\b\b\b\b\b\b\b\b\b\b\b\b\b\b\b\b\b\b\b\b\b\b\b\b\b\b\b\b\b\b\b\b\b\b\b\b\b\b\b\b\b\b\b\b\b\b\b\b\b\b\b\b\b\b\b\b\b\b\b\b\b\b\b\b\r",
      "40/40 [==============================] - 0s 9ms/step - loss: 0.1803 - acc: 0.9480 - val_loss: 0.2284 - val_acc: 0.9363\n"
     ]
    },
    {
     "name": "stdout",
     "output_type": "stream",
     "text": [
      "Epoch 11/25\n"
     ]
    },
    {
     "name": "stdout",
     "output_type": "stream",
     "text": [
      "\r",
      " 1/40 [..............................] - ETA: 1s - loss: 0.2196 - acc: 0.9200"
     ]
    },
    {
     "name": "stdout",
     "output_type": "stream",
     "text": [
      "\b\b\b\b\b\b\b\b\b\b\b\b\b\b\b\b\b\b\b\b\b\b\b\b\b\b\b\b\b\b\b\b\b\b\b\b\b\b\b\b\b\b\b\b\b\b\b\b\b\b\b\b\b\b\b\b\b\b\b\b\b\b\b\b\b\b\b\b\b\b\b\b\b\b\b\b\b\r",
      "17/40 [===========>..................] - ETA: 0s - loss: 0.1432 - acc: 0.9412"
     ]
    },
    {
     "name": "stdout",
     "output_type": "stream",
     "text": [
      "\b\b\b\b\b\b\b\b\b\b\b\b\b\b\b\b\b\b\b\b\b\b\b\b\b\b\b\b\b\b\b\b\b\b\b\b\b\b\b\b\b\b\b\b\b\b\b\b\b\b\b\b\b\b\b\b\b\b\b\b\b\b\b\b\b\b\b\b\b\b\b\b\b\b\b\b\b\r",
      "33/40 [=======================>......] - ETA: 0s - loss: 0.1730 - acc: 0.9382"
     ]
    },
    {
     "name": "stdout",
     "output_type": "stream",
     "text": [
      "\b\b\b\b\b\b\b\b\b\b\b\b\b\b\b\b\b\b\b\b\b\b\b\b\b\b\b\b\b\b\b\b\b\b\b\b\b\b\b\b\b\b\b\b\b\b\b\b\b\b\b\b\b\b\b\b\b\b\b\b\b\b\b\b\b\b\b\b\b\b\b\b\b\b\b\b\b\r",
      "40/40 [==============================] - 0s 9ms/step - loss: 0.1616 - acc: 0.9429 - val_loss: 0.2239 - val_acc: 0.9442\n"
     ]
    },
    {
     "name": "stdout",
     "output_type": "stream",
     "text": [
      "Epoch 12/25\n"
     ]
    },
    {
     "name": "stdout",
     "output_type": "stream",
     "text": [
      "\r",
      " 1/40 [..............................] - ETA: 1s - loss: 0.0480 - acc: 1.0000"
     ]
    },
    {
     "name": "stdout",
     "output_type": "stream",
     "text": [
      "\b\b\b\b\b\b\b\b\b\b\b\b\b\b\b\b\b\b\b\b\b\b\b\b\b\b\b\b\b\b\b\b\b\b\b\b\b\b\b\b\b\b\b\b\b\b\b\b\b\b\b\b\b\b\b\b\b\b\b\b\b\b\b\b\b\b\b\b\b\b\b\b\b\b\b\b\b\r",
      "17/40 [===========>..................] - ETA: 0s - loss: 0.1405 - acc: 0.9506"
     ]
    },
    {
     "name": "stdout",
     "output_type": "stream",
     "text": [
      "\b\b\b\b\b\b\b\b\b\b\b\b\b\b\b\b\b\b\b\b\b\b\b\b\b\b\b\b\b\b\b\b\b\b\b\b\b\b\b\b\b\b\b\b\b\b\b\b\b\b\b\b\b\b\b\b\b\b\b\b\b\b\b\b\b\b\b\b\b\b\b\b\b\b\b\b\b\r",
      "33/40 [=======================>......] - ETA: 0s - loss: 0.1473 - acc: 0.9491"
     ]
    },
    {
     "name": "stdout",
     "output_type": "stream",
     "text": [
      "\b\b\b\b\b\b\b\b\b\b\b\b\b\b\b\b\b\b\b\b\b\b\b\b\b\b\b\b\b\b\b\b\b\b\b\b\b\b\b\b\b\b\b\b\b\b\b\b\b\b\b\b\b\b\b\b\b\b\b\b\b\b\b\b\b\b\b\b\b\b\b\b\b\b\b\b\b\r",
      "40/40 [==============================] - 0s 9ms/step - loss: 0.1418 - acc: 0.9501 - val_loss: 0.2051 - val_acc: 0.9482\n"
     ]
    },
    {
     "name": "stdout",
     "output_type": "stream",
     "text": [
      "Epoch 13/25\n"
     ]
    },
    {
     "name": "stdout",
     "output_type": "stream",
     "text": [
      "\r",
      " 1/40 [..............................] - ETA: 1s - loss: 0.1100 - acc: 0.9600"
     ]
    },
    {
     "name": "stdout",
     "output_type": "stream",
     "text": [
      "\b\b\b\b\b\b\b\b\b\b\b\b\b\b\b\b\b\b\b\b\b\b\b\b\b\b\b\b\b\b\b\b\b\b\b\b\b\b\b\b\b\b\b\b\b\b\b\b\b\b\b\b\b\b\b\b\b\b\b\b\b\b\b\b\b\b\b\b\b\b\b\b\b\b\b\b\b\r",
      "18/40 [============>.................] - ETA: 0s - loss: 0.1365 - acc: 0.9578"
     ]
    },
    {
     "name": "stdout",
     "output_type": "stream",
     "text": [
      "\b\b\b\b\b\b\b\b\b\b\b\b\b\b\b\b\b\b\b\b\b\b\b\b\b\b\b\b\b\b\b\b\b\b\b\b\b\b\b\b\b\b\b\b\b\b\b\b\b\b\b\b\b\b\b\b\b\b\b\b\b\b\b\b\b\b\b\b\b\b\b\b\b\b\b\b\b\r",
      "35/40 [=========================>....] - ETA: 0s - loss: 0.1479 - acc: 0.9531"
     ]
    },
    {
     "name": "stdout",
     "output_type": "stream",
     "text": [
      "\b\b\b\b\b\b\b\b\b\b\b\b\b\b\b\b\b\b\b\b\b\b\b\b\b\b\b\b\b\b\b\b\b\b\b\b\b\b\b\b\b\b\b\b\b\b\b\b\b\b\b\b\b\b\b\b\b\b\b\b\b\b\b\b\b\b\b\b\b\b\b\b\b\b\b\b\b\r",
      "40/40 [==============================] - 0s 9ms/step - loss: 0.1419 - acc: 0.9531 - val_loss: 0.2223 - val_acc: 0.9363\n"
     ]
    },
    {
     "name": "stdout",
     "output_type": "stream",
     "text": [
      "Epoch 14/25\n"
     ]
    },
    {
     "name": "stdout",
     "output_type": "stream",
     "text": [
      "\r",
      " 1/40 [..............................] - ETA: 1s - loss: 0.1848 - acc: 0.8800"
     ]
    },
    {
     "name": "stdout",
     "output_type": "stream",
     "text": [
      "\b\b\b\b\b\b\b\b\b\b\b\b\b\b\b\b\b\b\b\b\b\b\b\b\b\b\b\b\b\b\b\b\b\b\b\b\b\b\b\b\b\b\b\b\b\b\b\b\b\b\b\b\b\b\b\b\b\b\b\b\b\b\b\b\b\b\b\b\b\b\b\b\b\b\b\b\b\r",
      "17/40 [===========>..................] - ETA: 0s - loss: 0.1139 - acc: 0.9600"
     ]
    },
    {
     "name": "stdout",
     "output_type": "stream",
     "text": [
      "\b\b\b\b\b\b\b\b\b\b\b\b\b\b\b\b\b\b\b\b\b\b\b\b\b\b\b\b\b\b\b\b\b\b\b\b\b\b\b\b\b\b\b\b\b\b\b\b\b\b\b\b\b\b\b\b\b\b\b\b\b\b\b\b\b\b\b\b\b\b\b\b\b\b\b\b\b\r",
      "33/40 [=======================>......] - ETA: 0s - loss: 0.0973 - acc: 0.9648"
     ]
    },
    {
     "name": "stdout",
     "output_type": "stream",
     "text": [
      "\b\b\b\b\b\b\b\b\b\b\b\b\b\b\b\b\b\b\b\b\b\b\b\b\b\b\b\b\b\b\b\b\b\b\b\b\b\b\b\b\b\b\b\b\b\b\b\b\b\b\b\b\b\b\b\b\b\b\b\b\b\b\b\b\b\b\b\b\b\b\b\b\b\b\b\b\b\r",
      "40/40 [==============================] - 0s 9ms/step - loss: 0.1024 - acc: 0.9633 - val_loss: 0.2248 - val_acc: 0.9442\n"
     ]
    },
    {
     "name": "stdout",
     "output_type": "stream",
     "text": [
      "Epoch 15/25\n"
     ]
    },
    {
     "name": "stdout",
     "output_type": "stream",
     "text": [
      "\r",
      " 1/40 [..............................] - ETA: 1s - loss: 0.1110 - acc: 0.9200"
     ]
    },
    {
     "name": "stdout",
     "output_type": "stream",
     "text": [
      "\b\b\b\b\b\b\b\b\b\b\b\b\b\b\b\b\b\b\b\b\b\b\b\b\b\b\b\b\b\b\b\b\b\b\b\b\b\b\b\b\b\b\b\b\b\b\b\b\b\b\b\b\b\b\b\b\b\b\b\b\b\b\b\b\b\b\b\b\b\b\b\b\b\b\b\b\b\r",
      "17/40 [===========>..................] - ETA: 0s - loss: 0.0954 - acc: 0.9694"
     ]
    },
    {
     "name": "stdout",
     "output_type": "stream",
     "text": [
      "\b\b\b\b\b\b\b\b\b\b\b\b\b\b\b\b\b\b\b\b\b\b\b\b\b\b\b\b\b\b\b\b\b\b\b\b\b\b\b\b\b\b\b\b\b\b\b\b\b\b\b\b\b\b\b\b\b\b\b\b\b\b\b\b\b\b\b\b\b\b\b\b\b\b\b\b\b\r",
      "33/40 [=======================>......] - ETA: 0s - loss: 0.1083 - acc: 0.9673"
     ]
    },
    {
     "name": "stdout",
     "output_type": "stream",
     "text": [
      "\b\b\b\b\b\b\b\b\b\b\b\b\b\b\b\b\b\b\b\b\b\b\b\b\b\b\b\b\b\b\b\b\b\b\b\b\b\b\b\b\b\b\b\b\b\b\b\b\b\b\b\b\b\b\b\b\b\b\b\b\b\b\b\b\b\b\b\b\b\b\b\b\b\b\b\b\b\r",
      "40/40 [==============================] - 0s 9ms/step - loss: 0.1052 - acc: 0.9694 - val_loss: 0.2269 - val_acc: 0.9402\n"
     ]
    },
    {
     "name": "stdout",
     "output_type": "stream",
     "text": [
      "Epoch 16/25\n"
     ]
    },
    {
     "name": "stdout",
     "output_type": "stream",
     "text": [
      "\r",
      " 1/40 [..............................] - ETA: 1s - loss: 0.0716 - acc: 0.9600"
     ]
    },
    {
     "name": "stdout",
     "output_type": "stream",
     "text": [
      "\b\b\b\b\b\b\b\b\b\b\b\b\b\b\b\b\b\b\b\b\b\b\b\b\b\b\b\b\b\b\b\b\b\b\b\b\b\b\b\b\b\b\b\b\b\b\b\b\b\b\b\b\b\b\b\b\b\b\b\b\b\b\b\b\b\b\b\b\b\b\b\b\b\b\b\b\b\r",
      "17/40 [===========>..................] - ETA: 0s - loss: 0.0994 - acc: 0.9694"
     ]
    },
    {
     "name": "stdout",
     "output_type": "stream",
     "text": [
      "\b\b\b\b\b\b\b\b\b\b\b\b\b\b\b\b\b\b\b\b\b\b\b\b\b\b\b\b\b\b\b\b\b\b\b\b\b\b\b\b\b\b\b\b\b\b\b\b\b\b\b\b\b\b\b\b\b\b\b\b\b\b\b\b\b\b\b\b\b\b\b\b\b\b\b\b\b\r",
      "33/40 [=======================>......] - ETA: 0s - loss: 0.1001 - acc: 0.9685"
     ]
    },
    {
     "name": "stdout",
     "output_type": "stream",
     "text": [
      "\b\b\b\b\b\b\b\b\b\b\b\b\b\b\b\b\b\b\b\b\b\b\b\b\b\b\b\b\b\b\b\b\b\b\b\b\b\b\b\b\b\b\b\b\b\b\b\b\b\b\b\b\b\b\b\b\b\b\b\b\b\b\b\b\b\b\b\b\b\b\b\b\b\b\b\b\b\r",
      "40/40 [==============================] - 0s 9ms/step - loss: 0.0995 - acc: 0.9684 - val_loss: 0.2213 - val_acc: 0.9442\n"
     ]
    },
    {
     "name": "stdout",
     "output_type": "stream",
     "text": [
      "Epoch 17/25\n"
     ]
    },
    {
     "name": "stdout",
     "output_type": "stream",
     "text": [
      "\r",
      " 1/40 [..............................] - ETA: 1s - loss: 0.1588 - acc: 0.9600"
     ]
    },
    {
     "name": "stdout",
     "output_type": "stream",
     "text": [
      "\b\b\b\b\b\b\b\b\b\b\b\b\b\b\b\b\b\b\b\b\b\b\b\b\b\b\b\b\b\b\b\b\b\b\b\b\b\b\b\b\b\b\b\b\b\b\b\b\b\b\b\b\b\b\b\b\b\b\b\b\b\b\b\b\b\b\b\b\b\b\b\b\b\b\b\b\b\r",
      "18/40 [============>.................] - ETA: 0s - loss: 0.1103 - acc: 0.9644"
     ]
    },
    {
     "name": "stdout",
     "output_type": "stream",
     "text": [
      "\b\b\b\b\b\b\b\b\b\b\b\b\b\b\b\b\b\b\b\b\b\b\b\b\b\b\b\b\b\b\b\b\b\b\b\b\b\b\b\b\b\b\b\b\b\b\b\b\b\b\b\b\b\b\b\b\b\b\b\b\b\b\b\b\b\b\b\b\b\b\b\b\b\b\b\b\b\r",
      "34/40 [========================>.....] - ETA: 0s - loss: 0.1152 - acc: 0.9624"
     ]
    },
    {
     "name": "stdout",
     "output_type": "stream",
     "text": [
      "\b\b\b\b\b\b\b\b\b\b\b\b\b\b\b\b\b\b\b\b\b\b\b\b\b\b\b\b\b\b\b\b\b\b\b\b\b\b\b\b\b\b\b\b\b\b\b\b\b\b\b\b\b\b\b\b\b\b\b\b\b\b\b\b\b\b\b\b\b\b\b\b\b\b\b\b\b\r",
      "40/40 [==============================] - 0s 9ms/step - loss: 0.1064 - acc: 0.9664 - val_loss: 0.2426 - val_acc: 0.9442\n"
     ]
    },
    {
     "name": "stdout",
     "output_type": "stream",
     "text": [
      "Epoch 18/25\n"
     ]
    },
    {
     "name": "stdout",
     "output_type": "stream",
     "text": [
      "\r",
      " 1/40 [..............................] - ETA: 1s - loss: 0.0562 - acc: 0.9600"
     ]
    },
    {
     "name": "stdout",
     "output_type": "stream",
     "text": [
      "\b\b\b\b\b\b\b\b\b\b\b\b\b\b\b\b\b\b\b\b\b\b\b\b\b\b\b\b\b\b\b\b\b\b\b\b\b\b\b\b\b\b\b\b\b\b\b\b\b\b\b\b\b\b\b\b\b\b\b\b\b\b\b\b\b\b\b\b\b\b\b\b\b\b\b\b\b\r",
      "17/40 [===========>..................] - ETA: 0s - loss: 0.0885 - acc: 0.9694"
     ]
    },
    {
     "name": "stdout",
     "output_type": "stream",
     "text": [
      "\b\b\b\b\b\b\b\b\b\b\b\b\b\b\b\b\b\b\b\b\b\b\b\b\b\b\b\b\b\b\b\b\b\b\b\b\b\b\b\b\b\b\b\b\b\b\b\b\b\b\b\b\b\b\b\b\b\b\b\b\b\b\b\b\b\b\b\b\b\b\b\b\b\b\b\b\b\r",
      "34/40 [========================>.....] - ETA: 0s - loss: 0.1110 - acc: 0.9600"
     ]
    },
    {
     "name": "stdout",
     "output_type": "stream",
     "text": [
      "\b\b\b\b\b\b\b\b\b\b\b\b\b\b\b\b\b\b\b\b\b\b\b\b\b\b\b\b\b\b\b\b\b\b\b\b\b\b\b\b\b\b\b\b\b\b\b\b\b\b\b\b\b\b\b\b\b\b\b\b\b\b\b\b\b\b\b\b\b\b\b\b\b\b\b\b\b\r",
      "40/40 [==============================] - 0s 9ms/step - loss: 0.1132 - acc: 0.9613 - val_loss: 0.2276 - val_acc: 0.9402\n"
     ]
    },
    {
     "name": "stdout",
     "output_type": "stream",
     "text": [
      "Epoch 19/25\n"
     ]
    },
    {
     "name": "stdout",
     "output_type": "stream",
     "text": [
      "\r",
      " 1/40 [..............................] - ETA: 1s - loss: 0.0834 - acc: 0.9600"
     ]
    },
    {
     "name": "stdout",
     "output_type": "stream",
     "text": [
      "\b\b\b\b\b\b\b\b\b\b\b\b\b\b\b\b\b\b\b\b\b\b\b\b\b\b\b\b\b\b\b\b\b\b\b\b\b\b\b\b\b\b\b\b\b\b\b\b\b\b\b\b\b\b\b\b\b\b\b\b\b\b\b\b\b\b\b\b\b\b\b\b\b\b\b\b\b\r",
      "17/40 [===========>..................] - ETA: 0s - loss: 0.0636 - acc: 0.9741"
     ]
    },
    {
     "name": "stdout",
     "output_type": "stream",
     "text": [
      "\b\b\b\b\b\b\b\b\b\b\b\b\b\b\b\b\b\b\b\b\b\b\b\b\b\b\b\b\b\b\b\b\b\b\b\b\b\b\b\b\b\b\b\b\b\b\b\b\b\b\b\b\b\b\b\b\b\b\b\b\b\b\b\b\b\b\b\b\b\b\b\b\b\b\b\b\b\r",
      "33/40 [=======================>......] - ETA: 0s - loss: 0.1102 - acc: 0.9588"
     ]
    },
    {
     "name": "stdout",
     "output_type": "stream",
     "text": [
      "\b\b\b\b\b\b\b\b\b\b\b\b\b\b\b\b\b\b\b\b\b\b\b\b\b\b\b\b\b\b\b\b\b\b\b\b\b\b\b\b\b\b\b\b\b\b\b\b\b\b\b\b\b\b\b\b\b\b\b\b\b\b\b\b\b\b\b\b\b\b\b\b\b\b\b\b\b\r",
      "40/40 [==============================] - 0s 9ms/step - loss: 0.1030 - acc: 0.9613 - val_loss: 0.2101 - val_acc: 0.9402\n"
     ]
    },
    {
     "name": "stdout",
     "output_type": "stream",
     "text": [
      "Epoch 20/25\n"
     ]
    },
    {
     "name": "stdout",
     "output_type": "stream",
     "text": [
      "\r",
      " 1/40 [..............................] - ETA: 1s - loss: 0.1361 - acc: 0.9600"
     ]
    },
    {
     "name": "stdout",
     "output_type": "stream",
     "text": [
      "\b\b\b\b\b\b\b\b\b\b\b\b\b\b\b\b\b\b\b\b\b\b\b\b\b\b\b\b\b\b\b\b\b\b\b\b\b\b\b\b\b\b\b\b\b\b\b\b\b\b\b\b\b\b\b\b\b\b\b\b\b\b\b\b\b\b\b\b\b\b\b\b\b\b\b\b\b\r",
      "17/40 [===========>..................] - ETA: 0s - loss: 0.0671 - acc: 0.9788"
     ]
    },
    {
     "name": "stdout",
     "output_type": "stream",
     "text": [
      "\b\b\b\b\b\b\b\b\b\b\b\b\b\b\b\b\b\b\b\b\b\b\b\b\b\b\b\b\b\b\b\b\b\b\b\b\b\b\b\b\b\b\b\b\b\b\b\b\b\b\b\b\b\b\b\b\b\b\b\b\b\b\b\b\b\b\b\b\b\b\b\b\b\b\b\b\b\r",
      "33/40 [=======================>......] - ETA: 0s - loss: 0.0697 - acc: 0.9745"
     ]
    },
    {
     "name": "stdout",
     "output_type": "stream",
     "text": [
      "\b\b\b\b\b\b\b\b\b\b\b\b\b\b\b\b\b\b\b\b\b\b\b\b\b\b\b\b\b\b\b\b\b\b\b\b\b\b\b\b\b\b\b\b\b\b\b\b\b\b\b\b\b\b\b\b\b\b\b\b\b\b\b\b\b\b\b\b\b\b\b\b\b\b\b\b\b\r",
      "40/40 [==============================] - 0s 9ms/step - loss: 0.0857 - acc: 0.9684 - val_loss: 0.2011 - val_acc: 0.9442\n"
     ]
    },
    {
     "name": "stdout",
     "output_type": "stream",
     "text": [
      "Epoch 21/25\n"
     ]
    },
    {
     "name": "stdout",
     "output_type": "stream",
     "text": [
      "\r",
      " 1/40 [..............................] - ETA: 1s - loss: 0.0377 - acc: 1.0000"
     ]
    },
    {
     "name": "stdout",
     "output_type": "stream",
     "text": [
      "\b\b\b\b\b\b\b\b\b\b\b\b\b\b\b\b\b\b\b\b\b\b\b\b\b\b\b\b\b\b\b\b\b\b\b\b\b\b\b\b\b\b\b\b\b\b\b\b\b\b\b\b\b\b\b\b\b\b\b\b\b\b\b\b\b\b\b\b\b\b\b\b\b\b\b\b\b\r",
      "17/40 [===========>..................] - ETA: 0s - loss: 0.0805 - acc: 0.9694"
     ]
    },
    {
     "name": "stdout",
     "output_type": "stream",
     "text": [
      "\b\b\b\b\b\b\b\b\b\b\b\b\b\b\b\b\b\b\b\b\b\b\b\b\b\b\b\b\b\b\b\b\b\b\b\b\b\b\b\b\b\b\b\b\b\b\b\b\b\b\b\b\b\b\b\b\b\b\b\b\b\b\b\b\b\b\b\b\b\b\b\b\b\b\b\b\b\r",
      "33/40 [=======================>......] - ETA: 0s - loss: 0.0845 - acc: 0.9673"
     ]
    },
    {
     "name": "stdout",
     "output_type": "stream",
     "text": [
      "\b\b\b\b\b\b\b\b\b\b\b\b\b\b\b\b\b\b\b\b\b\b\b\b\b\b\b\b\b\b\b\b\b\b\b\b\b\b\b\b\b\b\b\b\b\b\b\b\b\b\b\b\b\b\b\b\b\b\b\b\b\b\b\b\b\b\b\b\b\b\b\b\b\b\b\b\b\r",
      "40/40 [==============================] - 0s 9ms/step - loss: 0.0899 - acc: 0.9643 - val_loss: 0.2054 - val_acc: 0.9402\n"
     ]
    },
    {
     "name": "stdout",
     "output_type": "stream",
     "text": [
      "Epoch 22/25\n"
     ]
    },
    {
     "name": "stdout",
     "output_type": "stream",
     "text": [
      "\r",
      " 1/40 [..............................] - ETA: 1s - loss: 0.0613 - acc: 0.9600"
     ]
    },
    {
     "name": "stdout",
     "output_type": "stream",
     "text": [
      "\b\b\b\b\b\b\b\b\b\b\b\b\b\b\b\b\b\b\b\b\b\b\b\b\b\b\b\b\b\b\b\b\b\b\b\b\b\b\b\b\b\b\b\b\b\b\b\b\b\b\b\b\b\b\b\b\b\b\b\b\b\b\b\b\b\b\b\b\b\b\b\b\b\b\b\b\b\r",
      "17/40 [===========>..................] - ETA: 0s - loss: 0.0590 - acc: 0.9765"
     ]
    },
    {
     "name": "stdout",
     "output_type": "stream",
     "text": [
      "\b\b\b\b\b\b\b\b\b\b\b\b\b\b\b\b\b\b\b\b\b\b\b\b\b\b\b\b\b\b\b\b\b\b\b\b\b\b\b\b\b\b\b\b\b\b\b\b\b\b\b\b\b\b\b\b\b\b\b\b\b\b\b\b\b\b\b\b\b\b\b\b\b\b\b\b\b\r",
      "33/40 [=======================>......] - ETA: 0s - loss: 0.0668 - acc: 0.9758"
     ]
    },
    {
     "name": "stdout",
     "output_type": "stream",
     "text": [
      "\b\b\b\b\b\b\b\b\b\b\b\b\b\b\b\b\b\b\b\b\b\b\b\b\b\b\b\b\b\b\b\b\b\b\b\b\b\b\b\b\b\b\b\b\b\b\b\b\b\b\b\b\b\b\b\b\b\b\b\b\b\b\b\b\b\b\b\b\b\b\b\b\b\b\b\b\b\r",
      "40/40 [==============================] - 0s 9ms/step - loss: 0.0633 - acc: 0.9766 - val_loss: 0.2066 - val_acc: 0.9402\n"
     ]
    },
    {
     "name": "stdout",
     "output_type": "stream",
     "text": [
      "Epoch 23/25\n"
     ]
    },
    {
     "name": "stdout",
     "output_type": "stream",
     "text": [
      "\r",
      " 1/40 [..............................] - ETA: 1s - loss: 0.1317 - acc: 0.9600"
     ]
    },
    {
     "name": "stdout",
     "output_type": "stream",
     "text": [
      "\b\b\b\b\b\b\b\b\b\b\b\b\b\b\b\b\b\b\b\b\b\b\b\b\b\b\b\b\b\b\b\b\b\b\b\b\b\b\b\b\b\b\b\b\b\b\b\b\b\b\b\b\b\b\b\b\b\b\b\b\b\b\b\b\b\b\b\b\b\b\b\b\b\b\b\b\b\r",
      "17/40 [===========>..................] - ETA: 0s - loss: 0.0485 - acc: 0.9882"
     ]
    },
    {
     "name": "stdout",
     "output_type": "stream",
     "text": [
      "\b\b\b\b\b\b\b\b\b\b\b\b\b\b\b\b\b\b\b\b\b\b\b\b\b\b\b\b\b\b\b\b\b\b\b\b\b\b\b\b\b\b\b\b\b\b\b\b\b\b\b\b\b\b\b\b\b\b\b\b\b\b\b\b\b\b\b\b\b\b\b\b\b\b\b\b\b\r",
      "34/40 [========================>.....] - ETA: 0s - loss: 0.0635 - acc: 0.9812"
     ]
    },
    {
     "name": "stdout",
     "output_type": "stream",
     "text": [
      "\b\b\b\b\b\b\b\b\b\b\b\b\b\b\b\b\b\b\b\b\b\b\b\b\b\b\b\b\b\b\b\b\b\b\b\b\b\b\b\b\b\b\b\b\b\b\b\b\b\b\b\b\b\b\b\b\b\b\b\b\b\b\b\b\b\b\b\b\b\b\b\b\b\b\b\b\b\r",
      "40/40 [==============================] - 0s 8ms/step - loss: 0.0639 - acc: 0.9817 - val_loss: 0.2049 - val_acc: 0.9482\n"
     ]
    },
    {
     "name": "stdout",
     "output_type": "stream",
     "text": [
      "Epoch 24/25\n"
     ]
    },
    {
     "name": "stdout",
     "output_type": "stream",
     "text": [
      "\r",
      " 1/40 [..............................] - ETA: 1s - loss: 0.0013 - acc: 1.0000"
     ]
    },
    {
     "name": "stdout",
     "output_type": "stream",
     "text": [
      "\b\b\b\b\b\b\b\b\b\b\b\b\b\b\b\b\b\b\b\b\b\b\b\b\b\b\b\b\b\b\b\b\b\b\b\b\b\b\b\b\b\b\b\b\b\b\b\b\b\b\b\b\b\b\b\b\b\b\b\b\b\b\b\b\b\b\b\b\b\b\b\b\b\b\b\b\b\r",
      "17/40 [===========>..................] - ETA: 0s - loss: 0.0495 - acc: 0.9835"
     ]
    },
    {
     "name": "stdout",
     "output_type": "stream",
     "text": [
      "\b\b\b\b\b\b\b\b\b\b\b\b\b\b\b\b\b\b\b\b\b\b\b\b\b\b\b\b\b\b\b\b\b\b\b\b\b\b\b\b\b\b\b\b\b\b\b\b\b\b\b\b\b\b\b\b\b\b\b\b\b\b\b\b\b\b\b\b\b\b\b\b\b\b\b\b\b\r",
      "34/40 [========================>.....] - ETA: 0s - loss: 0.0595 - acc: 0.9776"
     ]
    },
    {
     "name": "stdout",
     "output_type": "stream",
     "text": [
      "\b\b\b\b\b\b\b\b\b\b\b\b\b\b\b\b\b\b\b\b\b\b\b\b\b\b\b\b\b\b\b\b\b\b\b\b\b\b\b\b\b\b\b\b\b\b\b\b\b\b\b\b\b\b\b\b\b\b\b\b\b\b\b\b\b\b\b\b\b\b\b\b\b\b\b\b\b\r",
      "40/40 [==============================] - 0s 9ms/step - loss: 0.0668 - acc: 0.9766 - val_loss: 0.1932 - val_acc: 0.9482\n"
     ]
    },
    {
     "name": "stdout",
     "output_type": "stream",
     "text": [
      "Epoch 25/25\n"
     ]
    },
    {
     "name": "stdout",
     "output_type": "stream",
     "text": [
      "\r",
      " 1/40 [..............................] - ETA: 1s - loss: 0.0735 - acc: 0.9600"
     ]
    },
    {
     "name": "stdout",
     "output_type": "stream",
     "text": [
      "\b\b\b\b\b\b\b\b\b\b\b\b\b\b\b\b\b\b\b\b\b\b\b\b\b\b\b\b\b\b\b\b\b\b\b\b\b\b\b\b\b\b\b\b\b\b\b\b\b\b\b\b\b\b\b\b\b\b\b\b\b\b\b\b\b\b\b\b\b\b\b\b\b\b\b\b\b\r",
      "17/40 [===========>..................] - ETA: 0s - loss: 0.0451 - acc: 0.9882"
     ]
    },
    {
     "name": "stdout",
     "output_type": "stream",
     "text": [
      "\b\b\b\b\b\b\b\b\b\b\b\b\b\b\b\b\b\b\b\b\b\b\b\b\b\b\b\b\b\b\b\b\b\b\b\b\b\b\b\b\b\b\b\b\b\b\b\b\b\b\b\b\b\b\b\b\b\b\b\b\b\b\b\b\b\b\b\b\b\b\b\b\b\b\b\b\b\r",
      "33/40 [=======================>......] - ETA: 0s - loss: 0.0677 - acc: 0.9806"
     ]
    },
    {
     "name": "stdout",
     "output_type": "stream",
     "text": [
      "\b\b\b\b\b\b\b\b\b\b\b\b\b\b\b\b\b\b\b\b\b\b\b\b\b\b\b\b\b\b\b\b\b\b\b\b\b\b\b\b\b\b\b\b\b\b\b\b\b\b\b\b\b\b\b\b\b\b\b\b\b\b\b\b\b\b\b\b\b\b\b\b\b\b\b\b\b\r",
      "40/40 [==============================] - 0s 9ms/step - loss: 0.0641 - acc: 0.9827 - val_loss: 0.1971 - val_acc: 0.9442\n"
     ]
    }
   ],
   "source": [
    "# If your dataset has fewer than 100 samples per class,\n",
    "# you might want to try a smaller batch size\n",
    "batch_size = 25\n",
    "epochs = 25\n",
    "model = audio_classifier.create(train_data, spec, validation_data, batch_size, epochs)"
   ]
  },
  {
   "cell_type": "markdown",
   "metadata": {
    "id": "mtLuRA2xweZA"
   },
   "source": [
    "## Review the model performance"
   ]
  },
  {
   "cell_type": "markdown",
   "metadata": {
    "id": "oXMEHZkAxJTl"
   },
   "source": [
    "Even if the accuracy/loss looks good from the training output above, it's important to also run the model using test data that the model has not seen yet, which is what the `evaluate()` method does here:"
   ]
  },
  {
   "cell_type": "code",
   "execution_count": 17,
   "metadata": {
    "execution": {
     "iopub.execute_input": "2022-10-20T11:20:16.449891Z",
     "iopub.status.busy": "2022-10-20T11:20:16.449633Z",
     "iopub.status.idle": "2022-10-20T11:20:18.302305Z",
     "shell.execute_reply": "2022-10-20T11:20:18.301515Z"
    },
    "id": "n_4MGpzhWVhr"
   },
   "outputs": [
    {
     "name": "stdout",
     "output_type": "stream",
     "text": [
      "\r",
      "      1/Unknown - 1s 705ms/step - loss: 0.2065 - acc: 0.9375"
     ]
    },
    {
     "name": "stdout",
     "output_type": "stream",
     "text": [
      "\b\b\b\b\b\b\b\b\b\b\b\b\b\b\b\b\b\b\b\b\b\b\b\b\b\b\b\b\b\b\b\b\b\b\b\b\b\b\b\b\b\b\b\b\b\b\b\b\b\b\b\b\b\b\b\b\b\b\b\b\r",
      "      2/Unknown - 1s 100ms/step - loss: 0.3577 - acc: 0.9062"
     ]
    },
    {
     "name": "stdout",
     "output_type": "stream",
     "text": [
      "\b\b\b\b\b\b\b\b\b\b\b\b\b\b\b\b\b\b\b\b\b\b\b\b\b\b\b\b\b\b\b\b\b\b\b\b\b\b\b\b\b\b\b\b\b\b\b\b\b\b\b\b\b\b\b\b\b\b\b\b\r",
      "      3/Unknown - 1s 128ms/step - loss: 0.2467 - acc: 0.9375"
     ]
    },
    {
     "name": "stdout",
     "output_type": "stream",
     "text": [
      "\b\b\b\b\b\b\b\b\b\b\b\b\b\b\b\b\b\b\b\b\b\b\b\b\b\b\b\b\b\b\b\b\b\b\b\b\b\b\b\b\b\b\b\b\b\b\b\b\b\b\b\b\b\b\b\b\b\b\b\b\r",
      "      4/Unknown - 1s 137ms/step - loss: 0.3331 - acc: 0.8984"
     ]
    },
    {
     "name": "stdout",
     "output_type": "stream",
     "text": [
      "\b\b\b\b\b\b\b\b\b\b\b\b\b\b\b\b\b\b\b\b\b\b\b\b\b\b\b\b\b\b\b\b\b\b\b\b\b\b\b\b\b\b\b\b\b\b\b\b\b\b\b\b\b\b\b\b\b\b\b\b\r",
      "      5/Unknown - 1s 146ms/step - loss: 0.3329 - acc: 0.9062"
     ]
    },
    {
     "name": "stdout",
     "output_type": "stream",
     "text": [
      "\b\b\b\b\b\b\b\b\b\b\b\b\b\b\b\b\b\b\b\b\b\b\b\b\b\b\b\b\b\b\b\b\b\b\b\b\b\b\b\b\b\b\b\b\b\b\b\b\b\b\b\b\b\b\b\b\b\b\b\b\r",
      "      6/Unknown - 1s 151ms/step - loss: 0.2899 - acc: 0.9167"
     ]
    },
    {
     "name": "stdout",
     "output_type": "stream",
     "text": [
      "\b\b\b\b\b\b\b\b\b\b\b\b\b\b\b\b\b\b\b\b\b\b\b\b\b\b\b\b\b\b\b\b\b\b\b\b\b\b\b\b\b\b\b\b\b\b\b\b\b\b\b\b\b\b\b\b\b\b\b\b\r",
      "      7/Unknown - 2s 157ms/step - loss: 0.3020 - acc: 0.9152"
     ]
    },
    {
     "name": "stdout",
     "output_type": "stream",
     "text": [
      "\b\b\b\b\b\b\b\b\b\b\b\b\b\b\b\b\b\b\b\b\b\b\b\b\b\b\b\b\b\b\b\b\b\b\b\b\b\b\b\b\b\b\b\b\b\b\b\b\b\b\b\b\b\b\b\b\b\b\b\b\r",
      "      8/Unknown - 2s 146ms/step - loss: 0.2912 - acc: 0.9156"
     ]
    },
    {
     "name": "stdout",
     "output_type": "stream",
     "text": [
      "\b\b\b\b\b\b\b\b\b\b\b\b\b\b\b\b\b\b\b\b\b\b\b\b\b\b\b\b\b\b\b\b\b\b\b\b\b\b\b\b\b\b\b\b\b\b\b\b\b\b\b\b\b\b\b\b\b\b\b\b\r",
      "8/8 [==============================] - 2s 149ms/step - loss: 0.2912 - acc: 0.9156\n"
     ]
    },
    {
     "data": {
      "text/plain": [
       "[0.2911592125892639, 0.9156118035316467]"
      ]
     },
     "execution_count": 17,
     "metadata": {},
     "output_type": "execute_result"
    }
   ],
   "source": [
    "model.evaluate(test_data)"
   ]
  },
  {
   "cell_type": "markdown",
   "metadata": {
    "id": "HqvpAnqsVExO"
   },
   "source": [
    "### View the confusion matrix"
   ]
  },
  {
   "cell_type": "markdown",
   "metadata": {
    "id": "8QRRAM39aOxS"
   },
   "source": [
    "When training a classification model such as this one, it's also useful to inspect the [confusion matrix](https://en.wikipedia.org/wiki/Confusion_matrix). The confusion matrix gives you detailed visual representation of how well your classifier performs for each classification in your test data."
   ]
  },
  {
   "cell_type": "code",
   "execution_count": 18,
   "metadata": {
    "execution": {
     "iopub.execute_input": "2022-10-20T11:20:18.306615Z",
     "iopub.status.busy": "2022-10-20T11:20:18.305949Z",
     "iopub.status.idle": "2022-10-20T11:20:20.508400Z",
     "shell.execute_reply": "2022-10-20T11:20:20.507711Z"
    },
    "id": "zqB3c0368iH3"
   },
   "outputs": [
    {
     "data": {
      "image/png": "[encoded data removed]",
      "text/plain": [
       "<Figure size 600x600 with 1 Axes>"
      ]
     },
     "metadata": {},
     "output_type": "display_data"
    }
   ],
   "source": [
    "def show_confusion_matrix(confusion, test_labels):\n",
    "  \"\"\"Compute confusion matrix and normalize.\"\"\"\n",
    "  confusion_normalized = confusion.astype(\"float\") / confusion.sum(axis=1)\n",
    "  sns.set(rc = {'figure.figsize':(6,6)})\n",
    "  sns.heatmap(\n",
    "      confusion_normalized, xticklabels=test_labels, yticklabels=test_labels,\n",
    "      cmap='Blues', annot=True, fmt='.2f', square=True, cbar=False)\n",
    "  plt.title(\"Confusion matrix\")\n",
    "  plt.ylabel(\"True label\")\n",
    "  plt.xlabel(\"Predicted label\")\n",
    "\n",
    "confusion_matrix = model.confusion_matrix(test_data)\n",
    "show_confusion_matrix(confusion_matrix.numpy(), test_data.index_to_label)"
   ]
  },
  {
   "cell_type": "markdown",
   "metadata": {
    "id": "yASrikBgZ9ZO"
   },
   "source": [
    "## Export the model\n",
    "\n",
    "The last step is exporting your model into the TensorFlow Lite format for execution on mobile/embedded devices and into the [SavedModel format](https://www.tensorflow.org/guide/saved_model) for execution elsewhere.\n",
    "\n",
    "When exporting a `.tflite` file from Model Maker, it includes [model metadata](https://www.tensorflow.org/lite/inference_with_metadata/overview) that describes various details that can later help during inference. It even includes a copy of the classification labels file, so you don't need to a separate `labels.txt` file. (In the next section, we show how to use this metadata to run an inference.)"
   ]
  },
  {
   "cell_type": "code",
   "execution_count": 19,
   "metadata": {
    "execution": {
     "iopub.execute_input": "2022-10-20T11:20:20.512722Z",
     "iopub.status.busy": "2022-10-20T11:20:20.512246Z",
     "iopub.status.idle": "2022-10-20T11:20:20.515780Z",
     "shell.execute_reply": "2022-10-20T11:20:20.515155Z"
    },
    "id": "4gEf59NfGWjq"
   },
   "outputs": [],
   "source": [
    "TFLITE_FILENAME = 'browserfft-speech.tflite'\n",
    "SAVE_PATH = './models'"
   ]
  },
  {
   "cell_type": "code",
   "execution_count": 20,
   "metadata": {
    "execution": {
     "iopub.execute_input": "2022-10-20T11:20:20.519230Z",
     "iopub.status.busy": "2022-10-20T11:20:20.518683Z",
     "iopub.status.idle": "2022-10-20T11:20:25.235880Z",
     "shell.execute_reply": "2022-10-20T11:20:25.235180Z"
    },
    "id": "Xw_ehPxAdQlz"
   },
   "outputs": [
    {
     "name": "stdout",
     "output_type": "stream",
     "text": [
      "Exporing the model to ./models\n"
     ]
    },
    {
     "name": "stderr",
     "output_type": "stream",
     "text": [
      "2022-10-20 11:20:21.323243: W tensorflow/python/util/util.cc:368] Sets are not currently considered sequences, but this may change in the future, so consider avoiding using them.\n"
     ]
    },
    {
     "name": "stdout",
     "output_type": "stream",
     "text": [
      "INFO:tensorflow:Assets written to: /tmpfs/tmp/tmp__zipkr0/assets\n"
     ]
    },
    {
     "name": "stdout",
     "output_type": "stream",
     "text": [
      "INFO:tensorflow:TensorFlow Lite model exported successfully: ./models/browserfft-speech.tflite\n"
     ]
    },
    {
     "name": "stderr",
     "output_type": "stream",
     "text": [
      "2022-10-20 11:20:23.370245: W tensorflow/compiler/mlir/lite/python/tf_tfl_flatbuffer_helpers.cc:357] Ignored output_format.\n",
      "2022-10-20 11:20:23.370303: W tensorflow/compiler/mlir/lite/python/tf_tfl_flatbuffer_helpers.cc:360] Ignored drop_control_dependency.\n",
      "INFO:tensorflow:TensorFlow Lite model exported successfully: ./models/browserfft-speech.tflite\n"
     ]
    },
    {
     "name": "stdout",
     "output_type": "stream",
     "text": [
      "WARNING:tensorflow:Compiled the loaded model, but the compiled metrics have yet to be built. `model.compile_metrics` will be empty until you train or evaluate the model.\n"
     ]
    },
    {
     "name": "stderr",
     "output_type": "stream",
     "text": [
      "WARNING:tensorflow:Compiled the loaded model, but the compiled metrics have yet to be built. `model.compile_metrics` will be empty until you train or evaluate the model.\n"
     ]
    },
    {
     "name": "stdout",
     "output_type": "stream",
     "text": [
      "INFO:tensorflow:Assets written to: ./models/saved_model/assets\n"
     ]
    },
    {
     "name": "stderr",
     "output_type": "stream",
     "text": [
      "INFO:tensorflow:Assets written to: ./models/saved_model/assets\n"
     ]
    },
    {
     "name": "stdout",
     "output_type": "stream",
     "text": [
      "INFO:tensorflow:Saving labels in ./models/labels.txt\n"
     ]
    },
    {
     "name": "stderr",
     "output_type": "stream",
     "text": [
      "INFO:tensorflow:Saving labels in ./models/labels.txt\n"
     ]
    }
   ],
   "source": [
    "print(f'Exporing the model to {SAVE_PATH}')\n",
    "model.export(SAVE_PATH, tflite_filename=TFLITE_FILENAME)\n",
    "model.export(SAVE_PATH, export_format=[mm.ExportFormat.SAVED_MODEL, mm.ExportFormat.LABEL])"
   ]
  },
  {
   "cell_type": "markdown",
   "metadata": {
    "id": "lIC1ddGq6xQX"
   },
   "source": [
    "## Run inference with TF Lite model"
   ]
  },
  {
   "cell_type": "markdown",
   "metadata": {
    "id": "5xr0idac6xfi"
   },
   "source": [
    "Now your TFLite model can be deployed and run using any of the supported [inferencing libraries](https://www.tensorflow.org/lite/guide/inference) or with the new [TFLite AudioClassifier Task API](https://www.tensorflow.org/lite/inference_with_metadata/task_library/audio_classifier). The following code shows how you can run inference with the `.tflite` model in Python."
   ]
  },
  {
   "cell_type": "code",
   "execution_count": 21,
   "metadata": {
    "execution": {
     "iopub.execute_input": "2022-10-20T11:20:25.239747Z",
     "iopub.status.busy": "2022-10-20T11:20:25.239502Z",
     "iopub.status.idle": "2022-10-20T11:20:26.917789Z",
     "shell.execute_reply": "2022-10-20T11:20:26.916584Z"
    },
    "id": "nR5zV53YbCIQ"
   },
   "outputs": [],
   "source": [
    "# This library provides the TFLite metadata API\n",
    "! pip install -q tflite_support"
   ]
  },
  {
   "cell_type": "code",
   "execution_count": 22,
   "metadata": {
    "execution": {
     "iopub.execute_input": "2022-10-20T11:20:26.922872Z",
     "iopub.status.busy": "2022-10-20T11:20:26.922215Z",
     "iopub.status.idle": "2022-10-20T11:20:26.928767Z",
     "shell.execute_reply": "2022-10-20T11:20:26.928174Z"
    },
    "id": "1AC7PRyiayU5"
   },
   "outputs": [],
   "source": [
    "from tflite_support import metadata\n",
    "import json\n",
    "\n",
    "def get_labels(model):\n",
    "  \"\"\"Returns a list of labels, extracted from the model metadata.\"\"\"\n",
    "  displayer = metadata.MetadataDisplayer.with_model_file(model)\n",
    "  labels_file = displayer.get_packed_associated_file_list()[0]\n",
    "  labels = displayer.get_associated_file_buffer(labels_file).decode()\n",
    "  return [line for line in labels.split('\\n')]\n",
    "\n",
    "def get_input_sample_rate(model):\n",
    "  \"\"\"Returns the model's expected sample rate, from the model metadata.\"\"\"\n",
    "  displayer = metadata.MetadataDisplayer.with_model_file(model)\n",
    "  metadata_json = json.loads(displayer.get_metadata_json())\n",
    "  input_tensor_metadata = metadata_json['subgraph_metadata'][0][\n",
    "          'input_tensor_metadata'][0]\n",
    "  input_content_props = input_tensor_metadata['content']['content_properties']\n",
    "  return input_content_props['sample_rate']"
   ]
  },
  {
   "cell_type": "markdown",
   "metadata": {
    "id": "yC7TEvQ9o4mu"
   },
   "source": [
    "To observe how well the model performs with real samples, run the following code block over and over. Each time, it will fetch a new test sample and run inference with it, and you can listen to the audio sample below."
   ]
  },
  {
   "cell_type": "code",
   "execution_count": 23,
   "metadata": {
    "execution": {
     "iopub.execute_input": "2022-10-20T11:20:26.932669Z",
     "iopub.status.busy": "2022-10-20T11:20:26.932126Z",
     "iopub.status.idle": "2022-10-20T11:20:27.295340Z",
     "shell.execute_reply": "2022-10-20T11:20:27.294499Z"
    },
    "id": "loU6PleipSPf"
   },
   "outputs": [
    {
     "name": "stdout",
     "output_type": "stream",
     "text": [
      "---prediction---\n",
      "Class: background\n",
      "Score: 0.9910123944282532\n",
      "----truth----\n",
      "Class: background\n",
      "File: /tmpfs/src/temp/tensorflow/lite/g3doc/models/modify/model_maker/dataset-test/background/pink_noise7.wav\n",
      "Sample rate: 16000\n",
      "Sample length: 16000\n"
     ]
    },
    {
     "name": "stderr",
     "output_type": "stream",
     "text": [
      "INFO: Created TensorFlow Lite XNNPACK delegate for CPU.\n"
     ]
    },
    {
     "data": {
      "text/html": [
       "\n",
       "                <audio  controls=\"controls\" >\n",
       "                    <source src=\"data:audio/wav;base64,UklGRiR9AABXQVZFZm10IBAAAAABAAEAgD4AAAB9AAACABAAZGF0YQB9AADDJAf78P3SFw/+cvdV+vkVrv9e+h3pXveYBr0W+PFpBIYVXAjh8uD3gPm80ezVogUY/3fwBBdLD2Pi1dfVyNzY59ov3vzYKc/u+Xn1afrV5ADb0eInEL77XOey77XjPfIC9cTdCtPG9o/UOM1/3XvVG9W68QDVSOZX3pnDTMmn7cfcD+YJ3GfGtNZW6A33vQyIKiUNfwHhCYQQAASi9LL20+mp6Mnn4ggxCYb/LQo8Ez8jDQOE587cJ94f/XkWpdzdzOfPJP9+BXkimxNfF9givg4u/SgF7h1F+t8nlxreJC0OogI9E+YGk/KMAhQGDg3/KBUs9gRwFS4kpx28AXkPTOrT+T71wwOe9CvfyfFf75Tg/8Xw1cjNg8VBw0XXXsiA3rPsO/ft9xcHRe9n3FnWB8Mo9WDxdA1FJOAaeQgIGL//SwUmK9r/AAs98dj9qQxBBLnwtewkFWQZGQGSD0gXqOJ46gL1K/Sf/awWGwFmBesHYApeHFwHhf53A+wW4SfyCkkF+gHhBmj/9tiK1nDnmdQI6BQBzRPS8ibgBvmGB2z3MwY83lnfQwA8En0KZwPz8iHfygx7HfAFpuPQ7O71B+/z+DwFvtsi0L7TIOHk5ZcduQaY/Q3ykeQQ9lfptMr36UnP9uf/6yUHjhJYBAwJFfmOD18R8hsV5VrUC+ny+aj+pevwALT4yvL46H3uStBg39DrEOFf517idfsR+0T97xWtGkQUsvxS/7AS2CBrJ6AQHzX9EfL8KPRCCd0DEQR5+lMU9RdjB7Ie0isxNK8kJxt0FWspnT9oTY0fhCyvRRZEeTrVKDBQ9y2sEswwGTpnVJNZcWPTS2g7MlFFVP9icTAUUjIuPER2TAE+CkZ/QWVL3SWvLvkjwCV1NNxGRx9+DFgZXglMKI5F2DIlLeIiXzPSDbn06gl/QI4zAS/TS6NcZzKQGvMfVh0RM3E1syJuL5Zj3UW6OFIscTg5KdkU8wRLGx8JxhPF9e0D5BMrLKsyHTzpNlwsh0BaNdQmLS6+E6kiYh0qCvAe/xnxA2UL6/lWFfMjKgBx65z9lQUJICoLj/HdGD8TygIj7msLfAbb4FPi0tYlAxr6nRZlIFkKlx6WE8EsXRRZEq3xlwsI8tfeqP8IBIj7/v74+/ogVhNtI5UO3wA8E3IlgyfqJKY6YSewE1oQZScaD9UbMSPmCDYxTjipSJQyhCkkJmkgLzdTQpU2ajIOKrs2kTaYQsgnnCl8I/1JIT5OKr4yhRT1FeARvDYbNWM/JEwfR5Br+VStVe9MjzS8Ljw5/ChHLXQOufja9+f6GAur88jeVfTq7G7e29Wp9qnitfoS9vYOzjKUDlnvOv2n0nvj/sd38SfeMebbzfzRnuNn5RbkkPAkyLy7e8J33TrnON23yu/X7tvL6YYLy+Xb9NL0UO8G4mnsxPS18fb63hf1JTwKFQOaB5UfgCC7ASrxPupo6RfxYuE/6Y4LPvkXFNwlmg5UHbsenRwmI54LjOrdF3gnARYk6MX7ARUpCbUs5xM5FOEbyx3nK8UacQ1pFTQZw/4R9RcRyBo5IPMiwAjx84EFNy/uB98tgUawH/QSXTMSOFcwWxwfFFgT5xhNG/k39CzrFTMabvt2DgwCSQJf+roG6wwyAGshnvyO+y77fwmC6p/zmffUMPQ/OROrCrz8k+LF8oAWKBDbL2sTeBe0IewR2vnU8Z4JYCbR+AkM7RBaACwWlPejEI/4L/olAz72G9ri+cjp1f9lDKcBihqG7vXVTerQ5dDnWSw+PRYEkf7n8ATvoO3n/WvrYReCENDwdwCOEsYQJAGR758pYRgKBKDv0+/a4wbWdvGl6cXQPwQl/AX/ugXx0gPwx/Sl14TyrAaBAKsQrRC4Awjq0NkL3/TbutsG9mrjaNtZCf4QwyxJA3sLyhLYEfQaKR2JG2QIjiFqGR8N7edl3sDFtceLu4u9ldm9yW3ptM7d1jXNfuOM2SjWFPDoBeEMVvzM7lj2xBFC3aP7gPnT9FwcghDIEAosxRd1DFMESu1QD1fqqedM8JcNJx+uE9oa4xabFFAUAxFqE9EHCvWD/FsER/19+u/xnSsE31oH2QSz6rcZvAe2GLAKv+ud//z/FRb39oLhTwpa+KEHX+0t5TrzpPNZ4k73YPlPD97rOeIc6Dr7sdcf78jeRPAE8I7QdNWQ82787v5M9Uf2rQGR+p3nugbkA3YR2w1+Ad8WyhhF/qIJcAVgBNsGXSdNJNkP6BJP/RsY6A0oFkzxO/QY6nj+YvMk+Sr1lQ0qHcXjlP9JBmr6u+Jr8XADxBc1J5gpRSZxKtcm3w2lI6IPWNzm/v4G2Cc5CUEfihBd/zgH7/XkHOpNo0EcIuEGpiGuHnsXLQtlDjQ3yxcdLfc5uDgLFDYU+CKVDvFM4x6oCdoYFRhzDeMyShwU+Bf0rxddFJM3GB77NssiYw/MFKMChhKU/i/ZYvaE14vcuOkVCN4I6RO5COEAAv+OGVkDqAg4/i0b5gs2GXjvi+m52WnrHOTa4Gvk9e2hEVkH1vhJ+8cNTQJp/NYE8vm4AAQI/t0w+xfrtv/eCcAN2/+XECQb5RB3BNjvVhivBfYmLwwEDYEL9QBQA4IImgSHAkIlPiw69ooIhyl+8/DrIsxc+QkFditUF1sPfRMx+UcAOvBtCWUKGBjcEkAA1/24+akbdQU49Jb+URh6F+8SaPmP5JkIkf04BU73wuRPCvT8Yu1RGefsE97q7tjghPmk9cTz8AZUA7DiwBGDFJL/svldDCILQf2bCBQEGvzT2hwGqelwuEzU6Nf+8PTujvKJ8UPXRuGu6XfqEPYG86cLviPNK+Qn5ht1IRwfgTOyGako0SNaH9ws2y4RD58hPy8qMygfTjsgTGEybylQAXcAHRhVGxMZERQQBLgQeB2aJ2MuLSfTNKosfSdaN4oM/zD2OZAdnkE5TNAeAiYENnwioDIPH1EOGhfCGmII9AdB7+Xho/G0Bl0bxRJVJggVQBGUFx8YpiCACCkRehO8FhIPS/bP3nrxdgdZBgXzRQdTAAM3fxWoNqIYDBKuBhgP2A+VHLcMZQOD+kMAdxvMGsYHoQAgJz4zcDK3FywYFemY8L4CXgXZC2D9jA/CCRTv5Qo68oYYtQ1nD9oRzf4oGFP2EOJQ4tD5Zu9W/SLrhNDK14jYl/vo9cHpzdSDuAXl59vd1nn9kt1r0EHL0ODDzRrKI7w8plGfbJKishCq2M6Vyp3Ci8aJzEXFxJYpl1OziLmRvdTiludQ5yvo1t+5+33xSvD33wXVtPJ5877+EQqyFosJixte9yLqrfro8Nz6H98K5r3LhbSFkhelpdon1GO/YMjV0yS4LdTm8lnTgb8n2Q/oHevQ7v3hHu0N01mzMsY36U3foO172Wrf1fhKvULB18o6ykij+b6IpbTLhvFE01XexdJ11+3frdTRx//jaO/K1Q/XLN/m6UXkq+xW/ifrRt4i6gLqfdzyvxTNYMth4GjkxP7bxHLSbMun5y3ODvOh107bF+mgsznApLtgxqPNhbmI1fryReQc5s3vOQunEIIKVeHF8znUBPI04uTtgejD6FLtXcO+vUG8Gr6+pkKzVdnNys7IIPp113LTtOBU74XdMsak85XVdPOizguZV7QPtgqxD6QPwzfC06nAu3Oxps98ub7Ai73ttGvWNqQqvZ3BAOBkwfO+L8g7tHOVarmWseWwys4RzLXIiefh0bO/47thtzrc5cEXyJLM5NbM6CbyHOD74Qvl1OSw3Rzoes7Z8EQBBfPJAlfvZ+Zz8sDoFASLBdX9/84A2E7S4eQB6xrpjOHW+PH7i/wMIbL9FOgq0izfevAt6kbsLOo0+YUFHwSk8jfzLOsZ9p70bP/8+EICUA0uBQzo/QLX9qcEp+CPuR/MNtuJ+wviOdd0BILmueO76Bj5vwY5/QIAAwb2/qIPJO8q70n2WvqB+tkRwge29Of1mgV57Z0NOxEoAVIClwkj7FLuKPS9BNoR9xoQJHjilN+0tsHPc9g/xr7XmMij0u7dm9Ap2ov2MNjc1OPuG9ac4wrlxuf8/38HxfSw77r71O667znzow5gDv4BQgqo+PjmxeyH4/bpLfdm/Cn73BbZENcVZf8S/YgiigXABbQc/wz67pLJrNbG4ZL4wv+L+8bXBO5R/8ntn9jm1ZPj8QBHDuz8Bva68/8LUBQ3FDkFhg/Q7UD2EAQEBGIdsfuZ6RbHOdmj7lQNoOpS6NwMzPirIdvrZOOG7IzpT+0mDVYayA0i5CcTghPPIA4BdxbaAAH1Cf7t2MjYKdJvyF3b492CwbSrrMF0qeWzPcZIurW6bsCSytu9uuD+5yDAa8hl0NKx0MMdmAvD2cdG2TXE28F/ynW+qsT/5YfkTrxdxd/MM9PBvtyocbNPrvnFrr222+XcKtKMjzy5tb1Huym3MbQK066+GLgZwiG/Faz0mvmnoaqcvIbHtMA2tEa09al/o6evhcb4pra3Eca33uDgDfAA4ZOxM75R3PPG98eR0yvHsL5etYLGVcplykjEybCv09nYYt98wivCjb+i2i7X0AsM3mbjBOBp0h6gxp5wv3jGfMQFx7DkjLbKxG+ujr9ZuLzlOfqt7W3UX77X12/jo+txvZjRx+M7z3q90dut2F7epeTt8ZLYX8O63Zjlz91CvMCqCpWxqiLCScBWyUavRcP03BffUsE52B290LRRy+XMAM5Nx+i2HOTH09a5tNCY0yTfedZV1nPM4+am95oMSPWz6lYQzOZ14BrfCNUX3BbKQ9JI5GnL77i2vhLXjMl+xE/C0c5f4XzhBtN91LvhjNS+1HjOycZqw7fLndo/8pzJzbzjs0jCy9Wxz4MDxQzw5yf60PND797pq+xt5kf5/xcIDDwax+d4+FLV6PWX5Snsw9m34+fFU+P+4NnJhNYyzqe5ptRnzHLNG87w5jYA4wJo6+gbdwmcJwD9m9xS2Ivp3Nyg6NbkV+Ia3vv54+mO3Mf4Dd9S29/p4+o93GDy9/a34PrgBeSY78DolN4T9BPZyd7L+jLY09vx6Dn69dwhyvvLL+ZE1ebvf9jsuvryDdhS6FH04PHl89PlSPka9pH7ZPYi8R8L9gmiIssIfvGJCizt6+sDyd7pvwnk+qMHvv8A+qoHJAbvBST+Y+bg6BbY3P6e8W8NDQEYAlwTdvRCG6b0Pg0B9R/nnwe6z3ve6QLICcce8/Hy7kjceMVd1cbibg6QId//h/X2BH3+R+KrxfvfDAAdzajtX/0x+rL0BO0A8F7zcBHsIOsaPwNv9qD+0/pl4JXmHPGc9DHKLr+s3OnksOBn4rjgON997L3kxdmjwIHWk9UJv4rZtN3316LsotPR7pvyfvEvyRPMqMiIvVzWtfTJ5pzwR+SZ/MffR7vyzyLqOO2S3CHQZeAu5g3nWfhU8XgcqA2BCAHu+QlCQRw0ky/uKFEZ8glIHbwHiRIaDMQS9Nmh+lgRc/TLH5gjJvfMCnIQ/wTpCBYGw+wX9q7+/xNALlosaS9ZWykk0BElC70NVRgrEcgMxBIdHbcMnv3yCqT1NvO1+Enmbg7jJjkATA37E+Ip8hLQAGYTKxVOIqT9RQqs4Xntq/T99q/uSvcdAMf3efJyCJQWERUw9EfeQ9yF/H0LFBFrBDvuVAW/FFwDzgzN6OvUyAkt7NMA5vtt+SjygNmg8djyjw8y/hvzx/2dJLrxG/CF8TsBhwRKBI/j2PXbCwDiOvkg5vzk4dHtt2i6Z99C+obiNbd2zw7t5eKp7VbFEs1luJ2zoejS2p7Sfqt7wLLLHbzNrPC/jczBvqLDlcgx1MLQzMAx3u7njfBV0tO6Yced0e/cbNtQxej2MOfm6H/YSNl+4k3eo9L32JT1SM96y4/h3vlJ+hTYSOrV3b/jst077uHuu+F18aTiStSJ8nrnh+kT/vYGoPj6DHwVBvm1DY8LOjPpMS4TiS/LDscXaRrQHhIDnQ4KCm/zKvp4AE3rtgzY/eX+pw14Fw0xABR77zrkv+fV/W7tOPcaB3Ek4g+wFHwkCi39OtMbay2tMcAiFzC1O8gy5SlPCoclciE4OOYcrxWSHvkFZhK++pQcbwdW6y3t4+UB6n8EIQ+TGZQfefaG8gsO8A+gFd0KmRgQFsXs5+fSwPbfNvGaDSQFgumm/A82Dx6WFSEKjROPINEW1Q37/gLrgO3SEdUAAAKn8ZIRJvCp+xvqCgKOG7kQahl7Br8FIAGsBr4jgCxnF+cbJBmFGBgJWQdLC9cQJiOCGlkc5xtlKlsLvAC9L3QabSQBNOwDCxipG+M0VAMeCBQR0PiECkz7EeGZ2ZvXBe+UGnTlyv877FQM0RHCLesc7xPKLk0VewcF9s7zlg2lINsYuf8z+KIbqiQ+MNgPGPNwEPYNYioxJv8nzAWh8Wn40PvIGJYRGQCrAh3/R+6U3/UEKP4ZDowHFN016prxuOCUGykc0frpDaEBQxcE/K4DUiA3KUwwOBsLAyIWuDASGrActxFu9mrktBOfHb0u9QqF/p8KSx9KNuQemBw5C6ENgRah0XLVwvh5843Out7k2nnmcf+D74/O2c6sx3TmK7ie3gkBvPrDCgT7J+gxEX8R6/ZYGxAOOfsPKFcpSiSTHvcYZ/Ye5rD7UO3u3tzOZ8WA3Wf5Nw2H7dXzWMwr2gfuy8CRzmTdFb1W4E/ywf61+xHW7+BrBWkEieSq8NEACtc506DMcbXcs+GoJN5u6zHbD8RP4vTt8d006Rn2yfFvwIfhSOO2z1jIIt12zUDvROPd6knTXe5+8ZrcleTL6MvrovuL78jie+pL2bbdGdvJ1GLCaM2xzrzwXQA7DhkFQPYg/eXSb9QT5+ve9e+v9LvhFeDj55zDoeb//N7smspY1m/5uvKZyrbO2c+g1sLsp/zezqzPP8LXs3mqH7ok6YrtN+KV3pPb2PCIE1kD2+bM918UOfBU1y/pidjr7RjkJQAn4VLhvPfb2vXbDOr66y/kTdU61YoEtQ4TEDUowy+lCAADDCPDD0P/3P2IFe0fYxhJEuENdf7G6m30BQAHFE30g/ME4JHjJ/Vx6QHv4Qs4yo/olvs4Bm0M+OTo9nrrPPdR80z8cABs7eXuKPGo3mACle0VEZEFS/8980oBugkn9ErQ0gG4DeQPcAY/95v5Zw7cC3oeohZBAWAPcxbQ+OsUsNvAuFvlj+I6+9/tqPmTDMDzryEYEnHsHvMWzwTYlNQU7P0WuBM2KCIEMf1BB50FaSCoH1UObRZAE3r/SPtlBizvDRH5GrQTqRcIIMn6HgcaIX4qMRIU6dcRT+2y9Y31uu8o0lvTmOvK+DPk+ewx1SrdWuLA7mTzThxtGB0U3fZEC4QBrQ8GE0H3TARw/p3tCRBS/jj0xPs5A6YH5BXrFJETlxGlATcYtQ3dD2T3jRE2/XX0uA9sHhombw5f+ucf0QbC3Bn2RAiGDerjZecH6xMCuf85BBELFxX89vTOhuVl1nIWdfwG8/X4wwL3BSMQ8w4X++kMTAsN8bDce+HY/Ovw9flW5BHfGOAeysbnd/4f/Cfv2gFIGxnsGuqJ5sD4i/3OGiIPRA/PDxQIiwJl7C3k4fYWyPvYuO0F4nrtnP8w92bZGdcq64MSxvSt/joMR+rbDk36UvBt6Ln3JAeQ7z/qAfY9KCUDdTCsGg8HHhYv/wEJnwV44L7RrOgn4n/T5Pkk/eDpjOzn8/LtdvGr3Zfwcdyl8vjmvACi9YT9TwbI+rcQGyZLBO7scOwV5Q0XGv6gACsdxS8A9aMDxvpjCh0/+SniAFsHSzglCg343fzaAezyDQnT93/5GAdz+kj+T9rQ1wDju9nY4QcDoQmU6MDp8fRj8aLs4ffeAkDg8uczGxMPcvRNJ7gl3uzCFNsb+AGa7QbYnPkY9PDuxg8ZClL5xf3JEdYb4P6z9eP7AdEwzz/4Awrl6LHqOs0AzYTqNNfI7L3krtbE+8G9edc7w78CZe2E+rflct6G1K3UCMVfyvTiC/exAHkKwcxC3N3dU/j63mndwuop8snmpPbo9+3twsOjvP3kAMeGtTHOi9Ojt4PrQeC74yTbG8jgu7vH9NclwXHaE+kH2EbY/MCAzBjsS6t8uEq07boMyoDAgswc1eDQGr44uZa6sMVtxd7JJMH/523PvfQhApn/Ju6bGvYmmyTaDXIaZhAJH3EeZQYaJ+8yHQZ4+PzRXsZNu03nqb1s3f7dX+pP83IN3x5A+hTsWao51nPKLN8748HUnPL03mX9V/PR95fx4+ay4nq8XdA03ErsOebz4VHndur02XIAJv1o8qrqZ9v2zsLXENNizcXVNcndxojAfslnzgbJFOJq0cfE66ssxenQ89Yt1WjUkc65rkrM3L1CmSezGL100kj4xRT67XnqBgZqGxoEsu1s9WUB4wHIEbIDrvG9K0M8gy/lK2MYEBFSC93nuQJ/HoTxkwQkCRntsQJF99/+XgFjBM35/+d/AyMAdusb097xb+uT8zP0JN/C93v73ubV5g7jK9u8zA/HLs4Ez17JCrwls6ymJMDyvWXczubAt5vLstp371jIDMrevu69nMpG+VL3fvHv1QbWXg+x+Drmmeihz1Dh2uBS5E/MVsmgj8qyWNrg2pffpOpE5d3wuOYB7KvfVNmF+z0Cke/+6xzXDOjj01zVkuLNyEXdh/dH+Ur15ed+3RrvC+/j/lbO5e4ezbjqiNQI1/wPxdGI0ozez/sh4dfk2OgF7xEDwfqfC88ZnAXMCWzzdACt+DQLO/KQ60j9W+lb3//dAulg6ZL1j/dP4LMD3AD3/+kuiSHSChf6V+4HGLAbCBb5Fc3/sPE+6ogNaRXDNMwmyBmDAkwFAPvN4pXiQhJzLq8PhgCZ+/4dDh6s+HsHgOeM7HjQIfBl8DTrLubn48P3DwCK5XjeEgg27AT9RwGV3V/s+wxy2nHmuBP8F3UHkS/3Itw0BDd4GBEr1zaCFHwL6yD4Cr0qNRtMJ7IbjTA8JykM9BMREUImffRZ/Z73ZBMkD4kIkv8W6dDupgjdI/MSNh0wIzEj6AtZ+3oHZvzG8WIdjg40+ZQeLwhD95H2ru738F0FehRKCbAYVSf8D0wKW/IqAKTyWg2/HSETsRqY8+rq5A5bB+oO0/Go6VD/2ecCyOTKverq95nriCZvEOIFoQ8eDwYJ4Bb2Hrsd/QkK9cfso9vB01L7yuyS2eHxn7YSzI3my/aB/E3suc+6ypHqtASZ+dL43PQc+Z331v7Z7nvqqvCr4i3acNNVzZq3WrsAw47x0uxM45bboud65dn4cMpz0mHpz92h7GHPU+TIzG3XR8iH6IjVLfMEyevTkfEs65rfnu415HH3A/s4GfL7KO8L5VTYzLmct1PbBRN//0PsYQz/AS7xncpWykTbjMcD0Tm8k8WJ6mfSIuBo0K6+C9d03EYAJe8pBIEHEASpGZcdjPku8vfrDgSL9M4E6e5Q6SHvWPgH3nruJgOD/yDlYeT9z6D/8e+K/IX/t+bX0sHaMsbI0a3daOMw5m3VoPGQ9IjvaPLeBA/ZONzq5U/hirZjsObsH+WXyIPG9r8T5tvZe9zMyVbq9uNx4PzWlrP0yHPUKt76wWvWx/ZX5zzsRuaS1DXNVMCe0Gngk/PXFU4Fv+Ze1tnhOut+3D7J1uSu9WQBTvZ379zkOvEr9u/eV9OT8srxjOnN+s7flOwE5hzM1cAcz5LGBb9evGzrn+gh/UPzLc8ux9jkUNgf24T3ZeWZ8xvp+M7S1jDrBOgD/iQCCPFx+14fgh16CNkCTfRM9SrnnQLNGxkk3hBO4x/sMvCeHpYQBy1/IZ0vaiXEHpETv/XC9B0eKA7kG4QN9PQPKGUrlRjCMUUmzU0XV31C0jWzIhMavf+1D3sV1yzlSu8xGEMNJz4BWvoH8NwDmhT+Ce/6Yedw6L8JRv7tA9oDKPFC/Wz63wcz+yfJOd0tAhMBc/pT9LfJGNRZyyTNbua60jLMlsIX11H75vbxCM70PfPK4/zDYQFP+xb4s/Wq8lXhqAI30hfkrega4N/QX+Jp+/X8E/vy3MHONcxJ27bYtva3/TPxBsxw3bTl6dXO8yXyDN694wHswcNNuYXb27RsvPbbkPXf3g3dROcf8/0Z2CW6I80ZOf9P4fn1zg7TBDfxTflu9tb0lfk6BAPw7Nix9LXMuNiQ5pvY+szl3Yjgd9m/3Jfn//vT+r/qI+sOC/D++d9G0UHMcbqBqCjkDc0B5nPXHL7R2Dm9srXDzZLnZe1qzET0yOS89Fv6nuuU3dvdVPqF9koVH/Lh6ajPBOFO4KLffNyW2ATkYga37zPvDe2S6n/jPfpQEqP8VfN79p/lcuXU9oAJgiKGGZT3Cua8DGLqkO0e3HTZFgw/HC7+EQSJDVHkbeO+BP4DJQ7O9w7vU/JT8rsctxC1AzXvif9f6e7SJAXO6kLwhvFj6u//kf/h41zq//ii/bUH/AWDGGoAjOYc55bZ1t4R0em/hMmk7pPSot384cDjHfGH+18DiRk49rrFv85X6tTxrfc624PeHwF87+L1rQjP6GHpTeF3/HUflfRWFNAMsP6fHDv8UADw/8EKGuuAEh/6vuyD3nTkX/QI/swR/PB47bv7OwVrCAjsmRpUC9UAsgN0/ubyXtd76FTStgA+CAMA4Qno7Fzogt6N3wwPAxj1ExfwP98Mzd7XtQ3uEr3vHBCP7VgFPRVNGvgcNyn/OU4koRGTFGgm2xkZDpQf5vh3AT74FQL7M0EbUxYoFockWP0kJDgeAvwnCdcYdh6TJLoHpAqZ/Y4eIRpXBYD4vRe6D37f5OoN9n/uufPk7Yr8uAZMDo8sIx/3LdE3JTcXI9EvuC4DIospEi3/Ba0MvSrRLRAs9C/vCAoaWgwy6SQQVRiiEGwKdQ4IEWYOWQlFBw8U2TAUEJwBzeuiJLMlKBXqCyACrxNEB5oYSy8IJ1gVzy+iCbsNZAINBJwIxwR6LlgKBQItJqQXmwN36iH7ZiO3IrUYNxFy+zISJgI8+aEKUw8HGy0BIeSpH04TQCb+Acr5fgTPBQQPDQg22pEC6fZN6tEAyRT5F2XyIATSJakKKQeN8HDzVecKB8IVyPL1C18XOiT6Ndg+kh2fFuQX4DYnDIYitDA+Mv4t7BR7K04tvzilQRcPEy/HJigieTjPRkJADzW0LHsfCxPrQo00XEZ8SSdQZSwHSlFTGkMZGyYYLx9V9gYplBUNEFcLRAKODfAMLi0JHRorWjEBKqlJCDVDLTUwDzDbKu009z/mG/8owReDHxo1CyCoGmz7D+1M/xsM4yM0/tL2RhdT/aog+iF+C2sNU/9fBpUAvBCXBUsI6yEmOjkomjYaJEk3l02AKFr35eXw8jgoKhC3NZsxekM8QN0idRM1Kcgx9zFlLjBA6zMDMZRBti9YGv43WxZsQNdJW1XoNek8zUsBOGkoCElWMnQ8qyMuIrQSlULePmErECWQIVYRAQdSB6QuryhaLa8T8Q76MOMpIBkcEMlAGSf8JcwpsR34IbL4UBB9CKD3LPKlDQT6mg3lEm0ItxxJKlMbrQvfFIsQKRBdBmvv8PXj6dbsdvnU7wLojfMlBVjtzdWZ3eLkA90u45TgZPqxJQwf3AYq9Yr51unkxYXfCs8qwqPNQtFU0EbFOe/n2snji9dy08LIQLwg0zfoEOSg3yXM5tC9x0vkG88PwfLZdfrF4ZfFCsbIw9+9ZdFzuNrJuN/p1vPAS7WKr43aiLcIp2291dx/u13nd+IJ5VHeGua4zozZ7+bs76ADswKzA+Lsr9XOzj/bcfrrCk4gOfgeAFf4k9reyyTKvNyiA1jrWerT9mD6n/ew4fvd2+Ua/K0UPuhRAfD0hOCm7yLlydolA6YMdAnHCx73pP/NJ+gJavok8W4P4eTv1x/lO79V6DzvXOlQ/tf/yf5F+9TgrRSuLaocTgkOK+gE+A7LCB4f+hKeAnMDlhnzMU4QYRkxHwMJ1PR1/zL50NLp/s/52/aV9Hj7Le5Q517pxu+z44vly9QY50z1M+WfBRIi7hUVEtEVRAAl7DXjx+lt5EcTMvoQFIAbwfwR6kbrTPtb+U0BlPauBjAanBBqIeYdKxsuS2o/6EcxRHxAvTh+NsEYJCt2IJ0ObgghB18G+QtdIgY1LkJNMkMg1DePEI7/BgrvIfb18f7sHmv6ku/p+O8B+Pc15XUUHQhXCX8Mc/Q1EA78IBiQ+BX4jve/90oBJRyJEonsvO6+4IQfUQXoBpr1Ofna/InoO/8H+CDiOgr/+xjmuMHAopDTYfcU7goeQO1r9dcPvP/3/BcBRxhdB48YC//JHEoQ3gZB2oTw2/tOAAMH7Q2fEOUpFwct9k33F+6M9FL5Mh+4FlL+QwnOISMm0B9xDzj4m/BH5R3euvlT4KDiytNC4TnEct6+5iHXo9219kLKz8C+3nLRLuZZ1Y3jfdxcAKbnefua7wXdzNqvAq8UixFVEfUOuSCsA4jxRAFZ/G4ExvLq4Sjo6PRH/Cj77uYk3VrFyrTXv+bWwMXg2lX0pOPo5MW+R80s2enCPMPR0I7r3vIe6gjkIvS/0BzqpOlx3WzpxNBp07fO3NMS7OvcjwOB5Qv1dgCJC3wX5fdl40nvLuwF5tTzL+xn9lXpRgJV5/Xhg+s92bDVuNgC5i3sEOq75Vfk88nC6bjbQPEyAc/1pums6wrrLMuRvlTTbtta2wS5+dYJxyWrHsd2sb7fOuFq2TD13/jT9cX72fiG89P8v/XvAygQ3R9+5IsG5PsZ+wHwuwcSC8sE/w6eGFggoyA6HJ8YwgKxG2YURgHUKURAaBc1CaH6fgLvDs8R6Avq+uL0MA/QLWcgnBJL9W76jv1eBzP72BIuBYYFzBC0DlYxJQL7DwsFnDTOFDFBfzkbL/wgcSX3FJ8Ex/Zg7EbG+OU98GsSRgKaE/MA7vJ+32wBePpN8+rwPsrmzZ3YcuVm2pjfZNKoyoG877yf2nm7ZLroy6XBA8tA353pUflS9CrlVc8/usPER8/pxY3Mz+vr6BDfo92r6Z/d3doX9EcAbQf0/3Ua2fbi9L71CvsO61bkrgPgB/b1MvHUCOTjU+1r9vH6kwf9/MTzPwdr9YwLUAeIDuASjiC6CaMGSybnHigH0BKwF8f6/xpZD60jrxhG+Xb3jd/aEpYbySmF+4wM6xZnI0Mj0v8s3O/rAODN4q7izuP2+N7yMv60BnXmuPjSAWgVaxr6EMUGZv6eBcIdwwiy5/D0OfyvA7YT4gFL0sPx6dcw6ID1z/yGBDX4fvBA0xgI0OGL2cfTwdj/3DOxHdOxudy/ztBS1i/HzMprwyOzBspzyBTp2eC35Jn7V+uX7KXsMOM8+tX/+Pxm+UIJK/h9AbIWzf0TC10LdxHsBkz/VvkLDqECDuZ17krw5v/+ApgK4/B3/U4OIuxs0Aj/sf+EIeUAsv4VAC4FSg9C+poNNAS6+PDbCOmo8PfVOtWK1/nTHM+DzmLkvvNA88TqtA/BFkb9df7q9jv0N+yB+prvQvJ819HSjul83JXPUL7ZwHrZCr575xPTDsVk1rLa6uv15nHjDfCZ7AXkkdkDC/UKihPS6Db0NArwG8biXszkwvDDO+Yyzv7ABb0e24/2SADC+IrxDeJ1+qXazd8L9QTSkcHF3FvBM7ANxP2g7a+kwr7D++JmxP+iJqgKpA/RgtVo1i/cht5W6lLoEfMk7W4DGhh8C6jyyBvVIIkh3yTgEFwQ0A3aDccYhOijDIcIvu/l0eoAXuGu2DLcN9ba4njbPtli0tHt4uec02gK+Ahg+Lvywf/099XXKuqf9FHobPh75nzzR/pH8p/sqPaJ5QznYO43F88H7Q36FtMZtg2WCtv00faB8P3UTOKt5Mb4mM7bvt7dedy0xA/i6/kk/Orqc/VS+HHLHd8/6MXfY/P169z1bAIMCZ39e9jR1cf4qQr68lba5s2a3vgWZRDH87z/EwWw+GXzNdnR71b+Y9Uy8M4BNd1eC9cY3/m1Eb8GQg79DY/5IPaJ/7f6LA2R6KjvgeUC2+7H1748xpXMdscN0sbPluim1xbv9u/W5HLXGNml8mv6gc3L33m9IOBN39GneZpipp2vBaZbxUbMW8/62TLkd9aVz0/2QtqW6Jj0LtQNvYnavt8axQGkqsK9mfzAjcMe3RXpfOVw90DvTsYBz2PP+8bP6o3yCfiH66PkcOtdzYLD5+L31/QPBADKCtvuDslM3oPBTr/d18HnxO6V+qfoRgH41GvmUday+DP/Tum4P88fBQIS95HuSwh8Fj4QqvZHDDn9MerJ1ubMZ9FS6fXygOp97/4IIezP3BwA0gPBBZgblTmmD0kfNht7717sqe/5AtX1yA3BE/4qNh0GNuwSxAclFM0PAQRT/90BEvl8EXsl3/FKCokgnSdrF0ASSvPFHw71xul72WTgAeG5xTrdeNcHzfjurPfFKpsdJu1aFOn0BP46Amf+UgwkCZ8N+fuf/MAUHu+S5Tv1FesNBkfon+lrBd4EVeczAQj/dRjwMEI66xETOo0MVR+qQJU6iTskMHYslhn0K6VGrVFIJClGMkGzLwUyaUxHKvIexTehG3obCiNBFo84/j/eBPIHogmBFV7/7/Ji+iToOOvz74YOEgVS/v7kmOmY9LTe4+XUyHvTz8GW16rKJda76U4eoABw7fcBkgC4C1XmwfJN96r/YgQP/b0E+gn5+O0OhxVJ8SHRZtAf7TkBb/299iTPL926sCbfVKUvsrWpxsDZ3oHVe+QK1ZGv+9lx8SUFCuhy4Q/55goVC233jhp0BI8KnQxX/oALcvr54x/Vld6C5+Tkyuxc8nIYnglOBcwQCwr1Bnj7yPZU5QLyGufQ7Y7OZLw92sDohPfZ+Z7qzfjs3zHhgs0Ny2j2E90/086/ZdYvtbDJUQhP1g3en8MJvnTOPd593LXPiszfwtTPcMuUzTrNNqlg1s7Rf6FwqD+wcbZd0TXVP8sFwiDVpdTk5CfVpvFrrHq2KcP2wE2k4JhTo+a0SauvrxC3fqlHyLqwK7qSyznDyrxOwoy7Dq7xzDvKIuAYw9Pgdt28tszQFtf33uXO8dHdtjnE/8716HXJC7QYvxXlzfGe7RbIfsFV7ObSg8rozavw9d4z5rnO5LAkvl7RPdq6yIXTFMJUn7zJ98GatvjPsb/3uWzFwp/1ho63MqeCp1y4jLntmmyhG5pLiXGiAYCWjtqy161e0KLECKg4xp3XDMv8x0r10dVBzMrOdND2zW3eL6ZrmYO0dssrpguz7pCeoeGwfaFK77EK2srn2afq+/1lAJjZbu6DBtfnOQN/8TjcuclF2NLpOeZc7I4AN/eKyCDU5+OMycrYH8uT0x/M7N+8ArL70e323ioE3gVj8tfv/9/r5Ga7cNRV0MrEFsq/1hDi9M/X3zzxVfan0yu3+ea32NHIrsn2ve/Gv8VRuDPS9uBS4zDyePWZ5oXTMcpc7DcF0RcvC7gmuAb3Am8TuvCPAP4NcvqrEWjge/sv6abwOOCPzyX8QQiz+XgEvvcxCsv7RwSS7TPyqdoUzqLT28945QvQ1wIMIfAXKhfVFxQUrBpqCvQEE/4I7JvaA8OV03PyA+t88K3+oCcZ9skWSQ2P6AgIVRIP+l/rX/rA0nPghOk37tH+OgLaFtYNICi26iLw9/J55crxIAiY2bnt5sjS19y/H9LYy0beYtW2+jQAzh7o+jzqYxiyB4ccliLKCsbqrwSzGnT6guwQH/QWHxVD/WwSjN4W8UESUQnqG8pA4CUWI2Mqwxa5JCUK4zpHLz7wS9Vk3lLOyc8Y4WPl9f728lLZyQHtCpXt8udh/ukBU+vS6lnpkOX09Nv+B+FvwDfbpfCC6TTcS+wID7wHw/gg+hcLhuqG97QDue628GPliAIHIgwVegkpCUAO3ynJHe831EOKIBkfHg666cPu2AsL+eQSmDFhKJ4WwSw1HN4W4AruHaoYikJcLZYIehZPB+4Vfg65B5X+tenK2x0Jk/P89IjuyuXlGC8wbvPH/bkN9P1oAWEDzt303QTHAbbHvoPLGc99yNXfPua410X5yhKO/c72tQM5/DJC4DCPJPpDSyWRFQUOyPTN+38EGeh+Dr7ycwqm63kWwQ8EBKT2jwp2BwIOXhoHKAMwOQ0NBUHhEvznG04j7xS+3CP9QBfMDYUfNRiIJScg5DRhRNA72zqxPN9OuyMhT+tTdTPJLJQntCK7/1j9+wjk/8IE6gAa+7QATvPZD6INSigTLnT8TvYj6b7f6vKLBu/uOwEUAC0GlxaVEpQOF9zZCO4M8Bua6Pj/YgjBGp0LFxEQ7vb5LPMI5TjsoPPq7/r2m/U0AMXzJOlPxtHL8Mhfx6XUDtLcwjS+Ft020bfAGLrQ6IDReup+4TfzzwJd/QwleQeGFogS8viEBUYEjfPoBxcSMjWlDI0Lo/yV+7IDr/E7+kf2wgbu/1HptQH1Eg4XnyMJH4YWRCU9/l3yFvNM/+7yGdL12rfMCeW509PU1dLX+eDbKNmI+Njbn8a9wqbUD8fm0FmyjNiz3a3gztFEzG7Y7crk6R7y5wpL+TfjSPpA8qgGBQpB+VUKKQNy/3rlZORu3/Dvs9ZZwajnXsNS1wHj5Nwe7xLbfdLC5VzsI8kf59viPPBKwCjksO1Z7eTjB+V2/RHoq9td0vDgLPEI2GzKGcnL1E/llOVO59/0sfKf4JPRYNAfF1L34uYN65Lr8Per+kT6nS7tEJcbt/UlCuEYV/qo7jv/nfEm7gPtrvel0kjf8gHpBh0FvumB35ADkCM0FGcdTx3A+4IFJ+FZ5eX8lxdI+c7qhQyB8Vv39A45BYbvogrD/CAZZQsV+FsRCeoQCCb/Bg7NFGUG3ArzD/r5uRIfD4nVFf6NH3r8Z/Vv/CH64u2+CVgMdgk7DBnoMfp9A6oTSySOJ+4jUw8DH9gxzgilEdDnOxFr/qvaVeHd55DbFudx5dLohc6g/hnmPgQ9AZbnh+d24kcOAvapAzIGB/tX89X/avju6VUEWfdvBez7Jtpa21LtpfK75pzj+NqS94DQ4+PDAqL20d1e1ijo4vH79uX4MPFey83uOd5yAW0bjCWpH88rsg7VKQIMQPj7/jH3w/2z6l/sC+u1+7/uaPWj+HjiUuwvBRftKr3ixz6+nOb/yBLci/1q+Pzc++LJ2MQDH/ba2ibgENkK0Y/SD/3D9nkCwAQm5cnKVtacASb0ntGM6UIGTuJn4eve+wjZ6BDqvPAJ+ofdlMMAuibJCdro3Snc39Pz1gnHGZ1tvaHVRLbl13XMvsIx2N/DNcsWCU/vVPR0/NrzPvKI/dfqbPWe5JrbrMlIzH/Mvs4Tz4LrU8gb1BfUgNqG617X5vOd2e7/RPNA7fz7GOSgy1jLdLg7q3nlcAIr8fb9C/Pl3orQc9b09gXxkgFe9knQA+hA4rC849QN+h/JutCV6Nr+9N2s5GHPV967uGCLmsCC6n/3Adkz4b/cWccEvQjB3N+l8nTGzdG40ePfQ93U8qH0f/9H/8Dsg9aoxKC7Adkf1PHQZcmSrRvX1dcq2wffe+3i1EjhFd9r1yevPZ65wgGhKKwD5C3Dxp+6v+HfNO1W1+bdBvkYGQkNYQnCFyH1M/z795UNRdxF52XtbvyP2cf4tgGt587x7QiC/yj+GtRR9or7JfUC7D0JkBWf7nLfEcmg1ajYpthi0SPeOALE6U3owQFFCAv0LgTZJ7L/9x2PAA3mCebW4p/x5/Ii/tbnJAFp8Yjn9OFxzbbHu9MSylK0ldzLyknS08gzxQvPWd+YxYXeJdH334Xt0N3N7tXz19ZH0jLBeL7Szp3xAub+2f7hl/a/Fl4HywQ6Ha4Dlf7u92rd9eej6er2N+fQv7Totu0a/EXoSeL947/kJviV+TgSDNRc1OTbRcq23GHfaN8Z1Sa/hs28+uvfo+RLuWXs/fBPz/Hbefr9+8YHMCBCAMYF7fUjyzfLYdKn1eXvndK1zLTlaPcN+xLxTxnJ98sFgAr/GUIMvQD27MrqEPs7A5nx2dsp1YrzMwW656sDDN6/AXz2ttVY2EfZu+uKDOfrLvqc0tjgm/Zi78ZCIi1FLtn+FeUrCCEMdAehEav/ResW1NHh3OXC7y75HAC9Iao0BxrKJi7/WRWmCszvv+ez6Yfm1Ndp66cMJfZz/4sekymZF0MDUyF1KC35zgs4ExYgrze2KuhO0RrPBLQI9Qj0/owQ9BhlDekPMBDrNCUgMx4DBPcHICoMFIISXQdaHYUPo/3cAsgUigPkC+ASs/srABX/Fv1jEw0Dw/G322TjF9kX+Gr2Ufb4/Wb/gvQ7CfQVngSMBaoSleuM48/xqQwkFc0ORg9GHykUdhWS/zE0Pi3aPoc3HUMeHHX0KhKnDa4oMS2AKpg0EyUbI1go3Sd+PV4ycEiaSu9FzSeALrInO0KZEZUz01pmLAUdCASjH+slkhvm8owDKB38G8cFUAeFCSP/AwjbC/j9P/6fFUMgXy/QJSYoDhzrLOkshC4ZPQRMyz4wLTMYWhtJKY9HCy6ySZ9E9SjvOkYc8g6qEC4HzfkA9Er5SgFrJh8FEx+AFPEPZz2jHmc4rEJHQ80loCILOdAQY/E96CTixviwDbPrMgY44cwUIxZCCioHo/vDEmMW2xYxH68ba/1XBqT3rw5G98/mJOtb4dfmu+Vx4Pbm4sxU6xQF/fNU++oKdADy8FQPYxnyATYHHBC47v333gQIFZ8wpSprHrMkuQOJ9vcckBukEPMX4Pj7DdwU8S2OICAcVBJv+lsKwgXuE9cg6iIYJtAvSRXC/3DYpciz6Wj2z9oa8eD/shVF1CXYH/DH3rnm6w5B/A4TxgJD2QrJitt55qbzl+7U9qbgB+o+5ZT5GPq7/UT8ssxT2cDrZfXR1UHEjPSW8m7tKfcaHLcBKvQH+XkPwhLX+DW3UMuI34fgfucs6f7iWwVL7nbv4gNb+xn9kevr2Kjmmd23vv27W7+DzwrIHLYZrRulXaT9t0HS46VkvXvHOtn51/3Y4rOTw1Df+7XfvhvgMe185Q7cb8Yc1zKtsaw8wgjBMNeT3LXeg9j6zCHS+8af0pPTYsMusf7HOsPozty9CrQnqA7CdrwHzw23r8Bbwi7ARNdm4YHTkcH37fDni9FdxuPQEAK/7ebubOZ12s3gUPZTzR/aVteY6C7/SwU34ZndQcNR43PfOcWixAW4Vdg143YI49mm3nbtN+7f9sP2ztud+hXVsO2j7br+efeg9ljzWe7f+Zri+9A1wK7YaOl9/2LQHuYo2o7IVdZf80vuk9oV4krWK8AGzWTH18Ac1A/F0cl75UbuS9hws+qkarW0yAXJVLYHs+G2Xs6I1jjKFOD/x0nPO8acvHLpMNJpAOXuw+Gx6rbA/bZOvsCjxco7wy/hCuMRwgGyE7MSweDBiLQExJfH68QvyMSvx8SQ6FTPUM71zbnO36kZvazD3Mn50I7SIqOmwZLb0e5A6vTFhOLgsOvCRJxTwSzIJ+Jc0KbacuVs+yj86OKw3lf0wdHRxF3Oeci2wRXAFtWs5JDK0Z17tR6tJNEP0WbT8eej3Lrtgtn1/f/pyt5C/Njg1sIzs9WnqqInvEjYC9dwx5i7UMY41ATGYcoey0TDKepd6ozXmdoh0lTGrc6fzpfex+fS4bLjEAdV+doarAAqCcb3XQ5M7BfLwrtOxH7defXn8sW7bMClstbBRMZO0aXoCuAjzOziXeI+xL3OScPJ0zzOHtp/2+vd3cOnry+1BNYAySDMpdjA19nQKP0r/50T3BnBBO3upfc48eX8JCMOIboJDQstDkP/owHQ8pQUvRgABeH/ACL9L3oOsSvOEmP0XBuYHpYdikXAXB1KezZYPEoaEiIKMj43WC7bFxsk1iTXHaAN4RRBACXvnwlZFocbuhhGGSII+g5U8jHwLwAgIIgP2ff5BG86LC4qECcGhhcN+i4rbAw0Ga4M8xcRHA4BvOwp+/4NoiMdLNANIRSLG63kHvrc/r/12t7r37bhe9rv86vtT9fG3iLSufduEsrtdAA5/pD1etBDxt3VdNUI4ZPdCPVe5h/r3fab//kA5fKx8gIlwxKvBMEaIQwI+LjnX9BrxxrBtMZF1RreSO3cC+gY6jUiEK4ZEBieId0SrAcM247faMrm3x/TAtTT69T6egAUGBUIRv9E+Sf4zRJ5BfkAH/99JVcCiAXhC2YWIwoEE1EHRgX/GTMnlQ9cAonuwPuwK40EF+au80378Pa2+Lb+K+46AKIDLwYOCaAsB//qK0QFSBzMKJYg4DaSHU8b4ywsD5T7URk4DRcQw+2NEHgJrBYgI9oUx+75FMsLrP1qC8QDzvwL/gLwWuRX8ozxzv/1AjEDJvLu7CYFewAj64/7J98e/t0AkRxLCPsQ2PqUHKcQihGk+N8uYy+4K2wxsBg+GOT8weMiGd/e/OpJ2Er4X+fO2lXOy85M6t/hP+EB0+HIROLa3M302u3F5RHoPOiD2nzdNtySBn0LJ+7n91f9ueRODBwCUOZY++/8hwWi90zf6OyC9dflHefR6hPiFt384afZbPJK3W31rdNX4trg5NwW0WXYutn13/e5hqsu8Lzb7utO8koVBwHt8/wCqfOz7AAIgxMLEAwlAxnnBnMSgA4Z+5MDxBpa9KDUwN7t6JjpP+CE+t72VfDR9FjgfPRz6uTS3dSx3tbMcOFmwSD46f5W3PHh7+Gc2Nng6wI9FPP8CftfDd7/LeZh3FHfH9Oc5h/T/r1r16Hrt8BGxFLjaurS6OX6/RHH7aDXhd95CIP3svsvDhAFe+hI///t2ueEBfrylQDuCCYMJvaiy0IJYehsACUJ9uSO/0P1H+9uFqgOaB0J5lwFT/snCOgN/wRU+YrMsQRP/3n6qxTqA+v9oPM27w/d8/fq5ALUc8if697gg+oDyLn6+Qd4CHUQPxKV9McKvgxU+mHiOepF4IbPd/Z178gQEP/E+xXs3+qq6vr4nPSgAY78tAHWAGPysN1gz9jdC/d4+RwKCRUxDm4aqwKD4E/Zbu3s9xTxit9d6aYQC/4Q+pjh1BUC+Qb+PghH/jIEihTK+dEEA9wd43P0y/Ge1KPhHvIt5mT4fw08CYj9qOEPyeDfnLuJ2F7X4tgE3OHO/cSZs/fIEOEGxxjPMsHUsMK9P7pe7SznIuW15D3VUtip/eHhsfZh/L0e3xIsBwHrj/5I8Qn+WBXgBansbAkb8kYE2uf83hi40dtM2wzmTvgCDTTq5Orm83/voe3H8qHj3uTS4yrm8ez56VTiBQGqAY0HivoP+hkTEwZS3CjiNfAH7ULcLr2h3mjYONmG27TyW9lr5mP8Zsxb1P7TJ9ZK1ljJjMYytmKp+qqNj2mlvrKil8LDedb5vY/A4qNCyuP1+edw6Jf2iPMV6J7crcTi1fXMG+F27Pjif+guAlvr8PbS5fDMhtti06XTIOO70J/KmM/Y66r7jecN0CT41M8Goxur/ZdLm+ShQb1AwAOqPLsZu+/Qo8O2nvSt4pGD0G62Lr44s/OdE7JLp9eg4rV80kS3wai6vkzKRtGvzsfobMMEsOayLMSnwAepqbZ430LDTKe4w1i8PtEKxtXJsa6N08LNc9A2Ap8bOgFX8Tv4+PemDh0OMAn0+DnhYfpS2qXxWRbK9Rn4cAdg/MYKK+89GWUGlO9WFKsBn+9o+b3ayu8JADPjwB5q6oTdehAXEcgEa/vGCx4H/AKKB1LqYO1zB4gFRfdN60z77ee/+Djq5eKh9Krm38sJwf3VQN302jLn1eY3wkrbXspG2BH0dACfHPsMyPWKBorIGPWJ7c3hguZA6nDtBuwAA0cQgfEu4fXp3dMw8SwBMO7D94Xb0tSd+63mC71W2Dndg/By6wbiC9Mn1CfzTwDC6EMGxRMA+moJmwyHBX/w2eaH8Rv28OuU9hzY78JT1ZPLCccDv2LJYuba64bI7NSr3kLQc/ElDQUOousA2cjVUN6W3p7aUNbP4oMHkPThEmgQDf7H/4EJXPpIC9wTpwgaBnAA3dnE3NPZ9teY/pnGFLwvuy3ESbi372DjSvbt7dvkesAkst7bB+HV0L7pe+85+0YCNv4H4zfZV6aPw1m+nc4r3dLeyuhw5KP9eQKh+0Hnbw4h78sW0xwJBUzj+fTI7QH0Ten/32wOygb26yf9gvjJ5PTvMOnH+VLmTta26Qf3kfnv+Zb6L/zPC+/v1v2B4pv5Uu/f9xLlq/qH0HfYlLOUuYXah/9C76HQv+lz+ErsD//9FwP7SN2p7g/yXfvHHqUC4frN6JvZ3+SaA/v80gN7GL4UK/+wHnox+iq3Fq0XYB3rK6cmZQ+QB2Tv8gfk/RT1mAY0IeUSZxhRA0wa8RYa8o3m1wEm9O77WPRmFWMMGxuI9s7xQ8+N2SzttNxj/Q4QV/otAfUJ9PsQ87Dm6u6c+fAijxkBGu0bBiL1IkAf1RgjMr4jUh9t/H3z8/Y7H8MdYyYoLcE0XxvsIDYViAiA+OcQRwPOD1kccj/rNAcrfw8wDu4GkxXxEcQSzviz+5wC2h+PEMrM+c+s2XXgzei55U3aIP57/Vz+cO9X7HP2GQNJFFoR7P9NB4wHXQPu6lrL3dR20+HZWuEP4lzmhdvD9vnxje8H13b0z+d08WDn5/Dh6hX0S/zsCYTxp9du9P3i7faY6bf8Ava/6OMCLeGPCG/wmvhAzVLldtlJ5c/bmeN/440EKf1B+iPnlP8x//zkXOEx2wENFAqP9dDnDvED9rj3FfxXCa/6hAYX/1vzbAkt/W7tawQ4+jD8bN2l/1IO5wYy+3fpmOyL5tHRtvLw8G3nKhOI79wCNflf2wLmVPQ5zQjikApo74vVwt++4nzjo+wf9yfudv7C9XAAQgH17g7ogNva0cvSlcj7t/rKkM3H3nrBs8mo147I+dMjpwelF8fJ4o3d6s1H9vHcfwMoBgLNJc9X2d/U9+Xy4ibIXOyy6YXfXc490S3JT7lMwcznxOjZ9MLja/FK6KH9H/wS+4TyUQxc7H7imN2pz0TyYNRzxaC+m8lPu6Ki7ceYtnXYRtUC67cFHu8gBbH26OCvB3Tt38rf1lT93eYa4Zrh8RJI7CjYqd3M0+3zuemXAUsFUPQA+OX91+979BX8cuU42HfUq9n17q/b4eok31kXM/2X/iHihOyH+s4GzgjwBjYJKuWswwi7uNtE3Oa+u9E9xwixp7yz0D7ik99n2TTZN91S0kXPT+VQ1RvqOszg0mPuxeEizczXjvOH/Ef7d9nA0crG0sCV2LLMc9mr14SrIL3W2NXXKuIp8+gQxQAz31rTJtpNyJne48Ur5BXY3OFa21ff6fZ/+Qv3l96G2nPW28co1iC6/rzX3Nv1rOxz7rEgMALu8kbSi9Ic6HPmQfHS4NLMHf2K28XSBOTg2NXYJtASyMDj0AGU4f7bZNeu3B3tIwPa/ufYDei59WTFXbu33QTOQ7yF2RLL4ePI5NXvhPxB1or2pPT+1cfT696S1jfXLdUlzaml8tj04CcEywXyAuPfRwBaB8/7+RrWAPH3yfXPEncZJP3+6cQCtvvc5Crs38hZ7MQKAABO3jjiVvg2AH36pvEb4wje2R3L4U7CJNvZ50PMv+CA31D4xObc1BHVPsmr2jm9cu2a3o65z73Bz/jCH9n9s4HXs8jdtQbSHOCPsybMBsf20NDUl9x/wNXC5r2o3XPDGMwq1a/Yjtdt2h0Eq+UR55rcvcFP0ZjJR8tayiLffc9q1qrXwvLH47HD1r6E0YzY1sVH1jDn88QT2fDMpdqV4gLWcO4SGUP0mwOM/nsHGgnDBN7zGwzP99znjQ+h8CT8jflU9/nwce4RACD6QO5t6Nzh4Py2+Pjmowp66CYEQQHt93/8LemX52L7XCgnDOoPzQsf71PjPeCh1+3oRgeu5hHfLdDB4b77YwGkD43v19dE86gAsgveDK4RiAef+kzScstP0FbsTNt87QLu3/MDBf4FJexsEx4SYjHeI64ww//S/X/vb+7H/dXfePB83R//uvV69vftVwFwGxoQ1gWV5GrdF+oj9bjiavQu14LMtb9zxAzdCeXr6Jnwv8oE3rHsJPkD+/S/mOB4HB3Pyt+l9T4YivFa9zHRafiFHv8PqwWs6Jr0pv/s98b0h+1O7Evnqeg2+YcB9AAV3NLVhM4M35bfPNucyZLco+Kh+V3kOr2x7VPg4tA4ux/HUKKHx1zAqMjkwLS6MslW2TbepcnL6o/fBeZM8fLfKNrV3O303e2R9SIJ8Pn++oTwVtU0ukvZvtKd2crjGb5uo6SxMrFFrmrJquSq2oDY3+M3zc73mv2L43zuvvPN5HbhU8nMtHC2Vc8g5pXZvdGc1U/mVP2K3zrjPN/cqMLTVceXu1nMqu0T/C3xs9cU8NbnVdC+7m7hVwOU4k3mXBOVCur0dNcyywrZVvp1zsjYWeu25tXaJ+l/wci1iqCb1B/G9qjhuKe4TtpbtOi1HKVqwI6+rrm/vGOyVL4d27K4VabCso+0M6Fdv2ymor/erlyv5dh8q9amzL/q2i/g5N+1xfvcntWh5XvncOR29JfeSeAk9A3ppO+97k7meO9r6ILvjtjD2mbtXdr4zMfgx9857In2RuPk1OfcXs181XHAHOAXuBK8Sr0nvu+qUZoWqDbC9aaU1EuT/L3XooSqWsm/wFPDfc4U3Pa+BcKZzkC1U71I6PDy6fLx1aHAstac3665Hs1/35LSFdhRxwym0LwcyDLW19Dw5FbX7gbb4R3XB8j2xaLX//Fn4wj4Q/qF7KD/C/bO8n3h2fI284nRJfHK6f0Tuduzx7zthOU93FnSd7bAzSoSIt5O6iLyTsqIv9Kedqo/zGKyO5cHrouqFc1r0hzmbOje3ZS2iNhtzTXVfsYG0H+4NMiOuBLTydnZy1DU+bRiy9nhUtbfyj7WAthS3lTPMspSuKCxAYAOm6et96LxwyO47tBb04m54q5LsGzGQc8IzoG+xNLN1/nF56eCvfDFeKQgu0SkKLSc13m98M5hu3i88ZCEnjKiwsrFrRzBmr0Vt1KZMbVAs/jMQ9WHuoewzMFkxrHV9buKoUesc8BUtljFmckFxo3IsLbezKzJw9Ue20fk0MuWthLcxtYo9Rf49/6t+Bj7At6T5bbI5OHuujSuX762yxi0dqzNtGLNYL1Dyt7EqdAX7dfuzd3ly67P2scTxVraAcw10cfZEOQr25P6zvdG6o/SKdzZA0DTV8MDywy9wuhp5uXlHOhsAZTgNw+W+vsEPvSv8dL27/X0C1TigMrpy1HQo9fuyg3PPt5Z64H0ENejytO4/chKBSkSOfew8yoHwQDN4orbkuOF1ZT2hvVH+5Ptk+Bm+W764uNL5DTDLuNz+UvmPOAo3MwAPuuY4X/MSMfvxkG/eMbsu1TMAp5DpmCajp1qt6qyL7VdxYLPLqW4wfqxv7thy8Gx776w6BLHN+Vd3D/Nu8JT6tbbqORQ2uDhBdOc0kfqn+Yj7jLQ8dJS26PzdAc82ErFlM/r8ATWnt10xvurM6xfzHvJ88N8ppLEks/Du8erqKgoxdi+revh7JPuDNsl6TrTOcvHxS7OEsiPzO7qgO8I1YWuSsXquOCzrbAbsG/D0rxHtrS3ybl3xgzpk8laszap8YRI1Te8jsVv3jnns8Gav5jLC7Mc20aggZser3nCIOh033jPRNCO4fzlsQJvzYS1oLnUzCO+FNsn3GLXXtj7x+nRKeO713TA2tUNs1aXV7BNt4q2Qq0XuJHclbAzmtyKKqE1ngyxtoFenF62wqausfKRAYBMsAykdbQjsaK8erx72zr23AMy4L7YtcWsuHnP0s6BwJez8NT7pyO+ZNUBwmGnuMVD0s7FZMMUtNC4IacWt/OWh58BgIeJH6Xusfezq7HFuJ7FKOLI0Y7VQMyY9+7lKd1SyMjRSNve2JjTtshJ1U3bJ8wz4pjUasAc1XLPhtLi5P3par39qKLKUsnN0lLewLiouevHF7qX2GuygLuAuia4uK/musalr6G5uHC4bL6F0tHKS7lT7fH1etrgpRW8/b2gvm2+d6pj4g7K6Ndg3oTsVupG14Prztt36dPffeZkxfrPae9o1/fUwabax4bHtOMise+oT6gDlfCgraCAtPqZ7bsX2pyxJ9l+xA2zWL2gtnzh999qu2vRIdGA2EK3JODJ1du9NbqgrbXFaK/pw5TF7sE/pabZTe9509+znZXDupO/RttV2irkINA1/X7ah90FvrHZiMUwu1nD66XkjsifbLYPxpa8lsNy8iHgqeUHynm8nKcIxwTcJMpL07uyUbF90tHEhMT0zg3m+9pOv+3fqtlW0S669siRw4i258b1w/jQr9gLwwW6nNl8t3Su96mLtkXDqqTbxZ7DU6KNvafW+6p1yLK6tcirvWXZULGyv1fGEr+WsmybhqlMli66pNBmy57D+9ASxDTiVtJz0ULOhNGuzI3Yia1FvyS92M2y6x3zm+dK28EAl9kE8jv7F9ldzGzKKboi0LXsmNfAy0zauuxi2PTHe84u3NbeQdqc80HiE/Si6gvqH83Bw+vE4sf8yeXqJNJx0PfaoMetxUe9oLsIvY7MccAj3hqkiJEBgEmySaq1p6i7UsL0sbaoGIjJpGyPHpNwpB62eNJM0ZTkcck01h3ZatWN3TXCq93yxTrDmMov5Mz+6995xkLRvNBtw1vY0e0czi3PudKs5XgISB+w/NDq5vn142Pr1vO19YLeNe1I55zloOtf6SPPqcFMxLO/r860z5i4runewpjN+85+1gXCO77uzgu8tMD2+W+zsMB+tcHX6uc34sLXNMit7arOr9Sbx5ffJcfG6V/vO/FQ6m7FPbs01an0q9xc6qPBybnmuBbK98oX4/jXN7wfunPZ5NDdxje2HJ1sujO7/73vytzWqsGVwxbiFtLdFrAwuEMtK6cpWgyK7MTv1u+M78jt9+V/5dDByLzv0BzbB+LQ6bjVCflY7nTZGu+K3QbyH8xx5u7Du+Vm1ZLZYt1mwrW02dtRtzvvkd+j4JXRU91J6H/pMMXnxMywu8QUyajUtc5wzyHZR9wAqPWLx7OFrNOwMbMWsEekTYlFovGjhbnNyQm4wsrOwwKx26sbySKRDpcL0PXTfK+NlkiIk64Coo6mB6UEuGyVCbQ8thLp78D0zwXP1L9Vy7bswN+sycqpe7Nny1CwNbFWs2rEHq8FwSTT7c9AujuhBZ8Ewo3ZtMcWy6nDp+E15qfQeuFu1Wvh3cTOxve9h7qsyFjBtcN0r/jI5twx+ePcStyMzc7Qddd913jACtj45Q2iBLcasie7z5ZpkQyda6i3uODYHM0xyOa9oZxCvEigSMTmzfHHgMuVtai2v9Y432rUxqfRwtS/EKqA1HTbN92Ruh+wutBmwoDWEuJA5tkEZfHl5a3Tt+501t+767tB1xq+U8bVyyrCmcNs22rVaKeSpoiM3IeCrwm+b88Jw4+oL72S7J3MfuSPz3Ld/uKL1ybN3sNJ0l7Yoei32eMGiuUe1PvNIsKwyjvue/vp4I/hq+tU4778fOdE8WXWht1F8kPf0u5gxLPRINJM41W8FsYkwnLhJeFs5DTPStbX2sbWwNOtzVbOm7IW1b7SP8Aiv6Ws9Lnf3eHeHaqfnfi3MqoJvoHJzb6dq26uE8W8y/TQaNOavw7q3OU95HfLasxpxf+1gbedyBCyn7Btx4mk0baQyzi8RtzQ0Ym8+9rTycK8uLIMtXmtJdWOAYHmsNQM3C/jKN3e9Y78uvRs9+js+smVujWy4dzfxEy3eLENs/G28aDzhcGm87GJ2l+97a0ku2DSZMgvnHKY3rZLpbe+trQPpb6RoK9XvVCwZssoxNC0W68NmwGAI5rQsbK8cp7YrUqo+6oknl21IKBFrCGj79TFssqwhLdG1A3sHb7Ltc20ltHlwn2zHacmuuq+567FuezX6r06wyDOjMVmipLD1bXDxxS7PKWho4Slerx/hBynTZP/oYnFh79H0vLK9d31yN2+Dte05XrV57Jj1zHW089quc/NzrJovwq0j8be1jbDvaKRrb3Emrpi2nHhJcOczX3AaLYJujitM6Qstgq1jLgZtSLC87pGsymGJZUmux+4xppglFmXZ6udnI2dGLvbzM62VMdw3ETCBM+bwFWoRr3/qrej65jnp6DABLV1s5+NkZWWv6umgqnJoRqzO4kEq6yhBrLbrLmbIpjqmau3JagMo1GSAYD+gCmGJZgBgF6Hj7/AvmLIeLT+y83F+rkgzE/WIsORvKG+EMZuqlWGDp1Og+CQWpjKl7SOkZ4Crz3MtM0huDKt+q2DqGa5LcY0wprc399dwFfKbr2QuwuvN7cnozqwqrNTwemt9cNlwPiwUcvS3sjN7dja0x68arcyxwfD97cqpH65mK0Esqq7Ts6u3k3EGLNqtXexZbvEtpajXaLGqjyhmaMEsBmc1bfWrDKXsZilp0THQMpfs7GbAYAfkamiXomVmGyZ86oBgBSL0IwBgHOUBqD5qpakoJiZs7/OBsgn2QqwCpjakEa9LsUtzs3Vx9yBqgGAg6ahumS+4KPcsXu8KrkEteO6xMZ8ruu0dL9dqSXSKtS+u+W1acPpw8jSXsJHqmSjia+owr7HNsxLxILEgbI5pw2/ccHEu4q1xM7/vVy2cLIhyBTNAKIasRXS4L+y02XI0b+CxCq6Q5GFsHvCCcIIqNqz1L/BiW/BPMH3zfrbh9Wr2sbUlfYX8bXYnMpb2vbaZurAx5rGbudZx5HTjsvduLy8EcnAqtHam9eVufXl+e1t31rmvrQV0IzTAO0v2CnQIdx4y4HDir+7p8uuL7d1nqG+pszI04/VJLXqo4a4j7QhvFGsKrd3qNiJvLf1wr6l1MDso1DOgc8IysPQ2LElvqPKQrApxOS7iY/rqvmUqeAmrM+rd7tymG64TKditrPCOOTe9BrmS+Va9RbM9+Gh1XjWqdlIvdCkw7gduamXNckMu/OeBMtZ0KXCLLb40WUTldJT2SDK3MK60jrVAtPrykfVQdc5DCz8tQgy+6Lsuufb1Xz1obyCxc/cGdk22grFGeHR2X/P481d3li/Q7Ud4TzsoPHH6VPFa8Bzuh/Cnr7FxdzPK8aLxAjJYs7d3jAEhvQE2eq0jKUdztah8ahKyr3m08ZerwmtDckGuPWlJZUrsKTC7eI2z4auE51tr/2rncqg3Ur4gOZR8xPgT/TJ0i3o7NyM6BzoLtyU0bXSNvqE52fUVccK5yjnO9bY9V77rfoO9XbT/eTY9Jzqsu/z6CfruOvw4Df6jv75BRP47vd/7hX4YvtoAtny7wH58S0NMfnHDBATk/Oa9/Xj4u3W7xftIurz/g38euil1JfRGsjg46neINHj4k/jixCp8t/BwuX2vNnVB88+1xfWpcw7t7v5//BA6EXpY+ja3lbcBsIJtTrHxgPL3/3DCr5JwF7SidGM8CAJZQvE+ff58dmF8e3uOOQS1MPKhsTxxKrF3tLF2e7kW+UK6t7WtuC3+7TqSsES7pvyDOFkzUnSVtREzdHRMuHE+ZAR9eqHAO/8Nfa6D6oB0OIhBqz09uLu2LjPfPM84Pjmbu1/3yHhddoL1Org59562i/fItI13OrHy9HG03vMI9115Ybc/Oa7xcK7bLA94hnSicbsxia9o6mX1Prbk+oQ3Wbl3skr2fPcu98X3vzLYuV30yHTyeVd5hjrpeXv6s3w4f/M8GziJveI197vvxnMJ78TluhS9hYFftX+5A37AQ+7+/L8AfS06ojjMfwJ/N/+j+vY7UL/1h048rXoiOfL2nj/6A5oDvgKWAnn/lLst9PV6RTpPu8x4QHqsOxK2erXwbpXykLKdfDqyrm4G5xdpTK7YqACvYOw7saguqLIp6TXpcW/A9vT4UDQH9p97lTPzvDU7BrOo9ia7fDtPMm14BXbVMyfyDXVA+341hPPxeL22XzyWshow4XKPMJo0j7UiKvB2Cax0LB7uV6/I6SotY3I6NyVxwLkuNb4wHev9uPWywHsnvcT64kWvCRL6PzmoviR9FXjDNfj3DvQkurV8Sj6/Qdj+KHr4OVv7KwHDAgjDjYMLv7Z4tPeqOX08jjERroKtEisobuj2PiuStim1zr44NJz2U3OOLxpwAi409FdxG3VmcEz7MsC5vaS+5f8k/Rz437efedW9AbnQvYSAYnnW/EIEg7Vlefv49L97/iI4mndReSxDwoI+SzcG0waL/em8Gne7NMZ+aoKceo+z9rljP1M+2f9RPKS70AVdu0Q7cTcuvEL/9MjbRhGHNMR6QpD9THd6wqq9Ab8YgOAJpskpBOW+egWPvNHB2kLAPQT8P3cidCl1lnYhMxVsXG9lu852wDldMxAzT3PIMhh5GLeV9Yl1HLg+L8gtxTnitH52JPJYdeyxQ78P+5k6a4A7/Zx4Yfhiu7d3rz7/+AM0MrguNy1wOPI4cVSxefGANVU+PTTU7Wd4XTkC9mm1NO3BNqM703eJvv4AffsQ9TE3ljwJP0a1mrqPNtxuHm1T8Wk44LO/tQL3D/lIOZi6GnGWtSkwn3aBt26zxHQAcaVxmXtQO0My6Tt9/0S2lnstQqFHlgVEvhL+7nrEcwvyQrFxMIq0DPL9dE4x8LaOfmo6CnVgOUY8AndOfb02B3Ra9pIBE0J4wAF+JjUHs9czUn6c/Zv3aP1bv+h9E7+1OuC73PJORbT4LL1jPid5nPwPfqEFAUQAf6RBesHzhpFGFEwkgz4IFMYiRKT5IXi8OuF98bqjdIQ9xnos/jp/xL46wMa50Tu7fIe96vwovKa+abV1O8xEfkMEBE5AAP/IfrQDVbbm+knFEv5q+xS+jnqU+Im3OrUOtlj0n3Rat4C5JTbzPHS54T9fugv4WrSzs/X2WLSAccGrsa8vM4H1k7ZLu+94OHuDvus4271AeHw7y7vb/wM4Wnm5vMiCAMLJAqO/k4V7vwx687l9urLMWwea++921LVe9Enyrnkvtv5tbXY4ePtulbINcPXsAXOUthi3xPjpcdc6PPiJPpT8ZzjAfUj18XKFcCb9f/t3OC3ywLi4dct3gn5N7NZ8Bf0Tejl3bi70KSqtLO1/rEa5GjLRs90z/PAp9S85arZftQYx6u4lbHjvSnUdMbX2L/V4MMe1zrLNdqL3Afd1sKL3/vhFuhCAdoAqvV/7+3yGAyS+Mnruwy5Ag319uVC7BXureUm8DDiPRUBEKDjc8jv3jnW09P738fcNLxcsWjBjdiAAybhVcVlzvW18ZrhoWu1zvMq1CDetdgiyS3MB9CIz8ngXNeK8zfwkeR69aLU0M469BPj/9499xfquOP/5JjU+bOx08zdFunW4VDHktlA3MPX1djQ1X3hSfnA/+rxd+Gv2cG5RKaG1UzSYf2+0n+0magDuEym1a5CucqkI7XR4brEk+W53CrFyNG60OvdZeMEzZrE9soMt3e2Z8A9vKinZbWVww6wbLsBgMuRgb9FuoyqN87Wx6fUacdmsbrKcOBb1+nqhs9E0Arc0NcvrZLFseSu0In1WNpHx5/c4eMF79DZZtHCwhrAfqgMoC6lUK4h0qzKRMBNzke2sLLKrpS00+Ypzo6+Y77Wt+C/UsNczYK0BNF31YO0YcO3szrJ7K4nu9vBVbdwpSi9x7J/wQ6yZaE+rgPQ5KFqvnCnGrODmQyHqZKOm62t/tDd88HTgcMgxdbWpdxA2l7pSuA6xe++GroQxxa32s+sxSvH+MWz0J/e7dWwyZS4qr3IvYO9vt+w3NarO9yKzzjvntHquOXAl8Kf1svj/stTyDS/A9X8xIy7TKNftFnQoc5Bv4K/C8l5uGO87Jztw+e3u7n30KS+rrgT83Dvd9RI2u7wD9XRB3rwXORz2+C80eU59ZLmBQrr9XHgUgH78J/2VQ9qEWv9RNzgovK0Sc37z/rJBOkV7Uj+3tn43MveAMwv00TIv7Wp2RHfVwXJC+v2xepj8Lr4qiCCD43sGOjH/vHY9NtB7oj7SxrILHENdTKVFBYGpuwe42z0a/7oGG0N3xMaDur0g++G8RD1MOnB7Cv86vW+/MQTsxfKDDARt/438YXy2wPY7TPTNuEw0JLicPaU/TULJPah7jD87QBaEoMFGdpV8t/4NAap6Mm5wudr6xXNY9OfB4oIvw+r/9oBzAD//SEHzdNu1jLVzdBu6PbkJO6L7/4HSel8Bcn+xxwjEiYZbhMgBrofAhN/O+Q7JgRmAub8He9vAObmrfPhE1grPwTyEmIOxPri/KESRAoW0zroxuNC37nUpeXiBt7cOfUH8iQOZg+j/krgUs+n9FXrO+5f/QbqjffF8RsDcgZA1LUYZvczAC7vNOPUAGr+SfS90C7RcOm838nhjNhSyDfqbt7Q9dHqQwFs3vvXBveP6nHyNerKA0bzhPXq72UCWgQa/if0Gfq4Fu0cHwTxBG8VbwOQ3WoFSg4E/mrvcNr9E0n+tPXL3azwMARCFC/4vQuxMPoyIheMNyM02DStMrIpuzd/HosXNyjrL7X5Pu6O8pUidP/F2jHu+PHY+9kBqxxGE6UB9A4TGlkmmw9kCHgWcdhV2kLVS9fh+KH+U/vNBFcFXx7DCgYD4ykcG4M5nhJdEwgiWSW4Ch0KAyJxIBAfFAmJCZkFkuZCFbYIwwLcFIEqXiCTBF0GMhv9J/n+sueC2iK9Y9bq8LbjEc/k0/rVDuQ75fnZQes45pryNe0i8WH3xevj1g7toAmT770ETe7N18focOxY55LtCwT3EG703vGm/N8NwRIwEFI8Axo6Cr8AY/EYEbrzXeRnC6jv2QwZBSfpGOYf7MDJF9fw9wMDaN8r4FPoMekfD6TwPfLTzyv9hwiHHZ4I1QdqKPoWU//w/PQZO/GX+VLpIPYU5zL8YR94+U77qfuQFSP8W/U4+7r3FvRT4/TgS+ZQ66jdqfFb5OMYEBPFLT85zEI4T5ggSEorJ+AlhTLPSpo3yTLgWJ9EZUm7MBNafFRHSDRVikSJQNw8uyguQYpEqjvCPz5E8j8RUvMocULOSw8skBW/Jz8O8hfoGYYv6CcQJQQWYRgDJMgb1SFzYTc+NzKULz4djDQdZl5ehispB0khvCqMKWYMNhv3FKIXeQfvDXRH0AxbEvYkxisqNX85yzU5DdUbMFCKavx2AUHFMndSvDCeL6UT+CLjI7go3gorC6ADIRTr/l75Cwpw+hbmCgGe9jTqJBQv/fcXLyM4FtLsPP6fC14Q+vCYH6IUI+PGBxgSAhGZFQ4TXwlaCkEwihZFDJgNcvYEBA7yawN7+/Hqh+gaG3QJGejLDPXzr9kjzRzpcQoy/vvndQR6/ETrFOV+EQwZXRyX/Zvoj/8gF2MHWxzIHaH0BA+t9kEVThsTIJr5fvPR/KbeEQNP8Hnc2L1p5TfaIeFm1NDbq+jr2Znjdt42+gjbM+mU5gP9xPfTBvEJ0wixHXcmhiRSRwMuJisvCNgemialQCkvwhUa8n38aPZtF8fxXBdUMJ0me+QBCpETdQu4+q7mbvJgGKkmTQ48CrwS4gUK6of86/mwHsMsBl+ANbgauh7Q9Qr5qw7x/HXwWfAu9JLr589T5pL5EAcE92UJkuJ1/KcDfc/mz1oBh8aFvHnBJN606qWxvcb1AYOmbM9v2xbYyeqa87D8P/ys6hj/Qgam5+DwM/Xz1pfYW9J9safZUeqn3fL43v0F4dz0MvkH+undSMjN3JTwrQgQ/pz0ZOHt6Rz7LPds3ULjx/L+98sD8PiY+4rnReAW9pjqA/AV1R33Nf3A8cXeIvXL5rHrltE4zUXi/M3/+YDjXfBu+tgADhCp+a0CwgNFAonggeWWA7z5X/5j5CfaIvky66nqm+EC1vjpiuix/mseJid2MbIbGjC9/735QSNoBSgPb/Pv7bzq5Qiw9mEJKQNvBbHm5/laAw3ntfyh+GH1gfemAfPv1Qjy8u7kjfTb7JzU2eos6k/YBtgj0CD5YudE6D3qwuUB6qb5EivGHbEWifu+/GD5cAHA/6jgLvYl8YbltPCP8CnlO7u+zePwMupyADsGNQb0Cl4dtQ8IBr0DHwC595kyXhMD+pb0fvjCLgQb4BVUCI4BFwvq/mXn+PXUBcsFYglf+MXe4PNJ7ffeiOopCMAE4fldA6MP9TBE/j4OjxMA6eD3m/OtE7LrygD8AEgB8/XPAev/GwhE66Qgevoh9FjtbgBQC+39c+sy/QwQbw2cB9kYbf1QEVQTrOqb68nqfwXF7EP1og2T/+seYRZC9+UEq+v58pnUSfsE6c/cYv37E4YFLjTdNE8Ehvi39L/kNO6V15QB3wwPCS0JrPp2H0MIHyDpFREM3vZICvoIFgiEC5kPUQ2u/VAZ8BgNEwkZIg/Z39LaWdtOv7fFXqvGza3U1AZx3uLRV90N66Hhj+CH4eXz9e1O6137Ku6/3n/zstAG7Z3+jORazQXlNNkm8L3VnLXKwc2wLeb058y2T9oF79Hxxd++6kPi0c2q3aHpe/zf9DQDChDE8+X+yP/F8nPjOAu57zngbvVa1E7QGtwsyr7YWtj450zp/vTD7iDomvg21bLGU9wN02D1Ntmi5PHBt8YUyRbHg6RYq6HB1MkmrYGV1Zd3mJOVo9ybs46xn8Rxugvk6Pk15igHKe/Dy8nTKOu1Ea/kp+LOBYQB5At6GAQPTPTpEAT/A+7G+cve8+SnCw0LxwNm+oEb2h3KFJETqBcJFZkGgR8mC2XzXgb8688YXwaU5V7qQvL92Kbuodeby2vEAMU20zLt89k82+TPheEY3I/y5P0GAPYafAjt45PWEgNT+nT7IfOMD9cK0Qsz8DQR0PrsBQXuK/Th7FT+MOz08nEczPqE7ab0Vcog5PzENNs09arinsi+3Av0cstG0Evk4fDd3eblM+lG8L3fwtp85479+ws28ZYTy+/k9+L9G+tm+OfZ0tBw5d0BfwbK+wjzMeur6HPq3drhzhrZVMxY2BXRx8MV4Y/ypOwUCaL9lBGBD6rvKtEGy1DA/+IsvCWvtr/w0pXStMka243sbN8f8xDU/6GEt8qZp7Bp2+7ZubsX3UHvpuM225LPUNEv4u3TOuFf92bw69ZZw33XpP4TABfnDfKE5qbn7MORy3/CsrlRt9bQqsGCxsbZJ+yM5eGoSca/trCuScHZya7YcNGU1WfaKc2z8DzoXdS84X3sY/5t8Ybusuaw24rpNt9S7OfscN0Hv57lQ/R28YHsOeAxvxfAY+JXsDbEQ8wS3/zNCs7yvw/THtZOwbbeXfxU5lvQh6nIutnJSwQc5kXO0sSR2YzE2s8gyyLQAunL3evig/io8QnpJejc5mvJwcZWvUrPCOsQyTnd2dyr0UjWLt0R7Rj3MhvSDsDvaubm4BTdkRXb5oSsAMqnqU2+ycTMvcenFLd8xb67qrid0SqoIrHgodSatKxcqk64X7yE1HzVJM6loualZrfy0RW3HLXFs56WJ6oyxnvUDpc/rKLCTsQn2ePQPAJN7R8WKAFf5pPW5wa15Kq41Lz1rNvCy9K7t6mrH5S3r9Xcz98w3J3V2cnF2ozkt9ey2bHXR9PsnhiVkKGv0QHAiLJZ3PrRx81czW3DtssWzcGsupWmxMjVhc4lwQi6M7UDpojSirvKwYjPm9l20WnC6MGxpG69crYJuBi//auXxDK70rVezsnphs4a8Irdatx64PrqZNNNz2TLSb3jzvPBct8I2uzL2+Rlyh++DLeryf+qQagTrnfhrMgiuX7JS76lu1Cmc7CToQGA9ItHsP3CELoMr9q3zc5hzbasv7sqCtrdesOf2k7Unesx2kzW1M2l3RTHsM/rAu7nl9y92tjC4tLi49zJDMtYx463iboTxTDVAroSwJvcPdtN4x/M6M7L8zvalNA6wXfA0cTqwCXeaNY0vWzb6PdT3yTF8b7rxWWwf49SuuG2P7sqtCi+3KgRp9G7zqucskXdBrw8zlnHx6bwuszC8cCk0M/W1Nxgve66ktKRwQq5Ht7OuTvKZe913evt0fDC+R/Ttbys4rv6huowt3nItcSy5SH3AvwR4qQFOgO4AF/kVPJF07Xnu+JN/1wY1Q5CC2v9Dv6hKN8VDP28/77ptOo18/0aNvUR62nBetfC1EXpC9TL0qPE9ry8wB6yHMQw1jrThNkxx/XE+sscxkG7ysFkw2zmSNhe78XabsQe3W7Fk8PB0fjK9sWS18PBVr0nwt3hJNoc5WIHb90m9gjmDd345R7rwv97+yD19hS4EmQN1RJ7Dr/lQQ5u9mgkkwxz7DYF9v+DAuLpEPt7BRvSnwGREIMdrRkjHAobzA2aA7/3/haDDSv1xwHqDVwERfS1Dk4KT+yo/wsEqv2fCOkgehfc+GELiAWp/foOe/S9+nf9Fe7h66fX9bq8w/naj9oG71nxU/9q/r4VkQ7aDhT2AvJH10zZ5Ov8+lv4uvxo7yXvuhOSDBoKGQcr89sG2wRX+lvzXggaALP1gdNl0tL9WQpPBJEbmyNND3cYmA7O69fp/vFx0sTTLet87ovdNP2w/yvduv8TDTbmExFVGLsG5AhgDSf70PTwD84O/QgpABn7POzR+FHzAP4yCkH+c/XM7xD2uwxs/jDpnvSB9xnvQhNp3oDjr/ja39XxTdnO1LTA9LXMwrzQnO4q29bfoepuzLjl8+cPCrQdF/axEPHsGOX07ZL1td8I4CvWZ+5SFe0LoAzs+I/yCxvE46DczePi6D8haAx1EgrxGf+5/csCsfQL7RwMswZHBeribM1AAwD/QhVYCZ4WsfOd9Hn3aAJ77Lzof/SvAZIGqOOnGFIW9SiqFtb5gvse6bLYFfdCHNPh4+z33bLfgdKS3qnm7+rb7tzQkt7yyx7Ytf+F2HrJP+Gt4Xzi2MVOu0+5NM5rzDXi1Kn4sn+5SNNr7OTkefvV82zx8u5M1un4mfFL4p30TiFW65P/b8y7/AAKYgtsCqscuRQi/24GY+dBDXAWDBFNBhQV7/yDEwAXgB/dJmT6hiRv/8MGEjGVLHBHExzNE0wOTxwNDXUZxxzwHLT4i/KMGvgAqPOiA5zzWQqMJ3QgvRTQEyMUMhhZH4gSCxK2GA4RQ1DwYf8lBiLmHJwljC3yKncimjYCSmk5CzUfM4UTkDARGu/l2u6nCbcCH9NA/YH7qemd/j8f+gRQ2w/p6AVPCh8On/sb5bPenCPIAXPk4OTV43P83gJ9BCL6MfWYFyUkkSU4EoYJ1hH+C4gQIjfjMckuJiJNBiT8+cZP6JDSLrKtuFrE49d11bHd5O+M96IHn9lU0mfImeu12dLlhOie+NoVcuko4aDhYPJc3vfnGPSN45zvR+C99Xj45Olyyf7cTelM2vnoU92d0NLSxeHv4VzKA9BjywznDe4Z+qvWlrTawmrYxtZF3HfXjLuCq0m+9LnuzdLZyvUA0WralMV34FTkw+h06rbI8NHOyPC9PskG6Fe5yMRUu8nLB9dTw33HUODr1jDma9Aj3dDhmg8J7UTE4vA0DovydBeBANrnaPcPARz+MfKU8Rv1Y/654cnVztRx5qbqsOGb5k68SK88xsWoIqsXpk6dhL2apkO9MZik0dKh2sOax3a74sEHmGPGwbQSt228PLq0syG3DMQ4xGrivdTmyiHcWfE74inmcrjiu6TOFtxmxD/R/LrVuW2/NcPI2tDT4t2P3AK8Fd+I6ErwguOL3lC2I9iD9pfP5tUwyUa5fLDm047y2vxYzObrldaH0ZvORcZCuWTlEtFa1f7hld114AnaxOXS4pbDb75wtQSpHpt7rBK2jthFs9yvUrI96Fnkmbby0IvTrfSA5LnvQ8+5zGTlCtxW1QjQV9WqzmPOgfdO7PXUoskMzpjR0MDsxpfGoMpYyNyvcL9Pz5bDor9i4x/aHt2m5mbT5Nx7xErTQtfWxUSTp7AKkPmzQO8exi27qpsBgGiIGY7NnlWV1oZhhwGAl50GweqlKK6VpMKYZcEkywy7BME2sMWyKriKmYqbOpYFsgaszaqKnbzuAOXu7rwOt+il1rzqWuR4s6awEOyCwm/Z3L5RxMyriL3Q1CHaVcjDvYHSss7MzFPiLvAO5w/h56o2wKDHCcIjhVS0qbEnsSqpXJ3HvYDT0OZa+a7GRM6GsFSf/M500HytN7AYoTHBYrL4wHu2ZMjDn4Sx8tGV12r0n80e4ISuVtKYveuezMLzvg7Y5cj+5/f21NF/z4bzivGS+UvXJuB58TDtru7Ew+7hT+P2/ernDObV8fDwShvfAqzzX+R9ANblWRsN/3X0fPzv6MYEeeez4CvXGvAh+oby0tcHAF/1++mazbbu+tVpzhbaKM8OuNLFPaMDpADNaLugxmLPt7muxXTM5cli5ZDKY8WPu6bBXbhqpu2iIpsBgJ+hBM07sP/ZxNvvwmGqUrsR7SfWw8jUyN/ZS8sk0vvenv5WFBnhGuB/BVgBjRMtDcDiEhMX/P0Q5Q6qAsYFZRtnH/4Gmhlv7/MQt+WG6Wv1We0P6lrFiukGtl64q46+r7S757na6SzAQLspyTXu+9wQ8ozs7dY0yLfIn9n+xyXFSuCS1UPUt8MmzMLok+M65lvG7dYD1KywEt2z0PLZed13u9Xbqw4+5tHaLdCN3cPMLLI7847ZZsiM8lYGUPDq50Pmq8g80+/bW+uXsbje3t+R9bjjUt0p0YfnAtjJ1zjA37ktpvW8SeQPvlPeo83kzVnTYNJ3z7m/PtFf0+O0W47fmIe8vshm6bjim7ze467pfvQq1ZjpbAw7BWn06N4c2NTZ9b/gwOrLh7kvujrku8qJvNWri9bP08TQSOMm4mL1tOWP9kzKkdoZvGPW9tUI0RbrgNH92K/nufddAi/f+PEd6srfCvQm5X7ltMN03SLpwv8y64r6HPmd1HL1ESZHDCn6ywZbABsSdwPjEP8TxQjDASP3MOqy9hD+zQIo8szY98TGvxHaMdzl7QAAMfDA51X1+/nxA6XvZf6w607fZuo+4fkNo+f43GTZJ/arAwIOVgMUE1cE0vA9BWYXrCK+O00bKggR20HtV++055Ppdf4fCwwDkPt+IdgNsgDrAJYJ+gs+CQELM/vS+QMFovmtM2U2rgepCKj8JCkWBiYj4g5gBWQkwhuLAzTqsfCH9AD5oPQ59LHTSsZz9MAKJwDM94XtQgIk/ZEVFf3kFKYXa/A83dHcbvecFSQYuBaI+EEIGvB+zxXYNQMR6076+xxIIIz/7CG7FkT+8wlyEhBGexKXDmP8CBOd314DgiDkJgUbDhac9v8DyOiwAEYeGCHC+yT6fe0BzJzAgstLu2LP3MFg7S7huwos9g8B9SvoKWUksTHYLfUu2BUbEk0Nxx/H/ucOGgH6CWgQ4wk1JmEh6vi69acEiNwp8lfsXwwUGq40+yIKIA4I9Qc+/2oAAv6f/Of2wAi793kS5xQL7rb7R/Uc59zqJOH/AYgChAzbPu8MBvabBeQYzB8s+qoWwA/WCRXrJea97+foQQN///kDavo44hMJwwGR3eLveeF8/pQJTxEFGIgINM4lyWbZutjTASP06Ogg/wYFphoXGAAbdhHwFVX1UPv/AMsd/d18Ed4rRRTp/9fq+v2wAnn1SPiZ/SjmyN/K83nyqf1hBNcFZgWa/hX1YOIZAJUe8RPgEFEDJgYVKTPzD8wStxW1y9H6svq12syRpJ20G7m3kvyzQK6IuXTelvNA3VzCm8ijzdbrDsyFuL2/6NbS2s/cXNnDz+jTzdXizDzi8t8T3wrM/vOi1gjbkeqn5k/uA+HlySnXiP6b5usC9fokzwrz+xoe6FcBneX3/k0EavF45RIBMvQTBcUaKxeQDEgCOA+VJ/MutCJiKjsNeDLCKnIrnRs2Fh4bYBrZDQH4siipJ180qhI4AKsJZjhbCBHyjxDhIJoTFw10AwIF1OgIGhoPjxaZCykiOhUaGusO6uKkDYsXVCu6Ek0XXDnMHfQiCioaEoslZxsXD2kKCwk0Hq4Y7g2dCEnuUBk1LjIn+SaOBTj2EAGcFfQfohUdL1AGBySDEg4eaB6lJeQwIxNrJu4GVAhl1p31xxogAN4P+yW4D/4WBwSaDm0W2/8rJh1Ngy8CGnMNiRKMCagw2gsUIcUt/hb3FCkWISlyMDsW2h0cF/gpoRnqLswpdvY9DfcClw1hE1f75wPqAa4cRgODHNcMdQj/Cf72TOHMBKAQ++edE0kaGf5c/6MjZwiqDWf+lAimGbgVcCkJIVMkawTPHzUcxOxs8uriExCr5hroEfAd6tT4ufuo9trklwEECVYFGO3XBZv2M+uqyYvhENak20HL6uh3AeQBwAeyBkIknyDRDWsqPS0WAsHlWfaAE9ke5COpRJAeSTOiL00eOxC5BNwQmRu4+2Lt9xOI+AvzhggiDTPtJPNl6uHj5g8EMLAGwj/JOBIspxctALAHzwJPA80NCwS+39rSrdvn2cPyzdvf3fbh0Oiq2FPmjO7/0f7mpMN60Fb7Dg8BEIzkfNhd/s3zQ/AH3BLxnwOECF0WYSM8FX/67+tX7OD80g25FhknZCVhETUCeQ8q9woQJi1MKWYPJw4fNFMyqQpKGcIt/kg1KDsj1y6rMVkEjyFIJ874N+qXAukjGheEJ9skHBEC59r/ahMEHUYhW0pKOo9NxjAcTHVF9hwkNdxdlzyiSRBEe15gQ6otiy26HDQc2yJwHNskMQgt87UHtwcSKR869C+mEBEXAhYZATP7EgCZGUYCu/2zKOf5xCPsFVIZBSGhJeALWR4cB1QBWixyKe0fjxee9rL/2wF1Fs0C+f8SB1Iu8Tr0K8UcdRI98AcD4xuU+3rqawLwPxcdBAc8ChERLxDlFJQZcv7t97XtZezuBUIZuhLLFagLQi+zHYAQmRz66ZIEMgu18vIEy/dnAYkAgAVOANs3ORdp7dkb8AWvGzwSfyq1Bjb98h9AKSMk3C0cNSEcUgP02G7qMvqNBjUBdfsP6APjgOhr9+LyyAOW6a8HQvsq3xPlkvBE1vPaaNev/UP6YvDt1zfvsQPT8MXyvenr6KQFav2hBJD+SPyNHKcObAR3Ia4u2SrSHL0bkhaPG+MGMfyv/n/jbN/Z5bL06+WD6IjKBOrA/noF2/M9Az8A6QT+0gnJmNvp46zRFOM75vTV49433RECX+gU4WfqewJp+dTTkPS46vrrW/7aAXcCSuqZ4NLZQdn2/aYhsgoPFRos+BB4K54OQAA+2LwEq/QNDOEJ4Pn3+k/+l//Z91IWtevx5RABb/pc8BfntPjM6l3yQPtG6d8UJSFSENQJkvFv9bUX8e4i1xrsh+Rl4zgFyyXqGJvkp/XY2SzXDOs28rnqrcRr0ce/3+9w5ZDtQAhLFS8ALv+F/UfYgAPa4hPPd98f4E/PAuRx1JobqwST55/hz+nN9ZvmgtdGzMrXLNfP1Vr+fPzY6kj4WP0ivNHcrfuXGAgdqB9uEcL9BhOG/h0SYfquCoUghgi0D+D4XvbJ5rnwi/EzwHHqYeW/zk/tocM5xgHTBb4/043jCrwqlmmbDrQotmjRxLdzwEnYVsO+oya9TMed9hgVohOK6S7+mxpdGhoRpg9qBTr+nvNF/uIFCwdr9gHno+zAAdn+WvWRAWjp5PAs2SWynsGu8bn3I/elCjf2VPnY77XifuuN7hgaUO6wCd4nGRKoBigQleZA297lqPyD+KfuStB5t6rKR8G9u32buM1T8cjcCtNY5VHpftF5zxC8UvoSzUvZzQ1/57MIivUn6RvPucfG0JDPm9A947LMvNi92HvMXM6e3IbZ2bHkyfnR/L/u4x/Qxb4EvAm5B8YMufmuB9DwpvXR6rPawLbnYtnRyv+3DctQ4VDRaeRb6hXrVfAfBVD74gNZ/u4B9v2t7PXVKtzb7bzy2vrz0orrIfsE/ZL/CuIJ60/Xp9GKtgLVGc0150nSQLVt5bjbFufR3YfJF9kT32LZu9F8xF6+a+jp2PjM477u1LjokvBC2QLWGPE47r3bTPBgCo4RoA7j+AULRf/sLB0CEwz2+dXrg+O75iX8PgUhEjPxNfZ24xrygPOI/0AK+O3I/8vuG89c8WTYVdYI7Pj7S/ZQGaAy4CxNBIU3liIuHnIiAiYEFngOYRGR/X30gPuWAh3ziOI79xb7av/XDcj7fhr2KW8c6CM0BIcTqv+9D8ATOQ53DzcaiwNJBjAm7gIR9tIgziwFM+U1FjM6GPoPJzTqILAj9iT+C4IOjwQxOaQmjisqNzBDays2PRIpmPs+FZkCfA2oGYkbJhEcJfMd9DN6JsMG+B3eGW8nxiyBKL4hgSsoMZYIFwX29STr+vkSJSIBxv0PGzID1ChHB+AcNR2lLN8WfB1TEJYbQQerFNgRNv2z52ISvec4IB4t/xGL+FoLxR+7DNggZyjSAEYMvfdt/SHwzfb+CicYTuyD3mL5Le20F70ENvi29tL0is4l0djr/OUOCDAfUwag75byPP2s8aP86ATXEuXlOPj0+pX7syjkHtMXPOYv6/jyPP871TPnMdUI3fnwVv7S6DbdWO7q4OL0PAn0E3b1nAUmBWICPwjX8pnw8RIoEY72DPRs3Xfr4Q8hFfQC4vKC447gZ/EQ8v75kedT1Ma+M8xJADPq1vMo5UX4Xeil25LPS/SD7TfqKfbz7SkRwQOa/ewFSvBf/WgG8/PYBRL6hgBS/9/1Muc8/MDfSPu1BxoCmvn38AACViAGGPkV+QtdFVwqEzSSOAQtWD32NvUtyxLRKWJLGhZNLA==\" type=\"audio/wav\" />\n",
       "                    Your browser does not support the audio element.\n",
       "                </audio>\n",
       "              "
      ],
      "text/plain": [
       "<IPython.lib.display.Audio object>"
      ]
     },
     "metadata": {},
     "output_type": "display_data"
    },
    {
     "data": {
      "image/png": "[encoded data removed]",
      "text/plain": [
       "<Figure size 600x600 with 1 Axes>"
      ]
     },
     "metadata": {},
     "output_type": "display_data"
    }
   ],
   "source": [
    "# Get a WAV file for inference and list of labels from the model\n",
    "tflite_file = os.path.join(SAVE_PATH, TFLITE_FILENAME)\n",
    "labels = get_labels(tflite_file)\n",
    "random_audio = get_random_audio_file(test_dir)\n",
    "\n",
    "# Ensure the audio sample fits the model input\n",
    "interpreter = tf.lite.Interpreter(tflite_file)\n",
    "input_details = interpreter.get_input_details()\n",
    "output_details = interpreter.get_output_details()\n",
    "input_size = input_details[0]['shape'][1]\n",
    "sample_rate = get_input_sample_rate(tflite_file)\n",
    "audio_data, _ = librosa.load(random_audio, sr=sample_rate)\n",
    "if len(audio_data) < input_size:\n",
    "  audio_data.resize(input_size)\n",
    "audio_data = np.expand_dims(audio_data[:input_size], axis=0)\n",
    "\n",
    "# Run inference\n",
    "interpreter.allocate_tensors()\n",
    "interpreter.set_tensor(input_details[0]['index'], audio_data)\n",
    "interpreter.invoke()\n",
    "output_data = interpreter.get_tensor(output_details[0]['index'])\n",
    "\n",
    "# Display prediction and ground truth\n",
    "top_index = np.argmax(output_data[0])\n",
    "label = labels[top_index]\n",
    "score = output_data[0][top_index]\n",
    "print('---prediction---')\n",
    "print(f'Class: {label}\\nScore: {score}')\n",
    "print('----truth----')\n",
    "show_sample(random_audio)"
   ]
  },
  {
   "cell_type": "markdown",
   "metadata": {
    "id": "VtmfoJW6G2fd"
   },
   "source": [
    "## Download the TF Lite model"
   ]
  },
  {
   "cell_type": "markdown",
   "metadata": {
    "id": "8zLDeiQ_z2Vj"
   },
   "source": [
    "Now you can deploy the TF Lite model to your mobile or embedded device. You don't need to download the labels file because you can instead retrieve the labels from `.tflite` file metadata, as shown in the previous inferencing example."
   ]
  },
  {
   "cell_type": "code",
   "execution_count": 24,
   "metadata": {
    "execution": {
     "iopub.execute_input": "2022-10-20T11:20:27.299869Z",
     "iopub.status.busy": "2022-10-20T11:20:27.299145Z",
     "iopub.status.idle": "2022-10-20T11:20:27.304150Z",
     "shell.execute_reply": "2022-10-20T11:20:27.303338Z"
    },
    "id": "cNuQoqtjG4zu"
   },
   "outputs": [],
   "source": [
    "try:\n",
    "  from google.colab import files\n",
    "except ImportError:\n",
    "  pass\n",
    "else:\n",
    "  files.download(tflite_file)"
   ]
  },
  {
   "cell_type": "markdown",
   "metadata": {
    "id": "iERuGZz4z6rB"
   },
   "source": [
    "Check out our end-to-end example apps that perform inferencing with TFLite audio models on [Android](https://github.com/tensorflow/examples/tree/master/lite/examples/sound_classification/android/) and [iOS](https://github.com/tensorflow/examples/tree/master/lite/examples/sound_classification/ios)."
   ]
  }
 ],
 "metadata": {
  "accelerator": "GPU",
  "colab": {
   "collapsed_sections": [],
   "name": "model_maker_speech_recognition.ipynb",
   "private_outputs": true,
   "provenance": [],
   "toc_visible": true
  },
  "kernelspec": {
   "display_name": "Python 3",
   "name": "python3"
  },
  "language_info": {
   "codemirror_mode": {
    "name": "ipython",
    "version": 3
   },
   "file_extension": ".py",
   "mimetype": "text/x-python",
   "name": "python",
   "nbconvert_exporter": "python",
   "pygments_lexer": "ipython3",
   "version": "3.9.15"
  }
 },
 "nbformat": 4,
 "nbformat_minor": 0
}
